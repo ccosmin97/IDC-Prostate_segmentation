{
  "cells": [
    {
      "cell_type": "markdown",
      "metadata": {
        "id": "view-in-github",
        "colab_type": "text"
      },
      "source": [
        "<a href=\"https://colab.research.google.com/github/ccosmin97/IDC-Prostate_segmentation/blob/main/prostateX_patID0004_dcmqi_test.ipynb\" target=\"_parent\"><img src=\"https://colab.research.google.com/assets/colab-badge.svg\" alt=\"Open In Colab\"/></a>"
      ]
    },
    {
      "cell_type": "markdown",
      "metadata": {
        "id": "Db4ansTyzqZ1"
      },
      "source": [
        "# Auth login"
      ]
    },
    {
      "cell_type": "markdown",
      "metadata": {
        "id": "a8GPDXZW00j5"
      },
      "source": [
        "##Colab"
      ]
    },
    {
      "cell_type": "code",
      "execution_count": 1,
      "metadata": {
        "id": "XSg6W2HXzsoG"
      },
      "outputs": [],
      "source": [
        "#colab \n",
        "from google.colab import auth\n",
        "auth.authenticate_user()"
      ]
    },
    {
      "cell_type": "markdown",
      "metadata": {
        "id": "hYHTAtTsUgdB"
      },
      "source": [
        "# Global variables"
      ]
    },
    {
      "cell_type": "markdown",
      "metadata": {
        "id": "yzDbwBXyvWVr"
      },
      "source": [
        "## Variables used for resampling -- inference -- setup labelID for ground truth segs"
      ]
    },
    {
      "cell_type": "code",
      "execution_count": 2,
      "metadata": {
        "id": "bMsV_GPNvcip"
      },
      "outputs": [],
      "source": [
        "# IDC collection for paths setup\n",
        "collection_name = \"prostatex\" #up to user"
      ]
    },
    {
      "cell_type": "markdown",
      "metadata": {
        "id": "uMtYZyHU7pIq"
      },
      "source": [
        "## Global paths"
      ]
    },
    {
      "cell_type": "code",
      "execution_count": 3,
      "metadata": {
        "id": "ZC_bUbUTUgBs"
      },
      "outputs": [],
      "source": [
        "import os \n",
        "\n",
        "#data\n",
        "os.environ[\"qin_prostate_rep_root\"] = os.path.join(os.getcwd(), collection_name)\n",
        "os.environ[\"dcm_metadata_json\"] = os.path.join(os.getcwd(), \"preds_task005_prostatex_metadata.json\")\n",
        "os.environ[\"qin_prostate_rep_dicom\"] = os.path.join(os.environ[\"qin_prostate_rep_root\"], \"dicom\")\n",
        "os.environ[\"qin_prostate_rep_nii\"] = os.path.join(os.environ[\"qin_prostate_rep_root\"], \"nii\")\n",
        "os.environ[\"qin_prostate_rep_nrrd\"] = os.path.join(os.environ[\"qin_prostate_rep_root\"], \"nrrd\")\n",
        "os.environ[\"qin_prostate_rep_analysis\"] = os.path.join(os.environ[\"qin_prostate_rep_root\"], \"results\")\n",
        "os.environ[\"qin_prostate_rep_analysis_data\"] = os.path.join(os.environ[\"qin_prostate_rep_analysis\"], \"data_seg\")\n",
        "os.environ[\"qin_prostate_rep_analysis_verbose\"] = os.path.join(os.environ[\"qin_prostate_rep_root\"], \"results_verbose\")\n",
        "#dicom segs\n",
        "os.environ[\"qin_prostate_rep_data_dcm_segs\"] = os.path.join(os.environ[\"qin_prostate_rep_root\"], \"data_seg_dcm\")\n",
        "\n",
        "\n",
        "#resampled data -- To t2 mod\n",
        "os.environ[\"qin_prostate_rep_root_resampled\"] = os.path.join(os.environ[\"qin_prostate_rep_root\"], \"resampled\")\n",
        "os.environ[\"qin_prostate_rep_nii_resampled\"] = os.path.join(os.environ[\"qin_prostate_rep_root_resampled\"], \"nii\")\n",
        "os.environ[\"qin_prostate_rep_nrrd_resampled\"] = os.path.join(os.environ[\"qin_prostate_rep_root_resampled\"], \"nrrd\")\n",
        "\n",
        "#misc\n",
        "os.environ[\"IDC_Downloads\"] = os.path.join(os.getcwd(), \"IDC_DL\")\n",
        "os.environ[\"IDC_Downloads_Sorted\"] = os.path.join(os.getcwd(), \"IDC_DL\", \"Sorted\")\n",
        "os.environ[\"logs\"] = os.path.join(os.getcwd(), \"logs\")\n",
        "\n",
        "#create dirs for specific folders names\n",
        "for key, path in os.environ.items():\n",
        "  check_patterns = [True for el in [\"qin\", \"nnunet\", \"IDC\", \"nnUNet\", \"logs\"] if el in key]\n",
        "  if True in check_patterns:\n",
        "    !mkdir -p $path"
      ]
    },
    {
      "cell_type": "markdown",
      "metadata": {
        "id": "y1ZYYVPHz_xm"
      },
      "source": [
        "# Setup GCP Project ID"
      ]
    },
    {
      "cell_type": "code",
      "execution_count": 4,
      "metadata": {
        "id": "g1EN9Dnz0CU4"
      },
      "outputs": [],
      "source": [
        "project_id = \"idc-sandbox-003\"\n",
        "os.environ[\"GCP_PROJECT_ID\"] = project_id"
      ]
    },
    {
      "cell_type": "markdown",
      "metadata": {
        "id": "eRtmCas7dT6D"
      },
      "source": [
        "# Setup of the Colab VM\n",
        "\n",
        "\n",
        "\n",
        "In the following cells we will confirm you have a GPU before doing anything else, and will install and import all the Python dependencies. \n",
        "\n",
        "The main python packages we need to install are:\n",
        "* `nnunet` - which is the [codebase for the nn-UNet framework](https://github.com/MIC-DKFZ/nnUNet) we are going to be using for the segmentation step;\n",
        "* `pydicom`, a Python [package](https://github.com/pydicom/pydicom) that lets the use read, modify, and write DICOM data in an easy \"pythonic\" way - that we are going to use to distinguish different DICOM objects from each other."
      ]
    },
    {
      "cell_type": "markdown",
      "metadata": {
        "id": "zLvysANUArnm"
      },
      "source": [
        "## GPU checks"
      ]
    },
    {
      "cell_type": "markdown",
      "metadata": {
        "id": "ZJhwBz2ABT_p"
      },
      "source": [
        "## Environment Setup\n",
        "\n",
        "Here we will configure the Linux environment variables needed to run the nnU-Net pipeline. \n",
        "\n",
        "Three main variables are needed by default to run the nnU-Net segmentation pipelines:\n",
        "* `nnUNet_raw_data_base` is the path to the folder where the segmentation pipeline expects to find the data to process;\n",
        "* `nnUNet_preprocessed` is the path to the folder where the preprocessed data are saved;\n",
        "* `RESULTS_FOLDER` is the path to the folder storing by default the model weights and, in our case, for simplicity, the segmentation masks produced by the pipeline.\n",
        "\n",
        "We will use the additional variable `PATH_TO_MODEL_FILE` to point to the location where the pre-trained model weights for the chosen model will be stored (more on this later).\n",
        "\n",
        "Please notice that these variables need to be set using `os.environ[]` in Google Colab - as `!export` is not sufficient to guarantee the variables are kept from one cell to the other. For more in-depth information regarding what the nnU-Net framework uses these folders for, please visit [the dedicated nnU-Net documentation page](https://github.com/MIC-DKFZ/nnUNet/blob/master/documentation/setting_up_paths.md)"
      ]
    },
    {
      "cell_type": "markdown",
      "metadata": {
        "id": "40E3HnI5A0SX"
      },
      "source": [
        "## Install command-line tools\n",
        "\n",
        "\n",
        "[Plastimatch](https://plastimatch.org/index.html) is considered to be the swiss army knife of medical images processing: we will use it to convert DICOM (CT, RTSTRUCT) series to NRRD files - but it can be used for a multitude of other tasks, such as registration, resampling, cropping, and computing statistics to name a few. Plastimatch is also available as a 3DSlicer plug-in and can be used directly from the Slicer GUI.\n",
        "\n",
        "For the sake of clarity and simplicity, we will call Plastimatch from a very simple [Python wrapper](https://github.com/denbonte/pyplastimatch) written for the occasion (unfortunately, Plastimatch does not provide an official one)."
      ]
    },
    {
      "cell_type": "code",
      "execution_count": 5,
      "metadata": {
        "id": "ZZL6-ByHA7XY"
      },
      "outputs": [],
      "source": [
        "%%capture\n",
        "!sudo apt update\n",
        "\n",
        "!sudo apt install plastimatch"
      ]
    },
    {
      "cell_type": "code",
      "execution_count": 6,
      "metadata": {
        "colab": {
          "base_uri": "https://localhost:8080/"
        },
        "id": "LMovHnKgBEfC",
        "outputId": "210bb6b4-3064-4a0c-f0cb-3db2b24dbd3d"
      },
      "outputs": [
        {
          "output_type": "stream",
          "name": "stdout",
          "text": [
            "plastimatch version 1.7.0\n"
          ]
        }
      ],
      "source": [
        "!echo $(plastimatch --version)"
      ]
    },
    {
      "cell_type": "markdown",
      "metadata": {
        "id": "K_8zlhmdo0HD"
      },
      "source": [
        "[dcmqi](https://github.com/QIICR/dcmqi) is an open source library that can help with the conversion between imaging research formats and the standard DICOM representation for image analysis results. More specifically, you can use dcmqi convert DICOM Segmentation objects (DICOM SEG) into research formats, such as NIfTI and NRRD."
      ]
    },
    {
      "cell_type": "code",
      "execution_count": 7,
      "metadata": {
        "id": "KAkmz4jApGh8"
      },
      "outputs": [],
      "source": [
        "%%capture\n",
        "!wget https://github.com/QIICR/dcmqi/releases/download/v1.2.5/dcmqi-1.2.5-linux.tar.gz \n",
        "!tar zxvf dcmqi-1.2.5-linux.tar.gz\n",
        "!cp dcmqi-1.2.5-linux/bin/* /usr/local/bin/"
      ]
    },
    {
      "cell_type": "markdown",
      "metadata": {
        "id": "fFRWendbBH72"
      },
      "source": [
        "Finally, we are going to install [Subversion](https://subversion.apache.org/), a tool that will allow us to clone GitHub repositories only partially (to save time and space)."
      ]
    },
    {
      "cell_type": "code",
      "execution_count": 8,
      "metadata": {
        "id": "YBEJRe-2BKah"
      },
      "outputs": [],
      "source": [
        "%%capture\n",
        "\n",
        "!sudo apt install subversion"
      ]
    },
    {
      "cell_type": "code",
      "execution_count": 9,
      "metadata": {
        "colab": {
          "base_uri": "https://localhost:8080/"
        },
        "id": "WI1_BixWBN1O",
        "outputId": "b6946aa1-4fbc-4e27-9102-85df5be8c228"
      },
      "outputs": [
        {
          "output_type": "stream",
          "name": "stdout",
          "text": [
            "svn, version 1.9.7 (r1800392) compiled May 21 2022, 07:24:25 on x86_64-pc-linux-gnu\n"
          ]
        }
      ],
      "source": [
        "!echo $(svn --version | head -n 2)"
      ]
    },
    {
      "cell_type": "markdown",
      "metadata": {
        "id": "0Ev-JlpCAuMs"
      },
      "source": [
        "## Install Python packages"
      ]
    },
    {
      "cell_type": "code",
      "execution_count": 10,
      "metadata": {
        "id": "7XMzq-8nRvKd"
      },
      "outputs": [],
      "source": [
        "%%capture\n",
        "!pip install pydicom\n",
        "!pip install nibabel\n",
        "!pip install pydicom-seg\n",
        "!pip install highdicom"
      ]
    },
    {
      "cell_type": "markdown",
      "metadata": {
        "id": "62yhEkkjITzn"
      },
      "source": [
        "Unpack and install model we downloaded earlier (under `PATH_TO_MODEL_FILE`). This step can take about 1-2 minutes."
      ]
    },
    {
      "cell_type": "markdown",
      "metadata": {
        "id": "BP1tahM9tzlm"
      },
      "source": [
        "Next we set up few things to help with visualization of the segmentations later."
      ]
    },
    {
      "cell_type": "code",
      "execution_count": 11,
      "metadata": {
        "id": "cURjj8rzAa2L"
      },
      "outputs": [],
      "source": [
        "import os\n",
        "import sys\n",
        "import shutil\n",
        "import csv\n",
        "import random\n",
        "\n",
        "import os\n",
        "import glob\n",
        "import csv\n",
        "import json\n",
        "\n",
        "import pydicom\n",
        "import pydicom_seg\n",
        "import SimpleITK as sitk\n",
        "\n",
        "import nibabel as nib\n",
        "\n",
        "import time\n",
        "import gdown\n",
        "\n",
        "import json\n",
        "import pprint\n",
        "import numpy as np\n",
        "import pandas as pd\n",
        "\n",
        "import pydicom\n",
        "import nibabel as nib\n",
        "import SimpleITK as sitk"
      ]
    },
    {
      "cell_type": "code",
      "execution_count": 12,
      "metadata": {
        "colab": {
          "base_uri": "https://localhost:8080/"
        },
        "id": "UrAh2kjqb2Be",
        "outputId": "eb818efe-0e84-4d6e-feab-ed89a9624b9f"
      },
      "outputs": [
        {
          "output_type": "stream",
          "name": "stdout",
          "text": [
            "A    pyplastimatch/__init__.py\n",
            "A    pyplastimatch/pyplastimatch.py\n",
            "A    pyplastimatch/utils\n",
            "A    pyplastimatch/utils/__init__.py\n",
            "A    pyplastimatch/utils/data.py\n",
            "A    pyplastimatch/utils/eval.py\n",
            "A    pyplastimatch/utils/viz.py\n",
            "Checked out revision 18.\n"
          ]
        }
      ],
      "source": [
        "# PyPlastimatch - python wrapper for Plastimatch (and interactive notebook visualisation)\n",
        "!svn checkout https://github.com/AIM-Harvard/pyplastimatch/trunk/pyplastimatch pyplastimatch"
      ]
    },
    {
      "cell_type": "code",
      "execution_count": 13,
      "metadata": {
        "colab": {
          "base_uri": "https://localhost:8080/"
        },
        "id": "GsePTNBmM9sw",
        "outputId": "1785f44d-5964-4b2e-c7a5-84fe428df75c"
      },
      "outputs": [
        {
          "output_type": "stream",
          "name": "stdout",
          "text": [
            "Cloning into 'dicomsort'...\n",
            "remote: Enumerating objects: 130, done.\u001b[K\n",
            "remote: Counting objects: 100% (4/4), done.\u001b[K\n",
            "remote: Compressing objects: 100% (4/4), done.\u001b[K\n",
            "remote: Total 130 (delta 0), reused 1 (delta 0), pack-reused 126\u001b[K\n",
            "Receiving objects: 100% (130/130), 44.12 KiB | 11.03 MiB/s, done.\n",
            "Resolving deltas: 100% (63/63), done.\n"
          ]
        }
      ],
      "source": [
        "# dicomsort is the pythong package that can sort DICOM files into\n",
        "# folder organization based on user-specified DICOM attributes\n",
        "!git clone https://github.com/pieper/dicomsort.git"
      ]
    },
    {
      "cell_type": "code",
      "execution_count": 14,
      "metadata": {
        "id": "0s9aRassGOQ_"
      },
      "outputs": [],
      "source": [
        "from pyplastimatch import pyplastimatch as pypla\n",
        "from pyplastimatch.utils import viz as viz_utils\n",
        "from pyplastimatch.utils import data as data_utils"
      ]
    },
    {
      "cell_type": "markdown",
      "metadata": {
        "id": "Duil1tviGWaG"
      },
      "source": [
        "# Data selection, downloading and structuring\n",
        "\n",
        "We want to select here the collection named qin-prostate repeatibility, and more particularly the two timepoints per patient ID for further analysis."
      ]
    },
    {
      "cell_type": "markdown",
      "metadata": {
        "id": "naJ5OAKZnZpG"
      },
      "source": [
        "In order to use data hosted by IDC effectively, you will need to utilize metadata to navigate what data is available and to select specific files that are relevant in your analysis. The main metadata table you will need for this purpose is the [`bigquery-public-data.idc_current.dicom_all`](https://console.cloud.google.com/bigquery?p=bigquery-public-data&d=idc_current&t=dicom_all&page=table) table.\n",
        "\n",
        "This query has one row per file hosted by IDC. All of IDC data is in DICOM format, and each of the rows in this table will have all of the DICOM attributes extracted from a given file. It will also have various columns containing non-DICOM metadata, such as the name of the collection where the file is included, size of the file, and URL that can be used to retrieve that file.\n",
        "\n",
        "To query IDC BigQuery tables, you can use one of the following approaches:\n",
        "1. `%%bigquery` magic will allow you to define your query in plain SQL, and load the result of the query into a Pandas dataframe.\n",
        "2. [BigQuery Python API](https://googleapis.dev/python/bigquery/latest/index.html) is more flexible in allowing you to parameterize your query.\n",
        "3. [Google Cloud BigQuery console](https://console.cloud.google.com/bigquery) is very convenient for interactive query exploration of tables.\n",
        "4. [`gcloud bq`](https://cloud.google.com/bigquery/docs/bq-command-line-tool) is the command line tool that comes as part of [Cloud SDK](https://cloud.google.com/sdk) and is convenient for scripting interactions from the shell. Cloud SDK is preinstalled on Colab.\n",
        "\n",
        "In the following cells we will utilize `%%bigquery`, Python BigQuery SDK and BigQuery console for working with IDC BigQuery tables.\n",
        "\n",
        "First, to verify that you are authenticated, and your project ID is working, let's run a test query against IDC BigQuery table to get the summary statistics about the  of data available in IDC.\n"
      ]
    },
    {
      "cell_type": "markdown",
      "metadata": {
        "id": "t9YKMGVvVZX_"
      },
      "source": [
        "Given `SeriesInstanceUID` value identifying the image series, we can query the IDC metadata table to get the list of files (defined by the Google Storage URLs) corresponding to this series.\n",
        "\n",
        "All of the DICOM metadata for each of the DICOM files is available in the BigQuery table we will be querying. We will get not just the `gcs_url`, but also identifiers for the Study, Series and Instance, to better understand organization of data, and since `StudyInstanceUID` will be handy later when we get to the visualization of the data."
      ]
    },
    {
      "cell_type": "markdown",
      "metadata": {
        "id": "7INoX4rgTp7O"
      },
      "source": [
        "## Data selection -- BigQuery"
      ]
    },
    {
      "cell_type": "markdown",
      "metadata": {
        "id": "jfDSklhyFWpa"
      },
      "source": [
        "Explanation"
      ]
    },
    {
      "cell_type": "code",
      "execution_count": 15,
      "metadata": {
        "id": "joRbZ81GWNz1"
      },
      "outputs": [],
      "source": [
        "from google.cloud import bigquery\n",
        "bq_client = bigquery.Client(os.environ[\"GCP_PROJECT_ID\"])\n",
        "selection_query = f\"\"\"\n",
        "WITH\n",
        "# studies that have mr volumes\n",
        "mr_studies AS(\n",
        "  SELECT\n",
        "    dicom_all_mr.SOPInstanceUID as SOPInstanceUID, \n",
        "    dicom_all_mr.StudyInstanceUID as StudyInstanceUID,\n",
        "    '' AS segPropertyTypeCodeMeaning, \n",
        "    '' AS segPropertyCategoryCodeMeaning \n",
        "  FROM\n",
        "    `bigquery-public-data.idc_v9.dicom_all` as dicom_all_mr\n",
        "  WHERE\n",
        "    Modality = 'MR'\n",
        "    AND collection_id = 'prostatex'\n",
        "    AND  REGEXP_CONTAINS(SeriesDescription, r\".*t2_tse_tra.*|.*ADC.*\")),\n",
        "-- ),\n",
        "\n",
        " \n",
        "# studies that have segmentations for the whole prostate\n",
        "seg_studies AS (\n",
        "SELECT\n",
        "  dicom_all_seg.SOPInstanceUID as SOPInstanceUID,\n",
        "  dicom_all_seg.StudyInstanceUID as StudyInstanceUID,\n",
        "  segmentations.SegmentedPropertyType.CodeMeaning as segPropertyTypeCodeMeaning,\n",
        "  segmentations.SegmentedPropertyCategory.CodeMeaning as segPropertyCategoryCodeMeaning\n",
        "\n",
        "FROM\n",
        "  `bigquery-public-data.idc_v9.dicom_all` AS dicom_all_seg\n",
        "JOIN\n",
        "  `bigquery-public-data.idc_v9.segmentations` AS segmentations\n",
        "ON\n",
        "  dicom_all_seg.SOPInstanceUID = segmentations.SOPInstanceUID\n",
        "WHERE\n",
        "  collection_id = \"prostatex\"\n",
        "AND \n",
        "  REGEXP_CONTAINS(segmentations.SegmentedPropertyType.CodeMeaning, r\".*Transition zone of.*\")\n",
        "AND \n",
        "  segmentations.SegmentedPropertyCategory.CodeMeaning = 'Anatomical Structure'),\n",
        "\n",
        "union_mr_seg AS(\n",
        "  SELECT\n",
        "    mr_studies.SOPInstanceUID, \n",
        "    mr_studies.segPropertyTypeCodeMeaning, \n",
        "    mr_studies.segPropertyCategoryCodeMeaning, \n",
        "  FROM \n",
        "    mr_studies\n",
        "  JOIN\n",
        "    seg_studies\n",
        "  ON\n",
        "    mr_studies.StudyInstanceUID = seg_studies.StudyInstanceUID\n",
        "  UNION ALL\n",
        "  SELECT\n",
        "    seg_studies.SOPInstanceUID, \n",
        "    seg_studies.segPropertyTypeCodeMeaning, \n",
        "    seg_studies.segPropertyCategoryCodeMeaning, \n",
        "  FROM \n",
        "    seg_studies)\n",
        "\n",
        "SELECT \n",
        "  DISTINCT(dc_all.SOPInstanceUID),\n",
        "  dc_all.gcs_url,\n",
        "  dc_all.SeriesInstanceUID, \n",
        "  dc_all.StudyInstanceUID,  \n",
        "  dc_all.PatientID,\n",
        "  dc_all.Modality, \n",
        "  dc_all.SeriesDescription,\n",
        "  union_mr_seg.segPropertyTypeCodeMeaning,\n",
        "  union_mr_seg.segPropertyCategoryCodeMeaning,\n",
        "  (SELECT SeriesInstanceUID FROM UNNEST(dc_all.ReferencedSeriesSequence)) AS RefSerieUID \n",
        "FROM \n",
        "  `bigquery-public-data.idc_v9.dicom_all` as dc_all\n",
        "INNER JOIN\n",
        "  union_mr_seg\n",
        "ON \n",
        "  dc_all.SOPInstanceUID = union_mr_seg.SOPInstanceUID\"\"\""
      ]
    },
    {
      "cell_type": "code",
      "execution_count": 16,
      "metadata": {
        "id": "j1PtIeNJ8Qf7"
      },
      "outputs": [],
      "source": [
        "selection_result = bq_client.query(selection_query)\n",
        "selection_df = selection_result.result().to_dataframe()"
      ]
    },
    {
      "cell_type": "code",
      "execution_count": 17,
      "metadata": {
        "colab": {
          "base_uri": "https://localhost:8080/"
        },
        "id": "G5fMPktZHTC8",
        "outputId": "5ba408cf-c7e4-4647-f8a4-42857c90f640"
      },
      "outputs": [
        {
          "output_type": "execute_result",
          "data": {
            "text/plain": [
              "array(['ep2d_diff_tra_DYNDIST_MIX_ADC', 't2_tse_tra', 'Segmentation',\n",
              "       'ep2d_diff_tra_DYNDIST_ADC', 'diffusie-3Scan-4bval_fs_ADC',\n",
              "       'ep2d_DIFF_tra_b50_500_800_1400_alle_spoelen_ADC',\n",
              "       'diff tra b 50 500 800 WIP511b alle spoelen_ADC'], dtype=object)"
            ]
          },
          "metadata": {},
          "execution_count": 17
        }
      ],
      "source": [
        "selection_df.SeriesDescription.unique()"
      ]
    },
    {
      "cell_type": "markdown",
      "metadata": {
        "id": "4Ue28ORXQNJ8"
      },
      "source": [
        "### Filter t2 and ADC series corresponding to correct seg"
      ]
    },
    {
      "cell_type": "code",
      "execution_count": 18,
      "metadata": {
        "id": "HRS5zK0y8c_C"
      },
      "outputs": [],
      "source": [
        "ref_seg_vals = selection_df.RefSerieUID.dropna().values\n",
        "#first retrieve t2 seriesUID that have segs\n",
        "t2_seg = selection_df[(selection_df.SeriesInstanceUID.isin(ref_seg_vals)) & (selection_df.Modality == 'MR')]\n",
        "#retrieve others serieUID, probably only ADCs\n",
        "adc_series = selection_df[(selection_df.StudyInstanceUID.isin(t2_seg.StudyInstanceUID.dropna().values)) & (selection_df.Modality == 'MR') & (selection_df.SeriesDescription.str.contains('ADC', regex=False))]\n",
        "#retrieve segs serieUID\n",
        "seg_series = selection_df[selection_df.Modality == 'SEG']\n",
        "#merge everything back\n",
        "selection_df = selection_df[selection_df.SeriesInstanceUID.isin(list(t2_seg.SeriesInstanceUID.values)+list(adc_series.SeriesInstanceUID.values)+list(seg_series.SeriesInstanceUID.values))]"
      ]
    },
    {
      "cell_type": "code",
      "execution_count": 19,
      "metadata": {
        "colab": {
          "base_uri": "https://localhost:8080/"
        },
        "id": "ApjufJZjVkX1",
        "outputId": "94743b17-b3cd-4709-9a7a-ba710ec74758"
      },
      "outputs": [
        {
          "output_type": "stream",
          "name": "stdout",
          "text": [
            "<class 'pandas.core.frame.DataFrame'>\n",
            "Int64Index: 4082 entries, 0 to 4368\n",
            "Data columns (total 10 columns):\n",
            " #   Column                          Non-Null Count  Dtype \n",
            "---  ------                          --------------  ----- \n",
            " 0   SOPInstanceUID                  4082 non-null   object\n",
            " 1   gcs_url                         4082 non-null   object\n",
            " 2   SeriesInstanceUID               4082 non-null   object\n",
            " 3   StudyInstanceUID                4082 non-null   object\n",
            " 4   PatientID                       4082 non-null   object\n",
            " 5   Modality                        4082 non-null   object\n",
            " 6   SeriesDescription               4082 non-null   object\n",
            " 7   segPropertyTypeCodeMeaning      4082 non-null   object\n",
            " 8   segPropertyCategoryCodeMeaning  4082 non-null   object\n",
            " 9   RefSerieUID                     98 non-null     object\n",
            "dtypes: object(10)\n",
            "memory usage: 350.8+ KB\n"
          ]
        }
      ],
      "source": [
        "selection_df.info()"
      ]
    },
    {
      "cell_type": "code",
      "execution_count": 20,
      "metadata": {
        "colab": {
          "base_uri": "https://localhost:8080/"
        },
        "id": "FsStkQXmWKH0",
        "outputId": "e25630bd-2a6a-4933-93e4-c38f6c67588d"
      },
      "outputs": [
        {
          "output_type": "execute_result",
          "data": {
            "text/plain": [
              "array(['ProstateX-0004', 'ProstateX-0007', 'ProstateX-0009',\n",
              "       'ProstateX-0012', 'ProstateX-0015', 'ProstateX-0020',\n",
              "       'ProstateX-0026', 'ProstateX-0029', 'ProstateX-0031',\n",
              "       'ProstateX-0033', 'ProstateX-0039', 'ProstateX-0044',\n",
              "       'ProstateX-0046', 'ProstateX-0054', 'ProstateX-0056',\n",
              "       'ProstateX-0059', 'ProstateX-0060', 'ProstateX-0065',\n",
              "       'ProstateX-0066', 'ProstateX-0069', 'ProstateX-0070',\n",
              "       'ProstateX-0072', 'ProstateX-0076', 'ProstateX-0080',\n",
              "       'ProstateX-0083', 'ProstateX-0084', 'ProstateX-0089',\n",
              "       'ProstateX-0090', 'ProstateX-0094', 'ProstateX-0096',\n",
              "       'ProstateX-0102', 'ProstateX-0104', 'ProstateX-0107',\n",
              "       'ProstateX-0110', 'ProstateX-0111', 'ProstateX-0112',\n",
              "       'ProstateX-0117', 'ProstateX-0118', 'ProstateX-0120',\n",
              "       'ProstateX-0121', 'ProstateX-0125', 'ProstateX-0129',\n",
              "       'ProstateX-0130', 'ProstateX-0134', 'ProstateX-0136',\n",
              "       'ProstateX-0141', 'ProstateX-0142', 'ProstateX-0144',\n",
              "       'ProstateX-0146', 'ProstateX-0150', 'ProstateX-0154',\n",
              "       'ProstateX-0156', 'ProstateX-0161', 'ProstateX-0162',\n",
              "       'ProstateX-0166', 'ProstateX-0168', 'ProstateX-0170',\n",
              "       'ProstateX-0176', 'ProstateX-0177', 'ProstateX-0180',\n",
              "       'ProstateX-0182', 'ProstateX-0183', 'ProstateX-0184',\n",
              "       'ProstateX-0188', 'ProstateX-0190', 'ProstateX-0193',\n",
              "       'ProstateX-0196', 'ProstateX-0198', 'ProstateX-0199',\n",
              "       'ProstateX-0201', 'ProstateX-0209', 'ProstateX-0217',\n",
              "       'ProstateX-0219', 'ProstateX-0227', 'ProstateX-0234',\n",
              "       'ProstateX-0238', 'ProstateX-0239', 'ProstateX-0241',\n",
              "       'ProstateX-0244', 'ProstateX-0249', 'ProstateX-0251',\n",
              "       'ProstateX-0254', 'ProstateX-0265', 'ProstateX-0275',\n",
              "       'ProstateX-0283', 'ProstateX-0288', 'ProstateX-0293',\n",
              "       'ProstateX-0296', 'ProstateX-0297', 'ProstateX-0304',\n",
              "       'ProstateX-0309', 'ProstateX-0311', 'ProstateX-0320',\n",
              "       'ProstateX-0323', 'ProstateX-0331', 'ProstateX-0332',\n",
              "       'ProstateX-0334', 'ProstateX-0340'], dtype=object)"
            ]
          },
          "metadata": {},
          "execution_count": 20
        }
      ],
      "source": [
        "selection_df.PatientID.unique()"
      ]
    },
    {
      "cell_type": "markdown",
      "metadata": {
        "id": "SjrQmHbKLykY"
      },
      "source": [
        "## Pick a PatientID"
      ]
    },
    {
      "cell_type": "code",
      "execution_count": 21,
      "metadata": {
        "id": "Z-yQD4HnnaYA"
      },
      "outputs": [],
      "source": [
        "# # #random PatientID selection\n",
        "# patientID_select = random.sample(list(selection_df.PatientID.values), 1)#X randomly picked PatientIDs \n",
        "\n",
        "# static PatientID selection\n",
        "patientID_select = [\"ProstateX-0004\"]\n",
        "\n",
        "selection_df = selection_df[selection_df.PatientID.isin(patientID_select)]"
      ]
    },
    {
      "cell_type": "code",
      "execution_count": 22,
      "metadata": {
        "colab": {
          "base_uri": "https://localhost:8080/"
        },
        "id": "SBxWO9GlPVT5",
        "outputId": "46cc4c1b-5598-4817-da58-01616d4ed00d"
      },
      "outputs": [
        {
          "output_type": "execute_result",
          "data": {
            "text/plain": [
              "array(['ep2d_diff_tra_DYNDIST_MIX_ADC', 't2_tse_tra', 'Segmentation'],\n",
              "      dtype=object)"
            ]
          },
          "metadata": {},
          "execution_count": 22
        }
      ],
      "source": [
        "selection_df.SeriesDescription.unique()"
      ]
    },
    {
      "cell_type": "markdown",
      "metadata": {
        "id": "NOtsKTg8TvCG"
      },
      "source": [
        "## Download gcs urls into dcm files and sorting  "
      ]
    },
    {
      "cell_type": "code",
      "execution_count": 23,
      "metadata": {
        "id": "X4YXrk6PIkJe"
      },
      "outputs": [],
      "source": [
        "# save the list of GCS URLs into a file\n",
        "selection_manifest = os.path.join(os.environ[\"IDC_Downloads\"], \"idc_manifest.txt\")\n",
        "selection_df[\"gcs_url\"].to_csv(selection_manifest, header=False, index=False)"
      ]
    },
    {
      "cell_type": "code",
      "execution_count": 24,
      "metadata": {
        "colab": {
          "base_uri": "https://localhost:8080/"
        },
        "id": "mIKSKvW8mdsN",
        "outputId": "dc2b8822-a242-420e-889c-e7e48d159f54"
      },
      "outputs": [
        {
          "output_type": "stream",
          "name": "stdout",
          "text": [
            "     39      39    2574\n"
          ]
        }
      ],
      "source": [
        "# confirm the resulting manifest has as many lines as the number of rows in the\n",
        "# dataframe we initialized earlier\n",
        "!cat {selection_manifest} |wc"
      ]
    },
    {
      "cell_type": "code",
      "execution_count": 25,
      "metadata": {
        "id": "KdZSVftdjFPl"
      },
      "outputs": [],
      "source": [
        "# let's make sure the download folder is clean, in case you ran this cell earlier\n",
        "# for a different dataset\n",
        "!rm -rf {os.environ[\"IDC_Downloads\"]+\"/*.dcm\"}"
      ]
    },
    {
      "cell_type": "code",
      "execution_count": 26,
      "metadata": {
        "id": "6ydwu1tSYScJ"
      },
      "outputs": [],
      "source": [
        "# download is this simple!\n",
        "%%capture\n",
        "\n",
        "!cat {selection_manifest} | gsutil -m cp -I {os.environ[\"IDC_Downloads\"]}"
      ]
    },
    {
      "cell_type": "markdown",
      "metadata": {
        "id": "ZvlSBfPRdRpz"
      },
      "source": [
        "To facilitate preparation of the data, we will sort the downloaded files into the PatientID/StudyInstanceUID/SeriesInstanceUID hierarchy."
      ]
    },
    {
      "cell_type": "code",
      "execution_count": 27,
      "metadata": {
        "id": "q9aVI7qAbaT0",
        "colab": {
          "base_uri": "https://localhost:8080/"
        },
        "outputId": "ac6887a9-7235-4305-fe5b-d966e3addc75"
      },
      "outputs": [
        {
          "output_type": "stream",
          "name": "stdout",
          "text": [
            "100% 40/40 [00:00<00:00, 224.15it/s]\n",
            "Files sorted\n"
          ]
        }
      ],
      "source": [
        "!python dicomsort/dicomsort.py -k -u {os.environ[\"IDC_Downloads\"]} {os.environ[\"IDC_Downloads_Sorted\"]}/%PatientID/%StudyInstanceUID/%SeriesInstanceUID/%SOPInstanceUID.dcm"
      ]
    },
    {
      "cell_type": "markdown",
      "metadata": {
        "id": "ewcZsa1rzKHi"
      },
      "source": [
        "Move the sorted data into the right place"
      ]
    },
    {
      "cell_type": "code",
      "execution_count": 28,
      "metadata": {
        "id": "DZ_LAvUGEGxj"
      },
      "outputs": [],
      "source": [
        "rm -rf {os.environ[\"qin_prostate_rep_dicom\"]+\"/*\"}* && mv {os.environ[\"IDC_Downloads_Sorted\"]+\"/*\"} {os.environ[\"qin_prostate_rep_dicom\"]}"
      ]
    },
    {
      "cell_type": "markdown",
      "metadata": {
        "id": "4Z5QylRmj9gw"
      },
      "source": [
        "#Pre-Processing\n",
        "\n",
        "Dicom files are assumed to be sorted this way for further processing :\n",
        "\n",
        "* PatientID\n",
        "  * StudyUID\n",
        "    * SeriesUID\n",
        "      * *.dcm file(s)"
      ]
    },
    {
      "cell_type": "markdown",
      "metadata": {
        "id": "ZxaZ6eMwQVOb"
      },
      "source": [
        "## conversion methods"
      ]
    },
    {
      "cell_type": "markdown",
      "metadata": {
        "id": "f2B-4nymgk5I"
      },
      "source": [
        "https://wiki.cancerimagingarchive.net/pages/viewpage.action?pageId=24283641\n",
        "\n",
        "switch from plastimatch resample method to simple itk for slice spacing issue"
      ]
    },
    {
      "cell_type": "code",
      "execution_count": 29,
      "metadata": {
        "id": "MZJdr2v-f6qY"
      },
      "outputs": [],
      "source": [
        "def safe_sitk_read(img_list, *args, **kwargs):\n",
        "  \"\"\"\n",
        "  Since the default function just looks at images 0 and 1 to determine slice thickness\n",
        "  and the images are often not correctly alphabetically sorted, much slower\n",
        "  :param img_list:\n",
        "  :return:\n",
        "  \"\"\"\n",
        "  pimg_list = [(sitk.ReadImage(x).GetOrigin(), x) for x in img_list]\n",
        "  s_img_list = [path for _, path in sorted(pimg_list, key = lambda x: x[0][2])] # sort by z\n",
        "  return sitk.ReadImage(s_img_list, *args, **kwargs)"
      ]
    },
    {
      "cell_type": "code",
      "execution_count": 30,
      "metadata": {
        "id": "RkSLspMHgqOV"
      },
      "outputs": [],
      "source": [
        "def convert_mr_to_nii_nrrd(input_path, output_path_root, modality, target_format=\"nii.gz\"):\n",
        "  if not os.path.exists(output_path_root): \n",
        "    !mkdir -p $output_path_root\n",
        "  output_path = os.path.join(output_path_root, input_path.split('/')[-1][:-4] \n",
        "                             + \"_MR_\" + modality\n",
        "                             + \".\" + target_format)\n",
        "  #convert to target format\n",
        "  if not os.path.exists(output_path):\n",
        "    dcm_img = safe_sitk_read(glob.glob(os.path.join(input_path, \"**\", \"*.dcm\"), recursive=True))\n",
        "    sitk.WriteImage(dcm_img, output_path)"
      ]
    },
    {
      "cell_type": "markdown",
      "metadata": {
        "id": "CdISKxlrg5U7"
      },
      "source": [
        "We will use the [segimage2itkimage tool](https://qiicr.gitbook.io/dcmqi-guide/opening/cmd_tools/seg/segimage2itkimage) from dcmqi to extract individual segments from DICOM SEG series we just downloaded into NII format, saving each segment into a separate file"
      ]
    },
    {
      "cell_type": "code",
      "execution_count": 45,
      "metadata": {
        "id": "Eav6vNsTg9TL"
      },
      "outputs": [],
      "source": [
        "def convert_seg_dcmqi(input_path, output_path, target_format):\n",
        "  if not os.path.exists(output_path): \n",
        "    !mkdir -p $output_path\n",
        "  \n",
        "  print(f'input path : {input_path}')\n",
        "  print(f'output_path : {output_path}')\n",
        "  !segimage2itkimage --inputDICOM $input_path --outputDirectory $output_path \\\n",
        "  --outputType $target_format "
      ]
    },
    {
      "cell_type": "code",
      "execution_count": 46,
      "metadata": {
        "id": "-1tYQCkFQZ7A"
      },
      "outputs": [],
      "source": [
        "def convert_dcm_sorted(input_path,output_path):\n",
        "  path_dicom = os.environ[\"qin_prostate_rep_dicom\"] \n",
        "  for serie_folder in sorted(glob.glob(os.path.join(input_path, \"**\", \"**\", \"*\"))):#, recursive = True):\n",
        "    path_serie_dcm_lst = glob.glob(os.path.join(serie_folder, \"*.dcm\"))\n",
        "    modality = selection_df[selection_df[\"SeriesInstanceUID\"] == path_serie_dcm_lst[0].split('/')[-2]][\"Modality\"].iloc[0]#'SEG' if pydicom.dcmread(path_serie_dcm_lst[0]).Modality == \"SEG\" else \"MR\"\n",
        "    seriesInstanceUID = serie_folder.split(\"/\")[-1]\n",
        "    studyInstanceUID = serie_folder.split(\"/\")[-2]\n",
        "    patientID = serie_folder.split(\"/\")[-3]\n",
        "    SeriesDescription = selection_df[selection_df[\"SeriesInstanceUID\"] == path_serie_dcm_lst[0].split('/')[-2]][\"SeriesDescription\"].iloc[0]\n",
        "    print(f\"Series Description : {SeriesDescription}\")\n",
        "    type_serie = [\"T2\" if \"t2\" in SeriesDescription else \"ADC\" if \"ADC\" in SeriesDescription else \"SEG\" if \"Segmentation\" in SeriesDescription else 'not_found'][0]\n",
        "    if modality == \"SEG\":\n",
        "      #convert to nrrd\n",
        "      convert_seg_dcmqi(input_path=path_serie_dcm_lst[0],\n",
        "                              output_path=os.path.join(output_path, \"nii\", \n",
        "                                                       patientID, studyInstanceUID, seriesInstanceUID + \"_{}\".format(type_serie)), target_format='nifti')\n",
        "      convert_seg_dcmqi(input_path=path_serie_dcm_lst[0],\n",
        "                              output_path=os.path.join(output_path, \"nrrd\", \n",
        "                                                       patientID, studyInstanceUID, seriesInstanceUID + \"_{}\".format(type_serie)), target_format='nrrd')\n",
        "    elif modality == \"MR\":\n",
        "      pass\n",
        "    else:\n",
        "      print(f\"type serie {modality} not supported\")"
      ]
    },
    {
      "cell_type": "markdown",
      "metadata": {
        "id": "rDE69us5SosB"
      },
      "source": [
        "## Conversion to NII/NRRD"
      ]
    },
    {
      "cell_type": "code",
      "execution_count": 47,
      "metadata": {
        "id": "iQrcemmAW7tC"
      },
      "outputs": [],
      "source": [
        "!rm -rf /content/prostatex/nii/*\n",
        "!rm -rf /content/prostatex/nrrd/*"
      ]
    },
    {
      "cell_type": "code",
      "execution_count": 48,
      "metadata": {
        "id": "hB1YhW33y32e",
        "colab": {
          "base_uri": "https://localhost:8080/"
        },
        "outputId": "ce15f753-66b1-4e83-fa8c-68c779b808ea"
      },
      "outputs": [
        {
          "output_type": "stream",
          "name": "stdout",
          "text": [
            "Series Description : Segmentation\n",
            "input path : /content/prostatex/dicom/ProstateX-0004/1.3.6.1.4.1.14519.5.2.1.7311.5101.170561193612723093192571245493/1.2.276.0.7230010.3.1.3.1070885483.15960.1599120307.701/1.2.276.0.7230010.3.1.4.1070885483.15960.1599120307.702.dcm\n",
            "output_path : /content/prostatex/nii/ProstateX-0004/1.3.6.1.4.1.14519.5.2.1.7311.5101.170561193612723093192571245493/1.2.276.0.7230010.3.1.3.1070885483.15960.1599120307.701_SEG\n",
            "dcmqi repository URL: git@github.com:QIICR/dcmqi.git revision: 1153738 tag: v1.2.5\n",
            "Row direction: 1 -1.99011e-10 4.9619e-11\n",
            "Col direction: 2.05103e-10 0.970296 -0.241922\n",
            "Z direction: 2.66056e-17 0.241922 0.970296\n",
            "Total frames: 76\n",
            "Total frames with unique IPP: 19\n",
            "Total overlapping frames: 19\n",
            "Origin: [-117.913, -85.1499, 12.84]\n",
            "input path : /content/prostatex/dicom/ProstateX-0004/1.3.6.1.4.1.14519.5.2.1.7311.5101.170561193612723093192571245493/1.2.276.0.7230010.3.1.3.1070885483.15960.1599120307.701/1.2.276.0.7230010.3.1.4.1070885483.15960.1599120307.702.dcm\n",
            "output_path : /content/prostatex/nrrd/ProstateX-0004/1.3.6.1.4.1.14519.5.2.1.7311.5101.170561193612723093192571245493/1.2.276.0.7230010.3.1.3.1070885483.15960.1599120307.701_SEG\n",
            "dcmqi repository URL: git@github.com:QIICR/dcmqi.git revision: 1153738 tag: v1.2.5\n",
            "Row direction: 1 -1.99011e-10 4.9619e-11\n",
            "Col direction: 2.05103e-10 0.970296 -0.241922\n",
            "Z direction: 2.66056e-17 0.241922 0.970296\n",
            "Total frames: 76\n",
            "Total frames with unique IPP: 19\n",
            "Total overlapping frames: 19\n",
            "Origin: [-117.913, -85.1499, 12.84]\n",
            "Series Description : t2_tse_tra\n",
            "Series Description : ep2d_diff_tra_DYNDIST_MIX_ADC\n"
          ]
        }
      ],
      "source": [
        "convert_dcm_sorted(input_path=os.environ[\"qin_prostate_rep_dicom\"],\n",
        "                   output_path=os.environ[\"qin_prostate_rep_root\"])"
      ]
    },
    {
      "cell_type": "code",
      "execution_count": 35,
      "metadata": {
        "id": "oIf2aI7_Dt_O"
      },
      "outputs": [],
      "source": [
        "!rm -rf /content/qin_prostate_root_data/resampled/nii/*\n",
        "!rm -rf /content/qin_prostate_root_data/resampled/nrrd/*"
      ]
    },
    {
      "cell_type": "markdown",
      "metadata": {
        "id": "iswjmSqVC0ww"
      },
      "source": [
        "# Export SEGS  "
      ]
    },
    {
      "cell_type": "markdown",
      "source": [
        "## from nii to dcm"
      ],
      "metadata": {
        "id": "4NurbqpUnSOF"
      }
    },
    {
      "cell_type": "code",
      "execution_count": 51,
      "metadata": {
        "id": "nkIr_nUaZdIU",
        "colab": {
          "base_uri": "https://localhost:8080/"
        },
        "outputId": "1ce4c22f-d9d0-47b9-a317-c5bdcfc0cbc3"
      },
      "outputs": [
        {
          "output_type": "stream",
          "name": "stdout",
          "text": [
            "/content/prostatex/nii/ProstateX-0004/1.3.6.1.4.1.14519.5.2.1.7311.5101.170561193612723093192571245493/1.2.276.0.7230010.3.1.3.1070885483.15960.1599120307.701_SEG/1.nii.gz\n",
            "/content/prostatex/nii/ProstateX-0004/1.3.6.1.4.1.14519.5.2.1.7311.5101.170561193612723093192571245493/1.2.276.0.7230010.3.1.3.1070885483.15960.1599120307.701_SEG/2.nii.gz\n",
            "/content/prostatex/nii/ProstateX-0004/1.3.6.1.4.1.14519.5.2.1.7311.5101.170561193612723093192571245493/1.2.276.0.7230010.3.1.3.1070885483.15960.1599120307.701_SEG/3.nii.gz\n",
            "/content/prostatex/nii/ProstateX-0004/1.3.6.1.4.1.14519.5.2.1.7311.5101.170561193612723093192571245493/1.2.276.0.7230010.3.1.3.1070885483.15960.1599120307.701_SEG/4.nii.gz\n"
          ]
        }
      ],
      "source": [
        "nii_list = sorted(glob.glob(os.path.join('/content/prostatex/nii/ProstateX-0004/1.3.6.1.4.1.14519.5.2.1.7311.5101.170561193612723093192571245493/1.2.276.0.7230010.3.1.3.1070885483.15960.1599120307.701_SEG', '*.nii.gz')))\n",
        "# print(nii4)\n",
        "for el in nii_list : print(el)"
      ]
    },
    {
      "cell_type": "code",
      "execution_count": 52,
      "metadata": {
        "id": "WhRnaTSt_oe1",
        "colab": {
          "base_uri": "https://localhost:8080/"
        },
        "outputId": "4722772d-abc0-4770-9196-f1574bdca8da"
      },
      "outputs": [
        {
          "output_type": "stream",
          "name": "stdout",
          "text": [
            "dcmqi repository URL: git@github.com:QIICR/dcmqi.git revision: 1153738 tag: v1.2.5\n",
            "Loaded segmentation from /content/prostatex/nii/ProstateX-0004/1.3.6.1.4.1.14519.5.2.1.7311.5101.170561193612723093192571245493/1.2.276.0.7230010.3.1.3.1070885483.15960.1599120307.701_SEG/1.nii.gz\n",
            "Loaded segmentation from /content/prostatex/nii/ProstateX-0004/1.3.6.1.4.1.14519.5.2.1.7311.5101.170561193612723093192571245493/1.2.276.0.7230010.3.1.3.1070885483.15960.1599120307.701_SEG/2.nii.gz\n",
            "Loaded segmentation from /content/prostatex/nii/ProstateX-0004/1.3.6.1.4.1.14519.5.2.1.7311.5101.170561193612723093192571245493/1.2.276.0.7230010.3.1.3.1070885483.15960.1599120307.701_SEG/3.nii.gz\n",
            "Loaded segmentation from /content/prostatex/nii/ProstateX-0004/1.3.6.1.4.1.14519.5.2.1.7311.5101.170561193612723093192571245493/1.2.276.0.7230010.3.1.3.1070885483.15960.1599120307.701_SEG/4.nii.gz\n",
            "Searching recursively /content/prostatex/dicom/ProstateX-0004/1.3.6.1.4.1.14519.5.2.1.7311.5101.170561193612723093192571245493/1.3.6.1.4.1.14519.5.2.1.7311.5101.206828891270520544417996275680 for DICOM files\n",
            "W: ReferringPhysicianName (0008,0090) absent in GeneralStudyModule (type 2)\n",
            "SOPInstanceUID1.3.6.1.4.1.14519.5.2.1.7311.5101.837880298903019380035267659540 mapped\n",
            "SOPInstanceUID1.3.6.1.4.1.14519.5.2.1.7311.5101.140871946839917246139835104278 mapped\n",
            "SOPInstanceUID1.3.6.1.4.1.14519.5.2.1.7311.5101.682311503992658593314604303257 mapped\n",
            "SOPInstanceUID1.3.6.1.4.1.14519.5.2.1.7311.5101.182502842545423455942100471531 mapped\n",
            "SOPInstanceUID1.3.6.1.4.1.14519.5.2.1.7311.5101.300323178736669071620524914721 mapped\n",
            "SOPInstanceUID1.3.6.1.4.1.14519.5.2.1.7311.5101.959920807490464182077487985581 mapped\n",
            "SOPInstanceUID1.3.6.1.4.1.14519.5.2.1.7311.5101.664195306896695168613670196431 mapped\n",
            "SOPInstanceUID1.3.6.1.4.1.14519.5.2.1.7311.5101.261549691085116343248768885489 mapped\n",
            "SOPInstanceUID1.3.6.1.4.1.14519.5.2.1.7311.5101.191833352947275589281182810323 mapped\n",
            "SOPInstanceUID1.3.6.1.4.1.14519.5.2.1.7311.5101.659858965621597900583204514290 mapped\n",
            "SOPInstanceUID1.3.6.1.4.1.14519.5.2.1.7311.5101.140661212185680998225449002613 mapped\n",
            "SOPInstanceUID1.3.6.1.4.1.14519.5.2.1.7311.5101.105076858500192732229022944010 mapped\n",
            "SOPInstanceUID1.3.6.1.4.1.14519.5.2.1.7311.5101.316752744858742170533958373200 mapped\n",
            "SOPInstanceUID1.3.6.1.4.1.14519.5.2.1.7311.5101.218124599011631014704397343647 mapped\n",
            "SOPInstanceUID1.3.6.1.4.1.14519.5.2.1.7311.5101.284661221440591841105464105673 mapped\n",
            "SOPInstanceUID1.3.6.1.4.1.14519.5.2.1.7311.5101.105945183098328980140457962163 mapped\n",
            "SOPInstanceUID1.3.6.1.4.1.14519.5.2.1.7311.5101.323118489137350682744971172265 mapped\n",
            "SOPInstanceUID1.3.6.1.4.1.14519.5.2.1.7311.5101.223541403251139307210053647239 mapped\n",
            "SOPInstanceUID1.3.6.1.4.1.14519.5.2.1.7311.5101.110450510099441729742477232668 mapped\n",
            "19 of 19 slices mapped to source DICOM images\n",
            "Found 2 label(s)\n",
            "Processing label 1\n",
            "Total non-empty slices that will be encoded in SEG for label 1 is 14\n",
            " (inclusive from 2 to 16)\n",
            "Populating segment label to Peripheral zone of prostate\n",
            "Added source image item\n",
            "Added source image item\n",
            "Added source image item\n",
            "Added source image item\n",
            "Added source image item\n",
            "Added source image item\n",
            "Added source image item\n",
            "Added source image item\n",
            "Added source image item\n",
            "Added source image item\n",
            "Added source image item\n",
            "Added source image item\n",
            "Added source image item\n",
            "Added source image item\n",
            "SOPInstanceUID1.3.6.1.4.1.14519.5.2.1.7311.5101.837880298903019380035267659540 mapped\n",
            "SOPInstanceUID1.3.6.1.4.1.14519.5.2.1.7311.5101.140871946839917246139835104278 mapped\n",
            "SOPInstanceUID1.3.6.1.4.1.14519.5.2.1.7311.5101.682311503992658593314604303257 mapped\n",
            "SOPInstanceUID1.3.6.1.4.1.14519.5.2.1.7311.5101.182502842545423455942100471531 mapped\n",
            "SOPInstanceUID1.3.6.1.4.1.14519.5.2.1.7311.5101.300323178736669071620524914721 mapped\n",
            "SOPInstanceUID1.3.6.1.4.1.14519.5.2.1.7311.5101.959920807490464182077487985581 mapped\n",
            "SOPInstanceUID1.3.6.1.4.1.14519.5.2.1.7311.5101.664195306896695168613670196431 mapped\n",
            "SOPInstanceUID1.3.6.1.4.1.14519.5.2.1.7311.5101.261549691085116343248768885489 mapped\n",
            "SOPInstanceUID1.3.6.1.4.1.14519.5.2.1.7311.5101.191833352947275589281182810323 mapped\n",
            "SOPInstanceUID1.3.6.1.4.1.14519.5.2.1.7311.5101.659858965621597900583204514290 mapped\n",
            "SOPInstanceUID1.3.6.1.4.1.14519.5.2.1.7311.5101.140661212185680998225449002613 mapped\n",
            "SOPInstanceUID1.3.6.1.4.1.14519.5.2.1.7311.5101.105076858500192732229022944010 mapped\n",
            "SOPInstanceUID1.3.6.1.4.1.14519.5.2.1.7311.5101.316752744858742170533958373200 mapped\n",
            "SOPInstanceUID1.3.6.1.4.1.14519.5.2.1.7311.5101.218124599011631014704397343647 mapped\n",
            "SOPInstanceUID1.3.6.1.4.1.14519.5.2.1.7311.5101.284661221440591841105464105673 mapped\n",
            "SOPInstanceUID1.3.6.1.4.1.14519.5.2.1.7311.5101.105945183098328980140457962163 mapped\n",
            "SOPInstanceUID1.3.6.1.4.1.14519.5.2.1.7311.5101.323118489137350682744971172265 mapped\n",
            "SOPInstanceUID1.3.6.1.4.1.14519.5.2.1.7311.5101.223541403251139307210053647239 mapped\n",
            "SOPInstanceUID1.3.6.1.4.1.14519.5.2.1.7311.5101.110450510099441729742477232668 mapped\n",
            "19 of 19 slices mapped to source DICOM images\n",
            "Found 2 label(s)\n",
            "Processing label 2\n",
            "Total non-empty slices that will be encoded in SEG for label 2 is 15\n",
            " (inclusive from 3 to 18)\n",
            "Populating segment label to Transition zone of prostate\n",
            "Added source image item\n",
            "Added source image item\n",
            "Added source image item\n",
            "Added source image item\n",
            "Added source image item\n",
            "Added source image item\n",
            "Added source image item\n",
            "Added source image item\n",
            "Added source image item\n",
            "Added source image item\n",
            "Added source image item\n",
            "Added source image item\n",
            "Added source image item\n",
            "Added source image item\n",
            "Added source image item\n",
            "SOPInstanceUID1.3.6.1.4.1.14519.5.2.1.7311.5101.837880298903019380035267659540 mapped\n",
            "SOPInstanceUID1.3.6.1.4.1.14519.5.2.1.7311.5101.140871946839917246139835104278 mapped\n",
            "SOPInstanceUID1.3.6.1.4.1.14519.5.2.1.7311.5101.682311503992658593314604303257 mapped\n",
            "SOPInstanceUID1.3.6.1.4.1.14519.5.2.1.7311.5101.182502842545423455942100471531 mapped\n",
            "SOPInstanceUID1.3.6.1.4.1.14519.5.2.1.7311.5101.300323178736669071620524914721 mapped\n",
            "SOPInstanceUID1.3.6.1.4.1.14519.5.2.1.7311.5101.959920807490464182077487985581 mapped\n",
            "SOPInstanceUID1.3.6.1.4.1.14519.5.2.1.7311.5101.664195306896695168613670196431 mapped\n",
            "SOPInstanceUID1.3.6.1.4.1.14519.5.2.1.7311.5101.261549691085116343248768885489 mapped\n",
            "SOPInstanceUID1.3.6.1.4.1.14519.5.2.1.7311.5101.191833352947275589281182810323 mapped\n",
            "SOPInstanceUID1.3.6.1.4.1.14519.5.2.1.7311.5101.659858965621597900583204514290 mapped\n",
            "SOPInstanceUID1.3.6.1.4.1.14519.5.2.1.7311.5101.140661212185680998225449002613 mapped\n",
            "SOPInstanceUID1.3.6.1.4.1.14519.5.2.1.7311.5101.105076858500192732229022944010 mapped\n",
            "SOPInstanceUID1.3.6.1.4.1.14519.5.2.1.7311.5101.316752744858742170533958373200 mapped\n",
            "SOPInstanceUID1.3.6.1.4.1.14519.5.2.1.7311.5101.218124599011631014704397343647 mapped\n",
            "SOPInstanceUID1.3.6.1.4.1.14519.5.2.1.7311.5101.284661221440591841105464105673 mapped\n",
            "SOPInstanceUID1.3.6.1.4.1.14519.5.2.1.7311.5101.105945183098328980140457962163 mapped\n",
            "SOPInstanceUID1.3.6.1.4.1.14519.5.2.1.7311.5101.323118489137350682744971172265 mapped\n",
            "SOPInstanceUID1.3.6.1.4.1.14519.5.2.1.7311.5101.223541403251139307210053647239 mapped\n",
            "SOPInstanceUID1.3.6.1.4.1.14519.5.2.1.7311.5101.110450510099441729742477232668 mapped\n",
            "19 of 19 slices mapped to source DICOM images\n",
            "Found 2 label(s)\n",
            "Processing label 3\n",
            "Total non-empty slices that will be encoded in SEG for label 3 is 7\n",
            " (inclusive from 0 to 7)\n",
            "Populating segment label to Prostatic Urethra\n",
            "Added source image item\n",
            "Added source image item\n",
            "Added source image item\n",
            "Added source image item\n",
            "Added source image item\n",
            "Added source image item\n",
            "Added source image item\n",
            "SOPInstanceUID1.3.6.1.4.1.14519.5.2.1.7311.5101.837880298903019380035267659540 mapped\n",
            "SOPInstanceUID1.3.6.1.4.1.14519.5.2.1.7311.5101.140871946839917246139835104278 mapped\n",
            "SOPInstanceUID1.3.6.1.4.1.14519.5.2.1.7311.5101.682311503992658593314604303257 mapped\n",
            "SOPInstanceUID1.3.6.1.4.1.14519.5.2.1.7311.5101.182502842545423455942100471531 mapped\n",
            "SOPInstanceUID1.3.6.1.4.1.14519.5.2.1.7311.5101.300323178736669071620524914721 mapped\n",
            "SOPInstanceUID1.3.6.1.4.1.14519.5.2.1.7311.5101.959920807490464182077487985581 mapped\n",
            "SOPInstanceUID1.3.6.1.4.1.14519.5.2.1.7311.5101.664195306896695168613670196431 mapped\n",
            "SOPInstanceUID1.3.6.1.4.1.14519.5.2.1.7311.5101.261549691085116343248768885489 mapped\n",
            "SOPInstanceUID1.3.6.1.4.1.14519.5.2.1.7311.5101.191833352947275589281182810323 mapped\n",
            "SOPInstanceUID1.3.6.1.4.1.14519.5.2.1.7311.5101.659858965621597900583204514290 mapped\n",
            "SOPInstanceUID1.3.6.1.4.1.14519.5.2.1.7311.5101.140661212185680998225449002613 mapped\n",
            "SOPInstanceUID1.3.6.1.4.1.14519.5.2.1.7311.5101.105076858500192732229022944010 mapped\n",
            "SOPInstanceUID1.3.6.1.4.1.14519.5.2.1.7311.5101.316752744858742170533958373200 mapped\n",
            "SOPInstanceUID1.3.6.1.4.1.14519.5.2.1.7311.5101.218124599011631014704397343647 mapped\n",
            "SOPInstanceUID1.3.6.1.4.1.14519.5.2.1.7311.5101.284661221440591841105464105673 mapped\n",
            "SOPInstanceUID1.3.6.1.4.1.14519.5.2.1.7311.5101.105945183098328980140457962163 mapped\n",
            "SOPInstanceUID1.3.6.1.4.1.14519.5.2.1.7311.5101.323118489137350682744971172265 mapped\n",
            "SOPInstanceUID1.3.6.1.4.1.14519.5.2.1.7311.5101.223541403251139307210053647239 mapped\n",
            "SOPInstanceUID1.3.6.1.4.1.14519.5.2.1.7311.5101.110450510099441729742477232668 mapped\n",
            "19 of 19 slices mapped to source DICOM images\n",
            "Found 2 label(s)\n",
            "Processing label 4\n",
            "Total non-empty slices that will be encoded in SEG for label 4 is 7\n",
            " (inclusive from 6 to 13)\n",
            "Populating segment label to Anterior fibromuscular stroma of prostate\n",
            "Added source image item\n",
            "Added source image item\n",
            "Added source image item\n",
            "Added source image item\n",
            "Added source image item\n",
            "Added source image item\n",
            "Added source image item\n",
            "Saved segmentation as test_gt_0004_nifti.dcm\n"
          ]
        }
      ],
      "source": [
        "!itkimage2segimage --inputImageList {nii_list[0]},{nii_list[1]},{nii_list[2]},{nii_list[3]} \\\n",
        "--inputDICOMDirectory  /content/prostatex/dicom/ProstateX-0004/1.3.6.1.4.1.14519.5.2.1.7311.5101.170561193612723093192571245493/1.3.6.1.4.1.14519.5.2.1.7311.5101.206828891270520544417996275680 \\\n",
        "--inputMetadata  /content/prostatex/nii/ProstateX-0004/1.3.6.1.4.1.14519.5.2.1.7311.5101.170561193612723093192571245493/1.2.276.0.7230010.3.1.3.1070885483.15960.1599120307.701_SEG/meta.json \\\n",
        "--outputDICOM test_gt_0004_nifti.dcm \\\n",
        "--skip"
      ]
    },
    {
      "cell_type": "markdown",
      "source": [
        "## from nrrd to dcm"
      ],
      "metadata": {
        "id": "tXBOy8jEns-V"
      }
    },
    {
      "cell_type": "code",
      "execution_count": 53,
      "metadata": {
        "colab": {
          "base_uri": "https://localhost:8080/"
        },
        "outputId": "b6af603b-a0ad-4534-9dc7-e9986af5fa61",
        "id": "tT7mHvNzns-W"
      },
      "outputs": [
        {
          "output_type": "stream",
          "name": "stdout",
          "text": [
            "/content/prostatex/nrrd/ProstateX-0004/1.3.6.1.4.1.14519.5.2.1.7311.5101.170561193612723093192571245493/1.2.276.0.7230010.3.1.3.1070885483.15960.1599120307.701_SEG/1.nrrd\n",
            "/content/prostatex/nrrd/ProstateX-0004/1.3.6.1.4.1.14519.5.2.1.7311.5101.170561193612723093192571245493/1.2.276.0.7230010.3.1.3.1070885483.15960.1599120307.701_SEG/2.nrrd\n",
            "/content/prostatex/nrrd/ProstateX-0004/1.3.6.1.4.1.14519.5.2.1.7311.5101.170561193612723093192571245493/1.2.276.0.7230010.3.1.3.1070885483.15960.1599120307.701_SEG/3.nrrd\n",
            "/content/prostatex/nrrd/ProstateX-0004/1.3.6.1.4.1.14519.5.2.1.7311.5101.170561193612723093192571245493/1.2.276.0.7230010.3.1.3.1070885483.15960.1599120307.701_SEG/4.nrrd\n"
          ]
        }
      ],
      "source": [
        "nrrd_list = sorted(glob.glob(os.path.join('/content/prostatex/nrrd/ProstateX-0004/1.3.6.1.4.1.14519.5.2.1.7311.5101.170561193612723093192571245493/1.2.276.0.7230010.3.1.3.1070885483.15960.1599120307.701_SEG', '*.nrrd')))\n",
        "# print(nii4)\n",
        "for el in nrrd_list : print(el)"
      ]
    },
    {
      "cell_type": "code",
      "execution_count": 54,
      "metadata": {
        "colab": {
          "base_uri": "https://localhost:8080/"
        },
        "outputId": "276533e5-f57e-43f1-e8cc-5ef5ec7f81c9",
        "id": "HTQ5v5T2ns-W"
      },
      "outputs": [
        {
          "output_type": "stream",
          "name": "stdout",
          "text": [
            "dcmqi repository URL: git@github.com:QIICR/dcmqi.git revision: 1153738 tag: v1.2.5\n",
            "Loaded segmentation from /content/prostatex/nrrd/ProstateX-0004/1.3.6.1.4.1.14519.5.2.1.7311.5101.170561193612723093192571245493/1.2.276.0.7230010.3.1.3.1070885483.15960.1599120307.701_SEG/1.nrrd\n",
            "Loaded segmentation from /content/prostatex/nrrd/ProstateX-0004/1.3.6.1.4.1.14519.5.2.1.7311.5101.170561193612723093192571245493/1.2.276.0.7230010.3.1.3.1070885483.15960.1599120307.701_SEG/2.nrrd\n",
            "Loaded segmentation from /content/prostatex/nrrd/ProstateX-0004/1.3.6.1.4.1.14519.5.2.1.7311.5101.170561193612723093192571245493/1.2.276.0.7230010.3.1.3.1070885483.15960.1599120307.701_SEG/3.nrrd\n",
            "Loaded segmentation from /content/prostatex/nrrd/ProstateX-0004/1.3.6.1.4.1.14519.5.2.1.7311.5101.170561193612723093192571245493/1.2.276.0.7230010.3.1.3.1070885483.15960.1599120307.701_SEG/4.nrrd\n",
            "Searching recursively /content/prostatex/dicom/ProstateX-0004/1.3.6.1.4.1.14519.5.2.1.7311.5101.170561193612723093192571245493/1.3.6.1.4.1.14519.5.2.1.7311.5101.206828891270520544417996275680 for DICOM files\n",
            "W: ReferringPhysicianName (0008,0090) absent in GeneralStudyModule (type 2)\n",
            "SOPInstanceUID1.3.6.1.4.1.14519.5.2.1.7311.5101.837880298903019380035267659540 mapped\n",
            "SOPInstanceUID1.3.6.1.4.1.14519.5.2.1.7311.5101.140871946839917246139835104278 mapped\n",
            "SOPInstanceUID1.3.6.1.4.1.14519.5.2.1.7311.5101.682311503992658593314604303257 mapped\n",
            "SOPInstanceUID1.3.6.1.4.1.14519.5.2.1.7311.5101.182502842545423455942100471531 mapped\n",
            "SOPInstanceUID1.3.6.1.4.1.14519.5.2.1.7311.5101.300323178736669071620524914721 mapped\n",
            "SOPInstanceUID1.3.6.1.4.1.14519.5.2.1.7311.5101.959920807490464182077487985581 mapped\n",
            "SOPInstanceUID1.3.6.1.4.1.14519.5.2.1.7311.5101.664195306896695168613670196431 mapped\n",
            "SOPInstanceUID1.3.6.1.4.1.14519.5.2.1.7311.5101.261549691085116343248768885489 mapped\n",
            "SOPInstanceUID1.3.6.1.4.1.14519.5.2.1.7311.5101.191833352947275589281182810323 mapped\n",
            "SOPInstanceUID1.3.6.1.4.1.14519.5.2.1.7311.5101.659858965621597900583204514290 mapped\n",
            "SOPInstanceUID1.3.6.1.4.1.14519.5.2.1.7311.5101.140661212185680998225449002613 mapped\n",
            "SOPInstanceUID1.3.6.1.4.1.14519.5.2.1.7311.5101.105076858500192732229022944010 mapped\n",
            "SOPInstanceUID1.3.6.1.4.1.14519.5.2.1.7311.5101.316752744858742170533958373200 mapped\n",
            "SOPInstanceUID1.3.6.1.4.1.14519.5.2.1.7311.5101.218124599011631014704397343647 mapped\n",
            "SOPInstanceUID1.3.6.1.4.1.14519.5.2.1.7311.5101.284661221440591841105464105673 mapped\n",
            "SOPInstanceUID1.3.6.1.4.1.14519.5.2.1.7311.5101.105945183098328980140457962163 mapped\n",
            "SOPInstanceUID1.3.6.1.4.1.14519.5.2.1.7311.5101.323118489137350682744971172265 mapped\n",
            "SOPInstanceUID1.3.6.1.4.1.14519.5.2.1.7311.5101.223541403251139307210053647239 mapped\n",
            "SOPInstanceUID1.3.6.1.4.1.14519.5.2.1.7311.5101.110450510099441729742477232668 mapped\n",
            "19 of 19 slices mapped to source DICOM images\n",
            "Found 2 label(s)\n",
            "Processing label 1\n",
            "Total non-empty slices that will be encoded in SEG for label 1 is 14\n",
            " (inclusive from 2 to 16)\n",
            "Populating segment label to Peripheral zone of prostate\n",
            "Added source image item\n",
            "Added source image item\n",
            "Added source image item\n",
            "Added source image item\n",
            "Added source image item\n",
            "Added source image item\n",
            "Added source image item\n",
            "Added source image item\n",
            "Added source image item\n",
            "Added source image item\n",
            "Added source image item\n",
            "Added source image item\n",
            "Added source image item\n",
            "Added source image item\n",
            "SOPInstanceUID1.3.6.1.4.1.14519.5.2.1.7311.5101.837880298903019380035267659540 mapped\n",
            "SOPInstanceUID1.3.6.1.4.1.14519.5.2.1.7311.5101.140871946839917246139835104278 mapped\n",
            "SOPInstanceUID1.3.6.1.4.1.14519.5.2.1.7311.5101.682311503992658593314604303257 mapped\n",
            "SOPInstanceUID1.3.6.1.4.1.14519.5.2.1.7311.5101.182502842545423455942100471531 mapped\n",
            "SOPInstanceUID1.3.6.1.4.1.14519.5.2.1.7311.5101.300323178736669071620524914721 mapped\n",
            "SOPInstanceUID1.3.6.1.4.1.14519.5.2.1.7311.5101.959920807490464182077487985581 mapped\n",
            "SOPInstanceUID1.3.6.1.4.1.14519.5.2.1.7311.5101.664195306896695168613670196431 mapped\n",
            "SOPInstanceUID1.3.6.1.4.1.14519.5.2.1.7311.5101.261549691085116343248768885489 mapped\n",
            "SOPInstanceUID1.3.6.1.4.1.14519.5.2.1.7311.5101.191833352947275589281182810323 mapped\n",
            "SOPInstanceUID1.3.6.1.4.1.14519.5.2.1.7311.5101.659858965621597900583204514290 mapped\n",
            "SOPInstanceUID1.3.6.1.4.1.14519.5.2.1.7311.5101.140661212185680998225449002613 mapped\n",
            "SOPInstanceUID1.3.6.1.4.1.14519.5.2.1.7311.5101.105076858500192732229022944010 mapped\n",
            "SOPInstanceUID1.3.6.1.4.1.14519.5.2.1.7311.5101.316752744858742170533958373200 mapped\n",
            "SOPInstanceUID1.3.6.1.4.1.14519.5.2.1.7311.5101.218124599011631014704397343647 mapped\n",
            "SOPInstanceUID1.3.6.1.4.1.14519.5.2.1.7311.5101.284661221440591841105464105673 mapped\n",
            "SOPInstanceUID1.3.6.1.4.1.14519.5.2.1.7311.5101.105945183098328980140457962163 mapped\n",
            "SOPInstanceUID1.3.6.1.4.1.14519.5.2.1.7311.5101.323118489137350682744971172265 mapped\n",
            "SOPInstanceUID1.3.6.1.4.1.14519.5.2.1.7311.5101.223541403251139307210053647239 mapped\n",
            "SOPInstanceUID1.3.6.1.4.1.14519.5.2.1.7311.5101.110450510099441729742477232668 mapped\n",
            "19 of 19 slices mapped to source DICOM images\n",
            "Found 2 label(s)\n",
            "Processing label 2\n",
            "Total non-empty slices that will be encoded in SEG for label 2 is 15\n",
            " (inclusive from 3 to 18)\n",
            "Populating segment label to Transition zone of prostate\n",
            "Added source image item\n",
            "Added source image item\n",
            "Added source image item\n",
            "Added source image item\n",
            "Added source image item\n",
            "Added source image item\n",
            "Added source image item\n",
            "Added source image item\n",
            "Added source image item\n",
            "Added source image item\n",
            "Added source image item\n",
            "Added source image item\n",
            "Added source image item\n",
            "Added source image item\n",
            "Added source image item\n",
            "SOPInstanceUID1.3.6.1.4.1.14519.5.2.1.7311.5101.837880298903019380035267659540 mapped\n",
            "SOPInstanceUID1.3.6.1.4.1.14519.5.2.1.7311.5101.140871946839917246139835104278 mapped\n",
            "SOPInstanceUID1.3.6.1.4.1.14519.5.2.1.7311.5101.682311503992658593314604303257 mapped\n",
            "SOPInstanceUID1.3.6.1.4.1.14519.5.2.1.7311.5101.182502842545423455942100471531 mapped\n",
            "SOPInstanceUID1.3.6.1.4.1.14519.5.2.1.7311.5101.300323178736669071620524914721 mapped\n",
            "SOPInstanceUID1.3.6.1.4.1.14519.5.2.1.7311.5101.959920807490464182077487985581 mapped\n",
            "SOPInstanceUID1.3.6.1.4.1.14519.5.2.1.7311.5101.664195306896695168613670196431 mapped\n",
            "SOPInstanceUID1.3.6.1.4.1.14519.5.2.1.7311.5101.261549691085116343248768885489 mapped\n",
            "SOPInstanceUID1.3.6.1.4.1.14519.5.2.1.7311.5101.191833352947275589281182810323 mapped\n",
            "SOPInstanceUID1.3.6.1.4.1.14519.5.2.1.7311.5101.659858965621597900583204514290 mapped\n",
            "SOPInstanceUID1.3.6.1.4.1.14519.5.2.1.7311.5101.140661212185680998225449002613 mapped\n",
            "SOPInstanceUID1.3.6.1.4.1.14519.5.2.1.7311.5101.105076858500192732229022944010 mapped\n",
            "SOPInstanceUID1.3.6.1.4.1.14519.5.2.1.7311.5101.316752744858742170533958373200 mapped\n",
            "SOPInstanceUID1.3.6.1.4.1.14519.5.2.1.7311.5101.218124599011631014704397343647 mapped\n",
            "SOPInstanceUID1.3.6.1.4.1.14519.5.2.1.7311.5101.284661221440591841105464105673 mapped\n",
            "SOPInstanceUID1.3.6.1.4.1.14519.5.2.1.7311.5101.105945183098328980140457962163 mapped\n",
            "SOPInstanceUID1.3.6.1.4.1.14519.5.2.1.7311.5101.323118489137350682744971172265 mapped\n",
            "SOPInstanceUID1.3.6.1.4.1.14519.5.2.1.7311.5101.223541403251139307210053647239 mapped\n",
            "SOPInstanceUID1.3.6.1.4.1.14519.5.2.1.7311.5101.110450510099441729742477232668 mapped\n",
            "19 of 19 slices mapped to source DICOM images\n",
            "Found 2 label(s)\n",
            "Processing label 3\n",
            "Total non-empty slices that will be encoded in SEG for label 3 is 7\n",
            " (inclusive from 0 to 7)\n",
            "Populating segment label to Prostatic Urethra\n",
            "Added source image item\n",
            "Added source image item\n",
            "Added source image item\n",
            "Added source image item\n",
            "Added source image item\n",
            "Added source image item\n",
            "Added source image item\n",
            "SOPInstanceUID1.3.6.1.4.1.14519.5.2.1.7311.5101.837880298903019380035267659540 mapped\n",
            "SOPInstanceUID1.3.6.1.4.1.14519.5.2.1.7311.5101.140871946839917246139835104278 mapped\n",
            "SOPInstanceUID1.3.6.1.4.1.14519.5.2.1.7311.5101.682311503992658593314604303257 mapped\n",
            "SOPInstanceUID1.3.6.1.4.1.14519.5.2.1.7311.5101.182502842545423455942100471531 mapped\n",
            "SOPInstanceUID1.3.6.1.4.1.14519.5.2.1.7311.5101.300323178736669071620524914721 mapped\n",
            "SOPInstanceUID1.3.6.1.4.1.14519.5.2.1.7311.5101.959920807490464182077487985581 mapped\n",
            "SOPInstanceUID1.3.6.1.4.1.14519.5.2.1.7311.5101.664195306896695168613670196431 mapped\n",
            "SOPInstanceUID1.3.6.1.4.1.14519.5.2.1.7311.5101.261549691085116343248768885489 mapped\n",
            "SOPInstanceUID1.3.6.1.4.1.14519.5.2.1.7311.5101.191833352947275589281182810323 mapped\n",
            "SOPInstanceUID1.3.6.1.4.1.14519.5.2.1.7311.5101.659858965621597900583204514290 mapped\n",
            "SOPInstanceUID1.3.6.1.4.1.14519.5.2.1.7311.5101.140661212185680998225449002613 mapped\n",
            "SOPInstanceUID1.3.6.1.4.1.14519.5.2.1.7311.5101.105076858500192732229022944010 mapped\n",
            "SOPInstanceUID1.3.6.1.4.1.14519.5.2.1.7311.5101.316752744858742170533958373200 mapped\n",
            "SOPInstanceUID1.3.6.1.4.1.14519.5.2.1.7311.5101.218124599011631014704397343647 mapped\n",
            "SOPInstanceUID1.3.6.1.4.1.14519.5.2.1.7311.5101.284661221440591841105464105673 mapped\n",
            "SOPInstanceUID1.3.6.1.4.1.14519.5.2.1.7311.5101.105945183098328980140457962163 mapped\n",
            "SOPInstanceUID1.3.6.1.4.1.14519.5.2.1.7311.5101.323118489137350682744971172265 mapped\n",
            "SOPInstanceUID1.3.6.1.4.1.14519.5.2.1.7311.5101.223541403251139307210053647239 mapped\n",
            "SOPInstanceUID1.3.6.1.4.1.14519.5.2.1.7311.5101.110450510099441729742477232668 mapped\n",
            "19 of 19 slices mapped to source DICOM images\n",
            "Found 2 label(s)\n",
            "Processing label 4\n",
            "Total non-empty slices that will be encoded in SEG for label 4 is 7\n",
            " (inclusive from 6 to 13)\n",
            "Populating segment label to Anterior fibromuscular stroma of prostate\n",
            "Added source image item\n",
            "Added source image item\n",
            "Added source image item\n",
            "Added source image item\n",
            "Added source image item\n",
            "Added source image item\n",
            "Added source image item\n",
            "Saved segmentation as test_gt_0004_nrrd.dcm\n"
          ]
        }
      ],
      "source": [
        "!itkimage2segimage --inputImageList {nrrd_list[0]},{nrrd_list[1]},{nrrd_list[2]},{nrrd_list[3]} \\\n",
        "--inputDICOMDirectory  /content/prostatex/dicom/ProstateX-0004/1.3.6.1.4.1.14519.5.2.1.7311.5101.170561193612723093192571245493/1.3.6.1.4.1.14519.5.2.1.7311.5101.206828891270520544417996275680 \\\n",
        "--inputMetadata  /content/prostatex/nii/ProstateX-0004/1.3.6.1.4.1.14519.5.2.1.7311.5101.170561193612723093192571245493/1.2.276.0.7230010.3.1.3.1070885483.15960.1599120307.701_SEG/meta.json \\\n",
        "--outputDICOM test_gt_0004_nrrd.dcm \\\n",
        "--skip"
      ]
    },
    {
      "cell_type": "markdown",
      "source": [
        "convert back to nrrd from dcm and nrrd to dcm"
      ],
      "metadata": {
        "id": "UqkvzEvOi2Ct"
      }
    },
    {
      "cell_type": "code",
      "source": [
        "# dcm_file = '/content/test_gt_0004.dcm'\n",
        "# !segimage2itkimage --inputDICOM $dcm_file --outputDirectory ./ --outputType nrrd \n",
        "\n",
        "# !itkimage2segimage --inputImageList 1.nrrd,2.nrrd,3.nrrd,4.nrrd \\\n",
        "# --inputDICOMDirectory  /content/prostatex/dicom/ProstateX-0004/1.3.6.1.4.1.14519.5.2.1.7311.5101.170561193612723093192571245493/1.3.6.1.4.1.14519.5.2.1.7311.5101.206828891270520544417996275680 \\\n",
        "# --inputMetadata  /content/prostatex/nii/ProstateX-0004/1.3.6.1.4.1.14519.5.2.1.7311.5101.170561193612723093192571245493/1.2.276.0.7230010.3.1.3.1070885483.15960.1599120307.701_SEG/meta.json \\\n",
        "# --outputDICOM test_gt_0004_from_nrrd.dcm \\\n",
        "# --skip"
      ],
      "metadata": {
        "id": "WHLJDi78i4yh",
        "outputId": "3b121e99-e11e-4863-93c2-1f305fa9630b",
        "colab": {
          "base_uri": "https://localhost:8080/"
        }
      },
      "execution_count": 42,
      "outputs": [
        {
          "output_type": "stream",
          "name": "stdout",
          "text": [
            "dcmqi repository URL: git@github.com:QIICR/dcmqi.git revision: 1153738 tag: v1.2.5\n",
            "Row direction: 1 3.04622e-12 2.48095e-11\n",
            "Col direction: 3.04622e-12 0.970296 -0.241922\n",
            "Z direction: -2.48095e-11 0.241922 0.970296\n",
            "Total frames: 43\n",
            "Total frames with unique IPP: 18\n",
            "Total overlapping frames: 14\n",
            "Origin: [-117.913, -85.1499, 12.84]\n"
          ]
        }
      ]
    },
    {
      "cell_type": "code",
      "source": [
        "# def order_dcm_files(dcm_folder_path):\n",
        "#   # ------ order the CT files according to the ImagePositionPatient and ImageOrientation ----# \n",
        "#   files = list(glob.glob(os.path.join(dcm_folder_path,\"*.dcm\")))\n",
        "#   num_files = len(files)\n",
        "\n",
        "#   pos_all = []  \n",
        "#   sop_all = [] \n",
        "\n",
        "#   for n in range(0,num_files):\n",
        "#     # read dcm file \n",
        "#     filename = files[n]\n",
        "#     ds = dcmread(filename)\n",
        "#     # print(ds)\n",
        "\n",
        "#     # get ImageOrientation (0020, 0037)\n",
        "#     # ImageOrientation = ds['0x0020','0x0037'].value\n",
        "#     ImageOrientation = ds.ImageOrientationPatient\n",
        "#     #ImageOrientation = ds.ImageOrientationPatient.value\n",
        "\n",
        "#     # get ImagePositionPatient (0020, 0032) \n",
        "#     # ImagePositionPatient = ds['0x0020','0x0032'].value\n",
        "#     ImagePositionPatient = ds.ImagePositionPatient\n",
        "\n",
        "#     # calculate z value\n",
        "#     x_vector = ImageOrientation[0:3]\n",
        "#     y_vector = ImageOrientation[3:]\n",
        "#     z_vector = np.cross(x_vector,y_vector)\n",
        "\n",
        "#     # multiple z_vector by ImagePositionPatient\n",
        "#     pos = np.dot(z_vector,ImagePositionPatient)\n",
        "#     pos_all.append(pos)\n",
        "\n",
        "#     # get the SOPInstanceUID \n",
        "#     sop = ds['0x0008', '0x0018'].value\n",
        "#     sop_all.append(sop)\n",
        "\n",
        "\n",
        "#   #----- order the SOPInstanceUID/files by z value ----# \n",
        "\n",
        "#   sorted_ind = np.flip(np.argsort(pos_all))\n",
        "#   pos_all_sorted = np.array(pos_all)[sorted_ind.astype(int)]\n",
        "#   sop_all_sorted = np.array(sop_all)[sorted_ind.astype(int)]\n",
        "#   files_sorted = np.array(files)[sorted_ind.astype(int)]\n",
        "\n",
        "#   return files_sorted"
      ],
      "metadata": {
        "id": "jREzBWbR9nJC"
      },
      "execution_count": 104,
      "outputs": []
    },
    {
      "cell_type": "markdown",
      "source": [
        "highdicom test"
      ],
      "metadata": {
        "id": "opJ8IrG07tcW"
      }
    },
    {
      "cell_type": "code",
      "source": [
        "from pathlib import Path\n",
        "\n",
        "import highdicom as hd\n",
        "import numpy as np\n",
        "from pydicom.sr.codedict import codes\n",
        "from pydicom.filereader import dcmread\n",
        "\n",
        "# Path to directory containing MRI T2\n",
        "series_dir = '/content/prostatex/dicom/ProstateX-0004/1.3.6.1.4.1.14519.5.2.1.7311.5101.170561193612723093192571245493/1.3.6.1.4.1.14519.5.2.1.7311.5101.206828891270520544417996275680/'\n",
        "# image_files = series_dir.glob('*.dcm')\n",
        "image_files = order_dcm_files(series_dir)\n",
        "print('sorted images files')\n",
        "# Read CT Image data sets from dcm mri files on disk\n",
        "image_datasets = [dcmread(str(f)) for f in list(image_files)] \n",
        "\n",
        "# Create a binary segmentation mask\n",
        "mask = np.zeros(\n",
        "    shape=(len(image_datasets),\n",
        "           image_datasets[0].Rows,\n",
        "           image_datasets[0].Columns,\n",
        "           1),\n",
        "           dtype=np.bool)\n",
        "#read nii seg file to np mask and  \n",
        "# mask[1:-1, 10:-10, 100:-100] = True\n",
        "nii1_image = nib.load(nii1)\n",
        "print(nii1_image.header)\n",
        "nii1_np = nii1_image.get_fdata()\n",
        "test_np = np.zeros(shape=(nii1_np.shape[-1], nii1_np.shape[1], nii1_np.shape[0]))\n",
        "for i in range(nii1_np.shape[-1] -1):\n",
        "  test_np[i, :, :] = nii1_np[:,:,i].T\n",
        "\n",
        "# nii1_np = nii1_np.reshape(nii1_np.shape[-1], nii1_np.shape[0], nii1_np.shape[0])\n",
        "\n",
        "# nii2_np = nib.load(nii2).get_fdata()\n",
        "\n",
        "# nii2_np = nii2_np.reshape(nii2_np.shape[-1], nii2_np.shape[1], nii2_np.shape[0])\n",
        "\n",
        "# nii3_np = nib.load(nii3).get_fdata()\n",
        "# nii3_np = nii3_np.reshape(nii3_np.shape[-1], nii3_np.shape[1], nii3_np.shape[0])\n",
        "\n",
        "# nii4_np = nib.load(nii4).get_fdata()\n",
        "# nii4_np = nii4_np.reshape(nii4_np.shape[-1], nii4_np.shape[1], nii4_np.shape[0])\n",
        "\n",
        "mask[:, :, :, 0] = test_np\n",
        "# mask[:, :, :, 1] = nii2_np\n",
        "# mask[:, :, :, 2] = nii3_np\n",
        "# mask[:, :, :, 3] = nii4_np\n",
        "\n",
        "# print(mask.shape)\n",
        "\n",
        "# Describe the algorithm that created the segmentation\n",
        "algorithm_identification = hd.AlgorithmIdentificationSequence(\n",
        "    name='test',\n",
        "    version='v1.0',\n",
        "    family=codes.cid7162.ArtificialIntelligence\n",
        ")\n",
        "\n",
        "# # Describe the segment\n",
        "description_segment_1 = hd.seg.SegmentDescription(\n",
        "    segment_number=1,\n",
        "    segment_label='first segment',\n",
        "    segmented_property_category=codes.cid7150.Tissue,\n",
        "    segmented_property_type=codes.cid7166.ConnectiveTissue,\n",
        "    algorithm_type=hd.seg.SegmentAlgorithmTypeValues.AUTOMATIC,\n",
        "    algorithm_identification=algorithm_identification,\n",
        "    tracking_uid=hd.UID(),\n",
        "    tracking_id='test segmentation of mri t2 seg prostate '\n",
        ")\n",
        "\n",
        "# description_segment_2 = hd.seg.SegmentDescription(\n",
        "#     segment_number=2,\n",
        "#     segment_label='second segment',\n",
        "#     segmented_property_category=codes.cid7150.Tissue,\n",
        "#     segmented_property_type=codes.cid7166.ConnectiveTissue,\n",
        "#     algorithm_type=hd.seg.SegmentAlgorithmTypeValues.AUTOMATIC,\n",
        "#     algorithm_identification=algorithm_identification,\n",
        "#     tracking_uid=hd.UID(),\n",
        "#     tracking_id='test segmentation of computed tomography image'\n",
        "# )\n",
        "\n",
        "# description_segment_3 = hd.seg.SegmentDescription(\n",
        "#     segment_number=3,\n",
        "#     segment_label='third segment',\n",
        "#     segmented_property_category=codes.cid7150.Tissue,\n",
        "#     segmented_property_type=codes.cid7166.ConnectiveTissue,\n",
        "#     algorithm_type=hd.seg.SegmentAlgorithmTypeValues.AUTOMATIC,\n",
        "#     algorithm_identification=algorithm_identification,\n",
        "#     tracking_uid=hd.UID(),\n",
        "#     tracking_id='test segmentation of computed tomography image'\n",
        "# )\n",
        "\n",
        "# description_segment_4 = hd.seg.SegmentDescription(\n",
        "#     segment_number=4,\n",
        "#     segment_label='fourth segment',\n",
        "#     segmented_property_category=codes.cid7150.Tissue,\n",
        "#     segmented_property_type=codes.cid7166.ConnectiveTissue,\n",
        "#     algorithm_type=hd.seg.SegmentAlgorithmTypeValues.AUTOMATIC,\n",
        "#     algorithm_identification=algorithm_identification,\n",
        "#     tracking_uid=hd.UID(),\n",
        "#     tracking_id='test segmentation of computed tomography image'\n",
        "# )\n",
        "\n",
        "# Create the Segmentation instance\n",
        "seg_dataset = hd.seg.Segmentation(\n",
        "    source_images=image_datasets,\n",
        "    pixel_array=mask,\n",
        "    segmentation_type=hd.seg.SegmentationTypeValues.FRACTIONAL,\n",
        "    # fractional_type=hd.seg.SegmentationFractionalTypeValues.OCCUPANCY,\n",
        "    segment_descriptions=[description_segment_1],#, description_segment_2, description_segment_3, description_segment_4],\n",
        "    series_instance_uid=hd.UID(),\n",
        "    series_number=2,\n",
        "    sop_instance_uid=hd.UID(),\n",
        "    instance_number=1,\n",
        "    manufacturer='Manufacturer',\n",
        "    manufacturer_model_name='Model',\n",
        "    software_versions='v1',\n",
        "    device_serial_number='Device XYZ',\n",
        ")\n",
        "\n",
        "print(seg_dataset)\n",
        "\n",
        "seg_dataset.save_as(\"seg.dcm\")"
      ],
      "metadata": {
        "id": "d-t6kU177x9B"
      },
      "execution_count": null,
      "outputs": []
    },
    {
      "cell_type": "markdown",
      "metadata": {
        "id": "c4NIaPltrXmh"
      },
      "source": [
        "Test with pydicom -- works fine with OHIF viewer integration but only single segment supported"
      ]
    },
    {
      "cell_type": "markdown",
      "metadata": {
        "id": "rI2BLQ8dqIwW"
      },
      "source": [
        "# EXPORT TO OHIF "
      ]
    },
    {
      "cell_type": "markdown",
      "metadata": {
        "id": "L4c_etIu47pg"
      },
      "source": [
        "## User input "
      ]
    },
    {
      "cell_type": "markdown",
      "metadata": {
        "id": "-g93SM9gAFiX"
      },
      "source": [
        "Set these values. "
      ]
    },
    {
      "cell_type": "code",
      "execution_count": 41,
      "metadata": {
        "id": "3Kk0d3lMmDp3"
      },
      "outputs": [],
      "source": [
        "project_name = 'idc-sandbox-003'\n",
        "location_id = 'us-central1'\n",
        "my_bucket = 'nnunet_seg_test01_bucket'\n",
        "my_dataset = 'nnunet_seg_test01'\n",
        "my_datastore = 'nnunet_seg_test01_datastore'"
      ]
    },
    {
      "cell_type": "markdown",
      "metadata": {
        "id": "9ft353-gQI0r"
      },
      "source": [
        "Do not change the values below. "
      ]
    },
    {
      "cell_type": "markdown",
      "metadata": {
        "id": "Bg9EcZ4NGh5v"
      },
      "source": [
        "Set up authorization."
      ]
    },
    {
      "cell_type": "markdown",
      "metadata": {
        "id": "TY94MRxW4whp"
      },
      "source": [
        "## Package setup"
      ]
    },
    {
      "cell_type": "markdown",
      "metadata": {
        "id": "4Yutik5wQqVa"
      },
      "source": [
        "Use these instructions to first deploy your own OHIF instance: \n",
        "\n",
        "https://docs.google.com/document/d/1v4Syu_yOV6yH--QBLGzsL9fJ7-XyD1CnQu4iTIoPVD8/edit#heading=h.1phazem22o0 "
      ]
    },
    {
      "cell_type": "markdown",
      "metadata": {
        "id": "SPUmsW5qNLjB"
      },
      "source": [
        "Create a structured report for each series:"
      ]
    },
    {
      "cell_type": "markdown",
      "metadata": {
        "id": "fS1mdqAbFyxY"
      },
      "source": [
        "# GCP Healthcare steps"
      ]
    },
    {
      "cell_type": "markdown",
      "metadata": {
        "id": "A8QGbITuOpXm"
      },
      "source": [
        "In order to view the MR data along with the SEGS, we need to store our data in the cloud. We first need to create a dataset, and a DICOM datastore, which will hold our MR and SEG data. To do this we will first store our data in a bucket, and then copy over the contents to the DICOM datastore. "
      ]
    },
    {
      "cell_type": "markdown",
      "metadata": {
        "id": "mIyZTVKvv1Yu"
      },
      "source": [
        "We first need to create a dataset if it doesn't already exist. "
      ]
    },
    {
      "cell_type": "code",
      "execution_count": 59,
      "metadata": {
        "id": "-X3q8z-6v1Yu",
        "colab": {
          "base_uri": "https://localhost:8080/"
        },
        "outputId": "6cda53b2-ebf4-4f1a-a87e-890400ddcfb7"
      },
      "outputs": [
        {
          "output_type": "stream",
          "name": "stdout",
          "text": [
            "datasets that exist for project_id idc-sandbox-003, location us-central1: ['nnunet_seg_test01']\n"
          ]
        }
      ],
      "source": [
        "# First let's list the datasets that we already have for our particular project_id and location_id\n",
        "datasets = !gcloud healthcare datasets list --project $project_name --location $location_id --format=\"value(ID)\" \n",
        "print ('datasets that exist for project_id ' + str(project_name) + ', location ' + str(location_id) + ': ' + str(datasets))"
      ]
    },
    {
      "cell_type": "markdown",
      "metadata": {
        "id": "Q7cDtQEwv1Yu"
      },
      "source": [
        "Create a dicom store if it doesn't already exist"
      ]
    },
    {
      "cell_type": "code",
      "execution_count": 60,
      "metadata": {
        "id": "A9baFv4iv1Yu",
        "colab": {
          "base_uri": "https://localhost:8080/"
        },
        "outputId": "2e601ae3-92d4-4dfa-98a2-d58f34d236e4"
      },
      "outputs": [
        {
          "output_type": "stream",
          "name": "stdout",
          "text": [
            "datastores that exist for project_id idc-sandbox-003, location us-central1, dataset nnunet_seg_test01: ['ID                           LOCATION     TOPIC', 'nnunet_seg_test01_datastore  us-central1']\n"
          ]
        }
      ],
      "source": [
        "# # First list the datastores that exist in the dataset\n",
        "datastores = !gcloud healthcare dicom-stores list --project $project_name --dataset $my_dataset #--format=\"value(ID)\"\n",
        "print ('datastores that exist for project_id ' + str(project_name) + ', location ' + str(location_id) + ', dataset ' + str(my_dataset) + ': ' + str(datastores))"
      ]
    },
    {
      "cell_type": "markdown",
      "metadata": {
        "id": "n2PzSptkIFPu"
      },
      "source": [
        "Create a bucket to store the MR data and the SEG. "
      ]
    },
    {
      "cell_type": "code",
      "execution_count": 55,
      "metadata": {
        "colab": {
          "base_uri": "https://localhost:8080/"
        },
        "id": "bjRFZGJySEGz",
        "outputId": "945760a8-6c6e-47b2-a7a6-89abec3b7c47"
      },
      "outputs": [
        {
          "output_type": "stream",
          "name": "stdout",
          "text": [
            "Removing gs://nnunet_mr_test01_bucket/1.3.6.1.4.1.14519.5.2.1.7311.5101.105076858500192732229022944010.dcm#1660769706774916...\n",
            "Removing gs://nnunet_mr_test01_bucket/1.3.6.1.4.1.14519.5.2.1.7311.5101.105945183098328980140457962163.dcm#1660769707877462...\n",
            "Removing gs://nnunet_mr_test01_bucket/1.3.6.1.4.1.14519.5.2.1.7311.5101.110450510099441729742477232668.dcm#1660769708269951...\n",
            "Removing gs://nnunet_mr_test01_bucket/1.3.6.1.4.1.14519.5.2.1.7311.5101.158434971961541833072980878910.dcm#1660769714587184...\n",
            "Removing gs://nnunet_mr_test01_bucket/1.3.6.1.4.1.14519.5.2.1.7311.5101.140871946839917246139835104278.dcm#1660769706979420...\n",
            "Removing gs://nnunet_mr_test01_bucket/1.3.6.1.4.1.14519.5.2.1.7311.5101.120182904570469180898021983365.dcm#1660769713894594...\n",
            "Removing gs://nnunet_mr_test01_bucket/1.3.6.1.4.1.14519.5.2.1.7311.5101.140661212185680998225449002613.dcm#1660769706778150...\n",
            "Removing gs://nnunet_mr_test01_bucket/1.3.6.1.4.1.14519.5.2.1.7311.5101.159642350602033391658858168188.dcm#1660769713899341...\n",
            "Removing gs://nnunet_mr_test01_bucket/1.3.6.1.4.1.14519.5.2.1.7311.5101.181409570518037321796014170365.dcm#1660769713324893...\n",
            "Removing gs://nnunet_mr_test01_bucket/1.3.6.1.4.1.14519.5.2.1.7311.5101.182502842545423455942100471531.dcm#1660769706482712...\n",
            "Removing gs://nnunet_mr_test01_bucket/1.3.6.1.4.1.14519.5.2.1.7311.5101.188318656153076807319680712693.dcm#1660769715598810...\n",
            "Removing gs://nnunet_mr_test01_bucket/1.3.6.1.4.1.14519.5.2.1.7311.5101.192777861370011354321582424540.dcm#1660769713690531...\n",
            "Removing gs://nnunet_mr_test01_bucket/1.3.6.1.4.1.14519.5.2.1.7311.5101.191833352947275589281182810323.dcm#1660769709074247...\n",
            "Removing gs://nnunet_mr_test01_bucket/1.3.6.1.4.1.14519.5.2.1.7311.5101.218124599011631014704397343647.dcm#1660769707676092...\n",
            "Removing gs://nnunet_mr_test01_bucket/1.3.6.1.4.1.14519.5.2.1.7311.5101.223541403251139307210053647239.dcm#1660769708371964...\n",
            "Removing gs://nnunet_mr_test01_bucket/1.3.6.1.4.1.14519.5.2.1.7311.5101.227902545621922515361072647810.dcm#1660769714408306...\n",
            "Removing gs://nnunet_mr_test01_bucket/1.3.6.1.4.1.14519.5.2.1.7311.5101.231256973927847485676442595988.dcm#1660769714890713...\n",
            "Removing gs://nnunet_mr_test01_bucket/1.3.6.1.4.1.14519.5.2.1.7311.5101.234828076420742545553100667932.dcm#1660769713988738...\n",
            "Removing gs://nnunet_mr_test01_bucket/1.3.6.1.4.1.14519.5.2.1.7311.5101.253956777520155326930933078248.dcm#1660769713284974...\n",
            "Removing gs://nnunet_mr_test01_bucket/1.3.6.1.4.1.14519.5.2.1.7311.5101.256937216950403063264814402940.dcm#1660769714288817...\n",
            "Removing gs://nnunet_mr_test01_bucket/1.3.6.1.4.1.14519.5.2.1.7311.5101.259054845141206293094330375872.dcm#1660769714285407...\n",
            "Removing gs://nnunet_mr_test01_bucket/1.3.6.1.4.1.14519.5.2.1.7311.5101.260167119752072712227387102267.dcm#1660769715492184...\n",
            "Removing gs://nnunet_mr_test01_bucket/1.3.6.1.4.1.14519.5.2.1.7311.5101.261549691085116343248768885489.dcm#1660769708476615...\n",
            "Removing gs://nnunet_mr_test01_bucket/1.3.6.1.4.1.14519.5.2.1.7311.5101.284661221440591841105464105673.dcm#1660769707675874...\n",
            "Removing gs://nnunet_mr_test01_bucket/1.3.6.1.4.1.14519.5.2.1.7311.5101.290263254496442242415913735283.dcm#1660769713683048...\n",
            "Removing gs://nnunet_mr_test01_bucket/1.3.6.1.4.1.14519.5.2.1.7311.5101.300323178736669071620524914721.dcm#1660769706076248...\n",
            "Removing gs://nnunet_mr_test01_bucket/1.3.6.1.4.1.14519.5.2.1.7311.5101.307736047626263019938923665040.dcm#1660769715088499...\n",
            "Removing gs://nnunet_mr_test01_bucket/1.3.6.1.4.1.14519.5.2.1.7311.5101.316752744858742170533958373200.dcm#1660769707176215...\n",
            "Removing gs://nnunet_mr_test01_bucket/1.3.6.1.4.1.14519.5.2.1.7311.5101.323118489137350682744971172265.dcm#1660769707874679...\n",
            "Removing gs://nnunet_mr_test01_bucket/1.3.6.1.4.1.14519.5.2.1.7311.5101.326481939917040902941585162198.dcm#1660769714285808...\n",
            "Removing gs://nnunet_mr_test01_bucket/1.3.6.1.4.1.14519.5.2.1.7311.5101.327195708817421668047985977557.dcm#1660769712688418...\n",
            "Removing gs://nnunet_mr_test01_bucket/1.3.6.1.4.1.14519.5.2.1.7311.5101.460560317291692899710180514981.dcm#1660769714326032...\n",
            "Removing gs://nnunet_mr_test01_bucket/1.3.6.1.4.1.14519.5.2.1.7311.5101.659858965621597900583204514290.dcm#1660769709674788...\n",
            "Removing gs://nnunet_mr_test01_bucket/1.3.6.1.4.1.14519.5.2.1.7311.5101.664195306896695168613670196431.dcm#1660769707074144...\n",
            "Removing gs://nnunet_mr_test01_bucket/1.3.6.1.4.1.14519.5.2.1.7311.5101.682311503992658593314604303257.dcm#1660769707372880...\n",
            "Removing gs://nnunet_mr_test01_bucket/1.3.6.1.4.1.14519.5.2.1.7311.5101.748495628984755559847403795692.dcm#1660769714790916...\n",
            "Removing gs://nnunet_mr_test01_bucket/1.3.6.1.4.1.14519.5.2.1.7311.5101.837880298903019380035267659540.dcm#1660769705777922...\n",
            "Removing gs://nnunet_mr_test01_bucket/1.3.6.1.4.1.14519.5.2.1.7311.5101.959920807490464182077487985581.dcm#1660769707674767...\n",
            "Removing gs://nnunet_mr_test01_bucket/test_gt_0004_nrrd.dcm#1660769719885286...\n",
            "/ [39/39 objects] 100% Done                                                     \n",
            "Operation completed over 39 objects.                                             \n",
            "Removing gs://nnunet_mr_test01_bucket/...\n",
            "Creating gs://nnunet_mr_test01_bucket/...\n"
          ]
        }
      ],
      "source": [
        "#delete temp bucket\n",
        "!gsutil -m rm -r gs://nnunet_mr_test01_bucket\n",
        "# Create bucket to store SEG PRED -- TEST \n",
        "!gsutil -m mb -p $project_name gs://nnunet_mr_test01_bucket"
      ]
    },
    {
      "cell_type": "markdown",
      "metadata": {
        "id": "MjGhsB5tH7i-"
      },
      "source": [
        "Upload the CT data and the corresponding SR to a bucket"
      ]
    },
    {
      "cell_type": "code",
      "execution_count": 56,
      "metadata": {
        "colab": {
          "base_uri": "https://localhost:8080/"
        },
        "id": "ZZOC0sLIUZtS",
        "outputId": "20c19e58-d612-4392-e1ca-392ed139fd59"
      },
      "outputs": [
        {
          "output_type": "stream",
          "name": "stdout",
          "text": [
            "Copying file:///content/prostatex/dicom/ProstateX-0004/1.3.6.1.4.1.14519.5.2.1.7311.5101.170561193612723093192571245493/1.3.6.1.4.1.14519.5.2.1.7311.5101.206828891270520544417996275680/1.3.6.1.4.1.14519.5.2.1.7311.5101.837880298903019380035267659540.dcm [Content-Type=application/dicom]...\n",
            "/ [0/19 files][    0.0 B/  5.4 MiB]   0% Done                                   \rCopying file:///content/prostatex/dicom/ProstateX-0004/1.3.6.1.4.1.14519.5.2.1.7311.5101.170561193612723093192571245493/1.3.6.1.4.1.14519.5.2.1.7311.5101.206828891270520544417996275680/1.3.6.1.4.1.14519.5.2.1.7311.5101.140871946839917246139835104278.dcm [Content-Type=application/dicom]...\n",
            "/ [0/19 files][    0.0 B/  5.4 MiB]   0% Done                                   \rCopying file:///content/prostatex/dicom/ProstateX-0004/1.3.6.1.4.1.14519.5.2.1.7311.5101.170561193612723093192571245493/1.3.6.1.4.1.14519.5.2.1.7311.5101.206828891270520544417996275680/1.3.6.1.4.1.14519.5.2.1.7311.5101.959920807490464182077487985581.dcm [Content-Type=application/dicom]...\n",
            "/ [0/19 files][    0.0 B/  5.4 MiB]   0% Done                                   \rCopying file:///content/prostatex/dicom/ProstateX-0004/1.3.6.1.4.1.14519.5.2.1.7311.5101.170561193612723093192571245493/1.3.6.1.4.1.14519.5.2.1.7311.5101.206828891270520544417996275680/1.3.6.1.4.1.14519.5.2.1.7311.5101.182502842545423455942100471531.dcm [Content-Type=application/dicom]...\n",
            "/ [0/19 files][    0.0 B/  5.4 MiB]   0% Done                                   \rCopying file:///content/prostatex/dicom/ProstateX-0004/1.3.6.1.4.1.14519.5.2.1.7311.5101.170561193612723093192571245493/1.3.6.1.4.1.14519.5.2.1.7311.5101.206828891270520544417996275680/1.3.6.1.4.1.14519.5.2.1.7311.5101.261549691085116343248768885489.dcm [Content-Type=application/dicom]...\n",
            "Copying file:///content/prostatex/dicom/ProstateX-0004/1.3.6.1.4.1.14519.5.2.1.7311.5101.170561193612723093192571245493/1.3.6.1.4.1.14519.5.2.1.7311.5101.206828891270520544417996275680/1.3.6.1.4.1.14519.5.2.1.7311.5101.682311503992658593314604303257.dcm [Content-Type=application/dicom]...\n",
            "/ [0/19 files][    0.0 B/  5.4 MiB]   0% Done                                   \rCopying file:///content/prostatex/dicom/ProstateX-0004/1.3.6.1.4.1.14519.5.2.1.7311.5101.170561193612723093192571245493/1.3.6.1.4.1.14519.5.2.1.7311.5101.206828891270520544417996275680/1.3.6.1.4.1.14519.5.2.1.7311.5101.664195306896695168613670196431.dcm [Content-Type=application/dicom]...\n",
            "/ [0/19 files][    0.0 B/  5.4 MiB]   0% Done                                   \r/ [0/19 files][    0.0 B/  5.4 MiB]   0% Done                                   \rCopying file:///content/prostatex/dicom/ProstateX-0004/1.3.6.1.4.1.14519.5.2.1.7311.5101.170561193612723093192571245493/1.3.6.1.4.1.14519.5.2.1.7311.5101.206828891270520544417996275680/1.3.6.1.4.1.14519.5.2.1.7311.5101.300323178736669071620524914721.dcm [Content-Type=application/dicom]...\n",
            "Copying file:///content/prostatex/dicom/ProstateX-0004/1.3.6.1.4.1.14519.5.2.1.7311.5101.170561193612723093192571245493/1.3.6.1.4.1.14519.5.2.1.7311.5101.206828891270520544417996275680/1.3.6.1.4.1.14519.5.2.1.7311.5101.191833352947275589281182810323.dcm [Content-Type=application/dicom]...\n",
            "Copying file:///content/prostatex/dicom/ProstateX-0004/1.3.6.1.4.1.14519.5.2.1.7311.5101.170561193612723093192571245493/1.3.6.1.4.1.14519.5.2.1.7311.5101.206828891270520544417996275680/1.3.6.1.4.1.14519.5.2.1.7311.5101.659858965621597900583204514290.dcm [Content-Type=application/dicom]...\n",
            "Copying file:///content/prostatex/dicom/ProstateX-0004/1.3.6.1.4.1.14519.5.2.1.7311.5101.170561193612723093192571245493/1.3.6.1.4.1.14519.5.2.1.7311.5101.206828891270520544417996275680/1.3.6.1.4.1.14519.5.2.1.7311.5101.140661212185680998225449002613.dcm [Content-Type=application/dicom]...\n",
            "Copying file:///content/prostatex/dicom/ProstateX-0004/1.3.6.1.4.1.14519.5.2.1.7311.5101.170561193612723093192571245493/1.3.6.1.4.1.14519.5.2.1.7311.5101.206828891270520544417996275680/1.3.6.1.4.1.14519.5.2.1.7311.5101.105076858500192732229022944010.dcm [Content-Type=application/dicom]...\n",
            "Copying file:///content/prostatex/dicom/ProstateX-0004/1.3.6.1.4.1.14519.5.2.1.7311.5101.170561193612723093192571245493/1.3.6.1.4.1.14519.5.2.1.7311.5101.206828891270520544417996275680/1.3.6.1.4.1.14519.5.2.1.7311.5101.316752744858742170533958373200.dcm [Content-Type=application/dicom]...\n",
            "Copying file:///content/prostatex/dicom/ProstateX-0004/1.3.6.1.4.1.14519.5.2.1.7311.5101.170561193612723093192571245493/1.3.6.1.4.1.14519.5.2.1.7311.5101.206828891270520544417996275680/1.3.6.1.4.1.14519.5.2.1.7311.5101.218124599011631014704397343647.dcm [Content-Type=application/dicom]...\n",
            "Copying file:///content/prostatex/dicom/ProstateX-0004/1.3.6.1.4.1.14519.5.2.1.7311.5101.170561193612723093192571245493/1.3.6.1.4.1.14519.5.2.1.7311.5101.206828891270520544417996275680/1.3.6.1.4.1.14519.5.2.1.7311.5101.284661221440591841105464105673.dcm [Content-Type=application/dicom]...\n",
            "Copying file:///content/prostatex/dicom/ProstateX-0004/1.3.6.1.4.1.14519.5.2.1.7311.5101.170561193612723093192571245493/1.3.6.1.4.1.14519.5.2.1.7311.5101.206828891270520544417996275680/1.3.6.1.4.1.14519.5.2.1.7311.5101.105945183098328980140457962163.dcm [Content-Type=application/dicom]...\n",
            "Copying file:///content/prostatex/dicom/ProstateX-0004/1.3.6.1.4.1.14519.5.2.1.7311.5101.170561193612723093192571245493/1.3.6.1.4.1.14519.5.2.1.7311.5101.206828891270520544417996275680/1.3.6.1.4.1.14519.5.2.1.7311.5101.323118489137350682744971172265.dcm [Content-Type=application/dicom]...\n",
            "Copying file:///content/prostatex/dicom/ProstateX-0004/1.3.6.1.4.1.14519.5.2.1.7311.5101.170561193612723093192571245493/1.3.6.1.4.1.14519.5.2.1.7311.5101.206828891270520544417996275680/1.3.6.1.4.1.14519.5.2.1.7311.5101.223541403251139307210053647239.dcm [Content-Type=application/dicom]...\n",
            "Copying file:///content/prostatex/dicom/ProstateX-0004/1.3.6.1.4.1.14519.5.2.1.7311.5101.170561193612723093192571245493/1.3.6.1.4.1.14519.5.2.1.7311.5101.206828891270520544417996275680/1.3.6.1.4.1.14519.5.2.1.7311.5101.110450510099441729742477232668.dcm [Content-Type=application/dicom]...\n",
            "| [19/19 files][  5.4 MiB/  5.4 MiB] 100% Done                                  \n",
            "Operation completed over 19 objects/5.4 MiB.                                     \n",
            "Copying file:///content/prostatex/dicom/ProstateX-0004/1.3.6.1.4.1.14519.5.2.1.7311.5101.170561193612723093192571245493/1.3.6.1.4.1.14519.5.2.1.7311.5101.278358228783511961204087191158/1.3.6.1.4.1.14519.5.2.1.7311.5101.234828076420742545553100667932.dcm [Content-Type=application/dicom]...\n",
            "Copying file:///content/prostatex/dicom/ProstateX-0004/1.3.6.1.4.1.14519.5.2.1.7311.5101.170561193612723093192571245493/1.3.6.1.4.1.14519.5.2.1.7311.5101.278358228783511961204087191158/1.3.6.1.4.1.14519.5.2.1.7311.5101.748495628984755559847403795692.dcm [Content-Type=application/dicom]...\n",
            "Copying file:///content/prostatex/dicom/ProstateX-0004/1.3.6.1.4.1.14519.5.2.1.7311.5101.170561193612723093192571245493/1.3.6.1.4.1.14519.5.2.1.7311.5101.278358228783511961204087191158/1.3.6.1.4.1.14519.5.2.1.7311.5101.307736047626263019938923665040.dcm [Content-Type=application/dicom]...\n",
            "Copying file:///content/prostatex/dicom/ProstateX-0004/1.3.6.1.4.1.14519.5.2.1.7311.5101.170561193612723093192571245493/1.3.6.1.4.1.14519.5.2.1.7311.5101.278358228783511961204087191158/1.3.6.1.4.1.14519.5.2.1.7311.5101.260167119752072712227387102267.dcm [Content-Type=application/dicom]...\n",
            "Copying file:///content/prostatex/dicom/ProstateX-0004/1.3.6.1.4.1.14519.5.2.1.7311.5101.170561193612723093192571245493/1.3.6.1.4.1.14519.5.2.1.7311.5101.278358228783511961204087191158/1.3.6.1.4.1.14519.5.2.1.7311.5101.188318656153076807319680712693.dcm [Content-Type=application/dicom]...\n",
            "Copying file:///content/prostatex/dicom/ProstateX-0004/1.3.6.1.4.1.14519.5.2.1.7311.5101.170561193612723093192571245493/1.3.6.1.4.1.14519.5.2.1.7311.5101.278358228783511961204087191158/1.3.6.1.4.1.14519.5.2.1.7311.5101.327195708817421668047985977557.dcm [Content-Type=application/dicom]...\n",
            "Copying file:///content/prostatex/dicom/ProstateX-0004/1.3.6.1.4.1.14519.5.2.1.7311.5101.170561193612723093192571245493/1.3.6.1.4.1.14519.5.2.1.7311.5101.278358228783511961204087191158/1.3.6.1.4.1.14519.5.2.1.7311.5101.181409570518037321796014170365.dcm [Content-Type=application/dicom]...\n",
            "Copying file:///content/prostatex/dicom/ProstateX-0004/1.3.6.1.4.1.14519.5.2.1.7311.5101.170561193612723093192571245493/1.3.6.1.4.1.14519.5.2.1.7311.5101.278358228783511961204087191158/1.3.6.1.4.1.14519.5.2.1.7311.5101.159642350602033391658858168188.dcm [Content-Type=application/dicom]...\n",
            "Copying file:///content/prostatex/dicom/ProstateX-0004/1.3.6.1.4.1.14519.5.2.1.7311.5101.170561193612723093192571245493/1.3.6.1.4.1.14519.5.2.1.7311.5101.278358228783511961204087191158/1.3.6.1.4.1.14519.5.2.1.7311.5101.192777861370011354321582424540.dcm [Content-Type=application/dicom]...\n",
            "Copying file:///content/prostatex/dicom/ProstateX-0004/1.3.6.1.4.1.14519.5.2.1.7311.5101.170561193612723093192571245493/1.3.6.1.4.1.14519.5.2.1.7311.5101.278358228783511961204087191158/1.3.6.1.4.1.14519.5.2.1.7311.5101.227902545621922515361072647810.dcm [Content-Type=application/dicom]...\n",
            "Copying file:///content/prostatex/dicom/ProstateX-0004/1.3.6.1.4.1.14519.5.2.1.7311.5101.170561193612723093192571245493/1.3.6.1.4.1.14519.5.2.1.7311.5101.278358228783511961204087191158/1.3.6.1.4.1.14519.5.2.1.7311.5101.253956777520155326930933078248.dcm [Content-Type=application/dicom]...\n",
            "Copying file:///content/prostatex/dicom/ProstateX-0004/1.3.6.1.4.1.14519.5.2.1.7311.5101.170561193612723093192571245493/1.3.6.1.4.1.14519.5.2.1.7311.5101.278358228783511961204087191158/1.3.6.1.4.1.14519.5.2.1.7311.5101.120182904570469180898021983365.dcm [Content-Type=application/dicom]...\n",
            "Copying file:///content/prostatex/dicom/ProstateX-0004/1.3.6.1.4.1.14519.5.2.1.7311.5101.170561193612723093192571245493/1.3.6.1.4.1.14519.5.2.1.7311.5101.278358228783511961204087191158/1.3.6.1.4.1.14519.5.2.1.7311.5101.290263254496442242415913735283.dcm [Content-Type=application/dicom]...\n",
            "Copying file:///content/prostatex/dicom/ProstateX-0004/1.3.6.1.4.1.14519.5.2.1.7311.5101.170561193612723093192571245493/1.3.6.1.4.1.14519.5.2.1.7311.5101.278358228783511961204087191158/1.3.6.1.4.1.14519.5.2.1.7311.5101.259054845141206293094330375872.dcm [Content-Type=application/dicom]...\n",
            "Copying file:///content/prostatex/dicom/ProstateX-0004/1.3.6.1.4.1.14519.5.2.1.7311.5101.170561193612723093192571245493/1.3.6.1.4.1.14519.5.2.1.7311.5101.278358228783511961204087191158/1.3.6.1.4.1.14519.5.2.1.7311.5101.460560317291692899710180514981.dcm [Content-Type=application/dicom]...\n",
            "Copying file:///content/prostatex/dicom/ProstateX-0004/1.3.6.1.4.1.14519.5.2.1.7311.5101.170561193612723093192571245493/1.3.6.1.4.1.14519.5.2.1.7311.5101.278358228783511961204087191158/1.3.6.1.4.1.14519.5.2.1.7311.5101.256937216950403063264814402940.dcm [Content-Type=application/dicom]...\n",
            "Copying file:///content/prostatex/dicom/ProstateX-0004/1.3.6.1.4.1.14519.5.2.1.7311.5101.170561193612723093192571245493/1.3.6.1.4.1.14519.5.2.1.7311.5101.278358228783511961204087191158/1.3.6.1.4.1.14519.5.2.1.7311.5101.326481939917040902941585162198.dcm [Content-Type=application/dicom]...\n",
            "Copying file:///content/prostatex/dicom/ProstateX-0004/1.3.6.1.4.1.14519.5.2.1.7311.5101.170561193612723093192571245493/1.3.6.1.4.1.14519.5.2.1.7311.5101.278358228783511961204087191158/1.3.6.1.4.1.14519.5.2.1.7311.5101.158434971961541833072980878910.dcm [Content-Type=application/dicom]...\n",
            "Copying file:///content/prostatex/dicom/ProstateX-0004/1.3.6.1.4.1.14519.5.2.1.7311.5101.170561193612723093192571245493/1.3.6.1.4.1.14519.5.2.1.7311.5101.278358228783511961204087191158/1.3.6.1.4.1.14519.5.2.1.7311.5101.231256973927847485676442595988.dcm [Content-Type=application/dicom]...\n",
            "\\\n",
            "Operation completed over 19 objects/474.9 KiB.                                   \n",
            "Copying file:///content/test_gt_0004_nifti.dcm [Content-Type=application/dicom]...\n",
            "-\n",
            "Operation completed over 1 objects/803.3 KiB.                                    \n",
            "Copying file:///content/test_gt_0004_nrrd.dcm [Content-Type=application/dicom]...\n",
            "-\n",
            "Operation completed over 1 objects/803.3 KiB.                                    \n"
          ]
        }
      ],
      "source": [
        "# Add MRI T2 and SEG to bucket \n",
        "\n",
        "# MRI T2 \n",
        "!gsutil -m cp -r '/content/prostatex/dicom/ProstateX-0004/1.3.6.1.4.1.14519.5.2.1.7311.5101.170561193612723093192571245493/1.3.6.1.4.1.14519.5.2.1.7311.5101.206828891270520544417996275680/*' gs://nnunet_mr_test01_bucket\n",
        "!gsutil -m cp -r '/content/prostatex/dicom/ProstateX-0004/1.3.6.1.4.1.14519.5.2.1.7311.5101.170561193612723093192571245493/1.3.6.1.4.1.14519.5.2.1.7311.5101.278358228783511961204087191158/*' gs://nnunet_mr_test01_bucket\n",
        "\n",
        "# SEG - DCMQI TEST\n",
        "!gsutil -m cp /content/test_gt_0004_nifti.dcm gs://nnunet_mr_test01_bucket\n",
        "!gsutil -m cp /content/test_gt_0004_nrrd.dcm gs://nnunet_mr_test01_bucket\n",
        "\n",
        "# SEG - PREDS - IDC DCM\n",
        "# !gsutil -m cp /content/prostatex/dicom/ProstateX-0004/1.3.6.1.4.1.14519.5.2.1.7311.5101.170561193612723093192571245493/1.2.276.0.7230010.3.1.3.1070885483.15960.1599120307.701/1.2.276.0.7230010.3.1.4.1070885483.15960.1599120307.702.dcm gs://nnunet_mr_test01_bucket\n"
      ]
    },
    {
      "cell_type": "markdown",
      "metadata": {
        "id": "RjjTnehnINSz"
      },
      "source": [
        "Copy the MR data and SEG from bucket to the dicom datastore we created above. "
      ]
    },
    {
      "cell_type": "code",
      "execution_count": 57,
      "metadata": {
        "colab": {
          "base_uri": "https://localhost:8080/"
        },
        "id": "5PMos8NSU5v5",
        "outputId": "4d307f8c-1294-4f59-d5dd-f940441de619"
      },
      "outputs": [
        {
          "output_type": "stream",
          "name": "stdout",
          "text": [
            "Request issued for: [nnunet_seg_test01_datastore]\n",
            "name: projects/idc-sandbox-003/locations/us-central1/datasets/nnunet_seg_test01/dicomStores/nnunet_seg_test01_datastore\n"
          ]
        }
      ],
      "source": [
        "# Add MRI and SR from bucket to dicomstore \n",
        "\n",
        "!gcloud healthcare dicom-stores import gcs $my_datastore \\\n",
        "                                            --dataset=$my_dataset \\\n",
        "                                            --location=$location_id \\\n",
        "                                            --project=$project_name \\\n",
        "                                            --gcs-uri=gs://nnunet_mr_test01_bucket/**.dcm"
      ]
    },
    {
      "cell_type": "markdown",
      "metadata": {
        "id": "F6RtjwBcRNbm"
      },
      "source": [
        "Navigate to the OHIF app you created and open the DICOM datastore. "
      ]
    }
  ],
  "metadata": {
    "accelerator": "GPU",
    "colab": {
      "collapsed_sections": [],
      "name": "prostateX-patID0004-dcmqi-test.ipynb",
      "provenance": [],
      "include_colab_link": true
    },
    "gpuClass": "standard",
    "kernelspec": {
      "display_name": "Python 3",
      "name": "python3"
    },
    "language_info": {
      "name": "python"
    }
  },
  "nbformat": 4,
  "nbformat_minor": 0
}