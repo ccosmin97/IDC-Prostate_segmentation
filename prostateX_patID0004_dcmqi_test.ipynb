{
  "cells": [
    {
      "cell_type": "markdown",
      "metadata": {
        "id": "view-in-github",
        "colab_type": "text"
      },
      "source": [
        "<a href=\"https://colab.research.google.com/github/ccosmin97/IDC-Prostate_segmentation/blob/main/prostateX_patID0004_dcmqi_test.ipynb\" target=\"_parent\"><img src=\"https://colab.research.google.com/assets/colab-badge.svg\" alt=\"Open In Colab\"/></a>"
      ]
    },
    {
      "cell_type": "markdown",
      "metadata": {
        "id": "Db4ansTyzqZ1"
      },
      "source": [
        "# Auth login"
      ]
    },
    {
      "cell_type": "markdown",
      "metadata": {
        "id": "a8GPDXZW00j5"
      },
      "source": [
        "##Colab"
      ]
    },
    {
      "cell_type": "code",
      "execution_count": 1,
      "metadata": {
        "id": "XSg6W2HXzsoG"
      },
      "outputs": [],
      "source": [
        "#colab \n",
        "from google.colab import auth\n",
        "auth.authenticate_user()"
      ]
    },
    {
      "cell_type": "markdown",
      "metadata": {
        "id": "hYHTAtTsUgdB"
      },
      "source": [
        "# Global variables"
      ]
    },
    {
      "cell_type": "markdown",
      "metadata": {
        "id": "yzDbwBXyvWVr"
      },
      "source": [
        "## Variables used for resampling -- inference -- setup labelID for ground truth segs"
      ]
    },
    {
      "cell_type": "code",
      "execution_count": 2,
      "metadata": {
        "id": "bMsV_GPNvcip"
      },
      "outputs": [],
      "source": [
        "# IDC collection for paths setup\n",
        "collection_name = \"prostatex\" #up to user\n",
        "# ##nnunet\n",
        "# model_type = '3d_fullres'#other options are '2d',..\n",
        "# nnunet_labelID = 2 #for task005 model, labelid=1 means PZ and 2 means TZ\n",
        "# ##labelID seg retrieval\n",
        "# ground_truth_cat_CodeMeaning = 'Anatomical Structure'\n",
        "# ground_truth_type_CodeMeaning = 'Transition zone of prostate'\n",
        "# #Resampling scheme -- this option is made for qin-rep-repeatability(SeriesDescription tag dependence,etc), not modular for other collections with multi modal inference input\n",
        "# desired_grid = \"T2\" #Other option is \"ADC\"  -- resampling grid because multi-modal input for inference input \n",
        "# series_desc_resampling_pattern = \"t2_tse_tra\""
      ]
    },
    {
      "cell_type": "markdown",
      "metadata": {
        "id": "uMtYZyHU7pIq"
      },
      "source": [
        "## Global paths"
      ]
    },
    {
      "cell_type": "code",
      "execution_count": 3,
      "metadata": {
        "id": "ZC_bUbUTUgBs"
      },
      "outputs": [],
      "source": [
        "import os \n",
        "\n",
        "#data\n",
        "os.environ[\"qin_prostate_rep_root\"] = os.path.join(os.getcwd(), collection_name)\n",
        "os.environ[\"dcm_metadata_json\"] = os.path.join(os.getcwd(), \"preds_task005_prostatex_metadata.json\")\n",
        "os.environ[\"qin_prostate_rep_dicom\"] = os.path.join(os.environ[\"qin_prostate_rep_root\"], \"dicom\")\n",
        "os.environ[\"qin_prostate_rep_nii\"] = os.path.join(os.environ[\"qin_prostate_rep_root\"], \"nii\")\n",
        "os.environ[\"qin_prostate_rep_nrrd\"] = os.path.join(os.environ[\"qin_prostate_rep_root\"], \"nrrd\")\n",
        "os.environ[\"qin_prostate_rep_analysis\"] = os.path.join(os.environ[\"qin_prostate_rep_root\"], \"results\")\n",
        "os.environ[\"qin_prostate_rep_analysis_data\"] = os.path.join(os.environ[\"qin_prostate_rep_analysis\"], \"data_seg\")\n",
        "os.environ[\"qin_prostate_rep_analysis_verbose\"] = os.path.join(os.environ[\"qin_prostate_rep_root\"], \"results_verbose\")\n",
        "#dicom segs\n",
        "os.environ[\"qin_prostate_rep_data_dcm_segs\"] = os.path.join(os.environ[\"qin_prostate_rep_root\"], \"data_seg_dcm\")\n",
        "\n",
        "\n",
        "#resampled data -- To t2 mod\n",
        "os.environ[\"qin_prostate_rep_root_resampled\"] = os.path.join(os.environ[\"qin_prostate_rep_root\"], \"resampled\")\n",
        "os.environ[\"qin_prostate_rep_nii_resampled\"] = os.path.join(os.environ[\"qin_prostate_rep_root_resampled\"], \"nii\")\n",
        "os.environ[\"qin_prostate_rep_nrrd_resampled\"] = os.path.join(os.environ[\"qin_prostate_rep_root_resampled\"], \"nrrd\")\n",
        "\n",
        "#misc\n",
        "os.environ[\"IDC_Downloads\"] = os.path.join(os.getcwd(), \"IDC_DL\")\n",
        "os.environ[\"IDC_Downloads_Sorted\"] = os.path.join(os.getcwd(), \"IDC_DL\", \"Sorted\")\n",
        "os.environ[\"logs\"] = os.path.join(os.getcwd(), \"logs\")\n",
        "\n",
        "#create dirs for specific folders names\n",
        "for key, path in os.environ.items():\n",
        "  check_patterns = [True for el in [\"qin\", \"nnunet\", \"IDC\", \"nnUNet\", \"logs\"] if el in key]\n",
        "  if True in check_patterns:\n",
        "    !mkdir -p $path"
      ]
    },
    {
      "cell_type": "markdown",
      "metadata": {
        "id": "y1ZYYVPHz_xm"
      },
      "source": [
        "# Setup GCP Project ID"
      ]
    },
    {
      "cell_type": "code",
      "execution_count": 4,
      "metadata": {
        "id": "g1EN9Dnz0CU4"
      },
      "outputs": [],
      "source": [
        "project_id = \"idc-sandbox-003\"\n",
        "os.environ[\"GCP_PROJECT_ID\"] = project_id"
      ]
    },
    {
      "cell_type": "markdown",
      "metadata": {
        "id": "eRtmCas7dT6D"
      },
      "source": [
        "# Setup of the Colab VM\n",
        "\n",
        "\n",
        "\n",
        "In the following cells we will confirm you have a GPU before doing anything else, and will install and import all the Python dependencies. \n",
        "\n",
        "The main python packages we need to install are:\n",
        "* `nnunet` - which is the [codebase for the nn-UNet framework](https://github.com/MIC-DKFZ/nnUNet) we are going to be using for the segmentation step;\n",
        "* `pydicom`, a Python [package](https://github.com/pydicom/pydicom) that lets the use read, modify, and write DICOM data in an easy \"pythonic\" way - that we are going to use to distinguish different DICOM objects from each other."
      ]
    },
    {
      "cell_type": "markdown",
      "metadata": {
        "id": "zLvysANUArnm"
      },
      "source": [
        "## GPU checks"
      ]
    },
    {
      "cell_type": "markdown",
      "metadata": {
        "id": "ZJhwBz2ABT_p"
      },
      "source": [
        "## Environment Setup\n",
        "\n",
        "Here we will configure the Linux environment variables needed to run the nnU-Net pipeline. \n",
        "\n",
        "Three main variables are needed by default to run the nnU-Net segmentation pipelines:\n",
        "* `nnUNet_raw_data_base` is the path to the folder where the segmentation pipeline expects to find the data to process;\n",
        "* `nnUNet_preprocessed` is the path to the folder where the preprocessed data are saved;\n",
        "* `RESULTS_FOLDER` is the path to the folder storing by default the model weights and, in our case, for simplicity, the segmentation masks produced by the pipeline.\n",
        "\n",
        "We will use the additional variable `PATH_TO_MODEL_FILE` to point to the location where the pre-trained model weights for the chosen model will be stored (more on this later).\n",
        "\n",
        "Please notice that these variables need to be set using `os.environ[]` in Google Colab - as `!export` is not sufficient to guarantee the variables are kept from one cell to the other. For more in-depth information regarding what the nnU-Net framework uses these folders for, please visit [the dedicated nnU-Net documentation page](https://github.com/MIC-DKFZ/nnUNet/blob/master/documentation/setting_up_paths.md)"
      ]
    },
    {
      "cell_type": "markdown",
      "metadata": {
        "id": "40E3HnI5A0SX"
      },
      "source": [
        "## Install command-line tools\n",
        "\n",
        "\n",
        "[Plastimatch](https://plastimatch.org/index.html) is considered to be the swiss army knife of medical images processing: we will use it to convert DICOM (CT, RTSTRUCT) series to NRRD files - but it can be used for a multitude of other tasks, such as registration, resampling, cropping, and computing statistics to name a few. Plastimatch is also available as a 3DSlicer plug-in and can be used directly from the Slicer GUI.\n",
        "\n",
        "For the sake of clarity and simplicity, we will call Plastimatch from a very simple [Python wrapper](https://github.com/denbonte/pyplastimatch) written for the occasion (unfortunately, Plastimatch does not provide an official one)."
      ]
    },
    {
      "cell_type": "code",
      "execution_count": 5,
      "metadata": {
        "id": "ZZL6-ByHA7XY"
      },
      "outputs": [],
      "source": [
        "%%capture\n",
        "!sudo apt update\n",
        "\n",
        "!sudo apt install plastimatch"
      ]
    },
    {
      "cell_type": "code",
      "execution_count": 6,
      "metadata": {
        "colab": {
          "base_uri": "https://localhost:8080/"
        },
        "id": "LMovHnKgBEfC",
        "outputId": "4df881e8-49d5-4d52-a4e9-82eb8b45eedc"
      },
      "outputs": [
        {
          "output_type": "stream",
          "name": "stdout",
          "text": [
            "plastimatch version 1.7.0\n"
          ]
        }
      ],
      "source": [
        "!echo $(plastimatch --version)"
      ]
    },
    {
      "cell_type": "markdown",
      "metadata": {
        "id": "K_8zlhmdo0HD"
      },
      "source": [
        "[dcmqi](https://github.com/QIICR/dcmqi) is an open source library that can help with the conversion between imaging research formats and the standard DICOM representation for image analysis results. More specifically, you can use dcmqi convert DICOM Segmentation objects (DICOM SEG) into research formats, such as NIfTI and NRRD."
      ]
    },
    {
      "cell_type": "code",
      "execution_count": 7,
      "metadata": {
        "id": "KAkmz4jApGh8"
      },
      "outputs": [],
      "source": [
        "%%capture\n",
        "!wget https://github.com/QIICR/dcmqi/releases/download/v1.2.5/dcmqi-1.2.5-linux.tar.gz \n",
        "!tar zxvf dcmqi-1.2.5-linux.tar.gz\n",
        "!cp dcmqi-1.2.5-linux/bin/* /usr/local/bin/"
      ]
    },
    {
      "cell_type": "markdown",
      "metadata": {
        "id": "fFRWendbBH72"
      },
      "source": [
        "Finally, we are going to install [Subversion](https://subversion.apache.org/), a tool that will allow us to clone GitHub repositories only partially (to save time and space)."
      ]
    },
    {
      "cell_type": "code",
      "execution_count": 8,
      "metadata": {
        "id": "YBEJRe-2BKah"
      },
      "outputs": [],
      "source": [
        "%%capture\n",
        "\n",
        "!sudo apt install subversion"
      ]
    },
    {
      "cell_type": "code",
      "execution_count": 9,
      "metadata": {
        "colab": {
          "base_uri": "https://localhost:8080/"
        },
        "id": "WI1_BixWBN1O",
        "outputId": "e3382929-3d04-433d-b3c7-7477a9cd8a23"
      },
      "outputs": [
        {
          "output_type": "stream",
          "name": "stdout",
          "text": [
            "svn, version 1.9.7 (r1800392) compiled May 21 2022, 07:24:25 on x86_64-pc-linux-gnu\n"
          ]
        }
      ],
      "source": [
        "!echo $(svn --version | head -n 2)"
      ]
    },
    {
      "cell_type": "markdown",
      "metadata": {
        "id": "0Ev-JlpCAuMs"
      },
      "source": [
        "## Install Python packages"
      ]
    },
    {
      "cell_type": "code",
      "execution_count": 10,
      "metadata": {
        "id": "7XMzq-8nRvKd"
      },
      "outputs": [],
      "source": [
        "%%capture\n",
        "!pip install pydicom\n",
        "!pip install nibabel\n",
        "!pip install pydicom-seg"
      ]
    },
    {
      "cell_type": "markdown",
      "metadata": {
        "id": "62yhEkkjITzn"
      },
      "source": [
        "Unpack and install model we downloaded earlier (under `PATH_TO_MODEL_FILE`). This step can take about 1-2 minutes."
      ]
    },
    {
      "cell_type": "markdown",
      "metadata": {
        "id": "BP1tahM9tzlm"
      },
      "source": [
        "Next we set up few things to help with visualization of the segmentations later."
      ]
    },
    {
      "cell_type": "code",
      "execution_count": 11,
      "metadata": {
        "id": "cURjj8rzAa2L"
      },
      "outputs": [],
      "source": [
        "import os\n",
        "import sys\n",
        "import shutil\n",
        "import csv\n",
        "import random\n",
        "\n",
        "import os\n",
        "import glob\n",
        "import csv\n",
        "import json\n",
        "\n",
        "import pydicom\n",
        "import pydicom_seg\n",
        "import SimpleITK as sitk\n",
        "\n",
        "import nibabel as nib\n",
        "\n",
        "import time\n",
        "import gdown\n",
        "\n",
        "import json\n",
        "import pprint\n",
        "import numpy as np\n",
        "import pandas as pd\n",
        "\n",
        "import pydicom\n",
        "import nibabel as nib\n",
        "import SimpleITK as sitk"
      ]
    },
    {
      "cell_type": "code",
      "execution_count": 12,
      "metadata": {
        "colab": {
          "base_uri": "https://localhost:8080/"
        },
        "id": "UrAh2kjqb2Be",
        "outputId": "05e4b16b-c9d7-4c36-df78-917d03c19bca"
      },
      "outputs": [
        {
          "output_type": "stream",
          "name": "stdout",
          "text": [
            "A    pyplastimatch/__init__.py\n",
            "A    pyplastimatch/pyplastimatch.py\n",
            "A    pyplastimatch/utils\n",
            "A    pyplastimatch/utils/__init__.py\n",
            "A    pyplastimatch/utils/data.py\n",
            "A    pyplastimatch/utils/eval.py\n",
            "A    pyplastimatch/utils/viz.py\n",
            "Checked out revision 18.\n"
          ]
        }
      ],
      "source": [
        "# PyPlastimatch - python wrapper for Plastimatch (and interactive notebook visualisation)\n",
        "!svn checkout https://github.com/AIM-Harvard/pyplastimatch/trunk/pyplastimatch pyplastimatch"
      ]
    },
    {
      "cell_type": "code",
      "execution_count": 13,
      "metadata": {
        "colab": {
          "base_uri": "https://localhost:8080/"
        },
        "id": "GsePTNBmM9sw",
        "outputId": "4eebaa8c-66b1-4f84-e237-1cc0a1f2cce6"
      },
      "outputs": [
        {
          "output_type": "stream",
          "name": "stdout",
          "text": [
            "Cloning into 'dicomsort'...\n",
            "remote: Enumerating objects: 130, done.\u001b[K\n",
            "remote: Counting objects: 100% (4/4), done.\u001b[K\n",
            "remote: Compressing objects: 100% (4/4), done.\u001b[K\n",
            "remote: Total 130 (delta 0), reused 1 (delta 0), pack-reused 126\u001b[K\n",
            "Receiving objects: 100% (130/130), 44.12 KiB | 2.59 MiB/s, done.\n",
            "Resolving deltas: 100% (63/63), done.\n"
          ]
        }
      ],
      "source": [
        "# dicomsort is the pythong package that can sort DICOM files into\n",
        "# folder organization based on user-specified DICOM attributes\n",
        "!git clone https://github.com/pieper/dicomsort.git"
      ]
    },
    {
      "cell_type": "code",
      "execution_count": 14,
      "metadata": {
        "id": "0s9aRassGOQ_"
      },
      "outputs": [],
      "source": [
        "from pyplastimatch import pyplastimatch as pypla\n",
        "from pyplastimatch.utils import viz as viz_utils\n",
        "from pyplastimatch.utils import data as data_utils"
      ]
    },
    {
      "cell_type": "markdown",
      "metadata": {
        "id": "Duil1tviGWaG"
      },
      "source": [
        "# Data selection, downloading and structuring\n",
        "\n",
        "We want to select here the collection named qin-prostate repeatibility, and more particularly the two timepoints per patient ID for further analysis."
      ]
    },
    {
      "cell_type": "markdown",
      "metadata": {
        "id": "naJ5OAKZnZpG"
      },
      "source": [
        "In order to use data hosted by IDC effectively, you will need to utilize metadata to navigate what data is available and to select specific files that are relevant in your analysis. The main metadata table you will need for this purpose is the [`bigquery-public-data.idc_current.dicom_all`](https://console.cloud.google.com/bigquery?p=bigquery-public-data&d=idc_current&t=dicom_all&page=table) table.\n",
        "\n",
        "This query has one row per file hosted by IDC. All of IDC data is in DICOM format, and each of the rows in this table will have all of the DICOM attributes extracted from a given file. It will also have various columns containing non-DICOM metadata, such as the name of the collection where the file is included, size of the file, and URL that can be used to retrieve that file.\n",
        "\n",
        "To query IDC BigQuery tables, you can use one of the following approaches:\n",
        "1. `%%bigquery` magic will allow you to define your query in plain SQL, and load the result of the query into a Pandas dataframe.\n",
        "2. [BigQuery Python API](https://googleapis.dev/python/bigquery/latest/index.html) is more flexible in allowing you to parameterize your query.\n",
        "3. [Google Cloud BigQuery console](https://console.cloud.google.com/bigquery) is very convenient for interactive query exploration of tables.\n",
        "4. [`gcloud bq`](https://cloud.google.com/bigquery/docs/bq-command-line-tool) is the command line tool that comes as part of [Cloud SDK](https://cloud.google.com/sdk) and is convenient for scripting interactions from the shell. Cloud SDK is preinstalled on Colab.\n",
        "\n",
        "In the following cells we will utilize `%%bigquery`, Python BigQuery SDK and BigQuery console for working with IDC BigQuery tables.\n",
        "\n",
        "First, to verify that you are authenticated, and your project ID is working, let's run a test query against IDC BigQuery table to get the summary statistics about the  of data available in IDC.\n"
      ]
    },
    {
      "cell_type": "markdown",
      "metadata": {
        "id": "t9YKMGVvVZX_"
      },
      "source": [
        "Given `SeriesInstanceUID` value identifying the image series, we can query the IDC metadata table to get the list of files (defined by the Google Storage URLs) corresponding to this series.\n",
        "\n",
        "All of the DICOM metadata for each of the DICOM files is available in the BigQuery table we will be querying. We will get not just the `gcs_url`, but also identifiers for the Study, Series and Instance, to better understand organization of data, and since `StudyInstanceUID` will be handy later when we get to the visualization of the data."
      ]
    },
    {
      "cell_type": "markdown",
      "metadata": {
        "id": "7INoX4rgTp7O"
      },
      "source": [
        "## Data selection -- BigQuery"
      ]
    },
    {
      "cell_type": "markdown",
      "metadata": {
        "id": "jfDSklhyFWpa"
      },
      "source": [
        "Explanation"
      ]
    },
    {
      "cell_type": "code",
      "execution_count": 15,
      "metadata": {
        "id": "joRbZ81GWNz1"
      },
      "outputs": [],
      "source": [
        "from google.cloud import bigquery\n",
        "bq_client = bigquery.Client(os.environ[\"GCP_PROJECT_ID\"])\n",
        "selection_query = f\"\"\"\n",
        "WITH\n",
        "# studies that have mr volumes\n",
        "mr_studies AS(\n",
        "  SELECT\n",
        "    dicom_all_mr.SOPInstanceUID as SOPInstanceUID, \n",
        "    dicom_all_mr.StudyInstanceUID as StudyInstanceUID,\n",
        "    '' AS segPropertyTypeCodeMeaning, \n",
        "    '' AS segPropertyCategoryCodeMeaning \n",
        "  FROM\n",
        "    `bigquery-public-data.idc_v9.dicom_all` as dicom_all_mr\n",
        "  WHERE\n",
        "    Modality = 'MR'\n",
        "    AND collection_id = 'prostatex'\n",
        "    AND  REGEXP_CONTAINS(SeriesDescription, r\".*t2_tse_tra.*|.*ADC.*\")),\n",
        "-- ),\n",
        "\n",
        " \n",
        "# studies that have segmentations for the whole prostate\n",
        "seg_studies AS (\n",
        "SELECT\n",
        "  dicom_all_seg.SOPInstanceUID as SOPInstanceUID,\n",
        "  dicom_all_seg.StudyInstanceUID as StudyInstanceUID,\n",
        "  segmentations.SegmentedPropertyType.CodeMeaning as segPropertyTypeCodeMeaning,\n",
        "  segmentations.SegmentedPropertyCategory.CodeMeaning as segPropertyCategoryCodeMeaning\n",
        "\n",
        "FROM\n",
        "  `bigquery-public-data.idc_v9.dicom_all` AS dicom_all_seg\n",
        "JOIN\n",
        "  `bigquery-public-data.idc_v9.segmentations` AS segmentations\n",
        "ON\n",
        "  dicom_all_seg.SOPInstanceUID = segmentations.SOPInstanceUID\n",
        "WHERE\n",
        "  collection_id = \"prostatex\"\n",
        "AND \n",
        "  REGEXP_CONTAINS(segmentations.SegmentedPropertyType.CodeMeaning, r\".*Transition zone of.*\")\n",
        "AND \n",
        "  segmentations.SegmentedPropertyCategory.CodeMeaning = 'Anatomical Structure'),\n",
        "\n",
        "union_mr_seg AS(\n",
        "  SELECT\n",
        "    mr_studies.SOPInstanceUID, \n",
        "    mr_studies.segPropertyTypeCodeMeaning, \n",
        "    mr_studies.segPropertyCategoryCodeMeaning, \n",
        "  FROM \n",
        "    mr_studies\n",
        "  JOIN\n",
        "    seg_studies\n",
        "  ON\n",
        "    mr_studies.StudyInstanceUID = seg_studies.StudyInstanceUID\n",
        "  UNION ALL\n",
        "  SELECT\n",
        "    seg_studies.SOPInstanceUID, \n",
        "    seg_studies.segPropertyTypeCodeMeaning, \n",
        "    seg_studies.segPropertyCategoryCodeMeaning, \n",
        "  FROM \n",
        "    seg_studies)\n",
        "\n",
        "SELECT \n",
        "  DISTINCT(dc_all.SOPInstanceUID),\n",
        "  dc_all.gcs_url,\n",
        "  dc_all.SeriesInstanceUID, \n",
        "  dc_all.StudyInstanceUID,  \n",
        "  dc_all.PatientID,\n",
        "  dc_all.Modality, \n",
        "  dc_all.SeriesDescription,\n",
        "  union_mr_seg.segPropertyTypeCodeMeaning,\n",
        "  union_mr_seg.segPropertyCategoryCodeMeaning,\n",
        "  (SELECT SeriesInstanceUID FROM UNNEST(dc_all.ReferencedSeriesSequence)) AS RefSerieUID \n",
        "FROM \n",
        "  `bigquery-public-data.idc_v9.dicom_all` as dc_all\n",
        "INNER JOIN\n",
        "  union_mr_seg\n",
        "ON \n",
        "  dc_all.SOPInstanceUID = union_mr_seg.SOPInstanceUID\"\"\""
      ]
    },
    {
      "cell_type": "code",
      "execution_count": 16,
      "metadata": {
        "id": "j1PtIeNJ8Qf7"
      },
      "outputs": [],
      "source": [
        "selection_result = bq_client.query(selection_query)\n",
        "selection_df = selection_result.result().to_dataframe()"
      ]
    },
    {
      "cell_type": "code",
      "execution_count": 17,
      "metadata": {
        "colab": {
          "base_uri": "https://localhost:8080/"
        },
        "id": "G5fMPktZHTC8",
        "outputId": "03078c3c-a4f8-46ee-9e4e-f5f28a57af53"
      },
      "outputs": [
        {
          "output_type": "execute_result",
          "data": {
            "text/plain": [
              "array(['t2_tse_tra', 'ep2d_diff_tra_DYNDIST_MIX_ADC', 'Segmentation',\n",
              "       'ep2d_diff_tra_DYNDIST_ADC', 'diffusie-3Scan-4bval_fs_ADC',\n",
              "       'ep2d_DIFF_tra_b50_500_800_1400_alle_spoelen_ADC',\n",
              "       'diff tra b 50 500 800 WIP511b alle spoelen_ADC'], dtype=object)"
            ]
          },
          "metadata": {},
          "execution_count": 17
        }
      ],
      "source": [
        "selection_df.SeriesDescription.unique()"
      ]
    },
    {
      "cell_type": "markdown",
      "metadata": {
        "id": "4Ue28ORXQNJ8"
      },
      "source": [
        "### Filter t2 and ADC series corresponding to correct seg"
      ]
    },
    {
      "cell_type": "code",
      "execution_count": 18,
      "metadata": {
        "id": "HRS5zK0y8c_C"
      },
      "outputs": [],
      "source": [
        "ref_seg_vals = selection_df.RefSerieUID.dropna().values\n",
        "#first retrieve t2 seriesUID that have segs\n",
        "t2_seg = selection_df[(selection_df.SeriesInstanceUID.isin(ref_seg_vals)) & (selection_df.Modality == 'MR')]\n",
        "#retrieve others serieUID, probably only ADCs\n",
        "adc_series = selection_df[(selection_df.StudyInstanceUID.isin(t2_seg.StudyInstanceUID.dropna().values)) & (selection_df.Modality == 'MR') & (selection_df.SeriesDescription.str.contains('ADC', regex=False))]\n",
        "#retrieve segs serieUID\n",
        "seg_series = selection_df[selection_df.Modality == 'SEG']\n",
        "#merge everything back\n",
        "selection_df = selection_df[selection_df.SeriesInstanceUID.isin(list(t2_seg.SeriesInstanceUID.values)+list(adc_series.SeriesInstanceUID.values)+list(seg_series.SeriesInstanceUID.values))]"
      ]
    },
    {
      "cell_type": "code",
      "execution_count": 19,
      "metadata": {
        "colab": {
          "base_uri": "https://localhost:8080/"
        },
        "id": "ApjufJZjVkX1",
        "outputId": "1a1349cd-83a9-4e5b-a90e-381d6f6bb256"
      },
      "outputs": [
        {
          "output_type": "stream",
          "name": "stdout",
          "text": [
            "<class 'pandas.core.frame.DataFrame'>\n",
            "Int64Index: 4082 entries, 0 to 4369\n",
            "Data columns (total 10 columns):\n",
            " #   Column                          Non-Null Count  Dtype \n",
            "---  ------                          --------------  ----- \n",
            " 0   SOPInstanceUID                  4082 non-null   object\n",
            " 1   gcs_url                         4082 non-null   object\n",
            " 2   SeriesInstanceUID               4082 non-null   object\n",
            " 3   StudyInstanceUID                4082 non-null   object\n",
            " 4   PatientID                       4082 non-null   object\n",
            " 5   Modality                        4082 non-null   object\n",
            " 6   SeriesDescription               4082 non-null   object\n",
            " 7   segPropertyTypeCodeMeaning      4082 non-null   object\n",
            " 8   segPropertyCategoryCodeMeaning  4082 non-null   object\n",
            " 9   RefSerieUID                     98 non-null     object\n",
            "dtypes: object(10)\n",
            "memory usage: 350.8+ KB\n"
          ]
        }
      ],
      "source": [
        "selection_df.info()"
      ]
    },
    {
      "cell_type": "code",
      "execution_count": 20,
      "metadata": {
        "colab": {
          "base_uri": "https://localhost:8080/"
        },
        "id": "FsStkQXmWKH0",
        "outputId": "0a97c3a3-3fc8-4bcd-aaa3-f6b5c466882c"
      },
      "outputs": [
        {
          "output_type": "execute_result",
          "data": {
            "text/plain": [
              "array(['ProstateX-0004', 'ProstateX-0007', 'ProstateX-0009',\n",
              "       'ProstateX-0012', 'ProstateX-0015', 'ProstateX-0020',\n",
              "       'ProstateX-0026', 'ProstateX-0029', 'ProstateX-0031',\n",
              "       'ProstateX-0033', 'ProstateX-0039', 'ProstateX-0044',\n",
              "       'ProstateX-0046', 'ProstateX-0054', 'ProstateX-0056',\n",
              "       'ProstateX-0059', 'ProstateX-0060', 'ProstateX-0065',\n",
              "       'ProstateX-0066', 'ProstateX-0069', 'ProstateX-0070',\n",
              "       'ProstateX-0072', 'ProstateX-0076', 'ProstateX-0080',\n",
              "       'ProstateX-0083', 'ProstateX-0084', 'ProstateX-0089',\n",
              "       'ProstateX-0090', 'ProstateX-0094', 'ProstateX-0096',\n",
              "       'ProstateX-0102', 'ProstateX-0104', 'ProstateX-0107',\n",
              "       'ProstateX-0110', 'ProstateX-0111', 'ProstateX-0112',\n",
              "       'ProstateX-0117', 'ProstateX-0118', 'ProstateX-0120',\n",
              "       'ProstateX-0121', 'ProstateX-0125', 'ProstateX-0129',\n",
              "       'ProstateX-0130', 'ProstateX-0134', 'ProstateX-0136',\n",
              "       'ProstateX-0141', 'ProstateX-0142', 'ProstateX-0144',\n",
              "       'ProstateX-0146', 'ProstateX-0150', 'ProstateX-0154',\n",
              "       'ProstateX-0156', 'ProstateX-0161', 'ProstateX-0162',\n",
              "       'ProstateX-0166', 'ProstateX-0168', 'ProstateX-0170',\n",
              "       'ProstateX-0176', 'ProstateX-0177', 'ProstateX-0180',\n",
              "       'ProstateX-0182', 'ProstateX-0183', 'ProstateX-0184',\n",
              "       'ProstateX-0188', 'ProstateX-0190', 'ProstateX-0193',\n",
              "       'ProstateX-0196', 'ProstateX-0198', 'ProstateX-0199',\n",
              "       'ProstateX-0201', 'ProstateX-0209', 'ProstateX-0217',\n",
              "       'ProstateX-0219', 'ProstateX-0227', 'ProstateX-0234',\n",
              "       'ProstateX-0238', 'ProstateX-0239', 'ProstateX-0241',\n",
              "       'ProstateX-0244', 'ProstateX-0249', 'ProstateX-0251',\n",
              "       'ProstateX-0254', 'ProstateX-0265', 'ProstateX-0275',\n",
              "       'ProstateX-0283', 'ProstateX-0288', 'ProstateX-0293',\n",
              "       'ProstateX-0296', 'ProstateX-0297', 'ProstateX-0304',\n",
              "       'ProstateX-0309', 'ProstateX-0311', 'ProstateX-0320',\n",
              "       'ProstateX-0323', 'ProstateX-0331', 'ProstateX-0332',\n",
              "       'ProstateX-0334', 'ProstateX-0340'], dtype=object)"
            ]
          },
          "metadata": {},
          "execution_count": 20
        }
      ],
      "source": [
        "selection_df.PatientID.unique()"
      ]
    },
    {
      "cell_type": "markdown",
      "metadata": {
        "id": "SjrQmHbKLykY"
      },
      "source": [
        "## Pick a PatientID"
      ]
    },
    {
      "cell_type": "code",
      "execution_count": 21,
      "metadata": {
        "id": "Z-yQD4HnnaYA"
      },
      "outputs": [],
      "source": [
        "# # #random PatientID selection\n",
        "# patientID_select = random.sample(list(selection_df.PatientID.values), 1)#X randomly picked PatientIDs \n",
        "\n",
        "# static PatientID selection\n",
        "patientID_select = [\"ProstateX-0004\"]\n",
        "\n",
        "selection_df = selection_df[selection_df.PatientID.isin(patientID_select)]"
      ]
    },
    {
      "cell_type": "code",
      "execution_count": 22,
      "metadata": {
        "colab": {
          "base_uri": "https://localhost:8080/"
        },
        "id": "SBxWO9GlPVT5",
        "outputId": "25ff45a9-7783-4509-c627-127a89dc55a4"
      },
      "outputs": [
        {
          "output_type": "execute_result",
          "data": {
            "text/plain": [
              "array(['t2_tse_tra', 'ep2d_diff_tra_DYNDIST_MIX_ADC', 'Segmentation'],\n",
              "      dtype=object)"
            ]
          },
          "metadata": {},
          "execution_count": 22
        }
      ],
      "source": [
        "selection_df.SeriesDescription.unique()"
      ]
    },
    {
      "cell_type": "markdown",
      "metadata": {
        "id": "NOtsKTg8TvCG"
      },
      "source": [
        "## Download gcs urls into dcm files and sorting  "
      ]
    },
    {
      "cell_type": "code",
      "execution_count": 23,
      "metadata": {
        "id": "X4YXrk6PIkJe"
      },
      "outputs": [],
      "source": [
        "# save the list of GCS URLs into a file\n",
        "selection_manifest = os.path.join(os.environ[\"IDC_Downloads\"], \"idc_manifest.txt\")\n",
        "selection_df[\"gcs_url\"].to_csv(selection_manifest, header=False, index=False)"
      ]
    },
    {
      "cell_type": "code",
      "execution_count": 24,
      "metadata": {
        "colab": {
          "base_uri": "https://localhost:8080/"
        },
        "id": "mIKSKvW8mdsN",
        "outputId": "11c849ca-6ce7-45c8-e0c9-815863564f82"
      },
      "outputs": [
        {
          "output_type": "stream",
          "name": "stdout",
          "text": [
            "     39      39    2574\n"
          ]
        }
      ],
      "source": [
        "# confirm the resulting manifest has as many lines as the number of rows in the\n",
        "# dataframe we initialized earlier\n",
        "!cat {selection_manifest} |wc"
      ]
    },
    {
      "cell_type": "code",
      "execution_count": 25,
      "metadata": {
        "id": "KdZSVftdjFPl"
      },
      "outputs": [],
      "source": [
        "# let's make sure the download folder is clean, in case you ran this cell earlier\n",
        "# for a different dataset\n",
        "!rm -rf {os.environ[\"IDC_Downloads\"]+\"/*.dcm\"}"
      ]
    },
    {
      "cell_type": "code",
      "execution_count": 26,
      "metadata": {
        "id": "6ydwu1tSYScJ"
      },
      "outputs": [],
      "source": [
        "# download is this simple!\n",
        "%%capture\n",
        "\n",
        "!cat {selection_manifest} | gsutil -m cp -I {os.environ[\"IDC_Downloads\"]}"
      ]
    },
    {
      "cell_type": "markdown",
      "metadata": {
        "id": "ZvlSBfPRdRpz"
      },
      "source": [
        "To facilitate preparation of the data, we will sort the downloaded files into the PatientID/StudyInstanceUID/SeriesInstanceUID hierarchy."
      ]
    },
    {
      "cell_type": "code",
      "execution_count": 27,
      "metadata": {
        "id": "q9aVI7qAbaT0",
        "colab": {
          "base_uri": "https://localhost:8080/"
        },
        "outputId": "24e4ca51-d03d-44c8-e6c3-45596bb650e7"
      },
      "outputs": [
        {
          "output_type": "stream",
          "name": "stdout",
          "text": [
            "100% 40/40 [00:00<00:00, 85.40it/s]\n",
            "Files sorted\n"
          ]
        }
      ],
      "source": [
        "!python dicomsort/dicomsort.py -k -u {os.environ[\"IDC_Downloads\"]} {os.environ[\"IDC_Downloads_Sorted\"]}/%PatientID/%StudyInstanceUID/%SeriesInstanceUID/%SOPInstanceUID.dcm"
      ]
    },
    {
      "cell_type": "markdown",
      "metadata": {
        "id": "ewcZsa1rzKHi"
      },
      "source": [
        "Move the sorted data into the right place"
      ]
    },
    {
      "cell_type": "code",
      "execution_count": 28,
      "metadata": {
        "id": "DZ_LAvUGEGxj"
      },
      "outputs": [],
      "source": [
        "rm -rf {os.environ[\"qin_prostate_rep_dicom\"]+\"/*\"}* && mv {os.environ[\"IDC_Downloads_Sorted\"]+\"/*\"} {os.environ[\"qin_prostate_rep_dicom\"]}"
      ]
    },
    {
      "cell_type": "markdown",
      "metadata": {
        "id": "4Z5QylRmj9gw"
      },
      "source": [
        "#Pre-Processing\n",
        "\n",
        "Dicom files are assumed to be sorted this way for further processing :\n",
        "\n",
        "* PatientID\n",
        "  * StudyUID\n",
        "    * SeriesUID\n",
        "      * *.dcm file(s)"
      ]
    },
    {
      "cell_type": "markdown",
      "metadata": {
        "id": "ZxaZ6eMwQVOb"
      },
      "source": [
        "## conversion methods"
      ]
    },
    {
      "cell_type": "markdown",
      "metadata": {
        "id": "f2B-4nymgk5I"
      },
      "source": [
        "https://wiki.cancerimagingarchive.net/pages/viewpage.action?pageId=24283641\n",
        "\n",
        "switch from plastimatch resample method to simple itk for slice spacing issue"
      ]
    },
    {
      "cell_type": "code",
      "execution_count": 29,
      "metadata": {
        "id": "MZJdr2v-f6qY"
      },
      "outputs": [],
      "source": [
        "def safe_sitk_read(img_list, *args, **kwargs):\n",
        "  \"\"\"\n",
        "  Since the default function just looks at images 0 and 1 to determine slice thickness\n",
        "  and the images are often not correctly alphabetically sorted, much slower\n",
        "  :param img_list:\n",
        "  :return:\n",
        "  \"\"\"\n",
        "  pimg_list = [(sitk.ReadImage(x).GetOrigin(), x) for x in img_list]\n",
        "  s_img_list = [path for _, path in sorted(pimg_list, key = lambda x: x[0][2])] # sort by z\n",
        "  return sitk.ReadImage(s_img_list, *args, **kwargs)"
      ]
    },
    {
      "cell_type": "code",
      "execution_count": 30,
      "metadata": {
        "id": "RkSLspMHgqOV"
      },
      "outputs": [],
      "source": [
        "def convert_mr_to_nii_nrrd(input_path, output_path_root, modality, target_format=\"nii.gz\"):\n",
        "  if not os.path.exists(output_path_root): \n",
        "    !mkdir -p $output_path_root\n",
        "  output_path = os.path.join(output_path_root, input_path.split('/')[-1][:-4] \n",
        "                             + \"_MR_\" + modality\n",
        "                             + \".\" + target_format)\n",
        "  #convert to target format\n",
        "  if not os.path.exists(output_path):\n",
        "    dcm_img = safe_sitk_read(glob.glob(os.path.join(input_path, \"**\", \"*.dcm\"), recursive=True))\n",
        "    sitk.WriteImage(dcm_img, output_path)"
      ]
    },
    {
      "cell_type": "markdown",
      "metadata": {
        "id": "CdISKxlrg5U7"
      },
      "source": [
        "We will use the [segimage2itkimage tool](https://qiicr.gitbook.io/dcmqi-guide/opening/cmd_tools/seg/segimage2itkimage) from dcmqi to extract individual segments from DICOM SEG series we just downloaded into NII format, saving each segment into a separate file"
      ]
    },
    {
      "cell_type": "code",
      "execution_count": 31,
      "metadata": {
        "id": "Eav6vNsTg9TL"
      },
      "outputs": [],
      "source": [
        "def convert_seg_to_nii(input_path, output_path):\n",
        "  if not os.path.exists(output_path): \n",
        "    !mkdir -p $output_path\n",
        "  \n",
        "  print(f'input path : {input_path}')\n",
        "  print(f'output_path : {output_path}')\n",
        "  !segimage2itkimage --inputDICOM $input_path --outputDirectory $output_path \\\n",
        "  --outputType nii "
      ]
    },
    {
      "cell_type": "code",
      "execution_count": 32,
      "metadata": {
        "id": "-1tYQCkFQZ7A"
      },
      "outputs": [],
      "source": [
        "def convert_dcm_sorted(input_path,output_path):\n",
        "  path_dicom = os.environ[\"qin_prostate_rep_dicom\"] \n",
        "  for serie_folder in sorted(glob.glob(os.path.join(input_path, \"**\", \"**\", \"*\"))):#, recursive = True):\n",
        "    path_serie_dcm_lst = glob.glob(os.path.join(serie_folder, \"*.dcm\"))\n",
        "    modality = selection_df[selection_df[\"SeriesInstanceUID\"] == path_serie_dcm_lst[0].split('/')[-2]][\"Modality\"].iloc[0]#'SEG' if pydicom.dcmread(path_serie_dcm_lst[0]).Modality == \"SEG\" else \"MR\"\n",
        "    seriesInstanceUID = serie_folder.split(\"/\")[-1]\n",
        "    studyInstanceUID = serie_folder.split(\"/\")[-2]\n",
        "    patientID = serie_folder.split(\"/\")[-3]\n",
        "    SeriesDescription = selection_df[selection_df[\"SeriesInstanceUID\"] == path_serie_dcm_lst[0].split('/')[-2]][\"SeriesDescription\"].iloc[0]\n",
        "    print(f\"Series Description : {SeriesDescription}\")\n",
        "    type_serie = [\"T2\" if \"t2\" in SeriesDescription else \"ADC\" if \"ADC\" in SeriesDescription else \"SEG\" if \"Segmentation\" in SeriesDescription else 'not_found'][0]\n",
        "    if modality == \"SEG\":\n",
        "      #convert to nrrd\n",
        "      convert_seg_to_nii(input_path=path_serie_dcm_lst[0],\n",
        "                              output_path=os.path.join(output_path, \"nii\", \n",
        "                                                       patientID, studyInstanceUID, seriesInstanceUID + \"_{}\".format(type_serie)))\n",
        "    elif modality == \"MR\":\n",
        "      #convert to nii\n",
        "      convert_mr_to_nii_nrrd(input_path=serie_folder,\n",
        "                              output_path_root=os.path.join(output_path, \"nii\", \n",
        "                                                       patientID, studyInstanceUID, seriesInstanceUID + \"_MR\"), \n",
        "                             modality=type_serie, target_format=\"nii.gz\")\n",
        "      #convert to nrrd\n",
        "      convert_mr_to_nii_nrrd(input_path=serie_folder, \n",
        "                              output_path_root=os.path.join(output_path, \"nrrd\", \n",
        "                                                       patientID, studyInstanceUID, seriesInstanceUID + \"_MR\"), \n",
        "                             modality=type_serie, target_format=\"nrrd\")\n",
        "    else:\n",
        "      print(f\"type serie {modality} not supported\")"
      ]
    },
    {
      "cell_type": "markdown",
      "metadata": {
        "id": "rDE69us5SosB"
      },
      "source": [
        "## Conversion to NII/NRRD"
      ]
    },
    {
      "cell_type": "code",
      "execution_count": 33,
      "metadata": {
        "id": "iQrcemmAW7tC"
      },
      "outputs": [],
      "source": [
        "!rm -rf /content/prostatex/nii/*\n",
        "!rm -rf /content/prostatex/nrrd/*"
      ]
    },
    {
      "cell_type": "code",
      "execution_count": 34,
      "metadata": {
        "id": "hB1YhW33y32e",
        "colab": {
          "base_uri": "https://localhost:8080/"
        },
        "outputId": "b1b8e8ba-c16e-4985-95ea-b184fc75c19d"
      },
      "outputs": [
        {
          "output_type": "stream",
          "name": "stdout",
          "text": [
            "Series Description : Segmentation\n",
            "input path : /content/prostatex/dicom/ProstateX-0004/1.3.6.1.4.1.14519.5.2.1.7311.5101.170561193612723093192571245493/1.2.276.0.7230010.3.1.3.1070885483.15960.1599120307.701/1.2.276.0.7230010.3.1.4.1070885483.15960.1599120307.702.dcm\n",
            "output_path : /content/prostatex/nii/ProstateX-0004/1.3.6.1.4.1.14519.5.2.1.7311.5101.170561193612723093192571245493/1.2.276.0.7230010.3.1.3.1070885483.15960.1599120307.701_SEG\n",
            "dcmqi repository URL: git@github.com:QIICR/dcmqi.git revision: 1153738 tag: v1.2.5\n",
            "Row direction: 1 -1.99011e-10 4.9619e-11\n",
            "Col direction: 2.05103e-10 0.970296 -0.241922\n",
            "Z direction: 2.66056e-17 0.241922 0.970296\n",
            "Total frames: 76\n",
            "Total frames with unique IPP: 19\n",
            "Total overlapping frames: 19\n",
            "Origin: [-117.913, -85.1499, 12.84]\n",
            "Series Description : t2_tse_tra\n",
            "Series Description : ep2d_diff_tra_DYNDIST_MIX_ADC\n"
          ]
        }
      ],
      "source": [
        "convert_dcm_sorted(input_path=os.environ[\"qin_prostate_rep_dicom\"],\n",
        "                   output_path=os.environ[\"qin_prostate_rep_root\"])"
      ]
    },
    {
      "cell_type": "markdown",
      "metadata": {
        "id": "iswjmSqVC0ww"
      },
      "source": [
        "# Export SEGS  "
      ]
    },
    {
      "cell_type": "code",
      "execution_count": 35,
      "metadata": {
        "id": "nkIr_nUaZdIU",
        "colab": {
          "base_uri": "https://localhost:8080/"
        },
        "outputId": "516ef068-d0c6-47e9-c545-e6ae0f4b3e2f"
      },
      "outputs": [
        {
          "output_type": "stream",
          "name": "stdout",
          "text": [
            "['/content/prostatex/nii/ProstateX-0004/1.3.6.1.4.1.14519.5.2.1.7311.5101.170561193612723093192571245493/1.2.276.0.7230010.3.1.3.1070885483.15960.1599120307.701_SEG/1.nii.gz', '/content/prostatex/nii/ProstateX-0004/1.3.6.1.4.1.14519.5.2.1.7311.5101.170561193612723093192571245493/1.2.276.0.7230010.3.1.3.1070885483.15960.1599120307.701_SEG/2.nii.gz', '/content/prostatex/nii/ProstateX-0004/1.3.6.1.4.1.14519.5.2.1.7311.5101.170561193612723093192571245493/1.2.276.0.7230010.3.1.3.1070885483.15960.1599120307.701_SEG/3.nii.gz', '/content/prostatex/nii/ProstateX-0004/1.3.6.1.4.1.14519.5.2.1.7311.5101.170561193612723093192571245493/1.2.276.0.7230010.3.1.3.1070885483.15960.1599120307.701_SEG/4.nii.gz']\n"
          ]
        }
      ],
      "source": [
        "nii_list = sorted(glob.glob(os.path.join('/content/prostatex/nii/ProstateX-0004/1.3.6.1.4.1.14519.5.2.1.7311.5101.170561193612723093192571245493/1.2.276.0.7230010.3.1.3.1070885483.15960.1599120307.701_SEG', '*.nii.gz')))\n",
        "nii1  = nii_list[0]\n",
        "nii2  = nii_list[1]\n",
        "nii3  = nii_list[2]\n",
        "nii4  = nii_list[3]\n",
        "# print(nii4)\n",
        "print(nii_list)"
      ]
    },
    {
      "cell_type": "code",
      "execution_count": 36,
      "metadata": {
        "id": "WhRnaTSt_oe1",
        "colab": {
          "base_uri": "https://localhost:8080/"
        },
        "outputId": "0e2f5d0e-9dd8-4a64-92b8-df5e46e0c297"
      },
      "outputs": [
        {
          "output_type": "stream",
          "name": "stdout",
          "text": [
            "dcmqi repository URL: git@github.com:QIICR/dcmqi.git revision: 1153738 tag: v1.2.5\n",
            "Loaded segmentation from /content/prostatex/nii/ProstateX-0004/1.3.6.1.4.1.14519.5.2.1.7311.5101.170561193612723093192571245493/1.2.276.0.7230010.3.1.3.1070885483.15960.1599120307.701_SEG/1.nii.gz\n",
            "Loaded segmentation from /content/prostatex/nii/ProstateX-0004/1.3.6.1.4.1.14519.5.2.1.7311.5101.170561193612723093192571245493/1.2.276.0.7230010.3.1.3.1070885483.15960.1599120307.701_SEG/2.nii.gz\n",
            "Loaded segmentation from /content/prostatex/nii/ProstateX-0004/1.3.6.1.4.1.14519.5.2.1.7311.5101.170561193612723093192571245493/1.2.276.0.7230010.3.1.3.1070885483.15960.1599120307.701_SEG/3.nii.gz\n",
            "Loaded segmentation from /content/prostatex/nii/ProstateX-0004/1.3.6.1.4.1.14519.5.2.1.7311.5101.170561193612723093192571245493/1.2.276.0.7230010.3.1.3.1070885483.15960.1599120307.701_SEG/4.nii.gz\n",
            "Searching recursively /content/prostatex/dicom/ProstateX-0004/1.3.6.1.4.1.14519.5.2.1.7311.5101.170561193612723093192571245493/1.3.6.1.4.1.14519.5.2.1.7311.5101.206828891270520544417996275680 for DICOM files\n",
            "W: ReferringPhysicianName (0008,0090) absent in GeneralStudyModule (type 2)\n",
            "SOPInstanceUID1.3.6.1.4.1.14519.5.2.1.7311.5101.261549691085116343248768885489 mapped\n",
            "SOPInstanceUID1.3.6.1.4.1.14519.5.2.1.7311.5101.105076858500192732229022944010 mapped\n",
            "SOPInstanceUID1.3.6.1.4.1.14519.5.2.1.7311.5101.218124599011631014704397343647 mapped\n",
            "SOPInstanceUID1.3.6.1.4.1.14519.5.2.1.7311.5101.284661221440591841105464105673 mapped\n",
            "SOPInstanceUID1.3.6.1.4.1.14519.5.2.1.7311.5101.316752744858742170533958373200 mapped\n",
            "SOPInstanceUID1.3.6.1.4.1.14519.5.2.1.7311.5101.300323178736669071620524914721 mapped\n",
            "SOPInstanceUID1.3.6.1.4.1.14519.5.2.1.7311.5101.182502842545423455942100471531 mapped\n",
            "SOPInstanceUID1.3.6.1.4.1.14519.5.2.1.7311.5101.110450510099441729742477232668 mapped\n",
            "SOPInstanceUID1.3.6.1.4.1.14519.5.2.1.7311.5101.191833352947275589281182810323 mapped\n",
            "SOPInstanceUID1.3.6.1.4.1.14519.5.2.1.7311.5101.140871946839917246139835104278 mapped\n",
            "SOPInstanceUID1.3.6.1.4.1.14519.5.2.1.7311.5101.659858965621597900583204514290 mapped\n",
            "SOPInstanceUID1.3.6.1.4.1.14519.5.2.1.7311.5101.223541403251139307210053647239 mapped\n",
            "SOPInstanceUID1.3.6.1.4.1.14519.5.2.1.7311.5101.682311503992658593314604303257 mapped\n",
            "SOPInstanceUID1.3.6.1.4.1.14519.5.2.1.7311.5101.837880298903019380035267659540 mapped\n",
            "SOPInstanceUID1.3.6.1.4.1.14519.5.2.1.7311.5101.959920807490464182077487985581 mapped\n",
            "SOPInstanceUID1.3.6.1.4.1.14519.5.2.1.7311.5101.105945183098328980140457962163 mapped\n",
            "SOPInstanceUID1.3.6.1.4.1.14519.5.2.1.7311.5101.664195306896695168613670196431 mapped\n",
            "SOPInstanceUID1.3.6.1.4.1.14519.5.2.1.7311.5101.323118489137350682744971172265 mapped\n",
            "SOPInstanceUID1.3.6.1.4.1.14519.5.2.1.7311.5101.140661212185680998225449002613 mapped\n",
            "19 of 19 slices mapped to source DICOM images\n",
            "Found 2 label(s)\n",
            "Processing label 1\n",
            "Total non-empty slices that will be encoded in SEG for label 1 is 19\n",
            " (inclusive from 0 to 19)\n",
            "Populating segment label to Peripheral zone of prostate\n",
            "Added source image item\n",
            "Added source image item\n",
            "Added source image item\n",
            "Added source image item\n",
            "Added source image item\n",
            "Added source image item\n",
            "Added source image item\n",
            "Added source image item\n",
            "Added source image item\n",
            "Added source image item\n",
            "Added source image item\n",
            "Added source image item\n",
            "Added source image item\n",
            "Added source image item\n",
            "Added source image item\n",
            "Added source image item\n",
            "Added source image item\n",
            "Added source image item\n",
            "Added source image item\n",
            "SOPInstanceUID1.3.6.1.4.1.14519.5.2.1.7311.5101.261549691085116343248768885489 mapped\n",
            "SOPInstanceUID1.3.6.1.4.1.14519.5.2.1.7311.5101.105076858500192732229022944010 mapped\n",
            "SOPInstanceUID1.3.6.1.4.1.14519.5.2.1.7311.5101.218124599011631014704397343647 mapped\n",
            "SOPInstanceUID1.3.6.1.4.1.14519.5.2.1.7311.5101.284661221440591841105464105673 mapped\n",
            "SOPInstanceUID1.3.6.1.4.1.14519.5.2.1.7311.5101.316752744858742170533958373200 mapped\n",
            "SOPInstanceUID1.3.6.1.4.1.14519.5.2.1.7311.5101.300323178736669071620524914721 mapped\n",
            "SOPInstanceUID1.3.6.1.4.1.14519.5.2.1.7311.5101.182502842545423455942100471531 mapped\n",
            "SOPInstanceUID1.3.6.1.4.1.14519.5.2.1.7311.5101.110450510099441729742477232668 mapped\n",
            "SOPInstanceUID1.3.6.1.4.1.14519.5.2.1.7311.5101.191833352947275589281182810323 mapped\n",
            "SOPInstanceUID1.3.6.1.4.1.14519.5.2.1.7311.5101.140871946839917246139835104278 mapped\n",
            "SOPInstanceUID1.3.6.1.4.1.14519.5.2.1.7311.5101.659858965621597900583204514290 mapped\n",
            "SOPInstanceUID1.3.6.1.4.1.14519.5.2.1.7311.5101.223541403251139307210053647239 mapped\n",
            "SOPInstanceUID1.3.6.1.4.1.14519.5.2.1.7311.5101.682311503992658593314604303257 mapped\n",
            "SOPInstanceUID1.3.6.1.4.1.14519.5.2.1.7311.5101.837880298903019380035267659540 mapped\n",
            "SOPInstanceUID1.3.6.1.4.1.14519.5.2.1.7311.5101.959920807490464182077487985581 mapped\n",
            "SOPInstanceUID1.3.6.1.4.1.14519.5.2.1.7311.5101.105945183098328980140457962163 mapped\n",
            "SOPInstanceUID1.3.6.1.4.1.14519.5.2.1.7311.5101.664195306896695168613670196431 mapped\n",
            "SOPInstanceUID1.3.6.1.4.1.14519.5.2.1.7311.5101.323118489137350682744971172265 mapped\n",
            "SOPInstanceUID1.3.6.1.4.1.14519.5.2.1.7311.5101.140661212185680998225449002613 mapped\n",
            "19 of 19 slices mapped to source DICOM images\n",
            "Found 2 label(s)\n",
            "Processing label 2\n",
            "Total non-empty slices that will be encoded in SEG for label 2 is 19\n",
            " (inclusive from 0 to 19)\n",
            "Populating segment label to Transition zone of prostate\n",
            "Added source image item\n",
            "Added source image item\n",
            "Added source image item\n",
            "Added source image item\n",
            "Added source image item\n",
            "Added source image item\n",
            "Added source image item\n",
            "Added source image item\n",
            "Added source image item\n",
            "Added source image item\n",
            "Added source image item\n",
            "Added source image item\n",
            "Added source image item\n",
            "Added source image item\n",
            "Added source image item\n",
            "Added source image item\n",
            "Added source image item\n",
            "Added source image item\n",
            "Added source image item\n",
            "SOPInstanceUID1.3.6.1.4.1.14519.5.2.1.7311.5101.261549691085116343248768885489 mapped\n",
            "SOPInstanceUID1.3.6.1.4.1.14519.5.2.1.7311.5101.105076858500192732229022944010 mapped\n",
            "SOPInstanceUID1.3.6.1.4.1.14519.5.2.1.7311.5101.218124599011631014704397343647 mapped\n",
            "SOPInstanceUID1.3.6.1.4.1.14519.5.2.1.7311.5101.284661221440591841105464105673 mapped\n",
            "SOPInstanceUID1.3.6.1.4.1.14519.5.2.1.7311.5101.316752744858742170533958373200 mapped\n",
            "SOPInstanceUID1.3.6.1.4.1.14519.5.2.1.7311.5101.300323178736669071620524914721 mapped\n",
            "SOPInstanceUID1.3.6.1.4.1.14519.5.2.1.7311.5101.182502842545423455942100471531 mapped\n",
            "SOPInstanceUID1.3.6.1.4.1.14519.5.2.1.7311.5101.110450510099441729742477232668 mapped\n",
            "SOPInstanceUID1.3.6.1.4.1.14519.5.2.1.7311.5101.191833352947275589281182810323 mapped\n",
            "SOPInstanceUID1.3.6.1.4.1.14519.5.2.1.7311.5101.140871946839917246139835104278 mapped\n",
            "SOPInstanceUID1.3.6.1.4.1.14519.5.2.1.7311.5101.659858965621597900583204514290 mapped\n",
            "SOPInstanceUID1.3.6.1.4.1.14519.5.2.1.7311.5101.223541403251139307210053647239 mapped\n",
            "SOPInstanceUID1.3.6.1.4.1.14519.5.2.1.7311.5101.682311503992658593314604303257 mapped\n",
            "SOPInstanceUID1.3.6.1.4.1.14519.5.2.1.7311.5101.837880298903019380035267659540 mapped\n",
            "SOPInstanceUID1.3.6.1.4.1.14519.5.2.1.7311.5101.959920807490464182077487985581 mapped\n",
            "SOPInstanceUID1.3.6.1.4.1.14519.5.2.1.7311.5101.105945183098328980140457962163 mapped\n",
            "SOPInstanceUID1.3.6.1.4.1.14519.5.2.1.7311.5101.664195306896695168613670196431 mapped\n",
            "SOPInstanceUID1.3.6.1.4.1.14519.5.2.1.7311.5101.323118489137350682744971172265 mapped\n",
            "SOPInstanceUID1.3.6.1.4.1.14519.5.2.1.7311.5101.140661212185680998225449002613 mapped\n",
            "19 of 19 slices mapped to source DICOM images\n",
            "Found 2 label(s)\n",
            "Processing label 3\n",
            "Total non-empty slices that will be encoded in SEG for label 3 is 19\n",
            " (inclusive from 0 to 19)\n",
            "Populating segment label to Prostatic Urethra\n",
            "Added source image item\n",
            "Added source image item\n",
            "Added source image item\n",
            "Added source image item\n",
            "Added source image item\n",
            "Added source image item\n",
            "Added source image item\n",
            "Added source image item\n",
            "Added source image item\n",
            "Added source image item\n",
            "Added source image item\n",
            "Added source image item\n",
            "Added source image item\n",
            "Added source image item\n",
            "Added source image item\n",
            "Added source image item\n",
            "Added source image item\n",
            "Added source image item\n",
            "Added source image item\n",
            "SOPInstanceUID1.3.6.1.4.1.14519.5.2.1.7311.5101.261549691085116343248768885489 mapped\n",
            "SOPInstanceUID1.3.6.1.4.1.14519.5.2.1.7311.5101.105076858500192732229022944010 mapped\n",
            "SOPInstanceUID1.3.6.1.4.1.14519.5.2.1.7311.5101.218124599011631014704397343647 mapped\n",
            "SOPInstanceUID1.3.6.1.4.1.14519.5.2.1.7311.5101.284661221440591841105464105673 mapped\n",
            "SOPInstanceUID1.3.6.1.4.1.14519.5.2.1.7311.5101.316752744858742170533958373200 mapped\n",
            "SOPInstanceUID1.3.6.1.4.1.14519.5.2.1.7311.5101.300323178736669071620524914721 mapped\n",
            "SOPInstanceUID1.3.6.1.4.1.14519.5.2.1.7311.5101.182502842545423455942100471531 mapped\n",
            "SOPInstanceUID1.3.6.1.4.1.14519.5.2.1.7311.5101.110450510099441729742477232668 mapped\n",
            "SOPInstanceUID1.3.6.1.4.1.14519.5.2.1.7311.5101.191833352947275589281182810323 mapped\n",
            "SOPInstanceUID1.3.6.1.4.1.14519.5.2.1.7311.5101.140871946839917246139835104278 mapped\n",
            "SOPInstanceUID1.3.6.1.4.1.14519.5.2.1.7311.5101.659858965621597900583204514290 mapped\n",
            "SOPInstanceUID1.3.6.1.4.1.14519.5.2.1.7311.5101.223541403251139307210053647239 mapped\n",
            "SOPInstanceUID1.3.6.1.4.1.14519.5.2.1.7311.5101.682311503992658593314604303257 mapped\n",
            "SOPInstanceUID1.3.6.1.4.1.14519.5.2.1.7311.5101.837880298903019380035267659540 mapped\n",
            "SOPInstanceUID1.3.6.1.4.1.14519.5.2.1.7311.5101.959920807490464182077487985581 mapped\n",
            "SOPInstanceUID1.3.6.1.4.1.14519.5.2.1.7311.5101.105945183098328980140457962163 mapped\n",
            "SOPInstanceUID1.3.6.1.4.1.14519.5.2.1.7311.5101.664195306896695168613670196431 mapped\n",
            "SOPInstanceUID1.3.6.1.4.1.14519.5.2.1.7311.5101.323118489137350682744971172265 mapped\n",
            "SOPInstanceUID1.3.6.1.4.1.14519.5.2.1.7311.5101.140661212185680998225449002613 mapped\n",
            "19 of 19 slices mapped to source DICOM images\n",
            "Found 2 label(s)\n",
            "Processing label 4\n",
            "Total non-empty slices that will be encoded in SEG for label 4 is 19\n",
            " (inclusive from 0 to 19)\n",
            "Populating segment label to Anterior fibromuscular stroma of prostate\n",
            "Added source image item\n",
            "Added source image item\n",
            "Added source image item\n",
            "Added source image item\n",
            "Added source image item\n",
            "Added source image item\n",
            "Added source image item\n",
            "Added source image item\n",
            "Added source image item\n",
            "Added source image item\n",
            "Added source image item\n",
            "Added source image item\n",
            "Added source image item\n",
            "Added source image item\n",
            "Added source image item\n",
            "Added source image item\n",
            "Added source image item\n",
            "Added source image item\n",
            "Added source image item\n",
            "Saved segmentation as test_gt_0004.dcm\n"
          ]
        }
      ],
      "source": [
        "!itkimage2segimage --inputImageList {nii1},{nii2},{nii3},{nii4} \\\n",
        "--inputDICOMDirectory  /content/prostatex/dicom/ProstateX-0004/1.3.6.1.4.1.14519.5.2.1.7311.5101.170561193612723093192571245493/1.3.6.1.4.1.14519.5.2.1.7311.5101.206828891270520544417996275680 \\\n",
        "--inputMetadata  /content/prostatex/nii/ProstateX-0004/1.3.6.1.4.1.14519.5.2.1.7311.5101.170561193612723093192571245493/1.2.276.0.7230010.3.1.3.1070885483.15960.1599120307.701_SEG/meta.json \\\n",
        "--outputDICOM test_gt_0004.dcm"
      ]
    },
    {
      "cell_type": "markdown",
      "metadata": {
        "id": "c4NIaPltrXmh"
      },
      "source": [
        "Test with pydicom -- works fine with OHIF viewer integration but only single segment supported"
      ]
    },
    {
      "cell_type": "code",
      "execution_count": 37,
      "metadata": {
        "id": "Ybd8JCzQrP7z"
      },
      "outputs": [],
      "source": [
        "# import pydicom\n",
        "# import pydicom_seg\n",
        "# import SimpleITK as sitk\n",
        "\n",
        "# dicom_series_paths = glob.glob('/content/prostatex/dicom/ProstateX-0004/1.3.6.1.4.1.14519.5.2.1.7311.5101.170561193612723093192571245493/1.3.6.1.4.1.14519.5.2.1.7311.5101.206828891270520544417996275680/*.dcm') # Paths to an imaging series related to the segmentation\n",
        "# source_images = [\n",
        "#     pydicom.dcmread(x, stop_before_pixels=True)\n",
        "#     for x in dicom_series_paths\n",
        "# ]\n",
        "\n",
        "# segmentations = [\n",
        "#     sitk.ReadImage(x, sitk.sitkUInt16)\n",
        "#     for x in nii_list \n",
        "# ]\n",
        "\n",
        "# template = pydicom_seg.template.from_dcmqi_metainfo('/content/prostatex/nii/ProstateX-0004/1.3.6.1.4.1.14519.5.2.1.7311.5101.170561193612723093192571245493/1.2.276.0.7230010.3.1.3.1070885483.15960.1599120307.701_SEG/meta.json')#pydicom_seg.template.from_dcmqi_metainfo('metainfo.json')\n",
        "# writer = pydicom_seg.MultiClassWriter(\n",
        "#     template=template,\n",
        "#     inplane_cropping=False,  # C\n",
        "#     # rop image slices to the minimum bounding box on\n",
        "#                              # x and y axes. Maybe not supported by other frameworks.\n",
        "#     skip_empty_slices=True,  # Don't encode slices with only zeros\n",
        "#     skip_missing_segment=False,  # If a segment definition is missing in the\n",
        "#                                  # template, then raise an error instead of\n",
        "#                                  # skipping it.\n",
        "# )\n",
        "# dcm = writer.write(segmentations[0], source_images)\n",
        "# dcm.save_as('segmentation_simpleitk.dcm')"
      ]
    },
    {
      "cell_type": "markdown",
      "metadata": {
        "id": "rI2BLQ8dqIwW"
      },
      "source": [
        "# EXPORT TO OHIF "
      ]
    },
    {
      "cell_type": "markdown",
      "metadata": {
        "id": "L4c_etIu47pg"
      },
      "source": [
        "## User input "
      ]
    },
    {
      "cell_type": "markdown",
      "metadata": {
        "id": "-g93SM9gAFiX"
      },
      "source": [
        "Set these values. "
      ]
    },
    {
      "cell_type": "code",
      "execution_count": 38,
      "metadata": {
        "id": "3Kk0d3lMmDp3"
      },
      "outputs": [],
      "source": [
        "project_name = 'idc-sandbox-003'\n",
        "location_id = 'us-central1'\n",
        "my_bucket = 'nnunet_seg_test01_bucket'\n",
        "my_dataset = 'nnunet_seg_test01'\n",
        "my_datastore = 'nnunet_seg_test01_datastore'"
      ]
    },
    {
      "cell_type": "markdown",
      "metadata": {
        "id": "9ft353-gQI0r"
      },
      "source": [
        "Do not change the values below. "
      ]
    },
    {
      "cell_type": "markdown",
      "metadata": {
        "id": "Bg9EcZ4NGh5v"
      },
      "source": [
        "Set up authorization."
      ]
    },
    {
      "cell_type": "markdown",
      "metadata": {
        "id": "TY94MRxW4whp"
      },
      "source": [
        "## Package setup"
      ]
    },
    {
      "cell_type": "markdown",
      "metadata": {
        "id": "4Yutik5wQqVa"
      },
      "source": [
        "Use these instructions to first deploy your own OHIF instance: \n",
        "\n",
        "https://docs.google.com/document/d/1v4Syu_yOV6yH--QBLGzsL9fJ7-XyD1CnQu4iTIoPVD8/edit#heading=h.1phazem22o0 "
      ]
    },
    {
      "cell_type": "markdown",
      "metadata": {
        "id": "SPUmsW5qNLjB"
      },
      "source": [
        "Create a structured report for each series:"
      ]
    },
    {
      "cell_type": "markdown",
      "metadata": {
        "id": "fS1mdqAbFyxY"
      },
      "source": [
        "# GCP Healthcare steps"
      ]
    },
    {
      "cell_type": "markdown",
      "metadata": {
        "id": "A8QGbITuOpXm"
      },
      "source": [
        "In order to view the MR data along with the SEGS, we need to store our data in the cloud. We first need to create a dataset, and a DICOM datastore, which will hold our MR and SEG data. To do this we will first store our data in a bucket, and then copy over the contents to the DICOM datastore. "
      ]
    },
    {
      "cell_type": "markdown",
      "metadata": {
        "id": "mIyZTVKvv1Yu"
      },
      "source": [
        "We first need to create a dataset if it doesn't already exist. "
      ]
    },
    {
      "cell_type": "code",
      "execution_count": 39,
      "metadata": {
        "id": "-X3q8z-6v1Yu",
        "colab": {
          "base_uri": "https://localhost:8080/"
        },
        "outputId": "62ffc677-9ee6-4995-f518-9cc4d00ba92f"
      },
      "outputs": [
        {
          "output_type": "stream",
          "name": "stdout",
          "text": [
            "datasets that exist for project_id idc-sandbox-003, location us-central1: ['nnunet_seg_test01']\n"
          ]
        }
      ],
      "source": [
        "# First let's list the datasets that we already have for our particular project_id and location_id\n",
        "datasets = !gcloud healthcare datasets list --project $project_name --location $location_id --format=\"value(ID)\" \n",
        "print ('datasets that exist for project_id ' + str(project_name) + ', location ' + str(location_id) + ': ' + str(datasets))"
      ]
    },
    {
      "cell_type": "markdown",
      "metadata": {
        "id": "Q7cDtQEwv1Yu"
      },
      "source": [
        "Create a dicom store if it doesn't already exist"
      ]
    },
    {
      "cell_type": "code",
      "execution_count": 40,
      "metadata": {
        "id": "A9baFv4iv1Yu",
        "colab": {
          "base_uri": "https://localhost:8080/"
        },
        "outputId": "ad3e4e1a-24a6-47b3-b9b5-f7d25b7619d3"
      },
      "outputs": [
        {
          "output_type": "stream",
          "name": "stdout",
          "text": [
            "datastores that exist for project_id idc-sandbox-003, location us-central1, dataset nnunet_seg_test01: ['ID                           LOCATION     TOPIC', 'nnunet_seg_test01_datastore  us-central1']\n"
          ]
        }
      ],
      "source": [
        "# # First list the datastores that exist in the dataset\n",
        "datastores = !gcloud healthcare dicom-stores list --project $project_name --dataset $my_dataset #--format=\"value(ID)\"\n",
        "print ('datastores that exist for project_id ' + str(project_name) + ', location ' + str(location_id) + ', dataset ' + str(my_dataset) + ': ' + str(datastores))"
      ]
    },
    {
      "cell_type": "markdown",
      "metadata": {
        "id": "n2PzSptkIFPu"
      },
      "source": [
        "Create a bucket to store the MR data and the SEG. "
      ]
    },
    {
      "cell_type": "code",
      "execution_count": 41,
      "metadata": {
        "colab": {
          "base_uri": "https://localhost:8080/"
        },
        "id": "bjRFZGJySEGz",
        "outputId": "af2e6361-a406-43bd-c948-a7e37910055a"
      },
      "outputs": [
        {
          "output_type": "stream",
          "name": "stdout",
          "text": [
            "Removing gs://nnunet_mr_test01_bucket/1.2.276.0.7230010.3.1.4.1070885483.15960.1599120307.702.dcm#1660324233326557...\n",
            "Removing gs://nnunet_mr_test01_bucket/1.3.6.1.4.1.14519.5.2.1.7311.5101.105076858500192732229022944010.dcm#1660324214326345...\n",
            "Removing gs://nnunet_mr_test01_bucket/1.3.6.1.4.1.14519.5.2.1.7311.5101.105945183098328980140457962163.dcm#1660324215328094...\n",
            "Removing gs://nnunet_mr_test01_bucket/1.3.6.1.4.1.14519.5.2.1.7311.5101.110450510099441729742477232668.dcm#1660324216241736...\n",
            "/ [4 objects]                                                                   \n",
            "==> NOTE: You are performing a sequence of gsutil operations that may\n",
            "run significantly faster if you instead use gsutil -m rm ... Please\n",
            "see the -m section under \"gsutil help options\" for further information\n",
            "about when gsutil -m can be advantageous.\n",
            "\n",
            "Removing gs://nnunet_mr_test01_bucket/1.3.6.1.4.1.14519.5.2.1.7311.5101.120182904570469180898021983365.dcm#1660324223657681...\n",
            "Removing gs://nnunet_mr_test01_bucket/1.3.6.1.4.1.14519.5.2.1.7311.5101.140661212185680998225449002613.dcm#1660324215924225...\n",
            "Removing gs://nnunet_mr_test01_bucket/1.3.6.1.4.1.14519.5.2.1.7311.5101.140871946839917246139835104278.dcm#1660324218025438...\n",
            "Removing gs://nnunet_mr_test01_bucket/1.3.6.1.4.1.14519.5.2.1.7311.5101.158434971961541833072980878910.dcm#1660324224346934...\n",
            "Removing gs://nnunet_mr_test01_bucket/1.3.6.1.4.1.14519.5.2.1.7311.5101.159642350602033391658858168188.dcm#1660324222969427...\n",
            "Removing gs://nnunet_mr_test01_bucket/1.3.6.1.4.1.14519.5.2.1.7311.5101.181409570518037321796014170365.dcm#1660324223957438...\n",
            "Removing gs://nnunet_mr_test01_bucket/1.3.6.1.4.1.14519.5.2.1.7311.5101.182502842545423455942100471531.dcm#1660324215750157...\n",
            "Removing gs://nnunet_mr_test01_bucket/1.3.6.1.4.1.14519.5.2.1.7311.5101.188318656153076807319680712693.dcm#1660324223242033...\n",
            "Removing gs://nnunet_mr_test01_bucket/1.3.6.1.4.1.14519.5.2.1.7311.5101.191833352947275589281182810323.dcm#1660324217027117...\n",
            "Removing gs://nnunet_mr_test01_bucket/1.3.6.1.4.1.14519.5.2.1.7311.5101.192777861370011354321582424540.dcm#1660324224044418...\n",
            "Removing gs://nnunet_mr_test01_bucket/1.3.6.1.4.1.14519.5.2.1.7311.5101.218124599011631014704397343647.dcm#1660324213925716...\n",
            "Removing gs://nnunet_mr_test01_bucket/1.3.6.1.4.1.14519.5.2.1.7311.5101.223541403251139307210053647239.dcm#1660324214623736...\n",
            "Removing gs://nnunet_mr_test01_bucket/1.3.6.1.4.1.14519.5.2.1.7311.5101.227902545621922515361072647810.dcm#1660324223347505...\n",
            "Removing gs://nnunet_mr_test01_bucket/1.3.6.1.4.1.14519.5.2.1.7311.5101.231256973927847485676442595988.dcm#1660324224974931...\n",
            "Removing gs://nnunet_mr_test01_bucket/1.3.6.1.4.1.14519.5.2.1.7311.5101.234828076420742545553100667932.dcm#1660324223942583...\n",
            "Removing gs://nnunet_mr_test01_bucket/1.3.6.1.4.1.14519.5.2.1.7311.5101.253956777520155326930933078248.dcm#1660324225951791...\n",
            "Removing gs://nnunet_mr_test01_bucket/1.3.6.1.4.1.14519.5.2.1.7311.5101.256937216950403063264814402940.dcm#1660324223144328...\n",
            "Removing gs://nnunet_mr_test01_bucket/1.3.6.1.4.1.14519.5.2.1.7311.5101.259054845141206293094330375872.dcm#1660324222842656...\n",
            "Removing gs://nnunet_mr_test01_bucket/1.3.6.1.4.1.14519.5.2.1.7311.5101.260167119752072712227387102267.dcm#1660324223950718...\n",
            "Removing gs://nnunet_mr_test01_bucket/1.3.6.1.4.1.14519.5.2.1.7311.5101.261549691085116343248768885489.dcm#1660324213430474...\n",
            "Removing gs://nnunet_mr_test01_bucket/1.3.6.1.4.1.14519.5.2.1.7311.5101.284661221440591841105464105673.dcm#1660324214827620...\n",
            "Removing gs://nnunet_mr_test01_bucket/1.3.6.1.4.1.14519.5.2.1.7311.5101.290263254496442242415913735283.dcm#1660324224443724...\n",
            "Removing gs://nnunet_mr_test01_bucket/1.3.6.1.4.1.14519.5.2.1.7311.5101.300323178736669071620524914721.dcm#1660324214440269...\n",
            "Removing gs://nnunet_mr_test01_bucket/1.3.6.1.4.1.14519.5.2.1.7311.5101.307736047626263019938923665040.dcm#1660324223564695...\n",
            "Removing gs://nnunet_mr_test01_bucket/1.3.6.1.4.1.14519.5.2.1.7311.5101.316752744858742170533958373200.dcm#1660324215328046...\n",
            "Removing gs://nnunet_mr_test01_bucket/1.3.6.1.4.1.14519.5.2.1.7311.5101.323118489137350682744971172265.dcm#1660324215833476...\n",
            "Removing gs://nnunet_mr_test01_bucket/1.3.6.1.4.1.14519.5.2.1.7311.5101.326481939917040902941585162198.dcm#1660324225485109...\n",
            "Removing gs://nnunet_mr_test01_bucket/1.3.6.1.4.1.14519.5.2.1.7311.5101.327195708817421668047985977557.dcm#1660324223543735...\n",
            "Removing gs://nnunet_mr_test01_bucket/1.3.6.1.4.1.14519.5.2.1.7311.5101.460560317291692899710180514981.dcm#1660324222458052...\n",
            "Removing gs://nnunet_mr_test01_bucket/1.3.6.1.4.1.14519.5.2.1.7311.5101.659858965621597900583204514290.dcm#1660324214527627...\n",
            "Removing gs://nnunet_mr_test01_bucket/1.3.6.1.4.1.14519.5.2.1.7311.5101.664195306896695168613670196431.dcm#1660324215634679...\n",
            "Removing gs://nnunet_mr_test01_bucket/1.3.6.1.4.1.14519.5.2.1.7311.5101.682311503992658593314604303257.dcm#1660324215125392...\n",
            "Removing gs://nnunet_mr_test01_bucket/1.3.6.1.4.1.14519.5.2.1.7311.5101.748495628984755559847403795692.dcm#1660324223762144...\n",
            "Removing gs://nnunet_mr_test01_bucket/1.3.6.1.4.1.14519.5.2.1.7311.5101.837880298903019380035267659540.dcm#1660324215227828...\n",
            "Removing gs://nnunet_mr_test01_bucket/1.3.6.1.4.1.14519.5.2.1.7311.5101.959920807490464182077487985581.dcm#1660324215628706...\n",
            "Removing gs://nnunet_mr_test01_bucket/test_gt_0004.dcm#1660324229925561...\n",
            "/ [40 objects]                                                                  \n",
            "==> NOTE: You are performing a sequence of gsutil operations that may\n",
            "run significantly faster if you instead use gsutil -m rm ... Please\n",
            "see the -m section under \"gsutil help options\" for further information\n",
            "about when gsutil -m can be advantageous.\n",
            "\n",
            "\n",
            "Operation completed over 40 objects.                                             \n",
            "Removing gs://nnunet_mr_test01_bucket/...\n",
            "Creating gs://nnunet_mr_test01_bucket/...\n"
          ]
        }
      ],
      "source": [
        "#delete temp bucket\n",
        "!gsutil rm -r gs://nnunet_mr_test01_bucket\n",
        "# Create bucket to store SEG PRED -- TEST \n",
        "!gsutil mb -p $project_name gs://nnunet_mr_test01_bucket"
      ]
    },
    {
      "cell_type": "markdown",
      "metadata": {
        "id": "MjGhsB5tH7i-"
      },
      "source": [
        "Upload the CT data and the corresponding SR to a bucket"
      ]
    },
    {
      "cell_type": "code",
      "execution_count": 42,
      "metadata": {
        "colab": {
          "base_uri": "https://localhost:8080/"
        },
        "id": "ZZOC0sLIUZtS",
        "outputId": "27488cda-9371-4d59-c522-9bc6a53b4239"
      },
      "outputs": [
        {
          "output_type": "stream",
          "name": "stdout",
          "text": [
            "Copying file:///content/prostatex/dicom/ProstateX-0004/1.3.6.1.4.1.14519.5.2.1.7311.5101.170561193612723093192571245493/1.3.6.1.4.1.14519.5.2.1.7311.5101.206828891270520544417996275680/1.3.6.1.4.1.14519.5.2.1.7311.5101.261549691085116343248768885489.dcm [Content-Type=application/dicom]...\n",
            "/ [0/19 files][    0.0 B/  5.4 MiB]   0% Done                                   \rCopying file:///content/prostatex/dicom/ProstateX-0004/1.3.6.1.4.1.14519.5.2.1.7311.5101.170561193612723093192571245493/1.3.6.1.4.1.14519.5.2.1.7311.5101.206828891270520544417996275680/1.3.6.1.4.1.14519.5.2.1.7311.5101.105076858500192732229022944010.dcm [Content-Type=application/dicom]...\n",
            "/ [0/19 files][    0.0 B/  5.4 MiB]   0% Done                                   \rCopying file:///content/prostatex/dicom/ProstateX-0004/1.3.6.1.4.1.14519.5.2.1.7311.5101.170561193612723093192571245493/1.3.6.1.4.1.14519.5.2.1.7311.5101.206828891270520544417996275680/1.3.6.1.4.1.14519.5.2.1.7311.5101.284661221440591841105464105673.dcm [Content-Type=application/dicom]...\n",
            "Copying file:///content/prostatex/dicom/ProstateX-0004/1.3.6.1.4.1.14519.5.2.1.7311.5101.170561193612723093192571245493/1.3.6.1.4.1.14519.5.2.1.7311.5101.206828891270520544417996275680/1.3.6.1.4.1.14519.5.2.1.7311.5101.110450510099441729742477232668.dcm [Content-Type=application/dicom]...\n",
            "/ [0/19 files][    0.0 B/  5.4 MiB]   0% Done                                   \r/ [0/19 files][    0.0 B/  5.4 MiB]   0% Done                                   \rCopying file:///content/prostatex/dicom/ProstateX-0004/1.3.6.1.4.1.14519.5.2.1.7311.5101.170561193612723093192571245493/1.3.6.1.4.1.14519.5.2.1.7311.5101.206828891270520544417996275680/1.3.6.1.4.1.14519.5.2.1.7311.5101.182502842545423455942100471531.dcm [Content-Type=application/dicom]...\n",
            "/ [0/19 files][    0.0 B/  5.4 MiB]   0% Done                                   \rCopying file:///content/prostatex/dicom/ProstateX-0004/1.3.6.1.4.1.14519.5.2.1.7311.5101.170561193612723093192571245493/1.3.6.1.4.1.14519.5.2.1.7311.5101.206828891270520544417996275680/1.3.6.1.4.1.14519.5.2.1.7311.5101.218124599011631014704397343647.dcm [Content-Type=application/dicom]...\n",
            "/ [0/19 files][    0.0 B/  5.4 MiB]   0% Done                                   \rCopying file:///content/prostatex/dicom/ProstateX-0004/1.3.6.1.4.1.14519.5.2.1.7311.5101.170561193612723093192571245493/1.3.6.1.4.1.14519.5.2.1.7311.5101.206828891270520544417996275680/1.3.6.1.4.1.14519.5.2.1.7311.5101.191833352947275589281182810323.dcm [Content-Type=application/dicom]...\n",
            "/ [0/19 files][    0.0 B/  5.4 MiB]   0% Done                                   \rCopying file:///content/prostatex/dicom/ProstateX-0004/1.3.6.1.4.1.14519.5.2.1.7311.5101.170561193612723093192571245493/1.3.6.1.4.1.14519.5.2.1.7311.5101.206828891270520544417996275680/1.3.6.1.4.1.14519.5.2.1.7311.5101.316752744858742170533958373200.dcm [Content-Type=application/dicom]...\n",
            "/ [0/19 files][    0.0 B/  5.4 MiB]   0% Done                                   \rCopying file:///content/prostatex/dicom/ProstateX-0004/1.3.6.1.4.1.14519.5.2.1.7311.5101.170561193612723093192571245493/1.3.6.1.4.1.14519.5.2.1.7311.5101.206828891270520544417996275680/1.3.6.1.4.1.14519.5.2.1.7311.5101.140871946839917246139835104278.dcm [Content-Type=application/dicom]...\n",
            "Copying file:///content/prostatex/dicom/ProstateX-0004/1.3.6.1.4.1.14519.5.2.1.7311.5101.170561193612723093192571245493/1.3.6.1.4.1.14519.5.2.1.7311.5101.206828891270520544417996275680/1.3.6.1.4.1.14519.5.2.1.7311.5101.300323178736669071620524914721.dcm [Content-Type=application/dicom]...\n",
            "Copying file:///content/prostatex/dicom/ProstateX-0004/1.3.6.1.4.1.14519.5.2.1.7311.5101.170561193612723093192571245493/1.3.6.1.4.1.14519.5.2.1.7311.5101.206828891270520544417996275680/1.3.6.1.4.1.14519.5.2.1.7311.5101.659858965621597900583204514290.dcm [Content-Type=application/dicom]...\n",
            "Copying file:///content/prostatex/dicom/ProstateX-0004/1.3.6.1.4.1.14519.5.2.1.7311.5101.170561193612723093192571245493/1.3.6.1.4.1.14519.5.2.1.7311.5101.206828891270520544417996275680/1.3.6.1.4.1.14519.5.2.1.7311.5101.223541403251139307210053647239.dcm [Content-Type=application/dicom]...\n",
            "Copying file:///content/prostatex/dicom/ProstateX-0004/1.3.6.1.4.1.14519.5.2.1.7311.5101.170561193612723093192571245493/1.3.6.1.4.1.14519.5.2.1.7311.5101.206828891270520544417996275680/1.3.6.1.4.1.14519.5.2.1.7311.5101.682311503992658593314604303257.dcm [Content-Type=application/dicom]...\n",
            "Copying file:///content/prostatex/dicom/ProstateX-0004/1.3.6.1.4.1.14519.5.2.1.7311.5101.170561193612723093192571245493/1.3.6.1.4.1.14519.5.2.1.7311.5101.206828891270520544417996275680/1.3.6.1.4.1.14519.5.2.1.7311.5101.837880298903019380035267659540.dcm [Content-Type=application/dicom]...\n",
            "Copying file:///content/prostatex/dicom/ProstateX-0004/1.3.6.1.4.1.14519.5.2.1.7311.5101.170561193612723093192571245493/1.3.6.1.4.1.14519.5.2.1.7311.5101.206828891270520544417996275680/1.3.6.1.4.1.14519.5.2.1.7311.5101.959920807490464182077487985581.dcm [Content-Type=application/dicom]...\n",
            "Copying file:///content/prostatex/dicom/ProstateX-0004/1.3.6.1.4.1.14519.5.2.1.7311.5101.170561193612723093192571245493/1.3.6.1.4.1.14519.5.2.1.7311.5101.206828891270520544417996275680/1.3.6.1.4.1.14519.5.2.1.7311.5101.105945183098328980140457962163.dcm [Content-Type=application/dicom]...\n",
            "Copying file:///content/prostatex/dicom/ProstateX-0004/1.3.6.1.4.1.14519.5.2.1.7311.5101.170561193612723093192571245493/1.3.6.1.4.1.14519.5.2.1.7311.5101.206828891270520544417996275680/1.3.6.1.4.1.14519.5.2.1.7311.5101.664195306896695168613670196431.dcm [Content-Type=application/dicom]...\n",
            "Copying file:///content/prostatex/dicom/ProstateX-0004/1.3.6.1.4.1.14519.5.2.1.7311.5101.170561193612723093192571245493/1.3.6.1.4.1.14519.5.2.1.7311.5101.206828891270520544417996275680/1.3.6.1.4.1.14519.5.2.1.7311.5101.323118489137350682744971172265.dcm [Content-Type=application/dicom]...\n",
            "Copying file:///content/prostatex/dicom/ProstateX-0004/1.3.6.1.4.1.14519.5.2.1.7311.5101.170561193612723093192571245493/1.3.6.1.4.1.14519.5.2.1.7311.5101.206828891270520544417996275680/1.3.6.1.4.1.14519.5.2.1.7311.5101.140661212185680998225449002613.dcm [Content-Type=application/dicom]...\n",
            "/\n",
            "Operation completed over 19 objects/5.4 MiB.                                     \n",
            "Copying file:///content/prostatex/dicom/ProstateX-0004/1.3.6.1.4.1.14519.5.2.1.7311.5101.170561193612723093192571245493/1.3.6.1.4.1.14519.5.2.1.7311.5101.278358228783511961204087191158/1.3.6.1.4.1.14519.5.2.1.7311.5101.460560317291692899710180514981.dcm [Content-Type=application/dicom]...\n",
            "Copying file:///content/prostatex/dicom/ProstateX-0004/1.3.6.1.4.1.14519.5.2.1.7311.5101.170561193612723093192571245493/1.3.6.1.4.1.14519.5.2.1.7311.5101.278358228783511961204087191158/1.3.6.1.4.1.14519.5.2.1.7311.5101.159642350602033391658858168188.dcm [Content-Type=application/dicom]...\n",
            "Copying file:///content/prostatex/dicom/ProstateX-0004/1.3.6.1.4.1.14519.5.2.1.7311.5101.170561193612723093192571245493/1.3.6.1.4.1.14519.5.2.1.7311.5101.278358228783511961204087191158/1.3.6.1.4.1.14519.5.2.1.7311.5101.231256973927847485676442595988.dcm [Content-Type=application/dicom]...\n",
            "Copying file:///content/prostatex/dicom/ProstateX-0004/1.3.6.1.4.1.14519.5.2.1.7311.5101.170561193612723093192571245493/1.3.6.1.4.1.14519.5.2.1.7311.5101.278358228783511961204087191158/1.3.6.1.4.1.14519.5.2.1.7311.5101.253956777520155326930933078248.dcm [Content-Type=application/dicom]...\n",
            "Copying file:///content/prostatex/dicom/ProstateX-0004/1.3.6.1.4.1.14519.5.2.1.7311.5101.170561193612723093192571245493/1.3.6.1.4.1.14519.5.2.1.7311.5101.278358228783511961204087191158/1.3.6.1.4.1.14519.5.2.1.7311.5101.307736047626263019938923665040.dcm [Content-Type=application/dicom]...\n",
            "Copying file:///content/prostatex/dicom/ProstateX-0004/1.3.6.1.4.1.14519.5.2.1.7311.5101.170561193612723093192571245493/1.3.6.1.4.1.14519.5.2.1.7311.5101.278358228783511961204087191158/1.3.6.1.4.1.14519.5.2.1.7311.5101.158434971961541833072980878910.dcm [Content-Type=application/dicom]...\n",
            "Copying file:///content/prostatex/dicom/ProstateX-0004/1.3.6.1.4.1.14519.5.2.1.7311.5101.170561193612723093192571245493/1.3.6.1.4.1.14519.5.2.1.7311.5101.278358228783511961204087191158/1.3.6.1.4.1.14519.5.2.1.7311.5101.256937216950403063264814402940.dcm [Content-Type=application/dicom]...\n",
            "Copying file:///content/prostatex/dicom/ProstateX-0004/1.3.6.1.4.1.14519.5.2.1.7311.5101.170561193612723093192571245493/1.3.6.1.4.1.14519.5.2.1.7311.5101.278358228783511961204087191158/1.3.6.1.4.1.14519.5.2.1.7311.5101.326481939917040902941585162198.dcm [Content-Type=application/dicom]...\n",
            "Copying file:///content/prostatex/dicom/ProstateX-0004/1.3.6.1.4.1.14519.5.2.1.7311.5101.170561193612723093192571245493/1.3.6.1.4.1.14519.5.2.1.7311.5101.278358228783511961204087191158/1.3.6.1.4.1.14519.5.2.1.7311.5101.192777861370011354321582424540.dcm [Content-Type=application/dicom]...\n",
            "Copying file:///content/prostatex/dicom/ProstateX-0004/1.3.6.1.4.1.14519.5.2.1.7311.5101.170561193612723093192571245493/1.3.6.1.4.1.14519.5.2.1.7311.5101.278358228783511961204087191158/1.3.6.1.4.1.14519.5.2.1.7311.5101.290263254496442242415913735283.dcm [Content-Type=application/dicom]...\n",
            "Copying file:///content/prostatex/dicom/ProstateX-0004/1.3.6.1.4.1.14519.5.2.1.7311.5101.170561193612723093192571245493/1.3.6.1.4.1.14519.5.2.1.7311.5101.278358228783511961204087191158/1.3.6.1.4.1.14519.5.2.1.7311.5101.259054845141206293094330375872.dcm [Content-Type=application/dicom]...\n",
            "Copying file:///content/prostatex/dicom/ProstateX-0004/1.3.6.1.4.1.14519.5.2.1.7311.5101.170561193612723093192571245493/1.3.6.1.4.1.14519.5.2.1.7311.5101.278358228783511961204087191158/1.3.6.1.4.1.14519.5.2.1.7311.5101.188318656153076807319680712693.dcm [Content-Type=application/dicom]...\n",
            "Copying file:///content/prostatex/dicom/ProstateX-0004/1.3.6.1.4.1.14519.5.2.1.7311.5101.170561193612723093192571245493/1.3.6.1.4.1.14519.5.2.1.7311.5101.278358228783511961204087191158/1.3.6.1.4.1.14519.5.2.1.7311.5101.227902545621922515361072647810.dcm [Content-Type=application/dicom]...\n",
            "Copying file:///content/prostatex/dicom/ProstateX-0004/1.3.6.1.4.1.14519.5.2.1.7311.5101.170561193612723093192571245493/1.3.6.1.4.1.14519.5.2.1.7311.5101.278358228783511961204087191158/1.3.6.1.4.1.14519.5.2.1.7311.5101.327195708817421668047985977557.dcm [Content-Type=application/dicom]...\n",
            "Copying file:///content/prostatex/dicom/ProstateX-0004/1.3.6.1.4.1.14519.5.2.1.7311.5101.170561193612723093192571245493/1.3.6.1.4.1.14519.5.2.1.7311.5101.278358228783511961204087191158/1.3.6.1.4.1.14519.5.2.1.7311.5101.120182904570469180898021983365.dcm [Content-Type=application/dicom]...\n",
            "Copying file:///content/prostatex/dicom/ProstateX-0004/1.3.6.1.4.1.14519.5.2.1.7311.5101.170561193612723093192571245493/1.3.6.1.4.1.14519.5.2.1.7311.5101.278358228783511961204087191158/1.3.6.1.4.1.14519.5.2.1.7311.5101.748495628984755559847403795692.dcm [Content-Type=application/dicom]...\n",
            "Copying file:///content/prostatex/dicom/ProstateX-0004/1.3.6.1.4.1.14519.5.2.1.7311.5101.170561193612723093192571245493/1.3.6.1.4.1.14519.5.2.1.7311.5101.278358228783511961204087191158/1.3.6.1.4.1.14519.5.2.1.7311.5101.234828076420742545553100667932.dcm [Content-Type=application/dicom]...\n",
            "Copying file:///content/prostatex/dicom/ProstateX-0004/1.3.6.1.4.1.14519.5.2.1.7311.5101.170561193612723093192571245493/1.3.6.1.4.1.14519.5.2.1.7311.5101.278358228783511961204087191158/1.3.6.1.4.1.14519.5.2.1.7311.5101.260167119752072712227387102267.dcm [Content-Type=application/dicom]...\n",
            "Copying file:///content/prostatex/dicom/ProstateX-0004/1.3.6.1.4.1.14519.5.2.1.7311.5101.170561193612723093192571245493/1.3.6.1.4.1.14519.5.2.1.7311.5101.278358228783511961204087191158/1.3.6.1.4.1.14519.5.2.1.7311.5101.181409570518037321796014170365.dcm [Content-Type=application/dicom]...\n",
            "| [19/19 files][474.9 KiB/474.9 KiB] 100% Done                                  \n",
            "Operation completed over 19 objects/474.9 KiB.                                   \n",
            "Copying file://test_gt_0004.dcm [Content-Type=application/dicom]...\n",
            "-\n",
            "Operation completed over 1 objects/1.4 MiB.                                      \n",
            "Copying file:///content/prostatex/dicom/ProstateX-0004/1.3.6.1.4.1.14519.5.2.1.7311.5101.170561193612723093192571245493/1.2.276.0.7230010.3.1.3.1070885483.15960.1599120307.701/1.2.276.0.7230010.3.1.4.1070885483.15960.1599120307.702.dcm [Content-Type=application/dicom]...\n",
            "/ [1/1 files][  1.4 MiB/  1.4 MiB] 100% Done                                    \n",
            "Operation completed over 1 objects/1.4 MiB.                                      \n"
          ]
        }
      ],
      "source": [
        "# Add MRI T2 and SEG to bucket \n",
        "\n",
        "# MRI T2 \n",
        "!gsutil -m cp -r '/content/prostatex/dicom/ProstateX-0004/1.3.6.1.4.1.14519.5.2.1.7311.5101.170561193612723093192571245493/1.3.6.1.4.1.14519.5.2.1.7311.5101.206828891270520544417996275680/*' gs://nnunet_mr_test01_bucket\n",
        "!gsutil -m cp -r '/content/prostatex/dicom/ProstateX-0004/1.3.6.1.4.1.14519.5.2.1.7311.5101.170561193612723093192571245493/1.3.6.1.4.1.14519.5.2.1.7311.5101.278358228783511961204087191158/*' gs://nnunet_mr_test01_bucket\n",
        "\n",
        "# SEG - GT - DCMQI NII TO DCM\n",
        "!gsutil -m cp test_gt_0004.dcm gs://nnunet_mr_test01_bucket\n",
        "\n",
        "# SEG - PREDS - IDC DCM\n",
        "!gsutil -m cp /content/prostatex/dicom/ProstateX-0004/1.3.6.1.4.1.14519.5.2.1.7311.5101.170561193612723093192571245493/1.2.276.0.7230010.3.1.3.1070885483.15960.1599120307.701/1.2.276.0.7230010.3.1.4.1070885483.15960.1599120307.702.dcm gs://nnunet_mr_test01_bucket\n"
      ]
    },
    {
      "cell_type": "markdown",
      "metadata": {
        "id": "RjjTnehnINSz"
      },
      "source": [
        "Copy the MR data and SEG from bucket to the dicom datastore we created above. "
      ]
    },
    {
      "cell_type": "code",
      "execution_count": 43,
      "metadata": {
        "colab": {
          "base_uri": "https://localhost:8080/"
        },
        "id": "5PMos8NSU5v5",
        "outputId": "6ea1b24c-1b6f-4f77-d522-750ba1fcaaa6"
      },
      "outputs": [
        {
          "output_type": "stream",
          "name": "stdout",
          "text": [
            "Request issued for: [nnunet_seg_test01_datastore]\n",
            "name: projects/idc-sandbox-003/locations/us-central1/datasets/nnunet_seg_test01/dicomStores/nnunet_seg_test01_datastore\n"
          ]
        }
      ],
      "source": [
        "# Add MRI and SR from bucket to dicomstore \n",
        "\n",
        "!gcloud healthcare dicom-stores import gcs $my_datastore \\\n",
        "                                            --dataset=$my_dataset \\\n",
        "                                            --location=$location_id \\\n",
        "                                            --project=$project_name \\\n",
        "                                            --gcs-uri=gs://nnunet_mr_test01_bucket/**.dcm"
      ]
    },
    {
      "cell_type": "markdown",
      "metadata": {
        "id": "F6RtjwBcRNbm"
      },
      "source": [
        "Navigate to the OHIF app you created and open the DICOM datastore. "
      ]
    }
  ],
  "metadata": {
    "accelerator": "GPU",
    "colab": {
      "collapsed_sections": [],
      "name": "prostateX-patID0004-dcmqi-test.ipynb",
      "provenance": [],
      "include_colab_link": true
    },
    "gpuClass": "standard",
    "kernelspec": {
      "display_name": "Python 3",
      "name": "python3"
    },
    "language_info": {
      "name": "python"
    }
  },
  "nbformat": 4,
  "nbformat_minor": 0
}