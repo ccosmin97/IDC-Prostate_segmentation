{
  "cells": [
    {
      "cell_type": "markdown",
      "metadata": {
        "id": "view-in-github",
        "colab_type": "text"
      },
      "source": [
        "<a href=\"https://colab.research.google.com/github/ccosmin97/IDC-Prostate_segmentation/blob/main/IDC_notebooks/idc-prostate_segmentation_promised24_QIN-PROSTATE-Repeatability.ipynb\" target=\"_parent\"><img src=\"https://colab.research.google.com/assets/colab-badge.svg\" alt=\"Open In Colab\"/></a>"
      ]
    },
    {
      "cell_type": "markdown",
      "metadata": {
        "id": "WnbkuvxW0Ntp"
      },
      "source": [
        "# Prostate segmentation on IDC collection -- QIN-REP\n",
        "*   Dataset : [QIN-REP](https://portal.imaging.datacommons.cancer.gov/explore/filters/?collection_id=qin_prostate_repeatability)\n",
        "*   Goal : Prostate segmentation using D24 Promise nnUnet pre-trained model, one T2 modality input"
      ]
    },
    {
      "cell_type": "markdown",
      "source": [
        "# Auth login"
      ],
      "metadata": {
        "id": "Db4ansTyzqZ1"
      }
    },
    {
      "cell_type": "markdown",
      "source": [
        "##Colab"
      ],
      "metadata": {
        "id": "a8GPDXZW00j5"
      }
    },
    {
      "cell_type": "code",
      "source": [
        "#colab \n",
        "from google.colab import auth\n",
        "auth.authenticate_user()"
      ],
      "metadata": {
        "id": "XSg6W2HXzsoG"
      },
      "execution_count": null,
      "outputs": []
    },
    {
      "cell_type": "markdown",
      "source": [
        "## Drive setup for upload results"
      ],
      "metadata": {
        "id": "WbhEtAA70vjr"
      }
    },
    {
      "cell_type": "code",
      "source": [
        "# import os\n",
        "# #drive mount\n",
        "# from google.colab import drive\n",
        "# drive.mount('/content/drive')\n",
        "# ##setup paths\n",
        "# path_drive_root = \"/content/drive/MyDrive/\"\n",
        "# drive_exp_root_name = \"IDC\" \n",
        "# data = \"qin-prostate-repeatability\"\n",
        "# pre_trained_mod = \"task024-promise\"\n",
        "# timestamp = \"2022_07_11\"#year_month_day"
      ],
      "metadata": {
        "id": "ysgh2HbT0ym3"
      },
      "execution_count": null,
      "outputs": []
    },
    {
      "cell_type": "code",
      "source": [
        "# #personal drive path -- make sure folder exists in google drive\n",
        "# path_experiment = os.path.join(path_drive_root,\n",
        "#                                drive_exp_root_name,\n",
        "#                                data,\n",
        "#                                pre_trained_mod,\n",
        "#                                timestamp)\n",
        "\n",
        "# if not os.path.exists(path_experiment):\n",
        "#   !mkdir -p $path_experiment"
      ],
      "metadata": {
        "id": "93gVfB_i0uBA"
      },
      "execution_count": null,
      "outputs": []
    },
    {
      "cell_type": "markdown",
      "metadata": {
        "id": "hYHTAtTsUgdB"
      },
      "source": [
        "# Global variables"
      ]
    },
    {
      "cell_type": "markdown",
      "source": [
        "## Variables used for resampling -- inference -- setup labelID for ground truth segs"
      ],
      "metadata": {
        "id": "yzDbwBXyvWVr"
      }
    },
    {
      "cell_type": "code",
      "source": [
        "# IDC collection for paths setup\n",
        "collection_name = \"qin_prostate_root_data\"\n",
        "##nnunet\n",
        "model_type = '3d_fullres'#other options are '2d',..\n",
        "##labelID seg retrieval\n",
        "ground_truth_cat_CodeMeaning = 'Anatomical Structure'\n",
        "ground_truth_type_CodeMeaning = 'Prostate'"
      ],
      "metadata": {
        "id": "bMsV_GPNvcip"
      },
      "execution_count": null,
      "outputs": []
    },
    {
      "cell_type": "markdown",
      "source": [
        "## Global paths"
      ],
      "metadata": {
        "id": "UM_Mfc103n1U"
      }
    },
    {
      "cell_type": "code",
      "execution_count": null,
      "metadata": {
        "id": "ZC_bUbUTUgBs"
      },
      "outputs": [],
      "source": [
        "import os \n",
        "\n",
        "#qin_prostate_repeatibility\n",
        "os.environ[\"qin_prostate_rep_root\"] = os.path.join(os.getcwd(), collection_name)\n",
        "os.environ[\"qin_prostate_rep_dicom\"] = os.path.join(os.environ[\"qin_prostate_rep_root\"], \"dicom\")\n",
        "os.environ[\"qin_prostate_rep_nii\"] = os.path.join(os.environ[\"qin_prostate_rep_root\"], \"nii\")\n",
        "os.environ[\"qin_prostate_rep_nrrd\"] = os.path.join(os.environ[\"qin_prostate_rep_root\"], \"nrrd\")\n",
        "os.environ[\"qin_prostate_rep_analysis\"] = os.path.join(os.environ[\"qin_prostate_rep_root\"], \"results\")\n",
        "os.environ[\"qin_prostate_rep_analysis_verbose\"] = os.path.join(os.environ[\"qin_prostate_rep_root\"], \"results_verbose\")\n",
        "\n",
        "\n",
        "#resampled data -- To t2 mod\n",
        "os.environ[\"qin_prostate_rep_root_resampled\"] = os.path.join(os.environ[\"qin_prostate_rep_root\"], \"resampled\")\n",
        "os.environ[\"qin_prostate_rep_nii_resampled\"] = os.path.join(os.environ[\"qin_prostate_rep_root_resampled\"], \"nii\")\n",
        "os.environ[\"qin_prostate_rep_nrrd_resampled\"] = os.path.join(os.environ[\"qin_prostate_rep_root_resampled\"], \"nrrd\")\n",
        "\n",
        "#nnunet\n",
        "os.environ[\"nnUNet\"] = os.path.join(os.getcwd(), \"nnUNet\")\n",
        "os.environ[\"nnUNet_data\"] = os.path.join(os.environ[\"nnUNet\"], \"data\")\n",
        "os.environ['nnUNet_raw_data_base'] = os.path.join(os.environ[\"nnUNet_data\"], \"nnUNet_raw_data\")\n",
        "os.environ['nnUNet_preprocessed'] = os.path.join(os.environ[\"nnUNet_data\"], \"processed\")\n",
        "os.environ[\"nnUNet_models\"] = os.path.join(os.environ[\"nnUNet\"], \"models\")\n",
        "os.environ[\"RESULTS_FOLDER\"] = os.path.join(os.environ[\"nnUNet\"], \"output\", \"preds\")\n",
        "os.environ[\"nnUNet_preds_resampled\"] = os.path.join(os.environ[\"nnUNet\"], \"output\", \"preds_resampled\")\n",
        "os.environ[\"nnUNet_raw_data\"] = os.path.join(os.environ[\"nnUNet\"], \"raw_data\")\n",
        "#path where model pre-trained weights are stored\n",
        "os.environ[\"PATH_TO_MODEL_FILE\"] = os.path.join(os.environ[\"nnUNet\"], \"models\", \"Task024_Promise.zip\")\n",
        "\n",
        "#misc\n",
        "os.environ[\"IDC_Downloads\"] = os.path.join(os.getcwd(), \"IDC_DL\")\n",
        "os.environ[\"IDC_Downloads_Sorted\"] = os.path.join(os.getcwd(), \"IDC_DL\", \"Sorted\")\n",
        "\n",
        "#create dirs for specific folders names\n",
        "for key, path in os.environ.items():\n",
        "  check_patterns = [True for el in [\"qin\", \"nnunet\", \"IDC\", \"nnUNet\"] if el in key]\n",
        "  if True in check_patterns:\n",
        "    !mkdir -p $path"
      ]
    },
    {
      "cell_type": "markdown",
      "metadata": {
        "id": "y1ZYYVPHz_xm"
      },
      "source": [
        "# Setup GCP Project ID"
      ]
    },
    {
      "cell_type": "code",
      "execution_count": null,
      "metadata": {
        "id": "g1EN9Dnz0CU4"
      },
      "outputs": [],
      "source": [
        "project_id = \"idc-nlst-unet-seg\"\n",
        "os.environ[\"GCP_PROJECT_ID\"] = project_id"
      ]
    },
    {
      "cell_type": "markdown",
      "metadata": {
        "id": "aru3sCveZjh7"
      },
      "source": [
        "# Download nnUnet pre-trained model on prostate decathlon data -- task24 -- personal dropbox\n",
        "\n",
        "nnUnet pre-trained models zip files can also be found [here](https://zenodo.org/record/4003545#.YsWmH-zMLt8)."
      ]
    },
    {
      "cell_type": "code",
      "execution_count": null,
      "metadata": {
        "colab": {
          "base_uri": "https://localhost:8080/"
        },
        "id": "VPo9DgA7tKHm",
        "outputId": "3700f49f-dcd3-44ab-bbe2-94663ccf0f03"
      },
      "outputs": [
        {
          "output_type": "stream",
          "name": "stdout",
          "text": [
            "/content/nnUNet/models\n"
          ]
        }
      ],
      "source": [
        "print(os.environ[\"nnUNet_models\"])"
      ]
    },
    {
      "cell_type": "code",
      "execution_count": null,
      "metadata": {
        "colab": {
          "base_uri": "https://localhost:8080/"
        },
        "id": "AzPWnwbqB-Bt",
        "outputId": "db74add4-f1b9-4931-ceed-e180b57c4b79"
      },
      "outputs": [
        {
          "output_type": "stream",
          "name": "stdout",
          "text": [
            "--2022-07-14 18:09:11--  https://www.dropbox.com/s/u9m37l8et4hgu4h/Task024_Promise.zip?dl=0\n",
            "Resolving www.dropbox.com (www.dropbox.com)... 162.125.5.18, 2620:100:601d:18::a27d:512\n",
            "Connecting to www.dropbox.com (www.dropbox.com)|162.125.5.18|:443... connected.\n",
            "HTTP request sent, awaiting response... 301 Moved Permanently\n",
            "Location: /s/raw/u9m37l8et4hgu4h/Task024_Promise.zip [following]\n",
            "--2022-07-14 18:09:11--  https://www.dropbox.com/s/raw/u9m37l8et4hgu4h/Task024_Promise.zip\n",
            "Reusing existing connection to www.dropbox.com:443.\n",
            "HTTP request sent, awaiting response... 302 Found\n",
            "Location: https://uc576de84b1dbc02acd8f93bb5b3.dl.dropboxusercontent.com/cd/0/inline/BpFWvjcpIyafX54uAr-QsKdCPkCy4HAUZpxzgHTuKl8Qq-KcX02A2mYsAkWKr9I5ifLTEAhxqcv4MezQTFa3-8oqVbVbSlfD9O8Ts3ZCWjYoloJeEFDdz1Qsju2OnaxHC-N50ziQM8DswEy9LDbTajK-CyiCdFyqTqUUuGqtJV1M3A/file# [following]\n",
            "--2022-07-14 18:09:12--  https://uc576de84b1dbc02acd8f93bb5b3.dl.dropboxusercontent.com/cd/0/inline/BpFWvjcpIyafX54uAr-QsKdCPkCy4HAUZpxzgHTuKl8Qq-KcX02A2mYsAkWKr9I5ifLTEAhxqcv4MezQTFa3-8oqVbVbSlfD9O8Ts3ZCWjYoloJeEFDdz1Qsju2OnaxHC-N50ziQM8DswEy9LDbTajK-CyiCdFyqTqUUuGqtJV1M3A/file\n",
            "Resolving uc576de84b1dbc02acd8f93bb5b3.dl.dropboxusercontent.com (uc576de84b1dbc02acd8f93bb5b3.dl.dropboxusercontent.com)... 162.125.5.15, 2620:100:601d:15::a27d:50f\n",
            "Connecting to uc576de84b1dbc02acd8f93bb5b3.dl.dropboxusercontent.com (uc576de84b1dbc02acd8f93bb5b3.dl.dropboxusercontent.com)|162.125.5.15|:443... connected.\n",
            "HTTP request sent, awaiting response... 302 Found\n",
            "Location: /cd/0/inline2/BpEi86mI4cUtPU5Z0DoJLL0DI6r3akK81Y3KoT5_Rof8rlR5CVNku5syo0qxMG95YJhyOITcjtM99bse_c1LHQp2UA3y_vYcqzHZ17aUcwjEbBd0GXfl8gzn4Y7fRhxj6E2BN9INVuhrrugc0XsZFu7YR11zltBkvYcobbaJ3WbqrPi-fwVvF2zHf_mt9ugAAW0oYsm7i__tpf20A7-m4MYjxVrgFeccxAfXEUgy063mVgNn4PXXRc8LlH8Y1YVzrGrKDyJ4FeAseEMtBeCOUZakM1BWJmix7bGD76YDXvxSAVSqa4wh74Q5DJU_SGIkrmD_rzprqraWC1bnZB9aS7pXt7RifJjTpLwvQ145i2m35vYYNd_LHY-iS5TYsUcm_a1cZa29HIdC_kub5ok2GMyiftLXEJg_OPpAy5McnX4wgA/file [following]\n",
            "--2022-07-14 18:09:12--  https://uc576de84b1dbc02acd8f93bb5b3.dl.dropboxusercontent.com/cd/0/inline2/BpEi86mI4cUtPU5Z0DoJLL0DI6r3akK81Y3KoT5_Rof8rlR5CVNku5syo0qxMG95YJhyOITcjtM99bse_c1LHQp2UA3y_vYcqzHZ17aUcwjEbBd0GXfl8gzn4Y7fRhxj6E2BN9INVuhrrugc0XsZFu7YR11zltBkvYcobbaJ3WbqrPi-fwVvF2zHf_mt9ugAAW0oYsm7i__tpf20A7-m4MYjxVrgFeccxAfXEUgy063mVgNn4PXXRc8LlH8Y1YVzrGrKDyJ4FeAseEMtBeCOUZakM1BWJmix7bGD76YDXvxSAVSqa4wh74Q5DJU_SGIkrmD_rzprqraWC1bnZB9aS7pXt7RifJjTpLwvQ145i2m35vYYNd_LHY-iS5TYsUcm_a1cZa29HIdC_kub5ok2GMyiftLXEJg_OPpAy5McnX4wgA/file\n",
            "Reusing existing connection to uc576de84b1dbc02acd8f93bb5b3.dl.dropboxusercontent.com:443.\n",
            "HTTP request sent, awaiting response... 200 OK\n",
            "Length: 2258526938 (2.1G) [application/zip]\n",
            "Saving to: ‘/content/nnUNet/models/Task024_Promise.zip’\n",
            "\n",
            "/content/nnUNet/mod 100%[===================>]   2.10G  33.7MB/s    in 44s     \n",
            "\n",
            "2022-07-14 18:09:58 (48.7 MB/s) - ‘/content/nnUNet/models/Task024_Promise.zip’ saved [2258526938/2258526938]\n",
            "\n"
          ]
        }
      ],
      "source": [
        "# this will usually take between one and five minutes (but can sometimes take up to eight)\n",
        "seg_model_url = \"https://www.dropbox.com/s/u9m37l8et4hgu4h/Task024_Promise.zip?dl=0\"\n",
        "out_path_mod = os.path.join(os.environ[\"nnUNet_models\"], \"Task024_Promise.zip\")#\"/content/nnUnet/models/Task024_Promise.zip\"\n",
        "!wget -O $out_path_mod $seg_model_url"
      ]
    },
    {
      "cell_type": "markdown",
      "metadata": {
        "id": "eRtmCas7dT6D"
      },
      "source": [
        "# Setup of the Colab VM\n",
        "\n",
        "\n",
        "\n",
        "In the following cells we will confirm you have a GPU before doing anything else, and will install and import all the Python dependencies. \n",
        "\n",
        "The main python packages we need to install are:\n",
        "* `nnunet` - which is the [codebase for the nn-UNet framework](https://github.com/MIC-DKFZ/nnUNet) we are going to be using for the segmentation step;\n",
        "* `pydicom`, a Python [package](https://github.com/pydicom/pydicom) that lets the use read, modify, and write DICOM data in an easy \"pythonic\" way - that we are going to use to distinguish different DICOM objects from each other."
      ]
    },
    {
      "cell_type": "markdown",
      "metadata": {
        "id": "zLvysANUArnm"
      },
      "source": [
        "## GPU checks"
      ]
    },
    {
      "cell_type": "code",
      "execution_count": null,
      "metadata": {
        "id": "Pf2j172mddvK"
      },
      "outputs": [],
      "source": [
        "# check wether the Colab Instance was correctly initialized with a GPU instance\n",
        "gpu_list = !nvidia-smi --list-gpus\n",
        "\n",
        "has_gpu = False if \"failed\" in gpu_list[0] else True\n",
        "\n",
        "if not has_gpu:\n",
        "  print(\"Your Colab VM does not have a GPU - check \\\"Runtime > Change runtime type\\\"\")"
      ]
    },
    {
      "cell_type": "code",
      "execution_count": null,
      "metadata": {
        "colab": {
          "base_uri": "https://localhost:8080/"
        },
        "id": "kL6xCvo3eKQ0",
        "outputId": "31eeb041-707b-479b-81a8-adb3b6d25cd8"
      },
      "outputs": [
        {
          "output_type": "stream",
          "name": "stdout",
          "text": [
            "Thu Jul 14 18:09:58 2022       \n",
            "+-----------------------------------------------------------------------------+\n",
            "| NVIDIA-SMI 460.32.03    Driver Version: 460.32.03    CUDA Version: 11.2     |\n",
            "|-------------------------------+----------------------+----------------------+\n",
            "| GPU  Name        Persistence-M| Bus-Id        Disp.A | Volatile Uncorr. ECC |\n",
            "| Fan  Temp  Perf  Pwr:Usage/Cap|         Memory-Usage | GPU-Util  Compute M. |\n",
            "|                               |                      |               MIG M. |\n",
            "|===============================+======================+======================|\n",
            "|   0  Tesla P100-PCIE...  Off  | 00000000:00:04.0 Off |                    0 |\n",
            "| N/A   38C    P0    29W / 250W |      0MiB / 16280MiB |      0%      Default |\n",
            "|                               |                      |                  N/A |\n",
            "+-------------------------------+----------------------+----------------------+\n",
            "                                                                               \n",
            "+-----------------------------------------------------------------------------+\n",
            "| Processes:                                                                  |\n",
            "|  GPU   GI   CI        PID   Type   Process name                  GPU Memory |\n",
            "|        ID   ID                                                   Usage      |\n",
            "|=============================================================================|\n",
            "|  No running processes found                                                 |\n",
            "+-----------------------------------------------------------------------------+\n"
          ]
        }
      ],
      "source": [
        "# check which model of GPU the notebook is equipped with - a Tesla K80 or T4\n",
        "# T4 is the best performing on the two - and can about half the GPU processing time\n",
        "\n",
        "!nvidia-smi"
      ]
    },
    {
      "cell_type": "markdown",
      "metadata": {
        "id": "ZJhwBz2ABT_p"
      },
      "source": [
        "## Environment Setup\n",
        "\n",
        "Here we will configure the Linux environment variables needed to run the nnU-Net pipeline. \n",
        "\n",
        "Three main variables are needed by default to run the nnU-Net segmentation pipelines:\n",
        "* `nnUNet_raw_data_base` is the path to the folder where the segmentation pipeline expects to find the data to process;\n",
        "* `nnUNet_preprocessed` is the path to the folder where the preprocessed data are saved;\n",
        "* `RESULTS_FOLDER` is the path to the folder storing by default the model weights and, in our case, for simplicity, the segmentation masks produced by the pipeline.\n",
        "\n",
        "We will use the additional variable `PATH_TO_MODEL_FILE` to point to the location where the pre-trained model weights for the chosen model will be stored (more on this later).\n",
        "\n",
        "Please notice that these variables need to be set using `os.environ[]` in Google Colab - as `!export` is not sufficient to guarantee the variables are kept from one cell to the other. For more in-depth information regarding what the nnU-Net framework uses these folders for, please visit [the dedicated nnU-Net documentation page](https://github.com/MIC-DKFZ/nnUNet/blob/master/documentation/setting_up_paths.md)"
      ]
    },
    {
      "cell_type": "markdown",
      "metadata": {
        "id": "40E3HnI5A0SX"
      },
      "source": [
        "## Install command-line tools\n",
        "\n",
        "\n",
        "[Plastimatch](https://plastimatch.org/index.html) is considered to be the swiss army knife of medical images processing: we will use it to convert DICOM (CT, RTSTRUCT) series to NRRD files - but it can be used for a multitude of other tasks, such as registration, resampling, cropping, and computing statistics to name a few. Plastimatch is also available as a 3DSlicer plug-in and can be used directly from the Slicer GUI.\n",
        "\n",
        "For the sake of clarity and simplicity, we will call Plastimatch from a very simple [Python wrapper](https://github.com/denbonte/pyplastimatch) written for the occasion (unfortunately, Plastimatch does not provide an official one)."
      ]
    },
    {
      "cell_type": "code",
      "execution_count": null,
      "metadata": {
        "id": "ZZL6-ByHA7XY"
      },
      "outputs": [],
      "source": [
        "%%capture\n",
        "!sudo apt update\n",
        "\n",
        "!sudo apt install plastimatch"
      ]
    },
    {
      "cell_type": "code",
      "execution_count": null,
      "metadata": {
        "colab": {
          "base_uri": "https://localhost:8080/"
        },
        "id": "LMovHnKgBEfC",
        "outputId": "19dea4ca-01e7-49b5-c904-0dfb621160f3"
      },
      "outputs": [
        {
          "output_type": "stream",
          "name": "stdout",
          "text": [
            "plastimatch version 1.7.0\n"
          ]
        }
      ],
      "source": [
        "!echo $(plastimatch --version)"
      ]
    },
    {
      "cell_type": "markdown",
      "metadata": {
        "id": "K_8zlhmdo0HD"
      },
      "source": [
        "[dcmqi](https://github.com/QIICR/dcmqi) is an open source library that can help with the conversion between imaging research formats and the standard DICOM representation for image analysis results. More specifically, you can use dcmqi convert DICOM Segmentation objects (DICOM SEG) into research formats, such as NIfTI and NRRD."
      ]
    },
    {
      "cell_type": "code",
      "execution_count": null,
      "metadata": {
        "id": "KAkmz4jApGh8"
      },
      "outputs": [],
      "source": [
        "%%capture\n",
        "!wget https://github.com/QIICR/dcmqi/releases/download/v1.2.4/dcmqi-1.2.4-linux.tar.gz\n",
        "!tar zxvf dcmqi-1.2.4-linux.tar.gz\n",
        "!cp dcmqi-1.2.4-linux/bin/* /usr/local/bin/"
      ]
    },
    {
      "cell_type": "markdown",
      "metadata": {
        "id": "fFRWendbBH72"
      },
      "source": [
        "Finally, we are going to install [Subversion](https://subversion.apache.org/), a tool that will allow us to clone GitHub repositories only partially (to save time and space)."
      ]
    },
    {
      "cell_type": "code",
      "execution_count": null,
      "metadata": {
        "id": "YBEJRe-2BKah"
      },
      "outputs": [],
      "source": [
        "%%capture\n",
        "\n",
        "!sudo apt install subversion"
      ]
    },
    {
      "cell_type": "code",
      "execution_count": null,
      "metadata": {
        "colab": {
          "base_uri": "https://localhost:8080/"
        },
        "id": "WI1_BixWBN1O",
        "outputId": "6a360d94-e9ba-44dc-b8b2-f221d255169a"
      },
      "outputs": [
        {
          "output_type": "stream",
          "name": "stdout",
          "text": [
            "svn, version 1.9.7 (r1800392) compiled May 21 2022, 07:24:25 on x86_64-pc-linux-gnu\n"
          ]
        }
      ],
      "source": [
        "!echo $(svn --version | head -n 2)"
      ]
    },
    {
      "cell_type": "markdown",
      "metadata": {
        "id": "0Ev-JlpCAuMs"
      },
      "source": [
        "## Install Python packages"
      ]
    },
    {
      "cell_type": "code",
      "execution_count": null,
      "metadata": {
        "id": "7XMzq-8nRvKd"
      },
      "outputs": [],
      "source": [
        "%%capture\n",
        "!pip install nnunet\n",
        "!pip install pydicom\n",
        "!pip install nibabel"
      ]
    },
    {
      "cell_type": "markdown",
      "metadata": {
        "id": "62yhEkkjITzn"
      },
      "source": [
        "Unpack and install model we downloaded earlier (under `PATH_TO_MODEL_FILE`). This step can take about 1-2 minutes."
      ]
    },
    {
      "cell_type": "code",
      "execution_count": null,
      "metadata": {
        "id": "QOVsPuzxIOXX"
      },
      "outputs": [],
      "source": [
        "%%capture\n",
        "!nnUNet_install_pretrained_model_from_zip $PATH_TO_MODEL_FILE"
      ]
    },
    {
      "cell_type": "markdown",
      "metadata": {
        "id": "BP1tahM9tzlm"
      },
      "source": [
        "Next we set up few things to help with visualization of the segmentations later."
      ]
    },
    {
      "cell_type": "code",
      "execution_count": null,
      "metadata": {
        "colab": {
          "base_uri": "https://localhost:8080/"
        },
        "id": "cURjj8rzAa2L",
        "outputId": "5760aabf-3d2c-41c8-c75b-5282f24f0de8"
      },
      "outputs": [
        {
          "output_type": "stream",
          "name": "stdout",
          "text": [
            "WARNING: Tensorflow 1 is deprecated, and support will be removed on August 1, 2022.\n",
            "After that, `%tensorflow_version 1.x` will throw an error.\n",
            "\n",
            "Your notebook should be updated to use Tensorflow 2.\n",
            "See the guide at https://www.tensorflow.org/guide/migrate#migrate-from-tensorflow-1x-to-tensorflow-2.\n",
            "\n",
            "TensorFlow 1.x selected.\n"
          ]
        },
        {
          "output_type": "stream",
          "name": "stderr",
          "text": [
            "Using TensorFlow backend.\n"
          ]
        },
        {
          "output_type": "stream",
          "name": "stdout",
          "text": [
            "Python version               :  3.7.13 (default, Apr 24 2022, 01:04:09) \n",
            "Numpy version                :  1.21.6\n",
            "TensorFlow version           :  1.15.2\n",
            "Keras (stand-alone) version  :  2.3.1\n",
            "\n",
            "This Colab instance is equipped with a GPU.\n"
          ]
        }
      ],
      "source": [
        "import os\n",
        "import sys\n",
        "import shutil\n",
        "import csv\n",
        "import random\n",
        "\n",
        "import os\n",
        "import glob\n",
        "import csv\n",
        "import json\n",
        "\n",
        "import nibabel as nib\n",
        "\n",
        "import time\n",
        "import gdown\n",
        "\n",
        "import json\n",
        "import pprint\n",
        "import numpy as np\n",
        "import pandas as pd\n",
        "\n",
        "import pydicom\n",
        "import nibabel as nib\n",
        "import SimpleITK as sitk\n",
        "\n",
        "from medpy.metric.binary import dc as dice_coef\n",
        "from medpy.metric.binary import hd as hausdorff_distance\n",
        "from medpy.metric.binary import asd as avg_surf_distance\n",
        "\n",
        "from medpy.filter.binary import largest_connected_component\n",
        "\n",
        "# use the \"tensorflow_version\" magic to make sure TF 1.x is imported\n",
        "%tensorflow_version 1.x\n",
        "import tensorflow as tf\n",
        "import keras\n",
        "\n",
        "print(\"Python version               : \", sys.version.split('\\n')[0])\n",
        "print(\"Numpy version                : \", np.__version__)\n",
        "print(\"TensorFlow version           : \", tf.__version__)\n",
        "print(\"Keras (stand-alone) version  : \", keras.__version__)\n",
        "\n",
        "print(\"\\nThis Colab instance is equipped with a GPU.\")"
      ]
    },
    {
      "cell_type": "code",
      "execution_count": null,
      "metadata": {
        "colab": {
          "base_uri": "https://localhost:8080/"
        },
        "id": "UrAh2kjqb2Be",
        "outputId": "b0a28a2a-eda3-4907-e8d1-5361cd4f3536"
      },
      "outputs": [
        {
          "output_type": "stream",
          "name": "stdout",
          "text": [
            "A    pyplastimatch/__init__.py\n",
            "A    pyplastimatch/pyplastimatch.py\n",
            "A    pyplastimatch/utils\n",
            "A    pyplastimatch/utils/__init__.py\n",
            "A    pyplastimatch/utils/data.py\n",
            "A    pyplastimatch/utils/eval.py\n",
            "A    pyplastimatch/utils/viz.py\n",
            "Checked out revision 18.\n"
          ]
        }
      ],
      "source": [
        "# PyPlastimatch - python wrapper for Plastimatch (and interactive notebook visualisation)\n",
        "!svn checkout https://github.com/AIM-Harvard/pyplastimatch/trunk/pyplastimatch pyplastimatch"
      ]
    },
    {
      "cell_type": "code",
      "execution_count": null,
      "metadata": {
        "colab": {
          "base_uri": "https://localhost:8080/"
        },
        "id": "GsePTNBmM9sw",
        "outputId": "445f3eca-539f-412c-f11e-d906ef39d14a"
      },
      "outputs": [
        {
          "output_type": "stream",
          "name": "stdout",
          "text": [
            "Cloning into 'dicomsort'...\n",
            "remote: Enumerating objects: 130, done.\u001b[K\n",
            "remote: Counting objects: 100% (4/4), done.\u001b[K\n",
            "remote: Compressing objects: 100% (4/4), done.\u001b[K\n",
            "remote: Total 130 (delta 0), reused 1 (delta 0), pack-reused 126\u001b[K\n",
            "Receiving objects: 100% (130/130), 44.12 KiB | 8.82 MiB/s, done.\n",
            "Resolving deltas: 100% (63/63), done.\n"
          ]
        }
      ],
      "source": [
        "# dicomsort is the pythong package that can sort DICOM files into\n",
        "# folder organization based on user-specified DICOM attributes\n",
        "!git clone https://github.com/pieper/dicomsort.git"
      ]
    },
    {
      "cell_type": "code",
      "execution_count": null,
      "metadata": {
        "id": "0s9aRassGOQ_"
      },
      "outputs": [],
      "source": [
        "from pyplastimatch import pyplastimatch as pypla\n",
        "from pyplastimatch.utils import viz as viz_utils\n",
        "from pyplastimatch.utils import data as data_utils"
      ]
    },
    {
      "cell_type": "markdown",
      "metadata": {
        "id": "Duil1tviGWaG"
      },
      "source": [
        "# Data selection, downloading and structuring\n",
        "\n",
        "We want to select here the collection named qin-prostate repeatibility, and more particularly the two timepoints per patient ID for further analysis."
      ]
    },
    {
      "cell_type": "markdown",
      "metadata": {
        "id": "naJ5OAKZnZpG"
      },
      "source": [
        "In order to use data hosted by IDC effectively, you will need to utilize metadata to navigate what data is available and to select specific files that are relevant in your analysis. The main metadata table you will need for this purpose is the [`bigquery-public-data.idc_current.dicom_all`](https://console.cloud.google.com/bigquery?p=bigquery-public-data&d=idc_current&t=dicom_all&page=table) table.\n",
        "\n",
        "This query has one row per file hosted by IDC. All of IDC data is in DICOM format, and each of the rows in this table will have all of the DICOM attributes extracted from a given file. It will also have various columns containing non-DICOM metadata, such as the name of the collection where the file is included, size of the file, and URL that can be used to retrieve that file.\n",
        "\n",
        "To query IDC BigQuery tables, you can use one of the following approaches:\n",
        "1. `%%bigquery` magic will allow you to define your query in plain SQL, and load the result of the query into a Pandas dataframe.\n",
        "2. [BigQuery Python API](https://googleapis.dev/python/bigquery/latest/index.html) is more flexible in allowing you to parameterize your query.\n",
        "3. [Google Cloud BigQuery console](https://console.cloud.google.com/bigquery) is very convenient for interactive query exploration of tables.\n",
        "4. [`gcloud bq`](https://cloud.google.com/bigquery/docs/bq-command-line-tool) is the command line tool that comes as part of [Cloud SDK](https://cloud.google.com/sdk) and is convenient for scripting interactions from the shell. Cloud SDK is preinstalled on Colab.\n",
        "\n",
        "In the following cells we will utilize `%%bigquery`, Python BigQuery SDK and BigQuery console for working with IDC BigQuery tables.\n",
        "\n",
        "First, to verify that you are authenticated, and your project ID is working, let's run a test query against IDC BigQuery table to get the summary statistics about the  of data available in IDC.\n"
      ]
    },
    {
      "cell_type": "markdown",
      "metadata": {
        "id": "t9YKMGVvVZX_"
      },
      "source": [
        "Given `SeriesInstanceUID` value identifying the image series, we can query the IDC metadata table to get the list of files (defined by the Google Storage URLs) corresponding to this series.\n",
        "\n",
        "All of the DICOM metadata for each of the DICOM files is available in the BigQuery table we will be querying. We will get not just the `gcs_url`, but also identifiers for the Study, Series and Instance, to better understand organization of data, and since `StudyInstanceUID` will be handy later when we get to the visualization of the data."
      ]
    },
    {
      "cell_type": "markdown",
      "metadata": {
        "id": "7INoX4rgTp7O"
      },
      "source": [
        "## Data selection -- BigQuery"
      ]
    },
    {
      "cell_type": "markdown",
      "source": [
        "Explanation"
      ],
      "metadata": {
        "id": "jfDSklhyFWpa"
      }
    },
    {
      "cell_type": "code",
      "execution_count": null,
      "metadata": {
        "id": "joRbZ81GWNz1"
      },
      "outputs": [],
      "source": [
        "from google.cloud import bigquery\n",
        "bq_client = bigquery.Client(os.environ[\"GCP_PROJECT_ID\"])\n",
        "selection_query = f\"\"\"\n",
        "  SELECT  \n",
        "  StudyInstanceUID, \n",
        "  SeriesInstanceUID, \n",
        "  SOPInstanceUID, \n",
        "  PatientID, \n",
        "  Modality, \n",
        "  collection_id, \n",
        "  StudyDescription, \n",
        "  SeriesDescription, \n",
        "  StudyDate, \n",
        "  SeriesDate,\n",
        "  gcs_url,\n",
        "  (SELECT SeriesInstanceUID FROM UNNEST(ReferencedSeriesSequence)) AS RefSerieUID \n",
        "FROM \n",
        "  `bigquery-public-data.idc_current.dicom_all` \n",
        "WHERE \n",
        "  collection_id = 'qin_prostate_repeatability' \n",
        "  AND SeriesDescription IN ('T2 Weighted Axial', 'T2 Weighted Axial Segmentations')\"\"\" "
      ]
    },
    {
      "cell_type": "code",
      "source": [
        "selection_result = bq_client.query(selection_query)\n",
        "selection_df = selection_result.result().to_dataframe()"
      ],
      "metadata": {
        "id": "j1PtIeNJ8Qf7"
      },
      "execution_count": null,
      "outputs": []
    },
    {
      "cell_type": "markdown",
      "source": [
        "## Randomly pick 10 SutdyIDs for the use case"
      ],
      "metadata": {
        "id": "SjrQmHbKLykY"
      }
    },
    {
      "cell_type": "code",
      "execution_count": null,
      "metadata": {
        "id": "SBxWO9GlPVT5"
      },
      "outputs": [],
      "source": [
        "# #Random PatientID selection\n",
        "# patientID_select = random.sample(list(selection_df.PatientID.values), 1)\n",
        "\n",
        "# #Static PatientID selection\n",
        "# # patientID_select = [\"PCAMPMRI-00014\"]\n",
        "\n",
        "# selection_df = selection_df[selection_df.PatientID.isin(patientID_select)]\n",
        "\n",
        "# # selection_df.PatientID.unique()"
      ]
    },
    {
      "cell_type": "markdown",
      "metadata": {
        "id": "NOtsKTg8TvCG"
      },
      "source": [
        "## Download gs urls into dcm files and sorting  "
      ]
    },
    {
      "cell_type": "code",
      "execution_count": null,
      "metadata": {
        "colab": {
          "base_uri": "https://localhost:8080/"
        },
        "id": "h3pHlJbcdPq6",
        "outputId": "38377839-8f0b-4d13-d112-0ef6831bf246"
      },
      "outputs": [
        {
          "output_type": "stream",
          "name": "stdout",
          "text": [
            "number of unique patientIDS that have both t2 axial and seg whole prostate objects : 1\n"
          ]
        }
      ],
      "source": [
        "# selection_df=pd.read_csv(selection_df)#\"t2_and_seg.csv\")\n",
        "print(f\"number of unique patientIDS that have both t2 axial and seg whole prostate objects : {len(sorted(selection_df.PatientID.unique()))}\")"
      ]
    },
    {
      "cell_type": "code",
      "execution_count": null,
      "metadata": {
        "id": "X4YXrk6PIkJe"
      },
      "outputs": [],
      "source": [
        "# save the list of GCS URLs into a file\n",
        "selection_manifest = os.path.join(os.environ[\"IDC_Downloads\"], \"idc_manifest.txt\")\n",
        "selection_df[\"gcs_url\"].to_csv(selection_manifest, header=False, index=False)"
      ]
    },
    {
      "cell_type": "code",
      "execution_count": null,
      "metadata": {
        "colab": {
          "base_uri": "https://localhost:8080/"
        },
        "id": "mIKSKvW8mdsN",
        "outputId": "6ac07015-fc00-4948-b51b-0253165831f5"
      },
      "outputs": [
        {
          "output_type": "stream",
          "name": "stdout",
          "text": [
            "     58      58    3828\n"
          ]
        }
      ],
      "source": [
        "# confirm the resulting manifest has as many lines as the number of rows in the\n",
        "# dataframe we initialized earlier\n",
        "!cat {selection_manifest} |wc"
      ]
    },
    {
      "cell_type": "code",
      "execution_count": null,
      "metadata": {
        "id": "KdZSVftdjFPl"
      },
      "outputs": [],
      "source": [
        "# let's make sure the download folder is clean, in case you ran this cell earlier\n",
        "# for a different dataset\n",
        "!rm -rf {os.environ[\"IDC_Downloads\"]+\"/*.dcm\"}"
      ]
    },
    {
      "cell_type": "code",
      "execution_count": null,
      "metadata": {
        "id": "6ydwu1tSYScJ"
      },
      "outputs": [],
      "source": [
        "# download is this simple!\n",
        "%%capture\n",
        "\n",
        "!cat {selection_manifest} | gsutil -m cp -I {os.environ[\"IDC_Downloads\"]}"
      ]
    },
    {
      "cell_type": "markdown",
      "metadata": {
        "id": "ZvlSBfPRdRpz"
      },
      "source": [
        "To facilitate preparation of the data, we will sort the downloaded files into the PatientID/StudyInstanceUID/SeriesInstanceUID hierarchy."
      ]
    },
    {
      "cell_type": "code",
      "execution_count": null,
      "metadata": {
        "colab": {
          "base_uri": "https://localhost:8080/"
        },
        "id": "q9aVI7qAbaT0",
        "outputId": "5a352fb4-538f-4a14-b707-6866cac13792"
      },
      "outputs": [
        {
          "output_type": "stream",
          "name": "stdout",
          "text": [
            "100% 59/59 [00:00<00:00, 179.50it/s]\n",
            "Files sorted\n"
          ]
        }
      ],
      "source": [
        "!python dicomsort/dicomsort.py -k -u {os.environ[\"IDC_Downloads\"]} {os.environ[\"IDC_Downloads_Sorted\"]}/%PatientID/%StudyInstanceUID/%SeriesInstanceUID/%SOPInstanceUID.dcm"
      ]
    },
    {
      "cell_type": "markdown",
      "metadata": {
        "id": "ewcZsa1rzKHi"
      },
      "source": [
        "Move the sorted data into the right place"
      ]
    },
    {
      "cell_type": "code",
      "execution_count": null,
      "metadata": {
        "id": "DZ_LAvUGEGxj"
      },
      "outputs": [],
      "source": [
        "rm -rf {os.environ[\"qin_prostate_rep_dicom\"]+\"/*\"}* && mv {os.environ[\"IDC_Downloads_Sorted\"]+\"/*\"} {os.environ[\"qin_prostate_rep_dicom\"]}"
      ]
    },
    {
      "cell_type": "markdown",
      "metadata": {
        "id": "4Z5QylRmj9gw"
      },
      "source": [
        "#Pre-Processing\n",
        "\n",
        "Dicom files are assumed to be sorted this way for further processing :\n",
        "\n",
        "* PatientID\n",
        "  * StudyUID\n",
        "    * SeriesUID\n",
        "      * *.dcm file(s)"
      ]
    },
    {
      "cell_type": "markdown",
      "metadata": {
        "id": "ZxaZ6eMwQVOb"
      },
      "source": [
        "## conversion methods"
      ]
    },
    {
      "cell_type": "markdown",
      "metadata": {
        "id": "f2B-4nymgk5I"
      },
      "source": [
        "https://wiki.cancerimagingarchive.net/pages/viewpage.action?pageId=24283641\n",
        "\n",
        "switch from plastimatch resample method to simple itk for slice spacing issue"
      ]
    },
    {
      "cell_type": "code",
      "execution_count": null,
      "metadata": {
        "id": "MZJdr2v-f6qY"
      },
      "outputs": [],
      "source": [
        "def safe_sitk_read(img_list, *args, **kwargs):\n",
        "  \"\"\"\n",
        "  Since the default function just looks at images 0 and 1 to determine slice thickness\n",
        "  and the images are often not correctly alphabetically sorted, much slower\n",
        "  :param img_list:\n",
        "  :return:\n",
        "  \"\"\"\n",
        "  pimg_list = [(sitk.ReadImage(x).GetOrigin(), x) for x in img_list]\n",
        "  s_img_list = [path for _, path in sorted(pimg_list, key = lambda x: x[0][2])] # sort by z\n",
        "  return sitk.ReadImage(s_img_list, *args, **kwargs)"
      ]
    },
    {
      "cell_type": "code",
      "execution_count": null,
      "metadata": {
        "id": "RkSLspMHgqOV"
      },
      "outputs": [],
      "source": [
        "def convert_mr_to_nii_nrrd(input_path, output_path_root, modality, target_format=\"nii.gz\"):\n",
        "  if not os.path.exists(output_path_root): \n",
        "    !mkdir -p $output_path_root\n",
        "  output_path = os.path.join(output_path_root, input_path.split('/')[-1][:-4] \n",
        "                             + \"_MR_\" + modality\n",
        "                             + \".\" + target_format)\n",
        "  #convert to target format\n",
        "  if not os.path.exists(output_path):\n",
        "    dcm_img = safe_sitk_read(glob.glob(os.path.join(input_path, \"**\", \"*.dcm\"), recursive=True))\n",
        "    sitk.WriteImage(dcm_img, output_path)"
      ]
    },
    {
      "cell_type": "markdown",
      "metadata": {
        "id": "CdISKxlrg5U7"
      },
      "source": [
        "We will use the [segimage2itkimage tool](https://qiicr.gitbook.io/dcmqi-guide/opening/cmd_tools/seg/segimage2itkimage) from dcmqi to extract individual segments from DICOM SEG series we just downloaded into NII format, saving each segment into a separate file"
      ]
    },
    {
      "cell_type": "code",
      "execution_count": null,
      "metadata": {
        "id": "Eav6vNsTg9TL"
      },
      "outputs": [],
      "source": [
        "def convert_seg_to_nii(input_path, output_path):\n",
        "  if not os.path.exists(output_path): \n",
        "    !mkdir -p $output_path\n",
        "  \n",
        "  print(f'input path : {input_path}')\n",
        "  print(f'output_path : {output_path}')\n",
        "  !segimage2itkimage --inputDICOM $input_path --outputDirectory $output_path \\\n",
        "  --outputType nii "
      ]
    },
    {
      "cell_type": "code",
      "execution_count": null,
      "metadata": {
        "id": "-1tYQCkFQZ7A"
      },
      "outputs": [],
      "source": [
        "def convert_dcm_sorted(input_path,output_path):\n",
        "  path_dicom = os.environ[\"qin_prostate_rep_dicom\"] \n",
        "  for serie_folder in sorted(glob.glob(os.path.join(input_path, \"**\", \"**\", \"*\"))):#, recursive = True):\n",
        "    path_serie_dcm_lst = glob.glob(os.path.join(serie_folder, \"*.dcm\"))\n",
        "    type_serie = selection_df[selection_df[\"SeriesInstanceUID\"] == path_serie_dcm_lst[0].split('/')[-2]][\"Modality\"].iloc[0]#'SEG' if pydicom.dcmread(path_serie_dcm_lst[0]).Modality == \"SEG\" else \"MR\"\n",
        "    seriesInstanceUID = serie_folder.split(\"/\")[-1]\n",
        "    studyInstanceUID = serie_folder.split(\"/\")[-2]\n",
        "    patientID = serie_folder.split(\"/\")[-3]\n",
        "    if type_serie == \"SEG\":\n",
        "      #convert to nrrd\n",
        "      convert_seg_to_nii(input_path=path_serie_dcm_lst[0],\n",
        "                              output_path=os.path.join(output_path, \"nii\", \n",
        "                                                       patientID, studyInstanceUID, seriesInstanceUID + \"_SEG\"))\n",
        "    elif type_serie == \"MR\":\n",
        "      #convert to nii\n",
        "      convert_mr_to_nii_nrrd(input_path=serie_folder,\n",
        "                              output_path_root=os.path.join(output_path, \"nii\", \n",
        "                                                       patientID, studyInstanceUID, seriesInstanceUID + \"_MR\"), modality=\"T2\", target_format=\"nii.gz\")\n",
        "      #convert to nrrd\n",
        "      convert_mr_to_nii_nrrd(input_path=serie_folder, \n",
        "                              output_path_root=os.path.join(output_path, \"nrrd\", \n",
        "                                                       patientID, studyInstanceUID, seriesInstanceUID + \"_MR\"), modality=\"T2\", target_format=\"nrrd\")\n",
        "    else:\n",
        "      print(f\"type serie {type_serie} not supported\")"
      ]
    },
    {
      "cell_type": "markdown",
      "metadata": {
        "id": "rDE69us5SosB"
      },
      "source": [
        "## Conversion to NII/NRRD"
      ]
    },
    {
      "cell_type": "code",
      "execution_count": null,
      "metadata": {
        "id": "iQrcemmAW7tC"
      },
      "outputs": [],
      "source": [
        "!rm -rf /content/qin_prostate_root_data/nii/*\n",
        "!rm -rf /content/qin_prostate_root_data/nrrd/*"
      ]
    },
    {
      "cell_type": "code",
      "execution_count": null,
      "metadata": {
        "colab": {
          "base_uri": "https://localhost:8080/"
        },
        "id": "hB1YhW33y32e",
        "outputId": "84bb221c-20e4-470e-98a7-a912f4b7b662"
      },
      "outputs": [
        {
          "output_type": "stream",
          "name": "stdout",
          "text": [
            "input path : /content/qin_prostate_root_data/dicom/PCAMPMRI-00014/1.3.6.1.4.1.14519.5.2.1.3671.4754.194890890650697728529329442454/1.2.276.0.7230010.3.1.3.1426846371.11304.1513205200.994/1.2.276.0.7230010.3.1.4.1426846371.11304.1513205200.995.dcm\n",
            "output_path : /content/qin_prostate_root_data/nii/PCAMPMRI-00014/1.3.6.1.4.1.14519.5.2.1.3671.4754.194890890650697728529329442454/1.2.276.0.7230010.3.1.3.1426846371.11304.1513205200.994_SEG\n",
            "dcmqi repository URL: git@github.com:QIICR/dcmqi.git revision: ef9e227 tag: v1.2.4\n",
            "W: CodeValue (0008,0100) empty in CodeSequenceMacro (type 1C)\n",
            "Row direction: 0.999976 -0.00674836 -0.00175933\n",
            "Col direction: 0.00690929 0.993212 0.116116\n",
            "Z direction: 0.000963796 -0.116125 0.993234\n",
            "Total frames: 84\n",
            "Total frames with unique IPP: 28\n",
            "Total overlapping frames: 28\n",
            "Origin: [-55.0828, -40.1437, -57.8139]\n",
            "input path : /content/qin_prostate_root_data/dicom/PCAMPMRI-00014/1.3.6.1.4.1.14519.5.2.1.3671.4754.288453744990673175783381845880/1.2.276.0.7230010.3.1.3.1426846371.9324.1513205197.742/1.2.276.0.7230010.3.1.4.1426846371.9324.1513205197.743.dcm\n",
            "output_path : /content/qin_prostate_root_data/nii/PCAMPMRI-00014/1.3.6.1.4.1.14519.5.2.1.3671.4754.288453744990673175783381845880/1.2.276.0.7230010.3.1.3.1426846371.9324.1513205197.742_SEG\n",
            "dcmqi repository URL: git@github.com:QIICR/dcmqi.git revision: ef9e227 tag: v1.2.4\n",
            "W: CodeValue (0008,0100) empty in CodeSequenceMacro (type 1C)\n",
            "Row direction: 0.999581 0.0271361 -0.0101024\n",
            "Col direction: -0.0244952 0.978525 0.204667\n",
            "Z direction: 0.0154393 -0.204334 0.97878\n",
            "Total frames: 84\n",
            "Total frames with unique IPP: 28\n",
            "Total overlapping frames: 28\n",
            "Origin: [-109.12, -27.9739, -122.465]\n"
          ]
        }
      ],
      "source": [
        "convert_dcm_sorted(input_path=os.environ[\"qin_prostate_rep_dicom\"],\n",
        "                   output_path=os.environ[\"qin_prostate_rep_root\"])"
      ]
    },
    {
      "cell_type": "markdown",
      "metadata": {
        "id": "hwhGpo_iY8Pt"
      },
      "source": [
        "# Resampling ground truth segmentations to T2"
      ]
    },
    {
      "cell_type": "code",
      "source": [
        "!rm -rf /content/qin_prostate_root_data/resampled/nii/*\n",
        "!rm -rf /content/qin_prostate_root_data/resampled/nrrd/*"
      ],
      "metadata": {
        "id": "oIf2aI7_Dt_O"
      },
      "execution_count": null,
      "outputs": []
    },
    {
      "cell_type": "code",
      "execution_count": null,
      "metadata": {
        "id": "7jId7-hwAGnh",
        "colab": {
          "base_uri": "https://localhost:8080/"
        },
        "outputId": "c8efd73c-c56a-4468-a648-d7a8e7e4f58d"
      },
      "outputs": [
        {
          "output_type": "stream",
          "name": "stdout",
          "text": [
            "/content/qin_prostate_root_data/nii/PCAMPMRI-00014/1.3.6.1.4.1.14519.5.2.1.3671.4754.194890890650697728529329442454/1.2.276.0.7230010.3.1.3.1426846371.11304.1513205200.994_SEG/1.nii.gz\n",
            "/content/qin_prostate_root_data/nii/PCAMPMRI-00014/1.3.6.1.4.1.14519.5.2.1.3671.4754.194890890650697728529329442454/1.2.276.0.7230010.3.1.3.1426846371.11304.1513205200.994_SEG/2.nii.gz\n",
            "/content/qin_prostate_root_data/nii/PCAMPMRI-00014/1.3.6.1.4.1.14519.5.2.1.3671.4754.194890890650697728529329442454/1.2.276.0.7230010.3.1.3.1426846371.11304.1513205200.994_SEG/3.nii.gz\n",
            "/content/qin_prostate_root_data/nii/PCAMPMRI-00014/1.3.6.1.4.1.14519.5.2.1.3671.4754.288453744990673175783381845880/1.2.276.0.7230010.3.1.3.1426846371.9324.1513205197.742_SEG/1.nii.gz\n",
            "/content/qin_prostate_root_data/nii/PCAMPMRI-00014/1.3.6.1.4.1.14519.5.2.1.3671.4754.288453744990673175783381845880/1.2.276.0.7230010.3.1.3.1426846371.9324.1513205197.742_SEG/2.nii.gz\n",
            "/content/qin_prostate_root_data/nii/PCAMPMRI-00014/1.3.6.1.4.1.14519.5.2.1.3671.4754.288453744990673175783381845880/1.2.276.0.7230010.3.1.3.1426846371.9324.1513205197.742_SEG/3.nii.gz\n"
          ]
        }
      ],
      "source": [
        "nii_lst = glob.glob(os.path.join(os.environ[\"qin_prostate_rep_nii\"], \"**\", \"*_SEG\", \"*.nii.gz\"), recursive=True)\n",
        "for seg_nii in sorted(nii_lst) :\n",
        "  print(seg_nii)\n",
        "  patientID = seg_nii.split('/')[-4]\n",
        "  studyUID = seg_nii.split('/')[-3]\n",
        "  serieUID = seg_nii.split('/')[-2][:-4] #standard serieUID without T2_SEG custom suffix\n",
        "  #get referencedSerieUID from seg corresponding to T2 MR volume \n",
        "  referencedSerieUID = str(selection_df[selection_df[\"SeriesInstanceUID\"] == serieUID][\"RefSerieUID\"].iloc[0])\t\n",
        "  matched_mod = glob.glob(os.path.join(os.environ['qin_prostate_rep_nii'], \n",
        "                                            patientID, studyUID, referencedSerieUID + \"_MR\", \"*.nii*\"))[0]\n",
        "  output_path_seg_root = os.path.join(os.environ[\"qin_prostate_rep_nii_resampled\"],\n",
        "                                  patientID, studyUID,\n",
        "                                  serieUID + \"_SEG\")\n",
        "  if not os.path.exists(output_path_seg_root):\n",
        "    !mkdir -p $output_path_seg_root\n",
        "  resample_args = {\"input\" : seg_nii, \n",
        "                        \"output\" : os.path.join(output_path_seg_root, seg_nii.split('/')[-1]),\n",
        "                        \"fixed\" : matched_mod,\n",
        "                        \"interpolation\" : \"nn\"}\n",
        "  #resample to t2 mod based on study -- not uniform across studies\n",
        "  pypla.resample(verbose = False, **resample_args)"
      ]
    },
    {
      "cell_type": "markdown",
      "metadata": {
        "id": "0rIgfkgxkQeS"
      },
      "source": [
        "# Inference -- nnUnet"
      ]
    },
    {
      "cell_type": "markdown",
      "metadata": {
        "id": "0PfFh2vWBGqm"
      },
      "source": [
        "## Naming Formatting T2 files for nnUnet inference"
      ]
    },
    {
      "cell_type": "code",
      "execution_count": null,
      "metadata": {
        "id": "Y0lAnsWvN6fA"
      },
      "outputs": [],
      "source": [
        "nii_lst = glob.glob(os.path.join(os.environ[\"qin_prostate_rep_nii\"], \"**\", \"*T2*.nii.gz\"), recursive=True)#get nii lst from data\n",
        "nii_mr_t2 = [el for el in nii_lst if el.split('/')[-1].split('.')[-3].split('_')[-1] == \"T2\"]#get T2 lst from nii lst\n",
        "for idx, el_t2 in enumerate(nii_mr_t2):\n",
        "  studyInstanceUID_t2 = el_t2.split('/')[-3]\n",
        "  patientID_t2 = el_t2.split(\"/\")[-4]\n",
        "  #format to nnunet \n",
        "  t2_out_nnunet = os.path.join(os.environ[\"nnUNet_preprocessed\"], \"_\".join([studyInstanceUID_t2, patientID_t2, \"0000\"]) + \".nii.gz\")\n",
        "  #copy to nnUnet folder\n",
        "  !cp $el_t2 $t2_out_nnunet"
      ]
    },
    {
      "cell_type": "markdown",
      "metadata": {
        "id": "py5Gl9k-qrG7"
      },
      "source": [
        "## Inference"
      ]
    },
    {
      "cell_type": "code",
      "execution_count": null,
      "metadata": {
        "colab": {
          "base_uri": "https://localhost:8080/"
        },
        "id": "xV2MKQsuy6w3",
        "outputId": "cd246fac-d83d-4c45-9ebf-bc0885675385"
      },
      "outputs": [
        {
          "output_type": "stream",
          "name": "stdout",
          "text": [
            "\n",
            "\n",
            "Please cite the following paper when using nnUNet:\n",
            "\n",
            "Isensee, F., Jaeger, P.F., Kohl, S.A.A. et al. \"nnU-Net: a self-configuring method for deep learning-based biomedical image segmentation.\" Nat Methods (2020). https://doi.org/10.1038/s41592-020-01008-z\n",
            "\n",
            "\n",
            "If you have questions or suggestions, feel free to open an issue at https://github.com/MIC-DKFZ/nnUNet\n",
            "\n",
            "Prostate MR Image Segmentation 2012. \n",
            "Segmentation target is the prostate, \n",
            "Input modalities are 0: T2. \n",
            "Also see https://promise12.grand-challenge.org/\n"
          ]
        }
      ],
      "source": [
        "!nnUNet_print_pretrained_model_info Task024_Promise"
      ]
    },
    {
      "cell_type": "code",
      "execution_count": null,
      "metadata": {
        "colab": {
          "base_uri": "https://localhost:8080/"
        },
        "id": "nrK13UnT0MLy",
        "outputId": "bc319e72-363f-4970-e455-6cfd1c86864b"
      },
      "outputs": [
        {
          "output_type": "stream",
          "name": "stdout",
          "text": [
            "input folder path : /content/nnUNet/data/processed\n",
            "output folder path : /content/nnUNet/output/preds\n"
          ]
        }
      ],
      "source": [
        "print(f\"input folder path : \"+os.environ[\"nnUNet_preprocessed\"])\n",
        "print(f\"output folder path : \"+os.environ[\"RESULTS_FOLDER\"])"
      ]
    },
    {
      "cell_type": "code",
      "source": [
        "!echo {os.environ[\"nnUNet_preprocessed\"]} "
      ],
      "metadata": {
        "colab": {
          "base_uri": "https://localhost:8080/"
        },
        "id": "ivhC1cE9NrnE",
        "outputId": "f2320426-3493-41a3-d7ea-c0188a63436b"
      },
      "execution_count": null,
      "outputs": [
        {
          "output_type": "stream",
          "name": "stdout",
          "text": [
            "/content/nnUNet/data/processed\n"
          ]
        }
      ]
    },
    {
      "cell_type": "code",
      "execution_count": null,
      "metadata": {
        "id": "A7E0FZ3mxlaI"
      },
      "outputs": [],
      "source": [
        "%%capture\n",
        "!nnUNet_install_pretrained_model_from_zip $out_path_mod"
      ]
    },
    {
      "cell_type": "code",
      "execution_count": null,
      "metadata": {
        "id": "7Gsuoa5aqu4r",
        "colab": {
          "base_uri": "https://localhost:8080/"
        },
        "outputId": "40d19e5d-a89e-4522-9bb9-2d1614596174"
      },
      "outputs": [
        {
          "output_type": "stream",
          "name": "stdout",
          "text": [
            "\n",
            "\n",
            "Please cite the following paper when using nnUNet:\n",
            "\n",
            "Isensee, F., Jaeger, P.F., Kohl, S.A.A. et al. \"nnU-Net: a self-configuring method for deep learning-based biomedical image segmentation.\" Nat Methods (2020). https://doi.org/10.1038/s41592-020-01008-z\n",
            "\n",
            "\n",
            "If you have questions or suggestions, feel free to open an issue at https://github.com/MIC-DKFZ/nnUNet\n",
            "\n",
            "using model stored in  /content/nnUNet/output/preds/nnUNet/3d_fullres/Task024_Promise/nnUNetTrainerV2__nnUNetPlansv2.1\n",
            "This model expects 1 input modalities for each image\n",
            "Found 2 unique case ids, here are some examples: ['1.3.6.1.4.1.14519.5.2.1.3671.4754.194890890650697728529329442454_PCAMPMRI-00014'\n",
            " '1.3.6.1.4.1.14519.5.2.1.3671.4754.288453744990673175783381845880_PCAMPMRI-00014']\n",
            "If they don't look right, make sure to double check your filenames. They must end with _0000.nii.gz etc\n",
            "number of cases: 2\n",
            "number of cases that still need to be predicted: 2\n",
            "emptying cuda cache\n",
            "loading parameters for folds, None\n",
            "folds is None so we will automatically look for output folders (not using 'all'!)\n",
            "found the following folds:  ['/content/nnUNet/output/preds/nnUNet/3d_fullres/Task024_Promise/nnUNetTrainerV2__nnUNetPlansv2.1/fold_0', '/content/nnUNet/output/preds/nnUNet/3d_fullres/Task024_Promise/nnUNetTrainerV2__nnUNetPlansv2.1/fold_1', '/content/nnUNet/output/preds/nnUNet/3d_fullres/Task024_Promise/nnUNetTrainerV2__nnUNetPlansv2.1/fold_2', '/content/nnUNet/output/preds/nnUNet/3d_fullres/Task024_Promise/nnUNetTrainerV2__nnUNetPlansv2.1/fold_3', '/content/nnUNet/output/preds/nnUNet/3d_fullres/Task024_Promise/nnUNetTrainerV2__nnUNetPlansv2.1/fold_4']\n",
            "2022-07-14 18:12:24.113820: Using dummy2d data augmentation\n",
            "using the following model files:  ['/content/nnUNet/output/preds/nnUNet/3d_fullres/Task024_Promise/nnUNetTrainerV2__nnUNetPlansv2.1/fold_0/model_final_checkpoint.model', '/content/nnUNet/output/preds/nnUNet/3d_fullres/Task024_Promise/nnUNetTrainerV2__nnUNetPlansv2.1/fold_1/model_final_checkpoint.model', '/content/nnUNet/output/preds/nnUNet/3d_fullres/Task024_Promise/nnUNetTrainerV2__nnUNetPlansv2.1/fold_2/model_final_checkpoint.model', '/content/nnUNet/output/preds/nnUNet/3d_fullres/Task024_Promise/nnUNetTrainerV2__nnUNetPlansv2.1/fold_3/model_final_checkpoint.model', '/content/nnUNet/output/preds/nnUNet/3d_fullres/Task024_Promise/nnUNetTrainerV2__nnUNetPlansv2.1/fold_4/model_final_checkpoint.model']\n",
            "starting preprocessing generator\n",
            "starting prediction...\n",
            "preprocessing /content/nnUNet/output/preds/1.3.6.1.4.1.14519.5.2.1.3671.4754.194890890650697728529329442454_PCAMPMRI-00014.nii.gz\n",
            "using preprocessor GenericPreprocessor\n",
            "preprocessing /content/nnUNet/output/preds/1.3.6.1.4.1.14519.5.2.1.3671.4754.288453744990673175783381845880_PCAMPMRI-00014.nii.gz\n",
            "using preprocessor GenericPreprocessor\n",
            "before crop: (1, 28, 512, 512) after crop: (1, 28, 512, 512) spacing: [3.49998283 0.27340001 0.27340001] \n",
            "\n",
            "before crop: (1, 28, 512, 512) after crop: (1, 28, 512, 512) spacing: [3.49999905 0.27340001 0.27340001] \n",
            "\n",
            "separate z, order in z is 0 order inplane is 3\n",
            "separate z, order in z is 0 order inplane is 3\n",
            "separate z, order in z is 0 order inplane is 1\n",
            "separate z, order in z is 0 order inplane is 1\n",
            "before: {'spacing': array([3.49998283, 0.27340001, 0.27340001]), 'spacing_transposed': array([3.49998283, 0.27340001, 0.27340001]), 'data.shape (data is transposed)': (1, 28, 512, 512)} \n",
            "after:  {'spacing': array([2.20004711, 0.61250001, 0.61250001]), 'data.shape (data is resampled)': (1, 45, 229, 229)} \n",
            "\n",
            "(1, 45, 229, 229)\n",
            "This worker has ended successfully, no errors to report\n",
            "predicting /content/nnUNet/output/preds/1.3.6.1.4.1.14519.5.2.1.3671.4754.288453744990673175783381845880_PCAMPMRI-00014.nii.gz\n",
            "debug: mirroring True mirror_axes (0, 1, 2)\n",
            "step_size: 0.5\n",
            "do mirror: True\n",
            "data shape: (1, 45, 256, 256)\n",
            "patch size: [ 28 256 256]\n",
            "steps (x, y, and z): [[0, 8, 17], [0], [0]]\n",
            "number of tiles: 3\n",
            "computing Gaussian\n",
            "before: {'spacing': array([3.49999905, 0.27340001, 0.27340001]), 'spacing_transposed': array([3.49999905, 0.27340001, 0.27340001]), 'data.shape (data is transposed)': (1, 28, 512, 512)} \n",
            "after:  {'spacing': array([2.20004711, 0.61250001, 0.61250001]), 'data.shape (data is resampled)': (1, 45, 229, 229)} \n",
            "\n",
            "(1, 45, 229, 229)\n",
            "prediction done\n",
            "debug: mirroring True mirror_axes (0, 1, 2)\n",
            "step_size: 0.5\n",
            "do mirror: True\n",
            "data shape: (1, 45, 256, 256)\n",
            "patch size: [ 28 256 256]\n",
            "steps (x, y, and z): [[0, 8, 17], [0], [0]]\n",
            "number of tiles: 3\n",
            "using precomputed Gaussian\n",
            "prediction done\n",
            "debug: mirroring True mirror_axes (0, 1, 2)\n",
            "step_size: 0.5\n",
            "do mirror: True\n",
            "data shape: (1, 45, 256, 256)\n",
            "patch size: [ 28 256 256]\n",
            "steps (x, y, and z): [[0, 8, 17], [0], [0]]\n",
            "number of tiles: 3\n",
            "using precomputed Gaussian\n",
            "prediction done\n",
            "debug: mirroring True mirror_axes (0, 1, 2)\n",
            "step_size: 0.5\n",
            "do mirror: True\n",
            "data shape: (1, 45, 256, 256)\n",
            "patch size: [ 28 256 256]\n",
            "steps (x, y, and z): [[0, 8, 17], [0], [0]]\n",
            "number of tiles: 3\n",
            "using precomputed Gaussian\n",
            "prediction done\n",
            "debug: mirroring True mirror_axes (0, 1, 2)\n",
            "step_size: 0.5\n",
            "do mirror: True\n",
            "data shape: (1, 45, 256, 256)\n",
            "patch size: [ 28 256 256]\n",
            "steps (x, y, and z): [[0, 8, 17], [0], [0]]\n",
            "number of tiles: 3\n",
            "using precomputed Gaussian\n",
            "prediction done\n",
            "This worker has ended successfully, no errors to report\n",
            "predicting /content/nnUNet/output/preds/1.3.6.1.4.1.14519.5.2.1.3671.4754.194890890650697728529329442454_PCAMPMRI-00014.nii.gz\n",
            "force_separate_z: None interpolation order: 1\n",
            "separate z: True lowres axis [0]\n",
            "separate z, order in z is 0 order inplane is 1\n",
            "debug: mirroring True mirror_axes (0, 1, 2)\n",
            "step_size: 0.5\n",
            "do mirror: True\n",
            "data shape: (1, 45, 256, 256)\n",
            "patch size: [ 28 256 256]\n",
            "steps (x, y, and z): [[0, 8, 17], [0], [0]]\n",
            "number of tiles: 3\n",
            "using precomputed Gaussian\n",
            "prediction done\n",
            "debug: mirroring True mirror_axes (0, 1, 2)\n",
            "step_size: 0.5\n",
            "do mirror: True\n",
            "data shape: (1, 45, 256, 256)\n",
            "patch size: [ 28 256 256]\n",
            "steps (x, y, and z): [[0, 8, 17], [0], [0]]\n",
            "number of tiles: 3\n",
            "using precomputed Gaussian\n",
            "prediction done\n",
            "debug: mirroring True mirror_axes (0, 1, 2)\n",
            "step_size: 0.5\n",
            "do mirror: True\n",
            "data shape: (1, 45, 256, 256)\n",
            "patch size: [ 28 256 256]\n",
            "steps (x, y, and z): [[0, 8, 17], [0], [0]]\n",
            "number of tiles: 3\n",
            "using precomputed Gaussian\n",
            "prediction done\n",
            "debug: mirroring True mirror_axes (0, 1, 2)\n",
            "step_size: 0.5\n",
            "do mirror: True\n",
            "data shape: (1, 45, 256, 256)\n",
            "patch size: [ 28 256 256]\n",
            "steps (x, y, and z): [[0, 8, 17], [0], [0]]\n",
            "number of tiles: 3\n",
            "using precomputed Gaussian\n",
            "prediction done\n",
            "debug: mirroring True mirror_axes (0, 1, 2)\n",
            "step_size: 0.5\n",
            "do mirror: True\n",
            "data shape: (1, 45, 256, 256)\n",
            "patch size: [ 28 256 256]\n",
            "steps (x, y, and z): [[0, 8, 17], [0], [0]]\n",
            "number of tiles: 3\n",
            "using precomputed Gaussian\n",
            "prediction done\n",
            "inference done. Now waiting for the segmentation export to finish...\n",
            "force_separate_z: None interpolation order: 1\n",
            "separate z: True lowres axis [0]\n",
            "separate z, order in z is 0 order inplane is 1\n",
            "postprocessing...\n"
          ]
        }
      ],
      "source": [
        "!nnUNet_predict --input_folder {os.environ[\"nnUNet_preprocessed\"]} \\\n",
        "                --output_folder {os.environ[\"RESULTS_FOLDER\"]} \\\n",
        "                --task_name \"Task024_Promise\" --model $model_type \\\n",
        "                --save_npz \\"
      ]
    },
    {
      "cell_type": "markdown",
      "metadata": {
        "id": "PCVDdLjxkSI6"
      },
      "source": [
        "# Resamplings preds back to input data"
      ]
    },
    {
      "cell_type": "code",
      "execution_count": null,
      "metadata": {
        "id": "g-RWW-i50yvU",
        "colab": {
          "base_uri": "https://localhost:8080/"
        },
        "outputId": "fc262120-be80-497f-82e3-9ab887167de1"
      },
      "outputs": [
        {
          "output_type": "stream",
          "name": "stdout",
          "text": [
            "search path for t2 : /content/qin_prostate_root_data/nii/PCAMPMRI-00014/1.3.6.1.4.1.14519.5.2.1.3671.4754.194890890650697728529329442454/**/*T2.nii.gz\n",
            "t2_path found : /content/qin_prostate_root_data/nii/PCAMPMRI-00014/1.3.6.1.4.1.14519.5.2.1.3671.4754.194890890650697728529329442454/1.3.6.1.4.1.14519.5.2.1.3671.4754.155463265953508142920250222172_MR/1.3.6.1.4.1.14519.5.2.1.3671.4754.15546326595350814292025022_MR_T2.nii.gz\n",
            "pred path : /content/nnUNet/output/preds/1.3.6.1.4.1.14519.5.2.1.3671.4754.194890890650697728529329442454_PCAMPMRI-00014.nii.gz\n",
            "search path for t2 : /content/qin_prostate_root_data/nii/PCAMPMRI-00014/1.3.6.1.4.1.14519.5.2.1.3671.4754.288453744990673175783381845880/**/*T2.nii.gz\n",
            "t2_path found : /content/qin_prostate_root_data/nii/PCAMPMRI-00014/1.3.6.1.4.1.14519.5.2.1.3671.4754.288453744990673175783381845880/1.3.6.1.4.1.14519.5.2.1.3671.4754.654327272206188613770270554127_MR/1.3.6.1.4.1.14519.5.2.1.3671.4754.65432727220618861377027055_MR_T2.nii.gz\n",
            "pred path : /content/nnUNet/output/preds/1.3.6.1.4.1.14519.5.2.1.3671.4754.288453744990673175783381845880_PCAMPMRI-00014.nii.gz\n"
          ]
        }
      ],
      "source": [
        "for pred_path in sorted(glob.glob(os.path.join(os.environ[\"RESULTS_FOLDER\"], \"*.nii.gz\"))):\n",
        "  search_t2_path = os.path.join(os.environ[\"qin_prostate_rep_nii\"], pred_path.split('/')[-1].split('_')[1][:-7], \n",
        "                                   pred_path.split('/')[-1].split('_')[0], \"**\", \n",
        "                                   \"*T2.nii.gz\")\n",
        "  print(f\"search path for t2 : {search_t2_path}\")\n",
        "  t2_path = glob.glob(search_t2_path, recursive=True)[0]                              \n",
        "  print(f\"t2_path found : {t2_path}\")\n",
        "  print(f\"pred path : {pred_path}\")\n",
        "  resample_args_to_t2_origin = {\"input\" : pred_path, \n",
        "                        \"output\" : os.path.join(os.environ[\"nnUNet_preds_resampled\"], \n",
        "                                                pred_path.split('/')[-1]),\n",
        "                        \"fixed\" : t2_path,\n",
        "                        \"interpolation\" : \"nn\"}\n",
        "  path_log = 'log_pypla_res_pred' + pred_path.split('/')[-1].split('.')[0] + '.txt'            \n",
        "  !touch path_log\n",
        "  pypla.resample(verbose = False, **resample_args_to_t2_origin, path_to_log_file=path_log)"
      ]
    },
    {
      "cell_type": "markdown",
      "metadata": {
        "id": "ljlV3z5PN-vF"
      },
      "source": [
        "# Analysis"
      ]
    },
    {
      "cell_type": "markdown",
      "metadata": {
        "id": "cQus28YQiZlD"
      },
      "source": [
        "## Functions aiming to retrieve right ground truth labelsID per nnUnet prediction"
      ]
    },
    {
      "cell_type": "code",
      "execution_count": null,
      "metadata": {
        "id": "YPelDT5HhnQt"
      },
      "outputs": [],
      "source": [
        "def retrieve_seg_labelID(input_path_json, categoryCode = 'Anatomical Structure', typeCode ='Prostate'):\n",
        "  #read json file\n",
        "  json_dic = json.load(open(input_path_json))\n",
        "  for seg in json_dic['segmentAttributes']:\n",
        "    cat_code = seg[0].get('SegmentedPropertyCategoryCodeSequence').get('CodeMeaning')\n",
        "    type_code = seg[0].get('SegmentedPropertyTypeCodeSequence').get('CodeMeaning')\n",
        "    current_labelID = seg[0].get('labelID')\n",
        "    if categoryCode == cat_code and typeCode == type_code:\n",
        "      return current_labelID\n",
        "  return ''"
      ]
    },
    {
      "cell_type": "code",
      "execution_count": null,
      "metadata": {
        "id": "RNgL8vsViYwe"
      },
      "outputs": [],
      "source": [
        "def get_seg_per_mod(input_path_lst):\n",
        "  res_lst = []\n",
        "  for nii_file in input_path_lst:\n",
        "    nii_file_patientID = nii_file.split('/')[-1].split('_')[-1][:-7]\n",
        "    nii_file_studyInstanceUID = nii_file.split('/')[-1].split('_')[0]\n",
        "    serieUID_seg = selection_df[(selection_df.PatientID == nii_file_patientID) \\\n",
        "                                & (selection_df.StudyInstanceUID == nii_file_studyInstanceUID) \\\n",
        "                                & (selection_df.Modality == \"SEG\")][\"SeriesInstanceUID\"].iloc[0]\n",
        "    json_path = glob.glob(os.path.join(os.environ[\"qin_prostate_rep_nii\"], \n",
        "                                       nii_file_patientID, \n",
        "                                       nii_file_studyInstanceUID, \n",
        "                                       serieUID_seg+\"_SEG\", \"*.json\"))[0] \n",
        "    labelID = retrieve_seg_labelID(json_path,\n",
        "                                   categoryCode=ground_truth_cat_CodeMeaning,\n",
        "                                   typeCode=ground_truth_type_CodeMeaning)                              \n",
        "    res_lst.append(os.path.join(os.environ[\"qin_prostate_rep_nii\"], \n",
        "                                nii_file_patientID, \n",
        "                                nii_file_studyInstanceUID, \n",
        "                                serieUID_seg+\"_SEG\", str(labelID)+\".nii.gz\"))\n",
        "  return res_lst"
      ]
    },
    {
      "cell_type": "markdown",
      "metadata": {
        "id": "vZfPf9It60PH"
      },
      "source": [
        "## Dice score computation "
      ]
    },
    {
      "cell_type": "code",
      "execution_count": null,
      "metadata": {
        "id": "1rPyOjc1Uu8N"
      },
      "outputs": [],
      "source": [
        "!rm -rf {os.environ[\"qin_prostate_rep_analysis_verbose\"]}#analysis_verbose/\n",
        "!mkdir -p {os.environ[\"qin_prostate_rep_analysis_verbose\"]}"
      ]
    },
    {
      "cell_type": "markdown",
      "metadata": {
        "id": "cD0iJk4BuqA3"
      },
      "source": [
        "### Compute dice score between preds and ground truth and store the results into analysis folder"
      ]
    },
    {
      "cell_type": "code",
      "execution_count": null,
      "metadata": {
        "id": "GZUig0RUDEnF"
      },
      "outputs": [],
      "source": [
        "ref_path_lst = get_seg_per_mod(sorted(glob.glob(os.path.join(os.environ['nnUNet_preds_resampled'], \n",
        "                                                             \"**\", \"*.nii.gz\"), recursive=True)))\n",
        "for ref_path in sorted(ref_path_lst):\n",
        "  ref_path_PatientID = ref_path.split('/')[-4]\n",
        "  ref_path_StudyInstanceUID = ref_path.split('/')[-3]\n",
        "  test_path = glob.glob(os.path.join(os.environ[\"nnUNet_preds_resampled\"], \n",
        "                                     '_'.join([ref_path_StudyInstanceUID, ref_path_PatientID]) + '.nii.gz'))[0]\n",
        "  output_path = os.environ[\"qin_prostate_rep_analysis_verbose\"]\n",
        "  if not os.path.exists(output_path):\n",
        "    !mkdir -p $output_path \n",
        "  log_path = test_path.split('/')[-1][:-7]+\"_dice_score_verbose.txt\"\n",
        "  !echo \"ref_path {ref_path}\" > {os.path.join(output_path,log_path)}\n",
        "  !echo \"test_path {test_path}\" >> {os.path.join(output_path,log_path)}\n",
        "  !plastimatch dice --all $ref_path $test_path >> {os.path.join(output_path,log_path)}"
      ]
    },
    {
      "cell_type": "markdown",
      "metadata": {
        "id": "MvTMpuBWuxF6"
      },
      "source": [
        "### store dice score into dictionary"
      ]
    },
    {
      "cell_type": "code",
      "execution_count": null,
      "metadata": {
        "id": "uYEKslkDQ8w_",
        "colab": {
          "base_uri": "https://localhost:8080/"
        },
        "outputId": "36b59989-e039-4735-aac0-615bdb97a35f"
      },
      "outputs": [
        {
          "output_type": "stream",
          "name": "stdout",
          "text": [
            "-----------------------\n",
            "average dice score : 0.7619275\n",
            "-----------------------\n",
            "\n",
            "study : 1.3.6.1.4.1.14519.5.2.1.3671.4754.194890890650697728529329442454\n",
            "patientID : PCAMPMRI-00014\n",
            "ground truth seg path : /content/qin_prostate_root_data/nii/PCAMPMRI-00014/1.3.6.1.4.1.14519.5.2.1.3671.4754.194890890650697728529329442454/1.2.276.0.7230010.3.1.3.1426846371.11304.1513205200.994_SEG/3.nii.gz\n",
            "pred seg masks nnunet path : /content/nnUNet/output/preds_resampled/1.3.6.1.4.1.14519.5.2.1.3671.4754.194890890650697728529329442454_PCAMPMRI-00014.nii.gz\n",
            "dice_score : 0.722502\n",
            "center mass ref : 15.403 29.1575 -13.3831\n",
            "center mass pred : 15.0977 27.6448 -9.21346\n",
            "hausdorff_dist : 13.999996\n",
            "\n",
            "study : 1.3.6.1.4.1.14519.5.2.1.3671.4754.288453744990673175783381845880\n",
            "patientID : PCAMPMRI-00014\n",
            "ground truth seg path : /content/qin_prostate_root_data/nii/PCAMPMRI-00014/1.3.6.1.4.1.14519.5.2.1.3671.4754.288453744990673175783381845880/1.2.276.0.7230010.3.1.3.1426846371.9324.1513205197.742_SEG/3.nii.gz\n",
            "pred seg masks nnunet path : /content/nnUNet/output/preds_resampled/1.3.6.1.4.1.14519.5.2.1.3671.4754.288453744990673175783381845880_PCAMPMRI-00014.nii.gz\n",
            "dice_score : 0.801353\n",
            "center mass ref : -38.7471 23.4971 -76.3129\n",
            "center mass pred : -39.1374 21.4116 -74.4825\n",
            "hausdorff_dist : 8.882485\n",
            "\n"
          ]
        }
      ],
      "source": [
        "dice_dic = {}\n",
        "#iterate txt logs for dice_score computation\n",
        "for txt_file in sorted(glob.glob(os.path.join(os.environ[\"qin_prostate_rep_analysis_verbose\"], \"*.txt\"))): \n",
        "  with open(txt_file, encoding='utf8') as f:\n",
        "    #variable placeholders for txt file info -- temporary\n",
        "    pholder_dice = ''\n",
        "    pholder_center_mass_pred = ''\n",
        "    pholder_center_mass_ref = ''\n",
        "    pholder_hsdrff = ''\n",
        "    pholder_ref = ''\n",
        "    pholder_test = ''\n",
        "    for line in f:\n",
        "        if \"DICE\" in line:\n",
        "          pholder_dice = float(line.strip().split()[-1])\n",
        "        elif \"ref\" in line and len(line.strip().split()) > 2:\n",
        "          pholder_center_mass_ref = ' '.join([line.strip().split()[-3], \n",
        "                                             line.strip().split()[-2], line.strip().split()[-1]])\n",
        "        elif \"cmp\" in line and len(line.strip().split()) > 2:\n",
        "          pholder_center_mass_pred = ' '.join([line.strip().split()[-3], \n",
        "                                             line.strip().split()[-2], line.strip().split()[-1]])                                             \n",
        "        elif len(line.strip().split()) <= 5 and 'Hausdorff distance' in line:\n",
        "          pholder_hsdrff = float(line.strip().split()[-1])\n",
        "        elif \"ref_path\" in line:\n",
        "          pholder_ref = str(line.strip().split()[-1]) \n",
        "        elif \"test_path\" in line:\n",
        "          pholder_test = str(line.strip().split()[-1])\n",
        "        else:\n",
        "          pass\n",
        "    study = txt_file.split('/')[-1][:-4].split('_')[0] #retrieve studyInstanceUID from txt file name \n",
        "    patientID = txt_file.split('/')[-1][:-4].split('_')[-4] #retrieve patientID\n",
        "    # push values to dict\n",
        "    dice_dic[study] = {'PatientID' : patientID,\n",
        "                       'dice_score' : pholder_dice, \n",
        "                       'center_mass_pred' : pholder_center_mass_pred,\n",
        "                       'center_mass_ref' : pholder_center_mass_ref,\n",
        "                       'hausdorff_dist' : pholder_hsdrff,\n",
        "                       'ground_truth_seg_path' : pholder_ref,\n",
        "                       'pred_nnnet_path' : pholder_test}            \n",
        "\n",
        "print('-----------------------')\n",
        "print(f\"average dice score : {np.average(np.array([val['dice_score'] \\\n",
        "                                                   for val in dice_dic.values()]))}\")\n",
        "print('-----------------------')\n",
        "print()\n",
        "for key,val in dice_dic.items():\n",
        "  study = key\n",
        "  patientID = val[\"PatientID\"]\n",
        "  dice_score = val[\"dice_score\"]\n",
        "  cm_pred = val[\"center_mass_pred\"]\n",
        "  cm_ref = val[\"center_mass_ref\"]\n",
        "  hausdorff_dist = val[\"hausdorff_dist\"]\n",
        "  gt_path = val[\"ground_truth_seg_path\"]\n",
        "  pred_path = val[\"pred_nnnet_path\"]\n",
        "  print(f\"study : {study}\")\n",
        "  print(f\"patientID : {patientID}\")\n",
        "  print(f\"ground truth seg path : {gt_path}\")\n",
        "  print(f\"pred seg masks nnunet path : {pred_path}\")\n",
        "  print(f\"dice_score : {dice_score}\")\n",
        "  print(f\"center mass ref : {cm_ref}\")\n",
        "  print(f\"center mass pred : {cm_pred}\")\n",
        "  print(f\"hausdorff_dist : {hausdorff_dist}\")\n",
        "  print()\n"
      ]
    },
    {
      "cell_type": "code",
      "source": [
        "#Save dice_score to csv\n",
        "with open(os.path.join(os.environ['qin_prostate_rep_analysis'], 'analysis_metrics.csv'), 'w') as f:\n",
        "    f.write(\"StudyInstanceUID,PatientID,dice_score,center_mass_ref,center_mass_pred,hausdorff_dist, ground_truth_seg_path, pred_nnnet_path\\n\")\n",
        "    for key,val in dice_dic.items():\n",
        "      study = str(key)\n",
        "      patientID = str(val[\"PatientID\"])\n",
        "      dice_score = float(val[\"dice_score\"])\n",
        "      cm_pred = str(val[\"center_mass_pred\"])\n",
        "      cm_ref = str(val[\"center_mass_ref\"])\n",
        "      hausdorff_dist = float(val[\"hausdorff_dist\"])\n",
        "      gt_path = str(val[\"ground_truth_seg_path\"])\n",
        "      pred_path = str(val[\"pred_nnnet_path\"])\n",
        "      f.write(f\"{study},{patientID},{dice_score},{cm_ref},{cm_pred},{hausdorff_dist},{gt_path},{pred_path}\\n\")"
      ],
      "metadata": {
        "id": "7VtX2_R2LkjK"
      },
      "execution_count": null,
      "outputs": []
    },
    {
      "cell_type": "markdown",
      "metadata": {
        "id": "iKaiwUIZ8iLX"
      },
      "source": [
        "### All metrics"
      ]
    },
    {
      "cell_type": "code",
      "execution_count": null,
      "metadata": {
        "id": "GQBpXyKp8gbm",
        "colab": {
          "base_uri": "https://localhost:8080/"
        },
        "outputId": "941f0daa-0319-453d-9c54-d0854357be2b"
      },
      "outputs": [
        {
          "output_type": "stream",
          "name": "stdout",
          "text": [
            "ref path : /content/qin_prostate_root_data/nii/PCAMPMRI-00014/1.3.6.1.4.1.14519.5.2.1.3671.4754.194890890650697728529329442454/1.2.276.0.7230010.3.1.3.1426846371.11304.1513205200.994_SEG/3.nii.gz\n",
            "test path : /content/nnUNet/output/preds_resampled/1.3.6.1.4.1.14519.5.2.1.3671.4754.194890890650697728529329442454_PCAMPMRI-00014.nii.gz\n",
            "CENTER_OF_MASS\n",
            "ref\t        15.403\t       29.1575\t      -13.3831\n",
            "cmp\t       15.0977\t       27.6448\t      -9.21346\n",
            "TP:         83769\n",
            "TN:      11413915\n",
            "FN:          2443\n",
            "FP:         61905\n",
            "DICE:      0.722502\n",
            "SE:      0.971663\n",
            "SP:      0.994606\n",
            "Hausdorff distance = 13.999996\n",
            "Avg average Hausdorff distance = 1.313273\n",
            "Max average Hausdorff distance = 2.606142\n",
            "Percent (0.95) Hausdorff distance = 5.249999\n",
            "Hausdorff distance (boundary) = 13.999996\n",
            "Avg average Hausdorff distance (boundary) = 4.201497\n",
            "Max average Hausdorff distance (boundary) = 5.490936\n",
            "Percent (0.95) Hausdorff distance (boundary) = 11.845699\n",
            "\n",
            "\n",
            "ref path : /content/qin_prostate_root_data/nii/PCAMPMRI-00014/1.3.6.1.4.1.14519.5.2.1.3671.4754.288453744990673175783381845880/1.2.276.0.7230010.3.1.3.1426846371.9324.1513205197.742_SEG/3.nii.gz\n",
            "test path : /content/nnUNet/output/preds_resampled/1.3.6.1.4.1.14519.5.2.1.3671.4754.288453744990673175783381845880_PCAMPMRI-00014.nii.gz\n",
            "CENTER_OF_MASS\n",
            "ref\t      -38.7471\t       23.4971\t      -76.3129\n",
            "cmp\t      -39.1374\t       21.4116\t      -74.4825\n",
            "TP:         88519\n",
            "TN:      15118875\n",
            "FN:          5419\n",
            "FP:         38467\n",
            "DICE:      0.801353\n",
            "SE:      0.942313\n",
            "SP:      0.997462\n",
            "Hausdorff distance = 8.882485\n",
            "Avg average Hausdorff distance = 0.602485\n",
            "Max average Hausdorff distance = 1.126223\n",
            "Percent (0.95) Hausdorff distance = 3.636683\n",
            "Hausdorff distance (boundary) = 8.882485\n",
            "Avg average Hausdorff distance (boundary) = 2.768153\n",
            "Max average Hausdorff distance (boundary) = 3.373926\n",
            "Percent (0.95) Hausdorff distance (boundary) = 6.792155\n",
            "\n",
            "\n"
          ]
        }
      ],
      "source": [
        "ref_path_lst = get_seg_per_mod(sorted(glob.glob(os.path.join(os.environ['nnUNet_preds_resampled'],                                                              \"**\", \"*.nii.gz\"), recursive=True)))\n",
        "for ref_path in sorted(ref_path_lst):\n",
        "  ref_path_PatientID = ref_path.split('/')[-4]#ref_path.split('/')[-1].split('_')[-1][:-7]\n",
        "  ref_path_StudyInstanceUID = ref_path.split('/')[-3]#ref_path.split('/')[-1].split('_')[0]\n",
        "  test_path = glob.glob(os.path.join(os.environ[\"nnUNet_preds_resampled\"], \n",
        "                                     '_'.join([ref_path_StudyInstanceUID, ref_path_PatientID]) + '.nii.gz'))[0]\n",
        "  output_path = \"analysis/txt/\"\n",
        "  if not os.path.exists(output_path):\n",
        "    !mkdir -p $output_path \n",
        "  log_path = test_path.split('/')[-1][:-7]+\".txt\"\n",
        "  print(f\"ref path : {ref_path}\")\n",
        "  print(f\"test path : {test_path}\")\n",
        "  !plastimatch dice --all $ref_path $test_path \n",
        "  print()\n",
        "  print()"
      ]
    },
    {
      "cell_type": "markdown",
      "source": [
        "# Export results to google drive "
      ],
      "metadata": {
        "id": "LTLUZjwl7pGx"
      }
    },
    {
      "cell_type": "markdown",
      "source": [
        "## define input and output paths for idc_data and nnunet in google drive through colab"
      ],
      "metadata": {
        "id": "0bY8pfbduW7-"
      }
    },
    {
      "cell_type": "code",
      "source": [
        "# #path to IDC data\n",
        "# input_idc_data = os.environ[\"qin_prostate_rep_root\"]\n",
        "# output_drive_idc_data = os.path.join(path_experiment, \"idc_data\")\n",
        "# if not os.path.exists(output_drive_idc_data):\n",
        "#   !mkdir -p $output_drive_idc_data\n",
        "  \n",
        "# #path to nnunet preds\n",
        "# input_nnunet = os.environ[\"nnUNet\"]\n",
        "# output_nnunet = os.path.join(path_experiment, \"nnUNet\")\n",
        "# if not os.path.exists(output_nnunet):\n",
        "#   !mkdir -p $output_nnunet"
      ],
      "metadata": {
        "id": "fWHQh8oVwBu0"
      },
      "execution_count": null,
      "outputs": []
    },
    {
      "cell_type": "code",
      "source": [
        "# #sanity checks regarding storage size\n",
        "# ##data\n",
        "# !du -sh $input_idc_data\n",
        "# ##preds\n",
        "# !du -sh $input_nnunet"
      ],
      "metadata": {
        "id": "-V1HAuUVwJm-"
      },
      "execution_count": null,
      "outputs": []
    },
    {
      "cell_type": "markdown",
      "source": [
        "## Copy data to drive"
      ],
      "metadata": {
        "id": "bi3JRLw40kXv"
      }
    },
    {
      "cell_type": "code",
      "source": [
        "# #copy idc data\n",
        "# %cp -av $input_idc_data $output_drive_idc_data\n",
        "# #verbose True, keep same struct as input\n",
        "# #copy nnunet data\n",
        "# %cp -av $input_nnunet $output_nnunet"
      ],
      "metadata": {
        "id": "OT9uV19h8CVC"
      },
      "execution_count": null,
      "outputs": []
    }
  ],
  "metadata": {
    "accelerator": "GPU",
    "colab": {
      "collapsed_sections": [],
      "name": "idc-prostate_segmentation_promised24_QIN-PROSTATE-Repeatability.ipynb",
      "provenance": [],
      "toc_visible": true,
      "include_colab_link": true
    },
    "gpuClass": "standard",
    "kernelspec": {
      "display_name": "Python 3",
      "name": "python3"
    },
    "language_info": {
      "name": "python"
    }
  },
  "nbformat": 4,
  "nbformat_minor": 0
}