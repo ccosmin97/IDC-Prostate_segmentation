{
  "cells": [
    {
      "cell_type": "markdown",
      "metadata": {
        "id": "view-in-github",
        "colab_type": "text"
      },
      "source": [
        "<a href=\"https://colab.research.google.com/github/ccosmin97/IDC-Prostate_segmentation/blob/main/idc_prostate_segmentation_promised24_QIN_PROSTATE_Repeatability_EXPORT_OHIF.ipynb\" target=\"_parent\"><img src=\"https://colab.research.google.com/assets/colab-badge.svg\" alt=\"Open In Colab\"/></a>"
      ]
    },
    {
      "cell_type": "markdown",
      "metadata": {
        "id": "WnbkuvxW0Ntp"
      },
      "source": [
        "# Prostate segmentation on IDC collection -- QIN-REP\n",
        "*   Dataset : [QIN-REP](https://portal.imaging.datacommons.cancer.gov/explore/filters/?collection_id=qin_prostate_repeatability)\n",
        "*   Goal : Prostate segmentation using D24 Promise nnUnet pre-trained model, one T2 modality input"
      ]
    },
    {
      "cell_type": "markdown",
      "source": [
        "# Auth login"
      ],
      "metadata": {
        "id": "Db4ansTyzqZ1"
      }
    },
    {
      "cell_type": "markdown",
      "source": [
        "##Colab"
      ],
      "metadata": {
        "id": "a8GPDXZW00j5"
      }
    },
    {
      "cell_type": "code",
      "source": [
        "#colab \n",
        "from google.colab import auth\n",
        "auth.authenticate_user()"
      ],
      "metadata": {
        "id": "XSg6W2HXzsoG"
      },
      "execution_count": 20,
      "outputs": []
    },
    {
      "cell_type": "markdown",
      "source": [
        "## Drive setup for upload results"
      ],
      "metadata": {
        "id": "WbhEtAA70vjr"
      }
    },
    {
      "cell_type": "code",
      "source": [
        "# import os\n",
        "# #drive mount\n",
        "# from google.colab import drive\n",
        "# drive.mount('/content/drive')\n",
        "# ##setup paths\n",
        "# path_drive_root = \"/content/drive/MyDrive/\"\n",
        "# drive_exp_root_name = \"IDC\" \n",
        "# data = \"qin-prostate-repeatability\"\n",
        "# pre_trained_mod = \"task024-promise\"\n",
        "# timestamp = \"2022_07_11\"#year_month_day"
      ],
      "metadata": {
        "id": "ysgh2HbT0ym3"
      },
      "execution_count": 21,
      "outputs": []
    },
    {
      "cell_type": "code",
      "source": [
        "# #personal drive path -- make sure folder exists in google drive\n",
        "# path_experiment = os.path.join(path_drive_root,\n",
        "#                                drive_exp_root_name,\n",
        "#                                data,\n",
        "#                                pre_trained_mod,\n",
        "#                                timestamp)\n",
        "\n",
        "# if not os.path.exists(path_experiment):\n",
        "#   !mkdir -p $path_experiment"
      ],
      "metadata": {
        "id": "93gVfB_i0uBA"
      },
      "execution_count": 22,
      "outputs": []
    },
    {
      "cell_type": "markdown",
      "metadata": {
        "id": "hYHTAtTsUgdB"
      },
      "source": [
        "# Global variables"
      ]
    },
    {
      "cell_type": "markdown",
      "source": [
        "## Variables used for resampling -- inference -- setup labelID for ground truth segs"
      ],
      "metadata": {
        "id": "yzDbwBXyvWVr"
      }
    },
    {
      "cell_type": "code",
      "source": [
        "# IDC collection for paths setup\n",
        "collection_name = \"qin_prostate_root_data\"\n",
        "##nnunet\n",
        "model_type = '3d_fullres'#other options are '2d',..\n",
        "##labelID seg retrieval\n",
        "ground_truth_cat_CodeMeaning = 'Anatomical Structure'\n",
        "ground_truth_type_CodeMeaning = 'Prostate'"
      ],
      "metadata": {
        "id": "bMsV_GPNvcip"
      },
      "execution_count": 23,
      "outputs": []
    },
    {
      "cell_type": "markdown",
      "source": [
        "## Global paths"
      ],
      "metadata": {
        "id": "UM_Mfc103n1U"
      }
    },
    {
      "cell_type": "code",
      "execution_count": 117,
      "metadata": {
        "id": "ZC_bUbUTUgBs"
      },
      "outputs": [],
      "source": [
        "import os \n",
        "\n",
        "#qin_prostate_repeatibility\n",
        "os.environ[\"qin_prostate_rep_root\"] = os.path.join(os.getcwd(), collection_name)\n",
        "os.environ[\"qin_prostate_rep_dicom\"] = os.path.join(os.environ[\"qin_prostate_rep_root\"], \"dicom\")\n",
        "os.environ[\"qin_prostate_rep_nii\"] = os.path.join(os.environ[\"qin_prostate_rep_root\"], \"nii\")\n",
        "os.environ[\"qin_prostate_rep_nrrd\"] = os.path.join(os.environ[\"qin_prostate_rep_root\"], \"nrrd\")\n",
        "os.environ[\"qin_prostate_rep_analysis\"] = os.path.join(os.environ[\"qin_prostate_rep_root\"], \"results\")\n",
        "os.environ[\"qin_prostate_rep_analysis_verbose\"] = os.path.join(os.environ[\"qin_prostate_rep_root\"], \"results_verbose\")\n",
        "\n",
        "#resampled data -- To t2 mod\n",
        "os.environ[\"qin_prostate_rep_root_resampled\"] = os.path.join(os.environ[\"qin_prostate_rep_root\"], \"resampled\")\n",
        "os.environ[\"qin_prostate_rep_nii_resampled\"] = os.path.join(os.environ[\"qin_prostate_rep_root_resampled\"], \"nii\")\n",
        "os.environ[\"qin_prostate_rep_nrrd_resampled\"] = os.path.join(os.environ[\"qin_prostate_rep_root_resampled\"], \"nrrd\")\n",
        "\n",
        "#nnunet\n",
        "os.environ[\"nnUNet\"] = os.path.join(os.getcwd(), \"nnUNet\")\n",
        "os.environ[\"nnUNet_data\"] = os.path.join(os.environ[\"nnUNet\"], \"data\")\n",
        "os.environ['nnUNet_raw_data_base'] = os.path.join(os.environ[\"nnUNet_data\"], \"nnUNet_raw_data\")\n",
        "os.environ['nnUNet_preprocessed'] = os.path.join(os.environ[\"nnUNet_data\"], \"processed\")\n",
        "os.environ[\"nnUNet_models\"] = os.path.join(os.environ[\"nnUNet\"], \"models\")\n",
        "os.environ[\"RESULTS_FOLDER\"] = os.path.join(os.environ[\"nnUNet\"], \"output\", \"preds\")\n",
        "os.environ[\"nnUNet_preds_resampled\"] = os.path.join(os.environ[\"nnUNet\"], \"output\", \"preds_resampled\")\n",
        "os.environ[\"nnUNet_preds_resampled_dcm\"] = os.path.join(os.environ[\"nnUNet\"], \"output\", \"preds_resampled_dcm\")\n",
        "os.environ[\"nnUNet_raw_data\"] = os.path.join(os.environ[\"nnUNet\"], \"raw_data\")\n",
        "#path where model pre-trained weights are stored\n",
        "os.environ[\"PATH_TO_MODEL_FILE\"] = os.path.join(os.environ[\"nnUNet\"], \"models\", \"Task024_Promise.zip\")\n",
        "\n",
        "#misc\n",
        "os.environ[\"IDC_Downloads\"] = os.path.join(os.getcwd(), \"IDC_DL\")\n",
        "os.environ[\"IDC_Downloads_Sorted\"] = os.path.join(os.getcwd(), \"IDC_DL\", \"Sorted\")\n",
        "\n",
        "#create dirs for specific folders names\n",
        "for key, path in os.environ.items():\n",
        "  check_patterns = [True for el in [\"qin\", \"nnunet\", \"IDC\", \"nnUNet\"] if el in key]\n",
        "  if True in check_patterns:\n",
        "    !mkdir -p $path"
      ]
    },
    {
      "cell_type": "markdown",
      "metadata": {
        "id": "y1ZYYVPHz_xm"
      },
      "source": [
        "# Setup GCP Project ID"
      ]
    },
    {
      "cell_type": "code",
      "execution_count": 25,
      "metadata": {
        "id": "g1EN9Dnz0CU4"
      },
      "outputs": [],
      "source": [
        "project_id = \"idc-nlst-unet-seg\"\n",
        "os.environ[\"GCP_PROJECT_ID\"] = project_id"
      ]
    },
    {
      "cell_type": "markdown",
      "metadata": {
        "id": "aru3sCveZjh7"
      },
      "source": [
        "# Download nnUnet pre-trained model on prostate decathlon data -- task24 -- personal dropbox\n",
        "\n",
        "nnUnet pre-trained models zip files can also be found [here](https://zenodo.org/record/4003545#.YsWmH-zMLt8)."
      ]
    },
    {
      "cell_type": "code",
      "execution_count": 26,
      "metadata": {
        "colab": {
          "base_uri": "https://localhost:8080/"
        },
        "id": "VPo9DgA7tKHm",
        "outputId": "a1c12720-7f95-478e-9bdf-b927fdfc16ae"
      },
      "outputs": [
        {
          "output_type": "stream",
          "name": "stdout",
          "text": [
            "/content/nnUNet/models\n"
          ]
        }
      ],
      "source": [
        "print(os.environ[\"nnUNet_models\"])"
      ]
    },
    {
      "cell_type": "code",
      "execution_count": 27,
      "metadata": {
        "colab": {
          "base_uri": "https://localhost:8080/"
        },
        "id": "AzPWnwbqB-Bt",
        "outputId": "eda483d9-9bae-4d08-968f-0fa611d244be"
      },
      "outputs": [
        {
          "output_type": "stream",
          "name": "stdout",
          "text": [
            "--2022-08-30 22:03:59--  https://www.dropbox.com/s/u9m37l8et4hgu4h/Task024_Promise.zip?dl=0\n",
            "Resolving www.dropbox.com (www.dropbox.com)... 162.125.5.18, 2620:100:601d:18::a27d:512\n",
            "Connecting to www.dropbox.com (www.dropbox.com)|162.125.5.18|:443... connected.\n",
            "HTTP request sent, awaiting response... 302 Found\n",
            "Location: /s/raw/u9m37l8et4hgu4h/Task024_Promise.zip [following]\n",
            "--2022-08-30 22:04:00--  https://www.dropbox.com/s/raw/u9m37l8et4hgu4h/Task024_Promise.zip\n",
            "Reusing existing connection to www.dropbox.com:443.\n",
            "HTTP request sent, awaiting response... 302 Found\n",
            "Location: https://ucfa57857c314ff7ebdb50261040.dl.dropboxusercontent.com/cd/0/inline/BsCnPtFHC5pChUuUQJIHSWkaV_GyDOdM1CPpQCkDg7jwA7KyNM3YGXIRZSvEXLp_XVdWvQcHe7Zn0qFz1OOR3pLz2G6QUSv2ftcvK1N2vVLNynhwykTFCM9wVGghLBphOIjEcrKBi6299eNgyWnKA1-KEi5kKJBjrvyzlyD6MYrm0A/file# [following]\n",
            "--2022-08-30 22:04:00--  https://ucfa57857c314ff7ebdb50261040.dl.dropboxusercontent.com/cd/0/inline/BsCnPtFHC5pChUuUQJIHSWkaV_GyDOdM1CPpQCkDg7jwA7KyNM3YGXIRZSvEXLp_XVdWvQcHe7Zn0qFz1OOR3pLz2G6QUSv2ftcvK1N2vVLNynhwykTFCM9wVGghLBphOIjEcrKBi6299eNgyWnKA1-KEi5kKJBjrvyzlyD6MYrm0A/file\n",
            "Resolving ucfa57857c314ff7ebdb50261040.dl.dropboxusercontent.com (ucfa57857c314ff7ebdb50261040.dl.dropboxusercontent.com)... 162.125.5.15, 2620:100:601d:15::a27d:50f\n",
            "Connecting to ucfa57857c314ff7ebdb50261040.dl.dropboxusercontent.com (ucfa57857c314ff7ebdb50261040.dl.dropboxusercontent.com)|162.125.5.15|:443... connected.\n",
            "HTTP request sent, awaiting response... 302 Found\n",
            "Location: /cd/0/inline2/BsCaHFgUN-TDFqVUrWfgaCQpNH4RwVXGXDoqYN7gryXbxKhY_Nsu9DJgjfm8hqX4YCNkphCrr512L5zog0Yh2wED2S8QxOqTyAA3q-JjhNyV_3pMIzcItzhQqS6n3lk3dHv-hDcKsHaP6RZaXF4UA1aC1LE1XUMj2fnVkl8f5IAvrVUESDCuu9hSXXctSM1kInO6zo1HuSv0Rcs_mnTRkCo8PJZNqMvWy1_hQ3GoN4MgHnxX1Aa3q66NbZ979xKMqTzNImmgDYv2F-htGdc_W0xuyMLHu6AORUtB7schOkG6F0Kgg5T7j0RTW--3RxMBTHI8s8uGWVtSBVCYCSrMaVRW3lzGAZxDL-D0V80COvRqlMbM9rfFBbP_hPgZwynWDiVjUvtLJUi_M-GM04ysHtDwdznlRYY3rj6grcZyoqW6nQ/file [following]\n",
            "--2022-08-30 22:04:00--  https://ucfa57857c314ff7ebdb50261040.dl.dropboxusercontent.com/cd/0/inline2/BsCaHFgUN-TDFqVUrWfgaCQpNH4RwVXGXDoqYN7gryXbxKhY_Nsu9DJgjfm8hqX4YCNkphCrr512L5zog0Yh2wED2S8QxOqTyAA3q-JjhNyV_3pMIzcItzhQqS6n3lk3dHv-hDcKsHaP6RZaXF4UA1aC1LE1XUMj2fnVkl8f5IAvrVUESDCuu9hSXXctSM1kInO6zo1HuSv0Rcs_mnTRkCo8PJZNqMvWy1_hQ3GoN4MgHnxX1Aa3q66NbZ979xKMqTzNImmgDYv2F-htGdc_W0xuyMLHu6AORUtB7schOkG6F0Kgg5T7j0RTW--3RxMBTHI8s8uGWVtSBVCYCSrMaVRW3lzGAZxDL-D0V80COvRqlMbM9rfFBbP_hPgZwynWDiVjUvtLJUi_M-GM04ysHtDwdznlRYY3rj6grcZyoqW6nQ/file\n",
            "Reusing existing connection to ucfa57857c314ff7ebdb50261040.dl.dropboxusercontent.com:443.\n",
            "HTTP request sent, awaiting response... 200 OK\n",
            "Length: 2258526938 (2.1G) [application/zip]\n",
            "Saving to: ‘/content/nnUNet/models/Task024_Promise.zip’\n",
            "\n",
            "/content/nnUNet/mod 100%[===================>]   2.10G  78.0MB/s    in 29s     \n",
            "\n",
            "2022-08-30 22:04:30 (74.3 MB/s) - ‘/content/nnUNet/models/Task024_Promise.zip’ saved [2258526938/2258526938]\n",
            "\n"
          ]
        }
      ],
      "source": [
        "# this will usually take between one and five minutes (but can sometimes take up to eight)\n",
        "seg_model_url = \"https://www.dropbox.com/s/u9m37l8et4hgu4h/Task024_Promise.zip?dl=0\"\n",
        "out_path_mod = os.path.join(os.environ[\"nnUNet_models\"], \"Task024_Promise.zip\")#\"/content/nnUnet/models/Task024_Promise.zip\"\n",
        "!wget -O $out_path_mod $seg_model_url"
      ]
    },
    {
      "cell_type": "markdown",
      "metadata": {
        "id": "eRtmCas7dT6D"
      },
      "source": [
        "# Setup of the Colab VM\n",
        "\n",
        "\n",
        "\n",
        "In the following cells we will confirm you have a GPU before doing anything else, and will install and import all the Python dependencies. \n",
        "\n",
        "The main python packages we need to install are:\n",
        "* `nnunet` - which is the [codebase for the nn-UNet framework](https://github.com/MIC-DKFZ/nnUNet) we are going to be using for the segmentation step;\n",
        "* `pydicom`, a Python [package](https://github.com/pydicom/pydicom) that lets the use read, modify, and write DICOM data in an easy \"pythonic\" way - that we are going to use to distinguish different DICOM objects from each other."
      ]
    },
    {
      "cell_type": "markdown",
      "metadata": {
        "id": "zLvysANUArnm"
      },
      "source": [
        "## GPU checks"
      ]
    },
    {
      "cell_type": "code",
      "execution_count": 28,
      "metadata": {
        "id": "Pf2j172mddvK"
      },
      "outputs": [],
      "source": [
        "# check wether the Colab Instance was correctly initialized with a GPU instance\n",
        "gpu_list = !nvidia-smi --list-gpus\n",
        "\n",
        "has_gpu = False if \"failed\" in gpu_list[0] else True\n",
        "\n",
        "if not has_gpu:\n",
        "  print(\"Your Colab VM does not have a GPU - check \\\"Runtime > Change runtime type\\\"\")"
      ]
    },
    {
      "cell_type": "code",
      "execution_count": 29,
      "metadata": {
        "colab": {
          "base_uri": "https://localhost:8080/"
        },
        "id": "kL6xCvo3eKQ0",
        "outputId": "f7021051-c5c1-49b4-fd12-cb830c8b336c"
      },
      "outputs": [
        {
          "output_type": "stream",
          "name": "stdout",
          "text": [
            "Tue Aug 30 22:04:30 2022       \n",
            "+-----------------------------------------------------------------------------+\n",
            "| NVIDIA-SMI 460.32.03    Driver Version: 460.32.03    CUDA Version: 11.2     |\n",
            "|-------------------------------+----------------------+----------------------+\n",
            "| GPU  Name        Persistence-M| Bus-Id        Disp.A | Volatile Uncorr. ECC |\n",
            "| Fan  Temp  Perf  Pwr:Usage/Cap|         Memory-Usage | GPU-Util  Compute M. |\n",
            "|                               |                      |               MIG M. |\n",
            "|===============================+======================+======================|\n",
            "|   0  Tesla P100-PCIE...  Off  | 00000000:00:04.0 Off |                    0 |\n",
            "| N/A   33C    P0    26W / 250W |      0MiB / 16280MiB |      0%      Default |\n",
            "|                               |                      |                  N/A |\n",
            "+-------------------------------+----------------------+----------------------+\n",
            "                                                                               \n",
            "+-----------------------------------------------------------------------------+\n",
            "| Processes:                                                                  |\n",
            "|  GPU   GI   CI        PID   Type   Process name                  GPU Memory |\n",
            "|        ID   ID                                                   Usage      |\n",
            "|=============================================================================|\n",
            "|  No running processes found                                                 |\n",
            "+-----------------------------------------------------------------------------+\n"
          ]
        }
      ],
      "source": [
        "# check which model of GPU the notebook is equipped with - a Tesla K80 or T4\n",
        "# T4 is the best performing on the two - and can about half the GPU processing time\n",
        "\n",
        "!nvidia-smi"
      ]
    },
    {
      "cell_type": "markdown",
      "metadata": {
        "id": "ZJhwBz2ABT_p"
      },
      "source": [
        "## Environment Setup\n",
        "\n",
        "Here we will configure the Linux environment variables needed to run the nnU-Net pipeline. \n",
        "\n",
        "Three main variables are needed by default to run the nnU-Net segmentation pipelines:\n",
        "* `nnUNet_raw_data_base` is the path to the folder where the segmentation pipeline expects to find the data to process;\n",
        "* `nnUNet_preprocessed` is the path to the folder where the preprocessed data are saved;\n",
        "* `RESULTS_FOLDER` is the path to the folder storing by default the model weights and, in our case, for simplicity, the segmentation masks produced by the pipeline.\n",
        "\n",
        "We will use the additional variable `PATH_TO_MODEL_FILE` to point to the location where the pre-trained model weights for the chosen model will be stored (more on this later).\n",
        "\n",
        "Please notice that these variables need to be set using `os.environ[]` in Google Colab - as `!export` is not sufficient to guarantee the variables are kept from one cell to the other. For more in-depth information regarding what the nnU-Net framework uses these folders for, please visit [the dedicated nnU-Net documentation page](https://github.com/MIC-DKFZ/nnUNet/blob/master/documentation/setting_up_paths.md)"
      ]
    },
    {
      "cell_type": "markdown",
      "metadata": {
        "id": "40E3HnI5A0SX"
      },
      "source": [
        "## Install command-line tools\n",
        "\n",
        "\n",
        "[Plastimatch](https://plastimatch.org/index.html) is considered to be the swiss army knife of medical images processing: we will use it to convert DICOM (CT, RTSTRUCT) series to NRRD files - but it can be used for a multitude of other tasks, such as registration, resampling, cropping, and computing statistics to name a few. Plastimatch is also available as a 3DSlicer plug-in and can be used directly from the Slicer GUI.\n",
        "\n",
        "For the sake of clarity and simplicity, we will call Plastimatch from a very simple [Python wrapper](https://github.com/denbonte/pyplastimatch) written for the occasion (unfortunately, Plastimatch does not provide an official one)."
      ]
    },
    {
      "cell_type": "code",
      "execution_count": 30,
      "metadata": {
        "id": "ZZL6-ByHA7XY"
      },
      "outputs": [],
      "source": [
        "%%capture\n",
        "!sudo apt update\n",
        "\n",
        "!sudo apt install plastimatch"
      ]
    },
    {
      "cell_type": "code",
      "execution_count": 31,
      "metadata": {
        "colab": {
          "base_uri": "https://localhost:8080/"
        },
        "id": "LMovHnKgBEfC",
        "outputId": "c9b31ff3-d566-4e36-b281-e453ad0fa8b5"
      },
      "outputs": [
        {
          "output_type": "stream",
          "name": "stdout",
          "text": [
            "plastimatch version 1.7.0\n"
          ]
        }
      ],
      "source": [
        "!echo $(plastimatch --version)"
      ]
    },
    {
      "cell_type": "markdown",
      "metadata": {
        "id": "K_8zlhmdo0HD"
      },
      "source": [
        "[dcmqi](https://github.com/QIICR/dcmqi) is an open source library that can help with the conversion between imaging research formats and the standard DICOM representation for image analysis results. More specifically, you can use dcmqi convert DICOM Segmentation objects (DICOM SEG) into research formats, such as NIfTI and NRRD."
      ]
    },
    {
      "cell_type": "code",
      "execution_count": 81,
      "metadata": {
        "id": "KAkmz4jApGh8"
      },
      "outputs": [],
      "source": [
        "%%capture\n",
        "!wget https://github.com/QIICR/dcmqi/releases/download/v1.2.5/dcmqi-1.2.5-linux.tar.gz\n",
        "!tar zxvf dcmqi-1.2.5-linux.tar.gz\n",
        "!cp dcmqi-1.2.5-linux/bin/* /usr/local/bin/"
      ]
    },
    {
      "cell_type": "markdown",
      "metadata": {
        "id": "fFRWendbBH72"
      },
      "source": [
        "Finally, we are going to install [Subversion](https://subversion.apache.org/), a tool that will allow us to clone GitHub repositories only partially (to save time and space)."
      ]
    },
    {
      "cell_type": "code",
      "execution_count": 33,
      "metadata": {
        "id": "YBEJRe-2BKah"
      },
      "outputs": [],
      "source": [
        "%%capture\n",
        "\n",
        "!sudo apt install subversion"
      ]
    },
    {
      "cell_type": "code",
      "execution_count": 34,
      "metadata": {
        "colab": {
          "base_uri": "https://localhost:8080/"
        },
        "id": "WI1_BixWBN1O",
        "outputId": "6c28c4c3-4738-4ef8-8867-28c1a1795482"
      },
      "outputs": [
        {
          "output_type": "stream",
          "name": "stdout",
          "text": [
            "svn, version 1.9.7 (r1800392) compiled May 21 2022, 07:24:25 on x86_64-pc-linux-gnu\n"
          ]
        }
      ],
      "source": [
        "!echo $(svn --version | head -n 2)"
      ]
    },
    {
      "cell_type": "markdown",
      "metadata": {
        "id": "0Ev-JlpCAuMs"
      },
      "source": [
        "## Install Python packages"
      ]
    },
    {
      "cell_type": "code",
      "execution_count": 35,
      "metadata": {
        "id": "7XMzq-8nRvKd"
      },
      "outputs": [],
      "source": [
        "%%capture\n",
        "!pip install nnunet\n",
        "!pip install pydicom\n",
        "!pip install nibabel"
      ]
    },
    {
      "cell_type": "markdown",
      "metadata": {
        "id": "62yhEkkjITzn"
      },
      "source": [
        "Unpack and install model we downloaded earlier (under `PATH_TO_MODEL_FILE`). This step can take about 1-2 minutes."
      ]
    },
    {
      "cell_type": "code",
      "execution_count": 36,
      "metadata": {
        "id": "QOVsPuzxIOXX"
      },
      "outputs": [],
      "source": [
        "%%capture\n",
        "!nnUNet_install_pretrained_model_from_zip $PATH_TO_MODEL_FILE"
      ]
    },
    {
      "cell_type": "markdown",
      "metadata": {
        "id": "BP1tahM9tzlm"
      },
      "source": [
        "Next we set up few things to help with visualization of the segmentations later."
      ]
    },
    {
      "cell_type": "code",
      "execution_count": 37,
      "metadata": {
        "colab": {
          "base_uri": "https://localhost:8080/"
        },
        "id": "cURjj8rzAa2L",
        "outputId": "5baaa56c-8ba6-41c1-994f-594bc044c34a"
      },
      "outputs": [
        {
          "output_type": "stream",
          "name": "stdout",
          "text": [
            "Colab only includes TensorFlow 2.x; %tensorflow_version has no effect.\n",
            "Python version               :  3.7.13 (default, Apr 24 2022, 01:04:09) \n",
            "Numpy version                :  1.21.6\n",
            "TensorFlow version           :  2.8.2\n",
            "Keras (stand-alone) version  :  2.8.0\n",
            "\n",
            "This Colab instance is equipped with a GPU.\n"
          ]
        }
      ],
      "source": [
        "import os\n",
        "import sys\n",
        "import shutil\n",
        "import csv\n",
        "import random\n",
        "\n",
        "import os\n",
        "import glob\n",
        "import csv\n",
        "import json\n",
        "\n",
        "import nibabel as nib\n",
        "\n",
        "import time\n",
        "import gdown\n",
        "\n",
        "import json\n",
        "import pprint\n",
        "import numpy as np\n",
        "import pandas as pd\n",
        "\n",
        "import pydicom\n",
        "import nibabel as nib\n",
        "import SimpleITK as sitk\n",
        "\n",
        "from medpy.metric.binary import dc as dice_coef\n",
        "from medpy.metric.binary import hd as hausdorff_distance\n",
        "from medpy.metric.binary import asd as avg_surf_distance\n",
        "\n",
        "from medpy.filter.binary import largest_connected_component\n",
        "\n",
        "# use the \"tensorflow_version\" magic to make sure TF 1.x is imported\n",
        "%tensorflow_version 2.x\n",
        "import tensorflow as tf\n",
        "import keras\n",
        "\n",
        "print(\"Python version               : \", sys.version.split('\\n')[0])\n",
        "print(\"Numpy version                : \", np.__version__)\n",
        "print(\"TensorFlow version           : \", tf.__version__)\n",
        "print(\"Keras (stand-alone) version  : \", keras.__version__)\n",
        "\n",
        "print(\"\\nThis Colab instance is equipped with a GPU.\")"
      ]
    },
    {
      "cell_type": "code",
      "execution_count": 38,
      "metadata": {
        "colab": {
          "base_uri": "https://localhost:8080/"
        },
        "id": "UrAh2kjqb2Be",
        "outputId": "7599a8cb-630f-4d5f-bc66-7ffcc5598159"
      },
      "outputs": [
        {
          "output_type": "stream",
          "name": "stdout",
          "text": [
            "A    pyplastimatch/__init__.py\n",
            "A    pyplastimatch/pyplastimatch.py\n",
            "A    pyplastimatch/utils\n",
            "A    pyplastimatch/utils/__init__.py\n",
            "A    pyplastimatch/utils/data.py\n",
            "A    pyplastimatch/utils/eval.py\n",
            "A    pyplastimatch/utils/viz.py\n",
            "Checked out revision 18.\n"
          ]
        }
      ],
      "source": [
        "# PyPlastimatch - python wrapper for Plastimatch (and interactive notebook visualisation)\n",
        "!svn checkout https://github.com/AIM-Harvard/pyplastimatch/trunk/pyplastimatch pyplastimatch"
      ]
    },
    {
      "cell_type": "code",
      "execution_count": 39,
      "metadata": {
        "colab": {
          "base_uri": "https://localhost:8080/"
        },
        "id": "GsePTNBmM9sw",
        "outputId": "d2c00609-3b6c-45ca-f884-ccb6325835f0"
      },
      "outputs": [
        {
          "output_type": "stream",
          "name": "stdout",
          "text": [
            "Cloning into 'dicomsort'...\n",
            "remote: Enumerating objects: 130, done.\u001b[K\n",
            "remote: Counting objects: 100% (4/4), done.\u001b[K\n",
            "remote: Compressing objects: 100% (4/4), done.\u001b[K\n",
            "remote: Total 130 (delta 0), reused 1 (delta 0), pack-reused 126\u001b[K\n",
            "Receiving objects: 100% (130/130), 44.12 KiB | 2.45 MiB/s, done.\n",
            "Resolving deltas: 100% (63/63), done.\n"
          ]
        }
      ],
      "source": [
        "# dicomsort is the pythong package that can sort DICOM files into\n",
        "# folder organization based on user-specified DICOM attributes\n",
        "!git clone https://github.com/pieper/dicomsort.git"
      ]
    },
    {
      "cell_type": "code",
      "execution_count": 40,
      "metadata": {
        "id": "0s9aRassGOQ_"
      },
      "outputs": [],
      "source": [
        "from pyplastimatch import pyplastimatch as pypla\n",
        "from pyplastimatch.utils import viz as viz_utils\n",
        "from pyplastimatch.utils import data as data_utils"
      ]
    },
    {
      "cell_type": "markdown",
      "metadata": {
        "id": "Duil1tviGWaG"
      },
      "source": [
        "# Data selection, downloading and structuring\n",
        "\n",
        "We want to select here the collection named qin-prostate repeatibility, and more particularly the two timepoints per patient ID for further analysis."
      ]
    },
    {
      "cell_type": "markdown",
      "metadata": {
        "id": "naJ5OAKZnZpG"
      },
      "source": [
        "In order to use data hosted by IDC effectively, you will need to utilize metadata to navigate what data is available and to select specific files that are relevant in your analysis. The main metadata table you will need for this purpose is the [`bigquery-public-data.idc_current.dicom_all`](https://console.cloud.google.com/bigquery?p=bigquery-public-data&d=idc_current&t=dicom_all&page=table) table.\n",
        "\n",
        "This query has one row per file hosted by IDC. All of IDC data is in DICOM format, and each of the rows in this table will have all of the DICOM attributes extracted from a given file. It will also have various columns containing non-DICOM metadata, such as the name of the collection where the file is included, size of the file, and URL that can be used to retrieve that file.\n",
        "\n",
        "To query IDC BigQuery tables, you can use one of the following approaches:\n",
        "1. `%%bigquery` magic will allow you to define your query in plain SQL, and load the result of the query into a Pandas dataframe.\n",
        "2. [BigQuery Python API](https://googleapis.dev/python/bigquery/latest/index.html) is more flexible in allowing you to parameterize your query.\n",
        "3. [Google Cloud BigQuery console](https://console.cloud.google.com/bigquery) is very convenient for interactive query exploration of tables.\n",
        "4. [`gcloud bq`](https://cloud.google.com/bigquery/docs/bq-command-line-tool) is the command line tool that comes as part of [Cloud SDK](https://cloud.google.com/sdk) and is convenient for scripting interactions from the shell. Cloud SDK is preinstalled on Colab.\n",
        "\n",
        "In the following cells we will utilize `%%bigquery`, Python BigQuery SDK and BigQuery console for working with IDC BigQuery tables.\n",
        "\n",
        "First, to verify that you are authenticated, and your project ID is working, let's run a test query against IDC BigQuery table to get the summary statistics about the  of data available in IDC.\n"
      ]
    },
    {
      "cell_type": "markdown",
      "metadata": {
        "id": "t9YKMGVvVZX_"
      },
      "source": [
        "Given `SeriesInstanceUID` value identifying the image series, we can query the IDC metadata table to get the list of files (defined by the Google Storage URLs) corresponding to this series.\n",
        "\n",
        "All of the DICOM metadata for each of the DICOM files is available in the BigQuery table we will be querying. We will get not just the `gcs_url`, but also identifiers for the Study, Series and Instance, to better understand organization of data, and since `StudyInstanceUID` will be handy later when we get to the visualization of the data."
      ]
    },
    {
      "cell_type": "markdown",
      "metadata": {
        "id": "7INoX4rgTp7O"
      },
      "source": [
        "## Data selection -- BigQuery"
      ]
    },
    {
      "cell_type": "markdown",
      "source": [
        "Explanation"
      ],
      "metadata": {
        "id": "jfDSklhyFWpa"
      }
    },
    {
      "cell_type": "code",
      "execution_count": 41,
      "metadata": {
        "id": "joRbZ81GWNz1"
      },
      "outputs": [],
      "source": [
        "from google.cloud import bigquery\n",
        "bq_client = bigquery.Client(os.environ[\"GCP_PROJECT_ID\"])\n",
        "selection_query = f\"\"\"\n",
        "  SELECT  \n",
        "  StudyInstanceUID, \n",
        "  SeriesInstanceUID, \n",
        "  SOPInstanceUID, \n",
        "  PatientID, \n",
        "  Modality, \n",
        "  collection_id, \n",
        "  StudyDescription, \n",
        "  SeriesDescription, \n",
        "  StudyDate, \n",
        "  SeriesDate,\n",
        "  gcs_url,\n",
        "  (SELECT SeriesInstanceUID FROM UNNEST(ReferencedSeriesSequence)) AS RefSerieUID \n",
        "FROM \n",
        "  `bigquery-public-data.idc_current.dicom_all` \n",
        "WHERE \n",
        "  collection_id = 'qin_prostate_repeatability' \n",
        "  AND SeriesDescription IN ('T2 Weighted Axial', 'T2 Weighted Axial Segmentations')\"\"\" "
      ]
    },
    {
      "cell_type": "code",
      "source": [
        "selection_result = bq_client.query(selection_query)\n",
        "selection_df = selection_result.result().to_dataframe()"
      ],
      "metadata": {
        "id": "j1PtIeNJ8Qf7"
      },
      "execution_count": 42,
      "outputs": []
    },
    {
      "cell_type": "code",
      "source": [
        "selection_df.info()"
      ],
      "metadata": {
        "colab": {
          "base_uri": "https://localhost:8080/"
        },
        "id": "oPfg8g57EMMD",
        "outputId": "20ab077c-5137-44b6-d090-6cef75744257"
      },
      "execution_count": 100,
      "outputs": [
        {
          "output_type": "stream",
          "name": "stdout",
          "text": [
            "<class 'pandas.core.frame.DataFrame'>\n",
            "Int64Index: 58 entries, 8 to 898\n",
            "Data columns (total 12 columns):\n",
            " #   Column             Non-Null Count  Dtype \n",
            "---  ------             --------------  ----- \n",
            " 0   StudyInstanceUID   58 non-null     object\n",
            " 1   SeriesInstanceUID  58 non-null     object\n",
            " 2   SOPInstanceUID     58 non-null     object\n",
            " 3   PatientID          58 non-null     object\n",
            " 4   Modality           58 non-null     object\n",
            " 5   collection_id      58 non-null     object\n",
            " 6   StudyDescription   58 non-null     object\n",
            " 7   SeriesDescription  58 non-null     object\n",
            " 8   StudyDate          58 non-null     object\n",
            " 9   SeriesDate         58 non-null     object\n",
            " 10  gcs_url            58 non-null     object\n",
            " 11  RefSerieUID        2 non-null      object\n",
            "dtypes: object(12)\n",
            "memory usage: 5.9+ KB\n"
          ]
        }
      ]
    },
    {
      "cell_type": "markdown",
      "source": [
        "## Randomly pick 10 SutdyIDs for the use case"
      ],
      "metadata": {
        "id": "SjrQmHbKLykY"
      }
    },
    {
      "cell_type": "code",
      "execution_count": 43,
      "metadata": {
        "id": "SBxWO9GlPVT5",
        "colab": {
          "base_uri": "https://localhost:8080/"
        },
        "outputId": "e57e601c-4f4c-4ede-f218-3ef0b10f6899"
      },
      "outputs": [
        {
          "output_type": "execute_result",
          "data": {
            "text/plain": [
              "array(['PCAMPMRI-00014'], dtype=object)"
            ]
          },
          "metadata": {},
          "execution_count": 43
        }
      ],
      "source": [
        "# #Random PatientID selection\n",
        "# patientID_select = random.sample(list(selection_df.PatientID.values), 1)\n",
        "\n",
        "# #Static PatientID selection\n",
        "# patientID_select = [\"PCAMPMRI-00014\"]\n",
        "\n",
        "# selection_df = selection_df[selection_df.PatientID.isin(patientID_select)]\n",
        "\n",
        "# selection_df.PatientID.unique()"
      ]
    },
    {
      "cell_type": "markdown",
      "metadata": {
        "id": "NOtsKTg8TvCG"
      },
      "source": [
        "## Download gs urls into dcm files and sorting  "
      ]
    },
    {
      "cell_type": "code",
      "execution_count": 44,
      "metadata": {
        "colab": {
          "base_uri": "https://localhost:8080/"
        },
        "id": "h3pHlJbcdPq6",
        "outputId": "67ddf9c5-35a9-460d-9c06-21f32fac0f68"
      },
      "outputs": [
        {
          "output_type": "stream",
          "name": "stdout",
          "text": [
            "number of unique patientIDS that have both t2 axial and seg whole prostate objects : 1\n"
          ]
        }
      ],
      "source": [
        "# selection_df=pd.read_csv(selection_df)#\"t2_and_seg.csv\")\n",
        "print(f\"number of unique patientIDS that have both t2 axial and seg whole prostate objects : {len(sorted(selection_df.PatientID.unique()))}\")"
      ]
    },
    {
      "cell_type": "code",
      "execution_count": 45,
      "metadata": {
        "id": "X4YXrk6PIkJe"
      },
      "outputs": [],
      "source": [
        "# save the list of GCS URLs into a file\n",
        "selection_manifest = os.path.join(os.environ[\"IDC_Downloads\"], \"idc_manifest.txt\")\n",
        "selection_df[\"gcs_url\"].to_csv(selection_manifest, header=False, index=False)"
      ]
    },
    {
      "cell_type": "code",
      "execution_count": 46,
      "metadata": {
        "colab": {
          "base_uri": "https://localhost:8080/"
        },
        "id": "mIKSKvW8mdsN",
        "outputId": "85c5d01e-3b44-4d5f-ce8a-9523cd15fffc"
      },
      "outputs": [
        {
          "output_type": "stream",
          "name": "stdout",
          "text": [
            "     58      58    3828\n"
          ]
        }
      ],
      "source": [
        "# confirm the resulting manifest has as many lines as the number of rows in the\n",
        "# dataframe we initialized earlier\n",
        "!cat {selection_manifest} |wc"
      ]
    },
    {
      "cell_type": "code",
      "execution_count": 47,
      "metadata": {
        "id": "KdZSVftdjFPl"
      },
      "outputs": [],
      "source": [
        "# let's make sure the download folder is clean, in case you ran this cell earlier\n",
        "# for a different dataset\n",
        "!rm -rf {os.environ[\"IDC_Downloads\"]+\"/*.dcm\"}"
      ]
    },
    {
      "cell_type": "code",
      "execution_count": 48,
      "metadata": {
        "id": "6ydwu1tSYScJ"
      },
      "outputs": [],
      "source": [
        "# download is this simple!\n",
        "%%capture\n",
        "\n",
        "!cat {selection_manifest} | gsutil -m cp -I {os.environ[\"IDC_Downloads\"]}"
      ]
    },
    {
      "cell_type": "markdown",
      "metadata": {
        "id": "ZvlSBfPRdRpz"
      },
      "source": [
        "To facilitate preparation of the data, we will sort the downloaded files into the PatientID/StudyInstanceUID/SeriesInstanceUID hierarchy."
      ]
    },
    {
      "cell_type": "code",
      "execution_count": 49,
      "metadata": {
        "colab": {
          "base_uri": "https://localhost:8080/"
        },
        "id": "q9aVI7qAbaT0",
        "outputId": "a7f9b986-7b3d-47bf-8f5a-86eb2a94d282"
      },
      "outputs": [
        {
          "output_type": "stream",
          "name": "stdout",
          "text": [
            "100% 59/59 [00:00<00:00, 167.14it/s]\n",
            "Files sorted\n"
          ]
        }
      ],
      "source": [
        "!python dicomsort/dicomsort.py -k -u {os.environ[\"IDC_Downloads\"]} {os.environ[\"IDC_Downloads_Sorted\"]}/%PatientID/%StudyInstanceUID/%SeriesInstanceUID/%SOPInstanceUID.dcm"
      ]
    },
    {
      "cell_type": "markdown",
      "metadata": {
        "id": "ewcZsa1rzKHi"
      },
      "source": [
        "Move the sorted data into the right place"
      ]
    },
    {
      "cell_type": "code",
      "execution_count": 50,
      "metadata": {
        "id": "DZ_LAvUGEGxj"
      },
      "outputs": [],
      "source": [
        "rm -rf {os.environ[\"qin_prostate_rep_dicom\"]+\"/*\"}* && mv {os.environ[\"IDC_Downloads_Sorted\"]+\"/*\"} {os.environ[\"qin_prostate_rep_dicom\"]}"
      ]
    },
    {
      "cell_type": "markdown",
      "metadata": {
        "id": "4Z5QylRmj9gw"
      },
      "source": [
        "#Pre-Processing\n",
        "\n",
        "Dicom files are assumed to be sorted this way for further processing :\n",
        "\n",
        "* PatientID\n",
        "  * StudyUID\n",
        "    * SeriesUID\n",
        "      * *.dcm file(s)"
      ]
    },
    {
      "cell_type": "markdown",
      "metadata": {
        "id": "ZxaZ6eMwQVOb"
      },
      "source": [
        "## conversion methods"
      ]
    },
    {
      "cell_type": "markdown",
      "metadata": {
        "id": "f2B-4nymgk5I"
      },
      "source": [
        "https://wiki.cancerimagingarchive.net/pages/viewpage.action?pageId=24283641\n",
        "\n",
        "switch from plastimatch resample method to simple itk for slice spacing issue"
      ]
    },
    {
      "cell_type": "code",
      "execution_count": 51,
      "metadata": {
        "id": "MZJdr2v-f6qY"
      },
      "outputs": [],
      "source": [
        "def safe_sitk_read(img_list, *args, **kwargs):\n",
        "  \"\"\"\n",
        "  Since the default function just looks at images 0 and 1 to determine slice thickness\n",
        "  and the images are often not correctly alphabetically sorted, much slower\n",
        "  :param img_list:\n",
        "  :return:\n",
        "  \"\"\"\n",
        "  pimg_list = [(sitk.ReadImage(x).GetOrigin(), x) for x in img_list]\n",
        "  s_img_list = [path for _, path in sorted(pimg_list, key = lambda x: x[0][2])] # sort by z\n",
        "  return sitk.ReadImage(s_img_list, *args, **kwargs)"
      ]
    },
    {
      "cell_type": "code",
      "execution_count": 52,
      "metadata": {
        "id": "RkSLspMHgqOV"
      },
      "outputs": [],
      "source": [
        "def convert_mr_to_nii_nrrd(input_path, output_path_root, modality, target_format=\"nii.gz\"):\n",
        "  if not os.path.exists(output_path_root): \n",
        "    !mkdir -p $output_path_root\n",
        "  output_path = os.path.join(output_path_root, input_path.split('/')[-1][:-4] \n",
        "                             + \"_MR_\" + modality\n",
        "                             + \".\" + target_format)\n",
        "  #convert to target format\n",
        "  if not os.path.exists(output_path):\n",
        "    dcm_img = safe_sitk_read(glob.glob(os.path.join(input_path, \"**\", \"*.dcm\"), recursive=True))\n",
        "    sitk.WriteImage(dcm_img, output_path)"
      ]
    },
    {
      "cell_type": "markdown",
      "metadata": {
        "id": "CdISKxlrg5U7"
      },
      "source": [
        "We will use the [segimage2itkimage tool](https://qiicr.gitbook.io/dcmqi-guide/opening/cmd_tools/seg/segimage2itkimage) from dcmqi to extract individual segments from DICOM SEG series we just downloaded into NII format, saving each segment into a separate file"
      ]
    },
    {
      "cell_type": "code",
      "execution_count": 53,
      "metadata": {
        "id": "Eav6vNsTg9TL"
      },
      "outputs": [],
      "source": [
        "def convert_seg_to_nii(input_path, output_path):\n",
        "  if not os.path.exists(output_path): \n",
        "    !mkdir -p $output_path\n",
        "  \n",
        "  print(f'input path : {input_path}')\n",
        "  print(f'output_path : {output_path}')\n",
        "  !segimage2itkimage --inputDICOM $input_path --outputDirectory $output_path \\\n",
        "  --outputType nii "
      ]
    },
    {
      "cell_type": "code",
      "execution_count": 54,
      "metadata": {
        "id": "-1tYQCkFQZ7A"
      },
      "outputs": [],
      "source": [
        "def convert_dcm_sorted(input_path,output_path):\n",
        "  path_dicom = os.environ[\"qin_prostate_rep_dicom\"] \n",
        "  for serie_folder in sorted(glob.glob(os.path.join(input_path, \"**\", \"**\", \"*\"))):#, recursive = True):\n",
        "    path_serie_dcm_lst = glob.glob(os.path.join(serie_folder, \"*.dcm\"))\n",
        "    type_serie = selection_df[selection_df[\"SeriesInstanceUID\"] == path_serie_dcm_lst[0].split('/')[-2]][\"Modality\"].iloc[0]#'SEG' if pydicom.dcmread(path_serie_dcm_lst[0]).Modality == \"SEG\" else \"MR\"\n",
        "    seriesInstanceUID = serie_folder.split(\"/\")[-1]\n",
        "    studyInstanceUID = serie_folder.split(\"/\")[-2]\n",
        "    patientID = serie_folder.split(\"/\")[-3]\n",
        "    if type_serie == \"SEG\":\n",
        "      #convert to nrrd\n",
        "      convert_seg_to_nii(input_path=path_serie_dcm_lst[0],\n",
        "                              output_path=os.path.join(output_path, \"nii\", \n",
        "                                                       patientID, studyInstanceUID, seriesInstanceUID + \"_SEG\"))\n",
        "    elif type_serie == \"MR\":\n",
        "      #convert to nii\n",
        "      convert_mr_to_nii_nrrd(input_path=serie_folder,\n",
        "                              output_path_root=os.path.join(output_path, \"nii\", \n",
        "                                                       patientID, studyInstanceUID, seriesInstanceUID + \"_MR\"), modality=\"T2\", target_format=\"nii.gz\")\n",
        "      #convert to nrrd\n",
        "      convert_mr_to_nii_nrrd(input_path=serie_folder, \n",
        "                              output_path_root=os.path.join(output_path, \"nrrd\", \n",
        "                                                       patientID, studyInstanceUID, seriesInstanceUID + \"_MR\"), modality=\"T2\", target_format=\"nrrd\")\n",
        "    else:\n",
        "      print(f\"type serie {type_serie} not supported\")"
      ]
    },
    {
      "cell_type": "markdown",
      "metadata": {
        "id": "rDE69us5SosB"
      },
      "source": [
        "## Conversion to NII/NRRD"
      ]
    },
    {
      "cell_type": "code",
      "execution_count": 55,
      "metadata": {
        "id": "iQrcemmAW7tC"
      },
      "outputs": [],
      "source": [
        "!rm -rf /content/qin_prostate_root_data/nii/*\n",
        "!rm -rf /content/qin_prostate_root_data/nrrd/*"
      ]
    },
    {
      "cell_type": "code",
      "execution_count": 56,
      "metadata": {
        "colab": {
          "base_uri": "https://localhost:8080/"
        },
        "id": "hB1YhW33y32e",
        "outputId": "1100e0d6-d371-49e6-8564-40a75acb2531"
      },
      "outputs": [
        {
          "output_type": "stream",
          "name": "stdout",
          "text": [
            "input path : /content/qin_prostate_root_data/dicom/PCAMPMRI-00014/1.3.6.1.4.1.14519.5.2.1.3671.4754.194890890650697728529329442454/1.2.276.0.7230010.3.1.3.1426846371.11304.1513205200.994/1.2.276.0.7230010.3.1.4.1426846371.11304.1513205200.995.dcm\n",
            "output_path : /content/qin_prostate_root_data/nii/PCAMPMRI-00014/1.3.6.1.4.1.14519.5.2.1.3671.4754.194890890650697728529329442454/1.2.276.0.7230010.3.1.3.1426846371.11304.1513205200.994_SEG\n",
            "dcmqi repository URL: git@github.com:QIICR/dcmqi.git revision: ef9e227 tag: v1.2.4\n",
            "W: CodeValue (0008,0100) empty in CodeSequenceMacro (type 1C)\n",
            "Row direction: 0.999976 -0.00674836 -0.00175933\n",
            "Col direction: 0.00690929 0.993212 0.116116\n",
            "Z direction: 0.000963796 -0.116125 0.993234\n",
            "Total frames: 84\n",
            "Total frames with unique IPP: 28\n",
            "Total overlapping frames: 28\n",
            "Origin: [-55.0828, -40.1437, -57.8139]\n",
            "input path : /content/qin_prostate_root_data/dicom/PCAMPMRI-00014/1.3.6.1.4.1.14519.5.2.1.3671.4754.288453744990673175783381845880/1.2.276.0.7230010.3.1.3.1426846371.9324.1513205197.742/1.2.276.0.7230010.3.1.4.1426846371.9324.1513205197.743.dcm\n",
            "output_path : /content/qin_prostate_root_data/nii/PCAMPMRI-00014/1.3.6.1.4.1.14519.5.2.1.3671.4754.288453744990673175783381845880/1.2.276.0.7230010.3.1.3.1426846371.9324.1513205197.742_SEG\n",
            "dcmqi repository URL: git@github.com:QIICR/dcmqi.git revision: ef9e227 tag: v1.2.4\n",
            "W: CodeValue (0008,0100) empty in CodeSequenceMacro (type 1C)\n",
            "Row direction: 0.999581 0.0271361 -0.0101024\n",
            "Col direction: -0.0244952 0.978525 0.204667\n",
            "Z direction: 0.0154393 -0.204334 0.97878\n",
            "Total frames: 84\n",
            "Total frames with unique IPP: 28\n",
            "Total overlapping frames: 28\n",
            "Origin: [-109.12, -27.9739, -122.465]\n"
          ]
        }
      ],
      "source": [
        "convert_dcm_sorted(input_path=os.environ[\"qin_prostate_rep_dicom\"],\n",
        "                   output_path=os.environ[\"qin_prostate_rep_root\"])"
      ]
    },
    {
      "cell_type": "markdown",
      "metadata": {
        "id": "hwhGpo_iY8Pt"
      },
      "source": [
        "# Resampling ground truth segmentations to T2"
      ]
    },
    {
      "cell_type": "code",
      "source": [
        "!rm -rf /content/qin_prostate_root_data/resampled/nii/*\n",
        "!rm -rf /content/qin_prostate_root_data/resampled/nrrd/*"
      ],
      "metadata": {
        "id": "oIf2aI7_Dt_O"
      },
      "execution_count": 57,
      "outputs": []
    },
    {
      "cell_type": "code",
      "execution_count": 58,
      "metadata": {
        "id": "7jId7-hwAGnh",
        "colab": {
          "base_uri": "https://localhost:8080/"
        },
        "outputId": "3624c07d-e475-4381-c5c4-f2d716465c19"
      },
      "outputs": [
        {
          "output_type": "stream",
          "name": "stdout",
          "text": [
            "/content/qin_prostate_root_data/nii/PCAMPMRI-00014/1.3.6.1.4.1.14519.5.2.1.3671.4754.194890890650697728529329442454/1.2.276.0.7230010.3.1.3.1426846371.11304.1513205200.994_SEG/1.nii.gz\n",
            "/content/qin_prostate_root_data/nii/PCAMPMRI-00014/1.3.6.1.4.1.14519.5.2.1.3671.4754.194890890650697728529329442454/1.2.276.0.7230010.3.1.3.1426846371.11304.1513205200.994_SEG/2.nii.gz\n",
            "/content/qin_prostate_root_data/nii/PCAMPMRI-00014/1.3.6.1.4.1.14519.5.2.1.3671.4754.194890890650697728529329442454/1.2.276.0.7230010.3.1.3.1426846371.11304.1513205200.994_SEG/3.nii.gz\n",
            "/content/qin_prostate_root_data/nii/PCAMPMRI-00014/1.3.6.1.4.1.14519.5.2.1.3671.4754.288453744990673175783381845880/1.2.276.0.7230010.3.1.3.1426846371.9324.1513205197.742_SEG/1.nii.gz\n",
            "/content/qin_prostate_root_data/nii/PCAMPMRI-00014/1.3.6.1.4.1.14519.5.2.1.3671.4754.288453744990673175783381845880/1.2.276.0.7230010.3.1.3.1426846371.9324.1513205197.742_SEG/2.nii.gz\n",
            "/content/qin_prostate_root_data/nii/PCAMPMRI-00014/1.3.6.1.4.1.14519.5.2.1.3671.4754.288453744990673175783381845880/1.2.276.0.7230010.3.1.3.1426846371.9324.1513205197.742_SEG/3.nii.gz\n"
          ]
        }
      ],
      "source": [
        "nii_lst = glob.glob(os.path.join(os.environ[\"qin_prostate_rep_nii\"], \"**\", \"*_SEG\", \"*.nii.gz\"), recursive=True)\n",
        "for seg_nii in sorted(nii_lst) :\n",
        "  print(seg_nii)\n",
        "  patientID = seg_nii.split('/')[-4]\n",
        "  studyUID = seg_nii.split('/')[-3]\n",
        "  serieUID = seg_nii.split('/')[-2][:-4] #standard serieUID without T2_SEG custom suffix\n",
        "  #get referencedSerieUID from seg corresponding to T2 MR volume \n",
        "  referencedSerieUID = str(selection_df[selection_df[\"SeriesInstanceUID\"] == serieUID][\"RefSerieUID\"].iloc[0])\t\n",
        "  matched_mod = glob.glob(os.path.join(os.environ['qin_prostate_rep_nii'], \n",
        "                                            patientID, studyUID, referencedSerieUID + \"_MR\", \"*.nii*\"))[0]\n",
        "  output_path_seg_root = os.path.join(os.environ[\"qin_prostate_rep_nii_resampled\"],\n",
        "                                  patientID, studyUID,\n",
        "                                  serieUID + \"_SEG\")\n",
        "  if not os.path.exists(output_path_seg_root):\n",
        "    !mkdir -p $output_path_seg_root\n",
        "  resample_args = {\"input\" : seg_nii, \n",
        "                        \"output\" : os.path.join(output_path_seg_root, seg_nii.split('/')[-1]),\n",
        "                        \"fixed\" : matched_mod,\n",
        "                        \"interpolation\" : \"nn\"}\n",
        "  #resample to t2 mod based on study -- not uniform across studies\n",
        "  pypla.resample(verbose = False, **resample_args)"
      ]
    },
    {
      "cell_type": "markdown",
      "metadata": {
        "id": "0rIgfkgxkQeS"
      },
      "source": [
        "# Inference -- nnUnet"
      ]
    },
    {
      "cell_type": "markdown",
      "metadata": {
        "id": "0PfFh2vWBGqm"
      },
      "source": [
        "## Naming Formatting T2 files for nnUnet inference"
      ]
    },
    {
      "cell_type": "code",
      "execution_count": 59,
      "metadata": {
        "id": "Y0lAnsWvN6fA"
      },
      "outputs": [],
      "source": [
        "nii_lst = glob.glob(os.path.join(os.environ[\"qin_prostate_rep_nii\"], \"**\", \"*T2*.nii.gz\"), recursive=True)#get nii lst from data\n",
        "nii_mr_t2 = [el for el in nii_lst if el.split('/')[-1].split('.')[-3].split('_')[-1] == \"T2\"]#get T2 lst from nii lst\n",
        "for idx, el_t2 in enumerate(nii_mr_t2):\n",
        "  studyInstanceUID_t2 = el_t2.split('/')[-3]\n",
        "  patientID_t2 = el_t2.split(\"/\")[-4]\n",
        "  #format to nnunet \n",
        "  t2_out_nnunet = os.path.join(os.environ[\"nnUNet_preprocessed\"], \"_\".join([studyInstanceUID_t2, patientID_t2, \"0000\"]) + \".nii.gz\")\n",
        "  #copy to nnUnet folder\n",
        "  !cp $el_t2 $t2_out_nnunet"
      ]
    },
    {
      "cell_type": "markdown",
      "metadata": {
        "id": "py5Gl9k-qrG7"
      },
      "source": [
        "## Inference"
      ]
    },
    {
      "cell_type": "code",
      "execution_count": 60,
      "metadata": {
        "colab": {
          "base_uri": "https://localhost:8080/"
        },
        "id": "xV2MKQsuy6w3",
        "outputId": "68c9dffd-bc1b-4c08-fb6b-cd980e6061ad"
      },
      "outputs": [
        {
          "output_type": "stream",
          "name": "stdout",
          "text": [
            "\n",
            "\n",
            "Please cite the following paper when using nnUNet:\n",
            "\n",
            "Isensee, F., Jaeger, P.F., Kohl, S.A.A. et al. \"nnU-Net: a self-configuring method for deep learning-based biomedical image segmentation.\" Nat Methods (2020). https://doi.org/10.1038/s41592-020-01008-z\n",
            "\n",
            "\n",
            "If you have questions or suggestions, feel free to open an issue at https://github.com/MIC-DKFZ/nnUNet\n",
            "\n",
            "Prostate MR Image Segmentation 2012. \n",
            "Segmentation target is the prostate, \n",
            "Input modalities are 0: T2. \n",
            "Also see https://promise12.grand-challenge.org/\n"
          ]
        }
      ],
      "source": [
        "!nnUNet_print_pretrained_model_info Task024_Promise"
      ]
    },
    {
      "cell_type": "code",
      "execution_count": 61,
      "metadata": {
        "colab": {
          "base_uri": "https://localhost:8080/"
        },
        "id": "nrK13UnT0MLy",
        "outputId": "a0a2c9d3-f1c7-449b-d6a5-594e8ea72c37"
      },
      "outputs": [
        {
          "output_type": "stream",
          "name": "stdout",
          "text": [
            "input folder path : /content/nnUNet/data/processed\n",
            "output folder path : /content/nnUNet/output/preds\n"
          ]
        }
      ],
      "source": [
        "print(f\"input folder path : \"+os.environ[\"nnUNet_preprocessed\"])\n",
        "print(f\"output folder path : \"+os.environ[\"RESULTS_FOLDER\"])"
      ]
    },
    {
      "cell_type": "code",
      "source": [
        "!echo {os.environ[\"nnUNet_preprocessed\"]} "
      ],
      "metadata": {
        "colab": {
          "base_uri": "https://localhost:8080/"
        },
        "id": "ivhC1cE9NrnE",
        "outputId": "4a22684c-edae-45f9-8874-afecb56eb42c"
      },
      "execution_count": 62,
      "outputs": [
        {
          "output_type": "stream",
          "name": "stdout",
          "text": [
            "/content/nnUNet/data/processed\n"
          ]
        }
      ]
    },
    {
      "cell_type": "code",
      "execution_count": 63,
      "metadata": {
        "id": "A7E0FZ3mxlaI"
      },
      "outputs": [],
      "source": [
        "%%capture\n",
        "!nnUNet_install_pretrained_model_from_zip $out_path_mod"
      ]
    },
    {
      "cell_type": "code",
      "execution_count": 71,
      "metadata": {
        "id": "7Gsuoa5aqu4r",
        "colab": {
          "base_uri": "https://localhost:8080/"
        },
        "outputId": "2e9c9581-6e43-4c56-a449-7132333d7c36"
      },
      "outputs": [
        {
          "output_type": "stream",
          "name": "stdout",
          "text": [
            "\n",
            "\n",
            "Please cite the following paper when using nnUNet:\n",
            "\n",
            "Isensee, F., Jaeger, P.F., Kohl, S.A.A. et al. \"nnU-Net: a self-configuring method for deep learning-based biomedical image segmentation.\" Nat Methods (2020). https://doi.org/10.1038/s41592-020-01008-z\n",
            "\n",
            "\n",
            "If you have questions or suggestions, feel free to open an issue at https://github.com/MIC-DKFZ/nnUNet\n",
            "\n",
            "using model stored in  /content/nnUNet/output/preds/nnUNet/3d_fullres/Task024_Promise/nnUNetTrainerV2__nnUNetPlansv2.1\n",
            "This model expects 1 input modalities for each image\n",
            "Found 2 unique case ids, here are some examples: ['1.3.6.1.4.1.14519.5.2.1.3671.4754.194890890650697728529329442454_PCAMPMRI-00014'\n",
            " '1.3.6.1.4.1.14519.5.2.1.3671.4754.288453744990673175783381845880_PCAMPMRI-00014']\n",
            "If they don't look right, make sure to double check your filenames. They must end with _0000.nii.gz etc\n",
            "number of cases: 2\n",
            "number of cases that still need to be predicted: 2\n",
            "emptying cuda cache\n",
            "loading parameters for folds, None\n",
            "folds is None so we will automatically look for output folders (not using 'all'!)\n",
            "found the following folds:  ['/content/nnUNet/output/preds/nnUNet/3d_fullres/Task024_Promise/nnUNetTrainerV2__nnUNetPlansv2.1/fold_0', '/content/nnUNet/output/preds/nnUNet/3d_fullres/Task024_Promise/nnUNetTrainerV2__nnUNetPlansv2.1/fold_1', '/content/nnUNet/output/preds/nnUNet/3d_fullres/Task024_Promise/nnUNetTrainerV2__nnUNetPlansv2.1/fold_2', '/content/nnUNet/output/preds/nnUNet/3d_fullres/Task024_Promise/nnUNetTrainerV2__nnUNetPlansv2.1/fold_3', '/content/nnUNet/output/preds/nnUNet/3d_fullres/Task024_Promise/nnUNetTrainerV2__nnUNetPlansv2.1/fold_4']\n",
            "2022-08-30 22:07:57.031120: Using dummy2d data augmentation\n",
            "using the following model files:  ['/content/nnUNet/output/preds/nnUNet/3d_fullres/Task024_Promise/nnUNetTrainerV2__nnUNetPlansv2.1/fold_0/model_final_checkpoint.model', '/content/nnUNet/output/preds/nnUNet/3d_fullres/Task024_Promise/nnUNetTrainerV2__nnUNetPlansv2.1/fold_1/model_final_checkpoint.model', '/content/nnUNet/output/preds/nnUNet/3d_fullres/Task024_Promise/nnUNetTrainerV2__nnUNetPlansv2.1/fold_2/model_final_checkpoint.model', '/content/nnUNet/output/preds/nnUNet/3d_fullres/Task024_Promise/nnUNetTrainerV2__nnUNetPlansv2.1/fold_3/model_final_checkpoint.model', '/content/nnUNet/output/preds/nnUNet/3d_fullres/Task024_Promise/nnUNetTrainerV2__nnUNetPlansv2.1/fold_4/model_final_checkpoint.model']\n",
            "starting preprocessing generator\n",
            "starting prediction...\n",
            "preprocessing /content/nnUNet/output/preds/1.3.6.1.4.1.14519.5.2.1.3671.4754.194890890650697728529329442454_PCAMPMRI-00014.nii.gz\n",
            "using preprocessor GenericPreprocessor\n",
            "preprocessing /content/nnUNet/output/preds/1.3.6.1.4.1.14519.5.2.1.3671.4754.288453744990673175783381845880_PCAMPMRI-00014.nii.gz\n",
            "using preprocessor GenericPreprocessor\n",
            "before crop: (1, 28, 512, 512) after crop: (1, 28, 512, 512) spacing: [3.49999905 0.27340001 0.27340001] \n",
            "\n",
            "before crop: (1, 28, 512, 512) after crop: (1, 28, 512, 512) spacing: [3.49998283 0.27340001 0.27340001] \n",
            "\n",
            "separate z, order in z is 0 order inplane is 3\n",
            "separate z, order in z is 0 order inplane is 3\n",
            "separate z, order in z is 0 order inplane is 1\n",
            "separate z, order in z is 0 order inplane is 1\n",
            "before: {'spacing': array([3.49999905, 0.27340001, 0.27340001]), 'spacing_transposed': array([3.49999905, 0.27340001, 0.27340001]), 'data.shape (data is transposed)': (1, 28, 512, 512)} \n",
            "after:  {'spacing': array([2.20004711, 0.61250001, 0.61250001]), 'data.shape (data is resampled)': (1, 45, 229, 229)} \n",
            "\n",
            "(1, 45, 229, 229)\n",
            "This worker has ended successfully, no errors to report\n",
            "predicting /content/nnUNet/output/preds/1.3.6.1.4.1.14519.5.2.1.3671.4754.194890890650697728529329442454_PCAMPMRI-00014.nii.gz\n",
            "debug: mirroring True mirror_axes (0, 1, 2)\n",
            "step_size: 0.5\n",
            "do mirror: True\n",
            "data shape: (1, 45, 256, 256)\n",
            "patch size: [ 28 256 256]\n",
            "steps (x, y, and z): [[0, 8, 17], [0], [0]]\n",
            "number of tiles: 3\n",
            "computing Gaussian\n",
            "before: {'spacing': array([3.49998283, 0.27340001, 0.27340001]), 'spacing_transposed': array([3.49998283, 0.27340001, 0.27340001]), 'data.shape (data is transposed)': (1, 28, 512, 512)} \n",
            "after:  {'spacing': array([2.20004711, 0.61250001, 0.61250001]), 'data.shape (data is resampled)': (1, 45, 229, 229)} \n",
            "\n",
            "(1, 45, 229, 229)\n",
            "prediction done\n",
            "debug: mirroring True mirror_axes (0, 1, 2)\n",
            "step_size: 0.5\n",
            "do mirror: True\n",
            "data shape: (1, 45, 256, 256)\n",
            "patch size: [ 28 256 256]\n",
            "steps (x, y, and z): [[0, 8, 17], [0], [0]]\n",
            "number of tiles: 3\n",
            "using precomputed Gaussian\n",
            "prediction done\n",
            "debug: mirroring True mirror_axes (0, 1, 2)\n",
            "step_size: 0.5\n",
            "do mirror: True\n",
            "data shape: (1, 45, 256, 256)\n",
            "patch size: [ 28 256 256]\n",
            "steps (x, y, and z): [[0, 8, 17], [0], [0]]\n",
            "number of tiles: 3\n",
            "using precomputed Gaussian\n",
            "prediction done\n",
            "debug: mirroring True mirror_axes (0, 1, 2)\n",
            "step_size: 0.5\n",
            "do mirror: True\n",
            "data shape: (1, 45, 256, 256)\n",
            "patch size: [ 28 256 256]\n",
            "steps (x, y, and z): [[0, 8, 17], [0], [0]]\n",
            "number of tiles: 3\n",
            "using precomputed Gaussian\n",
            "prediction done\n",
            "debug: mirroring True mirror_axes (0, 1, 2)\n",
            "step_size: 0.5\n",
            "do mirror: True\n",
            "data shape: (1, 45, 256, 256)\n",
            "patch size: [ 28 256 256]\n",
            "steps (x, y, and z): [[0, 8, 17], [0], [0]]\n",
            "number of tiles: 3\n",
            "using precomputed Gaussian\n",
            "prediction done\n",
            "This worker has ended successfully, no errors to report\n",
            "predicting /content/nnUNet/output/preds/1.3.6.1.4.1.14519.5.2.1.3671.4754.288453744990673175783381845880_PCAMPMRI-00014.nii.gz\n",
            "force_separate_z: None interpolation order: 1\n",
            "separate z: True lowres axis [0]\n",
            "separate z, order in z is 0 order inplane is 1\n",
            "debug: mirroring True mirror_axes (0, 1, 2)\n",
            "step_size: 0.5\n",
            "do mirror: True\n",
            "data shape: (1, 45, 256, 256)\n",
            "patch size: [ 28 256 256]\n",
            "steps (x, y, and z): [[0, 8, 17], [0], [0]]\n",
            "number of tiles: 3\n",
            "using precomputed Gaussian\n",
            "prediction done\n",
            "debug: mirroring True mirror_axes (0, 1, 2)\n",
            "step_size: 0.5\n",
            "do mirror: True\n",
            "data shape: (1, 45, 256, 256)\n",
            "patch size: [ 28 256 256]\n",
            "steps (x, y, and z): [[0, 8, 17], [0], [0]]\n",
            "number of tiles: 3\n",
            "using precomputed Gaussian\n",
            "prediction done\n",
            "debug: mirroring True mirror_axes (0, 1, 2)\n",
            "step_size: 0.5\n",
            "do mirror: True\n",
            "data shape: (1, 45, 256, 256)\n",
            "patch size: [ 28 256 256]\n",
            "steps (x, y, and z): [[0, 8, 17], [0], [0]]\n",
            "number of tiles: 3\n",
            "using precomputed Gaussian\n",
            "prediction done\n",
            "debug: mirroring True mirror_axes (0, 1, 2)\n",
            "step_size: 0.5\n",
            "do mirror: True\n",
            "data shape: (1, 45, 256, 256)\n",
            "patch size: [ 28 256 256]\n",
            "steps (x, y, and z): [[0, 8, 17], [0], [0]]\n",
            "number of tiles: 3\n",
            "using precomputed Gaussian\n",
            "prediction done\n",
            "debug: mirroring True mirror_axes (0, 1, 2)\n",
            "step_size: 0.5\n",
            "do mirror: True\n",
            "data shape: (1, 45, 256, 256)\n",
            "patch size: [ 28 256 256]\n",
            "steps (x, y, and z): [[0, 8, 17], [0], [0]]\n",
            "number of tiles: 3\n",
            "using precomputed Gaussian\n",
            "prediction done\n",
            "inference done. Now waiting for the segmentation export to finish...\n",
            "force_separate_z: None interpolation order: 1\n",
            "separate z: True lowres axis [0]\n",
            "separate z, order in z is 0 order inplane is 1\n",
            "postprocessing...\n"
          ]
        }
      ],
      "source": [
        "!nnUNet_predict --input_folder {os.environ[\"nnUNet_preprocessed\"]} \\\n",
        "                --output_folder {os.environ[\"RESULTS_FOLDER\"]} \\\n",
        "                --task_name \"Task024_Promise\" --model $model_type \\\n",
        "                --save_npz "
      ]
    },
    {
      "cell_type": "markdown",
      "metadata": {
        "id": "PCVDdLjxkSI6"
      },
      "source": [
        "# Resamplings preds back to input data"
      ]
    },
    {
      "cell_type": "code",
      "execution_count": 72,
      "metadata": {
        "id": "g-RWW-i50yvU",
        "colab": {
          "base_uri": "https://localhost:8080/"
        },
        "outputId": "fdc87c42-2a04-4905-aa51-d2f6e06428aa"
      },
      "outputs": [
        {
          "output_type": "stream",
          "name": "stdout",
          "text": [
            "search path for t2 : /content/qin_prostate_root_data/nii/PCAMPMRI-00014/1.3.6.1.4.1.14519.5.2.1.3671.4754.194890890650697728529329442454/**/*T2.nii.gz\n",
            "t2_path found : /content/qin_prostate_root_data/nii/PCAMPMRI-00014/1.3.6.1.4.1.14519.5.2.1.3671.4754.194890890650697728529329442454/1.3.6.1.4.1.14519.5.2.1.3671.4754.155463265953508142920250222172_MR/1.3.6.1.4.1.14519.5.2.1.3671.4754.15546326595350814292025022_MR_T2.nii.gz\n",
            "pred path : /content/nnUNet/output/preds/1.3.6.1.4.1.14519.5.2.1.3671.4754.194890890650697728529329442454_PCAMPMRI-00014.nii.gz\n",
            "search path for t2 : /content/qin_prostate_root_data/nii/PCAMPMRI-00014/1.3.6.1.4.1.14519.5.2.1.3671.4754.288453744990673175783381845880/**/*T2.nii.gz\n",
            "t2_path found : /content/qin_prostate_root_data/nii/PCAMPMRI-00014/1.3.6.1.4.1.14519.5.2.1.3671.4754.288453744990673175783381845880/1.3.6.1.4.1.14519.5.2.1.3671.4754.654327272206188613770270554127_MR/1.3.6.1.4.1.14519.5.2.1.3671.4754.65432727220618861377027055_MR_T2.nii.gz\n",
            "pred path : /content/nnUNet/output/preds/1.3.6.1.4.1.14519.5.2.1.3671.4754.288453744990673175783381845880_PCAMPMRI-00014.nii.gz\n"
          ]
        }
      ],
      "source": [
        "for pred_path in sorted(glob.glob(os.path.join(os.environ[\"RESULTS_FOLDER\"], \"*.nii.gz\"))):\n",
        "  search_t2_path = os.path.join(os.environ[\"qin_prostate_rep_nii\"], pred_path.split('/')[-1].split('_')[1][:-7], \n",
        "                                   pred_path.split('/')[-1].split('_')[0], \"**\", \n",
        "                                   \"*T2.nii.gz\")\n",
        "  print(f\"search path for t2 : {search_t2_path}\")\n",
        "  t2_path = glob.glob(search_t2_path, recursive=True)[0]                              \n",
        "  print(f\"t2_path found : {t2_path}\")\n",
        "  print(f\"pred path : {pred_path}\")\n",
        "  resample_args_to_t2_origin = {\"input\" : pred_path, \n",
        "                        \"output\" : os.path.join(os.environ[\"nnUNet_preds_resampled\"], \n",
        "                                                pred_path.split('/')[-1]),\n",
        "                        \"fixed\" : t2_path,\n",
        "                        \"interpolation\" : \"nn\"}\n",
        "  path_log = 'log_pypla_res_pred' + pred_path.split('/')[-1].split('.')[0] + '.txt'            \n",
        "  !touch path_log\n",
        "  pypla.resample(verbose = False, **resample_args_to_t2_origin, path_to_log_file=path_log)"
      ]
    },
    {
      "cell_type": "markdown",
      "metadata": {
        "id": "ljlV3z5PN-vF"
      },
      "source": [
        "# Analysis"
      ]
    },
    {
      "cell_type": "markdown",
      "metadata": {
        "id": "cQus28YQiZlD"
      },
      "source": [
        "## Functions aiming to retrieve right ground truth labelsID per nnUnet prediction"
      ]
    },
    {
      "cell_type": "code",
      "execution_count": 73,
      "metadata": {
        "id": "YPelDT5HhnQt"
      },
      "outputs": [],
      "source": [
        "def retrieve_seg_labelID(input_path_json, categoryCode = 'Anatomical Structure', typeCode ='Prostate'):\n",
        "  #read json file\n",
        "  json_dic = json.load(open(input_path_json))\n",
        "  for seg in json_dic['segmentAttributes']:\n",
        "    cat_code = seg[0].get('SegmentedPropertyCategoryCodeSequence').get('CodeMeaning')\n",
        "    type_code = seg[0].get('SegmentedPropertyTypeCodeSequence').get('CodeMeaning')\n",
        "    current_labelID = seg[0].get('labelID')\n",
        "    if categoryCode == cat_code and typeCode == type_code:\n",
        "      return current_labelID\n",
        "  return ''"
      ]
    },
    {
      "cell_type": "code",
      "execution_count": 74,
      "metadata": {
        "id": "RNgL8vsViYwe"
      },
      "outputs": [],
      "source": [
        "def get_seg_per_mod(input_path_lst):\n",
        "  res_lst = []\n",
        "  for nii_file in input_path_lst:\n",
        "    nii_file_patientID = nii_file.split('/')[-1].split('_')[-1][:-7]\n",
        "    nii_file_studyInstanceUID = nii_file.split('/')[-1].split('_')[0]\n",
        "    serieUID_seg = selection_df[(selection_df.PatientID == nii_file_patientID) \\\n",
        "                                & (selection_df.StudyInstanceUID == nii_file_studyInstanceUID) \\\n",
        "                                & (selection_df.Modality == \"SEG\")][\"SeriesInstanceUID\"].iloc[0]\n",
        "    json_path = glob.glob(os.path.join(os.environ[\"qin_prostate_rep_nii\"], \n",
        "                                       nii_file_patientID, \n",
        "                                       nii_file_studyInstanceUID, \n",
        "                                       serieUID_seg+\"_SEG\", \"*.json\"))[0] \n",
        "    labelID = retrieve_seg_labelID(json_path,\n",
        "                                   categoryCode=ground_truth_cat_CodeMeaning,\n",
        "                                   typeCode=ground_truth_type_CodeMeaning)                              \n",
        "    res_lst.append(os.path.join(os.environ[\"qin_prostate_rep_nii\"], \n",
        "                                nii_file_patientID, \n",
        "                                nii_file_studyInstanceUID, \n",
        "                                serieUID_seg+\"_SEG\", str(labelID)+\".nii.gz\"))\n",
        "  return res_lst"
      ]
    },
    {
      "cell_type": "markdown",
      "metadata": {
        "id": "vZfPf9It60PH"
      },
      "source": [
        "## Dice score computation "
      ]
    },
    {
      "cell_type": "code",
      "execution_count": 75,
      "metadata": {
        "id": "1rPyOjc1Uu8N"
      },
      "outputs": [],
      "source": [
        "!rm -rf {os.environ[\"qin_prostate_rep_analysis_verbose\"]}#analysis_verbose/\n",
        "!mkdir -p {os.environ[\"qin_prostate_rep_analysis_verbose\"]}"
      ]
    },
    {
      "cell_type": "markdown",
      "metadata": {
        "id": "cD0iJk4BuqA3"
      },
      "source": [
        "### Compute dice score between preds and ground truth and store the results into analysis folder"
      ]
    },
    {
      "cell_type": "code",
      "execution_count": 76,
      "metadata": {
        "id": "GZUig0RUDEnF"
      },
      "outputs": [],
      "source": [
        "ref_path_lst = get_seg_per_mod(sorted(glob.glob(os.path.join(os.environ['nnUNet_preds_resampled'], \n",
        "                                                             \"**\", \"*.nii.gz\"), recursive=True)))\n",
        "for ref_path in sorted(ref_path_lst):\n",
        "  ref_path_PatientID = ref_path.split('/')[-4]\n",
        "  ref_path_StudyInstanceUID = ref_path.split('/')[-3]\n",
        "  test_path = glob.glob(os.path.join(os.environ[\"nnUNet_preds_resampled\"], \n",
        "                                     '_'.join([ref_path_StudyInstanceUID, ref_path_PatientID]) + '.nii.gz'))[0]\n",
        "  output_path = os.environ[\"qin_prostate_rep_analysis_verbose\"]\n",
        "  if not os.path.exists(output_path):\n",
        "    !mkdir -p $output_path \n",
        "  log_path = test_path.split('/')[-1][:-7]+\"_dice_score_verbose.txt\"\n",
        "  !echo \"ref_path {ref_path}\" > {os.path.join(output_path,log_path)}\n",
        "  !echo \"test_path {test_path}\" >> {os.path.join(output_path,log_path)}\n",
        "  !plastimatch dice --all $ref_path $test_path >> {os.path.join(output_path,log_path)}"
      ]
    },
    {
      "cell_type": "markdown",
      "metadata": {
        "id": "MvTMpuBWuxF6"
      },
      "source": [
        "### store dice score into dictionary"
      ]
    },
    {
      "cell_type": "code",
      "execution_count": 78,
      "metadata": {
        "id": "uYEKslkDQ8w_",
        "colab": {
          "base_uri": "https://localhost:8080/"
        },
        "outputId": "37226e55-6cc1-4e6b-f2e8-9b51f34bbbc0"
      },
      "outputs": [
        {
          "output_type": "stream",
          "name": "stdout",
          "text": [
            "-----------------------\n",
            "average dice score : 0.7619275\n",
            "-----------------------\n",
            "\n",
            "study : 1.3.6.1.4.1.14519.5.2.1.3671.4754.194890890650697728529329442454\n",
            "patientID : PCAMPMRI-00014\n",
            "ground truth seg path : /content/qin_prostate_root_data/nii/PCAMPMRI-00014/1.3.6.1.4.1.14519.5.2.1.3671.4754.194890890650697728529329442454/1.2.276.0.7230010.3.1.3.1426846371.11304.1513205200.994_SEG/3.nii.gz\n",
            "pred seg masks nnunet path : /content/nnUNet/output/preds_resampled/1.3.6.1.4.1.14519.5.2.1.3671.4754.194890890650697728529329442454_PCAMPMRI-00014.nii.gz\n",
            "dice_score : 0.722502\n",
            "center mass ref : 15.403 29.1575 -13.3831\n",
            "center mass pred : 15.0977 27.6448 -9.21346\n",
            "hausdorff_dist : 13.999996\n",
            "\n",
            "study : 1.3.6.1.4.1.14519.5.2.1.3671.4754.288453744990673175783381845880\n",
            "patientID : PCAMPMRI-00014\n",
            "ground truth seg path : /content/qin_prostate_root_data/nii/PCAMPMRI-00014/1.3.6.1.4.1.14519.5.2.1.3671.4754.288453744990673175783381845880/1.2.276.0.7230010.3.1.3.1426846371.9324.1513205197.742_SEG/3.nii.gz\n",
            "pred seg masks nnunet path : /content/nnUNet/output/preds_resampled/1.3.6.1.4.1.14519.5.2.1.3671.4754.288453744990673175783381845880_PCAMPMRI-00014.nii.gz\n",
            "dice_score : 0.801353\n",
            "center mass ref : -38.7471 23.4971 -76.3129\n",
            "center mass pred : -39.1374 21.4116 -74.4825\n",
            "hausdorff_dist : 8.882485\n",
            "\n"
          ]
        }
      ],
      "source": [
        "dice_dic = {}\n",
        "#iterate txt logs for dice_score computation\n",
        "for txt_file in sorted(glob.glob(os.path.join(os.environ[\"qin_prostate_rep_analysis_verbose\"], \"*.txt\"))): \n",
        "  with open(txt_file, encoding='utf8') as f:\n",
        "    #variable placeholders for txt file info -- temporary\n",
        "    pholder_dice = ''\n",
        "    pholder_center_mass_pred = ''\n",
        "    pholder_center_mass_ref = ''\n",
        "    pholder_hsdrff = ''\n",
        "    pholder_ref = ''\n",
        "    pholder_test = ''\n",
        "    for line in f:\n",
        "        if \"DICE\" in line:\n",
        "          pholder_dice = float(line.strip().split()[-1])\n",
        "        elif \"ref\" in line and len(line.strip().split()) > 2:\n",
        "          pholder_center_mass_ref = ' '.join([line.strip().split()[-3], \n",
        "                                             line.strip().split()[-2], line.strip().split()[-1]])\n",
        "        elif \"cmp\" in line and len(line.strip().split()) > 2:\n",
        "          pholder_center_mass_pred = ' '.join([line.strip().split()[-3], \n",
        "                                             line.strip().split()[-2], line.strip().split()[-1]])                                             \n",
        "        elif len(line.strip().split()) <= 5 and 'Hausdorff distance' in line:\n",
        "          pholder_hsdrff = float(line.strip().split()[-1])\n",
        "        elif \"ref_path\" in line:\n",
        "          pholder_ref = str(line.strip().split()[-1]) \n",
        "        elif \"test_path\" in line:\n",
        "          pholder_test = str(line.strip().split()[-1])\n",
        "        else:\n",
        "          pass\n",
        "    study = txt_file.split('/')[-1][:-4].split('_')[0] #retrieve studyInstanceUID from txt file name \n",
        "    patientID = txt_file.split('/')[-1][:-4].split('_')[-4] #retrieve patientID\n",
        "    # push values to dict\n",
        "    dice_dic[study] = {'PatientID' : patientID,\n",
        "                       'dice_score' : pholder_dice, \n",
        "                       'center_mass_pred' : pholder_center_mass_pred,\n",
        "                       'center_mass_ref' : pholder_center_mass_ref,\n",
        "                       'hausdorff_dist' : pholder_hsdrff,\n",
        "                       'ground_truth_seg_path' : pholder_ref,\n",
        "                       'pred_nnnet_path' : pholder_test}            \n",
        "\n",
        "print('-----------------------')\n",
        "print(f\"average dice score : {np.average(np.array([val['dice_score'] for val in dice_dic.values()]))}\")\n",
        "print('-----------------------')\n",
        "print()\n",
        "for key,val in dice_dic.items():\n",
        "  study = key\n",
        "  patientID = val[\"PatientID\"]\n",
        "  dice_score = val[\"dice_score\"]\n",
        "  cm_pred = val[\"center_mass_pred\"]\n",
        "  cm_ref = val[\"center_mass_ref\"]\n",
        "  hausdorff_dist = val[\"hausdorff_dist\"]\n",
        "  gt_path = val[\"ground_truth_seg_path\"]\n",
        "  pred_path = val[\"pred_nnnet_path\"]\n",
        "  print(f\"study : {study}\")\n",
        "  print(f\"patientID : {patientID}\")\n",
        "  print(f\"ground truth seg path : {gt_path}\")\n",
        "  print(f\"pred seg masks nnunet path : {pred_path}\")\n",
        "  print(f\"dice_score : {dice_score}\")\n",
        "  print(f\"center mass ref : {cm_ref}\")\n",
        "  print(f\"center mass pred : {cm_pred}\")\n",
        "  print(f\"hausdorff_dist : {hausdorff_dist}\")\n",
        "  print()\n"
      ]
    },
    {
      "cell_type": "code",
      "source": [
        "#Save dice_score to csv\n",
        "with open(os.path.join(os.environ['qin_prostate_rep_analysis'], 'analysis_metrics.csv'), 'w') as f:\n",
        "    f.write(\"StudyInstanceUID,PatientID,dice_score,center_mass_ref,center_mass_pred,hausdorff_dist, ground_truth_seg_path, pred_nnnet_path\\n\")\n",
        "    for key,val in dice_dic.items():\n",
        "      study = str(key)\n",
        "      patientID = str(val[\"PatientID\"])\n",
        "      dice_score = float(val[\"dice_score\"])\n",
        "      cm_pred = str(val[\"center_mass_pred\"])\n",
        "      cm_ref = str(val[\"center_mass_ref\"])\n",
        "      hausdorff_dist = float(val[\"hausdorff_dist\"])\n",
        "      gt_path = str(val[\"ground_truth_seg_path\"])\n",
        "      pred_path = str(val[\"pred_nnnet_path\"])\n",
        "      f.write(f\"{study},{patientID},{dice_score},{cm_ref},{cm_pred},{hausdorff_dist},{gt_path},{pred_path}\\n\")"
      ],
      "metadata": {
        "id": "7VtX2_R2LkjK"
      },
      "execution_count": 79,
      "outputs": []
    },
    {
      "cell_type": "markdown",
      "metadata": {
        "id": "iKaiwUIZ8iLX"
      },
      "source": [
        "### All metrics"
      ]
    },
    {
      "cell_type": "code",
      "execution_count": 80,
      "metadata": {
        "id": "GQBpXyKp8gbm",
        "colab": {
          "base_uri": "https://localhost:8080/"
        },
        "outputId": "9a9a8393-3e47-426c-b4c8-2366d8ef41f9"
      },
      "outputs": [
        {
          "output_type": "stream",
          "name": "stdout",
          "text": [
            "ref path : /content/qin_prostate_root_data/nii/PCAMPMRI-00014/1.3.6.1.4.1.14519.5.2.1.3671.4754.194890890650697728529329442454/1.2.276.0.7230010.3.1.3.1426846371.11304.1513205200.994_SEG/3.nii.gz\n",
            "test path : /content/nnUNet/output/preds_resampled/1.3.6.1.4.1.14519.5.2.1.3671.4754.194890890650697728529329442454_PCAMPMRI-00014.nii.gz\n",
            "CENTER_OF_MASS\n",
            "ref\t        15.403\t       29.1575\t      -13.3831\n",
            "cmp\t       15.0977\t       27.6448\t      -9.21346\n",
            "TP:         83769\n",
            "TN:      11413915\n",
            "FN:          2443\n",
            "FP:         61905\n",
            "DICE:      0.722502\n",
            "SE:      0.971663\n",
            "SP:      0.994606\n",
            "Hausdorff distance = 13.999996\n",
            "Avg average Hausdorff distance = 1.313273\n",
            "Max average Hausdorff distance = 2.606142\n",
            "Percent (0.95) Hausdorff distance = 5.249999\n",
            "Hausdorff distance (boundary) = 13.999996\n",
            "Avg average Hausdorff distance (boundary) = 4.201497\n",
            "Max average Hausdorff distance (boundary) = 5.490936\n",
            "Percent (0.95) Hausdorff distance (boundary) = 11.845699\n",
            "\n",
            "\n",
            "ref path : /content/qin_prostate_root_data/nii/PCAMPMRI-00014/1.3.6.1.4.1.14519.5.2.1.3671.4754.288453744990673175783381845880/1.2.276.0.7230010.3.1.3.1426846371.9324.1513205197.742_SEG/3.nii.gz\n",
            "test path : /content/nnUNet/output/preds_resampled/1.3.6.1.4.1.14519.5.2.1.3671.4754.288453744990673175783381845880_PCAMPMRI-00014.nii.gz\n",
            "CENTER_OF_MASS\n",
            "ref\t      -38.7471\t       23.4971\t      -76.3129\n",
            "cmp\t      -39.1374\t       21.4116\t      -74.4825\n",
            "TP:         88519\n",
            "TN:      15118875\n",
            "FN:          5419\n",
            "FP:         38467\n",
            "DICE:      0.801353\n",
            "SE:      0.942313\n",
            "SP:      0.997462\n",
            "Hausdorff distance = 8.882485\n",
            "Avg average Hausdorff distance = 0.602485\n",
            "Max average Hausdorff distance = 1.126223\n",
            "Percent (0.95) Hausdorff distance = 3.636683\n",
            "Hausdorff distance (boundary) = 8.882485\n",
            "Avg average Hausdorff distance (boundary) = 2.768153\n",
            "Max average Hausdorff distance (boundary) = 3.373926\n",
            "Percent (0.95) Hausdorff distance (boundary) = 6.792155\n",
            "\n",
            "\n"
          ]
        }
      ],
      "source": [
        "ref_path_lst = get_seg_per_mod(sorted(glob.glob(os.path.join(os.environ['nnUNet_preds_resampled'],                                                              \"**\", \"*.nii.gz\"), recursive=True)))\n",
        "for ref_path in sorted(ref_path_lst):\n",
        "  ref_path_PatientID = ref_path.split('/')[-4]#ref_path.split('/')[-1].split('_')[-1][:-7]\n",
        "  ref_path_StudyInstanceUID = ref_path.split('/')[-3]#ref_path.split('/')[-1].split('_')[0]\n",
        "  test_path = glob.glob(os.path.join(os.environ[\"nnUNet_preds_resampled\"], \n",
        "                                     '_'.join([ref_path_StudyInstanceUID, ref_path_PatientID]) + '.nii.gz'))[0]\n",
        "  output_path = \"analysis/txt/\"\n",
        "  if not os.path.exists(output_path):\n",
        "    !mkdir -p $output_path \n",
        "  log_path = test_path.split('/')[-1][:-7]+\".txt\"\n",
        "  print(f\"ref path : {ref_path}\")\n",
        "  print(f\"test path : {test_path}\")\n",
        "  !plastimatch dice --all $ref_path $test_path \n",
        "  print()\n",
        "  print()"
      ]
    },
    {
      "cell_type": "markdown",
      "source": [
        "# EXPORT PREDS TO DCM"
      ],
      "metadata": {
        "id": "muJ-MWh3xWRy"
      }
    },
    {
      "cell_type": "markdown",
      "source": [
        "Get template from dropbox for whole prostate gland \n",
        "\n",
        "-----\n",
        "\n",
        "try manually then automate !\n",
        "\n",
        "\n",
        "---\n",
        "\n",
        " with resampled preds and seg gts and t2 vols\n"
      ],
      "metadata": {
        "id": "0MIZAdVKxY9a"
      }
    },
    {
      "cell_type": "code",
      "source": [
        "# this will usually take between one and five minutes (but can sometimes take up to eight)\n",
        "seg_whole_prostate_json = \"https://www.dropbox.com/s/rywyhr0wlqmhpfd/metadata_seg_nnunet_task024.json?dl=0\"\n",
        "seg_dcm_metadata_json_file = \"pred_metadata.json\"#\"/content/nnUnet/models/Task024_Promise.zip\"\n",
        "!wget -O $seg_dcm_metadata_json_file $seg_whole_prostate_json"
      ],
      "metadata": {
        "colab": {
          "base_uri": "https://localhost:8080/"
        },
        "id": "Ya2UXFqc12jg",
        "outputId": "e88c95d3-47cd-4806-9b29-e097dc9956b7"
      },
      "execution_count": 122,
      "outputs": [
        {
          "output_type": "stream",
          "name": "stdout",
          "text": [
            "--2022-08-30 23:54:24--  https://www.dropbox.com/s/rywyhr0wlqmhpfd/metadata_seg_nnunet_task024.json?dl=0\n",
            "Resolving www.dropbox.com (www.dropbox.com)... 162.125.5.18, 2620:100:601d:18::a27d:512\n",
            "Connecting to www.dropbox.com (www.dropbox.com)|162.125.5.18|:443... connected.\n",
            "HTTP request sent, awaiting response... 302 Found\n",
            "Location: /s/raw/rywyhr0wlqmhpfd/metadata_seg_nnunet_task024.json [following]\n",
            "--2022-08-30 23:54:24--  https://www.dropbox.com/s/raw/rywyhr0wlqmhpfd/metadata_seg_nnunet_task024.json\n",
            "Reusing existing connection to www.dropbox.com:443.\n",
            "HTTP request sent, awaiting response... 302 Found\n",
            "Location: https://uc2778f7e2d905f29aca721aeabc.dl.dropboxusercontent.com/cd/0/inline/BsACEjTDU6qH6_s7zp98q-ZsFTBGXABM_E2oAxlH90mFN-frdzKrP04jrpsEdYs06H-Ub_puddYhZqgX5KC3xFg7qwNqqdXYp1dnjTkDC72ovqVygSzSknRhp_AqN02b6SzxiuimzeZq5d0rrxUgTD6OsW06uT0nlcKWBupFYtwVBw/file# [following]\n",
            "--2022-08-30 23:54:24--  https://uc2778f7e2d905f29aca721aeabc.dl.dropboxusercontent.com/cd/0/inline/BsACEjTDU6qH6_s7zp98q-ZsFTBGXABM_E2oAxlH90mFN-frdzKrP04jrpsEdYs06H-Ub_puddYhZqgX5KC3xFg7qwNqqdXYp1dnjTkDC72ovqVygSzSknRhp_AqN02b6SzxiuimzeZq5d0rrxUgTD6OsW06uT0nlcKWBupFYtwVBw/file\n",
            "Resolving uc2778f7e2d905f29aca721aeabc.dl.dropboxusercontent.com (uc2778f7e2d905f29aca721aeabc.dl.dropboxusercontent.com)... 162.125.2.15, 2620:100:601d:15::a27d:50f\n",
            "Connecting to uc2778f7e2d905f29aca721aeabc.dl.dropboxusercontent.com (uc2778f7e2d905f29aca721aeabc.dl.dropboxusercontent.com)|162.125.2.15|:443... connected.\n",
            "HTTP request sent, awaiting response... 200 OK\n",
            "Length: 1095 (1.1K) [text/plain]\n",
            "Saving to: ‘pred_metadata.json’\n",
            "\n",
            "pred_metadata.json  100%[===================>]   1.07K  --.-KB/s    in 0s      \n",
            "\n",
            "2022-08-30 23:54:25 (186 MB/s) - ‘pred_metadata.json’ saved [1095/1095]\n",
            "\n"
          ]
        }
      ]
    },
    {
      "cell_type": "code",
      "source": [
        "nii_list = sorted(glob.glob(os.path.join(nii_seg_folder, '*.nii.gz')))\n",
        "for el in nii_list : print(el)"
      ],
      "metadata": {
        "colab": {
          "base_uri": "https://localhost:8080/"
        },
        "id": "_7pMK3ho31H-",
        "outputId": "857b1557-a4b8-4867-dd7c-716d3e7f739a"
      },
      "execution_count": 85,
      "outputs": [
        {
          "output_type": "stream",
          "name": "stdout",
          "text": [
            "/content/qin_prostate_root_data/nii/PCAMPMRI-00014/1.3.6.1.4.1.14519.5.2.1.3671.4754.194890890650697728529329442454/1.2.276.0.7230010.3.1.3.1426846371.11304.1513205200.994_SEG/1.nii.gz\n",
            "/content/qin_prostate_root_data/nii/PCAMPMRI-00014/1.3.6.1.4.1.14519.5.2.1.3671.4754.194890890650697728529329442454/1.2.276.0.7230010.3.1.3.1426846371.11304.1513205200.994_SEG/2.nii.gz\n",
            "/content/qin_prostate_root_data/nii/PCAMPMRI-00014/1.3.6.1.4.1.14519.5.2.1.3671.4754.194890890650697728529329442454/1.2.276.0.7230010.3.1.3.1426846371.11304.1513205200.994_SEG/3.nii.gz\n"
          ]
        }
      ]
    },
    {
      "cell_type": "code",
      "source": [
        ", output\n",
        "for nii_seg_pred in glob.glob(os.path.join(os.environ[\"nnUNet_preds_resampled\"], '*.nii.gz')):\n",
        "  study_current = nii_seg_pred.split('/')[-1].split('_')[0]\n",
        "  patID = nii_seg_pred.split('/')[-1].split('_')[1][:-7]\n",
        "\n",
        "  study_mr_t2_serieUID = selection_df[(selection_df[\"StudyInstanceUID\"] == study_current) & (selection_df[\"Modality\"] == \"MR\") \\\n",
        "                                      & (selection_df[\"SeriesDescription\"].str.contains('T2', na=False))][\"SeriesInstanceUID\"].unique()[0]\n",
        "  study_seg_serieUID = selection_df[(selection_df[\"StudyInstanceUID\"] == study_current) & (selection_df[\"Modality\"] == \"SEG\") \\\n",
        "                                      & (selection_df[\"RefSerieUID\"].str.contains(study_mr_t2_serieUID, na=False))][\"SeriesInstanceUID\"].unique()[0]\n",
        "  #find t2 dcm folder\n",
        "  t2_dcm_folder = os.path.join(os.environ[\"qin_prostate_rep_dicom\"], patID, study_current, study_mr_t2_serieUID)\n",
        "  #find seg dcm file\n",
        "  nii_seg_folder = os.path.join(os.environ[\"qin_prostate_rep_dicom\"], patID, study_current, study_seg_serieUID)\n",
        "  # find nii seg folder == preds resampled\n",
        "  assert os.path.exists(t2_dcm_folder)\n",
        "  assert os.path.exists(nii_seg_folder)\n",
        "  print('\\nConverting...')\n",
        "  print(f'pred nnunet procssed : {nii_seg_pred}')\n",
        "  print(f't2_dcm_folder : {t2_dcm_folder}')\n",
        "  print(f'nii_seg_folder : {nii_seg_folder}')\n",
        "  output_path = os.path.join(os.environ[\"nnUNet_preds_resampled_dcm\"], '_'.join([patID,study_current,study_seg_serieUID])+'.dcm')\n",
        "  #find gt seg dcm file == orginal idc dcm files\n",
        "  #convert nii pred to dcm\n",
        "  !itkimage2segimage --inputImageList $nii_seg_pred \\\n",
        "  --inputDICOMDirectory  $t2_dcm_folder \\\n",
        "  --inputMetadata  $seg_dcm_metadata_json_file \\\n",
        "  --outputDICOM $output_path \\\n",
        "  --skip\n",
        "  print(\"Done!\")"
      ],
      "metadata": {
        "colab": {
          "base_uri": "https://localhost:8080/"
        },
        "id": "izMIxOU31y6D",
        "outputId": "5522f30f-b249-4643-baf3-baa2ee97a314"
      },
      "execution_count": 130,
      "outputs": [
        {
          "output_type": "stream",
          "name": "stdout",
          "text": [
            "\n",
            "Converting...\n",
            "pred nnunet procssed : /content/nnUNet/output/preds_resampled/1.3.6.1.4.1.14519.5.2.1.3671.4754.288453744990673175783381845880_PCAMPMRI-00014.nii.gz\n",
            "t2_dcm_folder : /content/qin_prostate_root_data/dicom/PCAMPMRI-00014/1.3.6.1.4.1.14519.5.2.1.3671.4754.288453744990673175783381845880/1.3.6.1.4.1.14519.5.2.1.3671.4754.654327272206188613770270554127\n",
            "nii_seg_folder : /content/qin_prostate_root_data/dicom/PCAMPMRI-00014/1.3.6.1.4.1.14519.5.2.1.3671.4754.288453744990673175783381845880/1.2.276.0.7230010.3.1.3.1426846371.9324.1513205197.742\n",
            "dcmqi repository URL: git@github.com:QIICR/dcmqi.git revision: 1153738 tag: v1.2.5\n",
            "Loaded segmentation from /content/nnUNet/output/preds_resampled/1.3.6.1.4.1.14519.5.2.1.3671.4754.288453744990673175783381845880_PCAMPMRI-00014.nii.gz\n",
            "Searching recursively /content/qin_prostate_root_data/dicom/PCAMPMRI-00014/1.3.6.1.4.1.14519.5.2.1.3671.4754.288453744990673175783381845880/1.3.6.1.4.1.14519.5.2.1.3671.4754.654327272206188613770270554127 for DICOM files\n",
            "W: CodeValue (0008,0100) empty in CodeSequenceMacro (type 1C)\n",
            "SOPInstanceUID1.3.6.1.4.1.14519.5.2.1.3671.4754.163573781376879503804909177242 mapped\n",
            "SOPInstanceUID1.3.6.1.4.1.14519.5.2.1.3671.4754.287599438362701656348868453395 mapped\n",
            "SOPInstanceUID1.3.6.1.4.1.14519.5.2.1.3671.4754.913516045750791447396162672354 mapped\n",
            "SOPInstanceUID1.3.6.1.4.1.14519.5.2.1.3671.4754.129201554222293904282983918357 mapped\n",
            "SOPInstanceUID1.3.6.1.4.1.14519.5.2.1.3671.4754.304849838394673757007632483938 mapped\n",
            "SOPInstanceUID1.3.6.1.4.1.14519.5.2.1.3671.4754.267375094938973089602534776597 mapped\n",
            "SOPInstanceUID1.3.6.1.4.1.14519.5.2.1.3671.4754.233046255637880982200266591897 mapped\n",
            "SOPInstanceUID1.3.6.1.4.1.14519.5.2.1.3671.4754.147701723854914641979982233154 mapped\n",
            "SOPInstanceUID1.3.6.1.4.1.14519.5.2.1.3671.4754.336435471068889938508681277234 mapped\n",
            "SOPInstanceUID1.3.6.1.4.1.14519.5.2.1.3671.4754.170849280209477404868843800305 mapped\n",
            "SOPInstanceUID1.3.6.1.4.1.14519.5.2.1.3671.4754.329988373550600574339220930171 mapped\n",
            "SOPInstanceUID1.3.6.1.4.1.14519.5.2.1.3671.4754.230435735169410579809515877218 mapped\n",
            "SOPInstanceUID1.3.6.1.4.1.14519.5.2.1.3671.4754.327154121320917373426958936603 mapped\n",
            "SOPInstanceUID1.3.6.1.4.1.14519.5.2.1.3671.4754.454406008400806425946863555617 mapped\n",
            "SOPInstanceUID1.3.6.1.4.1.14519.5.2.1.3671.4754.164943374997507404793226012620 mapped\n",
            "SOPInstanceUID1.3.6.1.4.1.14519.5.2.1.3671.4754.285060556653097073359641874921 mapped\n",
            "SOPInstanceUID1.3.6.1.4.1.14519.5.2.1.3671.4754.324319484489043285380184522391 mapped\n",
            "SOPInstanceUID1.3.6.1.4.1.14519.5.2.1.3671.4754.977716437434098663143847175828 mapped\n",
            "SOPInstanceUID1.3.6.1.4.1.14519.5.2.1.3671.4754.136372695349190163255813816936 mapped\n",
            "SOPInstanceUID1.3.6.1.4.1.14519.5.2.1.3671.4754.629412340157228598854814037030 mapped\n",
            "SOPInstanceUID1.3.6.1.4.1.14519.5.2.1.3671.4754.211064425239774081858566670880 mapped\n",
            "SOPInstanceUID1.3.6.1.4.1.14519.5.2.1.3671.4754.469968099266483058547995726629 mapped\n",
            "SOPInstanceUID1.3.6.1.4.1.14519.5.2.1.3671.4754.213595032407371108308005724867 mapped\n",
            "SOPInstanceUID1.3.6.1.4.1.14519.5.2.1.3671.4754.322609591010549743110049821429 mapped\n",
            "SOPInstanceUID1.3.6.1.4.1.14519.5.2.1.3671.4754.148939431254952407049536958755 mapped\n",
            "SOPInstanceUID1.3.6.1.4.1.14519.5.2.1.3671.4754.321895225184137767381819085539 mapped\n",
            "SOPInstanceUID1.3.6.1.4.1.14519.5.2.1.3671.4754.305475255252007653424186659373 mapped\n",
            "SOPInstanceUID1.3.6.1.4.1.14519.5.2.1.3671.4754.197438651995186386436034774345 mapped\n",
            "28 of 28 slices mapped to source DICOM images\n",
            "Found 2 label(s)\n",
            "Processing label 1\n",
            "Total non-empty slices that will be encoded in SEG for label 1 is 13\n",
            " (inclusive from 4 to 17)\n",
            "Populating segment label to Prostate\n",
            "Added source image item\n",
            "Added source image item\n",
            "Added source image item\n",
            "Added source image item\n",
            "Added source image item\n",
            "Added source image item\n",
            "Added source image item\n",
            "Added source image item\n",
            "Added source image item\n",
            "Added source image item\n",
            "Added source image item\n",
            "Added source image item\n",
            "Added source image item\n",
            "Saved segmentation as /content/nnUNet/output/preds_resampled_dcm/PCAMPMRI-00014_1.3.6.1.4.1.14519.5.2.1.3671.4754.288453744990673175783381845880_1.2.276.0.7230010.3.1.3.1426846371.9324.1513205197.742.dcm\n",
            "Done!\n",
            "\n",
            "Converting...\n",
            "pred nnunet procssed : /content/nnUNet/output/preds_resampled/1.3.6.1.4.1.14519.5.2.1.3671.4754.194890890650697728529329442454_PCAMPMRI-00014.nii.gz\n",
            "t2_dcm_folder : /content/qin_prostate_root_data/dicom/PCAMPMRI-00014/1.3.6.1.4.1.14519.5.2.1.3671.4754.194890890650697728529329442454/1.3.6.1.4.1.14519.5.2.1.3671.4754.155463265953508142920250222172\n",
            "nii_seg_folder : /content/qin_prostate_root_data/dicom/PCAMPMRI-00014/1.3.6.1.4.1.14519.5.2.1.3671.4754.194890890650697728529329442454/1.2.276.0.7230010.3.1.3.1426846371.11304.1513205200.994\n",
            "dcmqi repository URL: git@github.com:QIICR/dcmqi.git revision: 1153738 tag: v1.2.5\n",
            "Loaded segmentation from /content/nnUNet/output/preds_resampled/1.3.6.1.4.1.14519.5.2.1.3671.4754.194890890650697728529329442454_PCAMPMRI-00014.nii.gz\n",
            "Searching recursively /content/qin_prostate_root_data/dicom/PCAMPMRI-00014/1.3.6.1.4.1.14519.5.2.1.3671.4754.194890890650697728529329442454/1.3.6.1.4.1.14519.5.2.1.3671.4754.155463265953508142920250222172 for DICOM files\n",
            "W: CodeValue (0008,0100) empty in CodeSequenceMacro (type 1C)\n",
            "SOPInstanceUID1.3.6.1.4.1.14519.5.2.1.3671.4754.193576943027024210366917498868 mapped\n",
            "SOPInstanceUID1.3.6.1.4.1.14519.5.2.1.3671.4754.224756733361199424966131992139 mapped\n",
            "SOPInstanceUID1.3.6.1.4.1.14519.5.2.1.3671.4754.640076059720101854078942414925 mapped\n",
            "SOPInstanceUID1.3.6.1.4.1.14519.5.2.1.3671.4754.323329798332189219800146418510 mapped\n",
            "SOPInstanceUID1.3.6.1.4.1.14519.5.2.1.3671.4754.314978609746969492241191405376 mapped\n",
            "SOPInstanceUID1.3.6.1.4.1.14519.5.2.1.3671.4754.202614284921370325061189349241 mapped\n",
            "SOPInstanceUID1.3.6.1.4.1.14519.5.2.1.3671.4754.151097969497448380215431646985 mapped\n",
            "SOPInstanceUID1.3.6.1.4.1.14519.5.2.1.3671.4754.158196449783939526819144847899 mapped\n",
            "SOPInstanceUID1.3.6.1.4.1.14519.5.2.1.3671.4754.152016564108833023391539768426 mapped\n",
            "SOPInstanceUID1.3.6.1.4.1.14519.5.2.1.3671.4754.822654367745677881478936076062 mapped\n",
            "SOPInstanceUID1.3.6.1.4.1.14519.5.2.1.3671.4754.592562319222843894020944868999 mapped\n",
            "SOPInstanceUID1.3.6.1.4.1.14519.5.2.1.3671.4754.323231352004868376015199393648 mapped\n",
            "SOPInstanceUID1.3.6.1.4.1.14519.5.2.1.3671.4754.171270441948869649614302861426 mapped\n",
            "SOPInstanceUID1.3.6.1.4.1.14519.5.2.1.3671.4754.302017090949044371512642132714 mapped\n",
            "SOPInstanceUID1.3.6.1.4.1.14519.5.2.1.3671.4754.301684520766967835266894850675 mapped\n",
            "SOPInstanceUID1.3.6.1.4.1.14519.5.2.1.3671.4754.217152957704232148543090642810 mapped\n",
            "SOPInstanceUID1.3.6.1.4.1.14519.5.2.1.3671.4754.156510770709362038424994834116 mapped\n",
            "SOPInstanceUID1.3.6.1.4.1.14519.5.2.1.3671.4754.538088655452981251704316296909 mapped\n",
            "SOPInstanceUID1.3.6.1.4.1.14519.5.2.1.3671.4754.112668361349339872835752848034 mapped\n",
            "SOPInstanceUID1.3.6.1.4.1.14519.5.2.1.3671.4754.326687408088314640699699749256 mapped\n",
            "SOPInstanceUID1.3.6.1.4.1.14519.5.2.1.3671.4754.849243818779450227987497761974 mapped\n",
            "SOPInstanceUID1.3.6.1.4.1.14519.5.2.1.3671.4754.218532589586586589139440459899 mapped\n",
            "SOPInstanceUID1.3.6.1.4.1.14519.5.2.1.3671.4754.223175372153832499879573804239 mapped\n",
            "SOPInstanceUID1.3.6.1.4.1.14519.5.2.1.3671.4754.233979804959993502096422271624 mapped\n",
            "SOPInstanceUID1.3.6.1.4.1.14519.5.2.1.3671.4754.241356036073545676114342459583 mapped\n",
            "SOPInstanceUID1.3.6.1.4.1.14519.5.2.1.3671.4754.610623542675997896261765416383 mapped\n",
            "SOPInstanceUID1.3.6.1.4.1.14519.5.2.1.3671.4754.318681048444635771963139267536 mapped\n",
            "SOPInstanceUID1.3.6.1.4.1.14519.5.2.1.3671.4754.977905434327527785014505363607 mapped\n",
            "28 of 28 slices mapped to source DICOM images\n",
            "Found 2 label(s)\n",
            "Processing label 1\n",
            "Total non-empty slices that will be encoded in SEG for label 1 is 13\n",
            " (inclusive from 5 to 18)\n",
            "Populating segment label to Prostate\n",
            "Added source image item\n",
            "Added source image item\n",
            "Added source image item\n",
            "Added source image item\n",
            "Added source image item\n",
            "Added source image item\n",
            "Added source image item\n",
            "Added source image item\n",
            "Added source image item\n",
            "Added source image item\n",
            "Added source image item\n",
            "Added source image item\n",
            "Added source image item\n",
            "Saved segmentation as /content/nnUNet/output/preds_resampled_dcm/PCAMPMRI-00014_1.3.6.1.4.1.14519.5.2.1.3671.4754.194890890650697728529329442454_1.2.276.0.7230010.3.1.3.1426846371.11304.1513205200.994.dcm\n",
            "Done!\n"
          ]
        }
      ]
    },
    {
      "cell_type": "markdown",
      "metadata": {
        "id": "rI2BLQ8dqIwW"
      },
      "source": [
        "# EXPORT TO OHIF "
      ]
    },
    {
      "cell_type": "markdown",
      "metadata": {
        "id": "L4c_etIu47pg"
      },
      "source": [
        "## User input "
      ]
    },
    {
      "cell_type": "markdown",
      "metadata": {
        "id": "-g93SM9gAFiX"
      },
      "source": [
        "Set these values. "
      ]
    },
    {
      "cell_type": "code",
      "execution_count": 135,
      "metadata": {
        "id": "3Kk0d3lMmDp3"
      },
      "outputs": [],
      "source": [
        "project_name = 'idc-sandbox-003'\n",
        "location_id = 'us-central1'\n",
        "my_bucket = 'nnunet_seg_test01_bucket'\n",
        "my_dataset = 'nnunet_seg_test01'\n",
        "my_datastore = 'qin-prost-rep_task024'"
      ]
    },
    {
      "cell_type": "markdown",
      "metadata": {
        "id": "TY94MRxW4whp"
      },
      "source": [
        "## Package setup"
      ]
    },
    {
      "cell_type": "markdown",
      "metadata": {
        "id": "fS1mdqAbFyxY"
      },
      "source": [
        "# GCP Healthcare steps"
      ]
    },
    {
      "cell_type": "markdown",
      "metadata": {
        "id": "A8QGbITuOpXm"
      },
      "source": [
        "In order to view the MR data along with the SEGS, we need to store our data in the cloud. We first need to create a dataset, and a DICOM datastore, which will hold our MR and SEG data. To do this we will first store our data in a bucket, and then copy over the contents to the DICOM datastore. "
      ]
    },
    {
      "cell_type": "markdown",
      "metadata": {
        "id": "mIyZTVKvv1Yu"
      },
      "source": [
        "We first need to create a dataset if it doesn't already exist. "
      ]
    },
    {
      "cell_type": "code",
      "execution_count": 137,
      "metadata": {
        "id": "-X3q8z-6v1Yu",
        "colab": {
          "base_uri": "https://localhost:8080/"
        },
        "outputId": "65540ef1-0c8d-4918-c86c-366dd733c4ef"
      },
      "outputs": [
        {
          "output_type": "stream",
          "name": "stdout",
          "text": [
            "datasets that exist for project_id idc-sandbox-003, location us-central1: ['nnunet_seg_test01']\n"
          ]
        }
      ],
      "source": [
        "# First let's list the datasets that we already have for our particular project_id and location_id\n",
        "datasets = !gcloud healthcare datasets list --project $project_name --location $location_id --format=\"value(ID)\" \n",
        "print ('datasets that exist for project_id ' + str(project_name) + ', location ' + str(location_id) + ': ' + str(datasets))"
      ]
    },
    {
      "cell_type": "markdown",
      "metadata": {
        "id": "Q7cDtQEwv1Yu"
      },
      "source": [
        "Create a dicom store if it doesn't already exist"
      ]
    },
    {
      "cell_type": "code",
      "execution_count": 138,
      "metadata": {
        "id": "A9baFv4iv1Yu",
        "colab": {
          "base_uri": "https://localhost:8080/"
        },
        "outputId": "a1933317-0673-462f-fc98-15c8b3888c24"
      },
      "outputs": [
        {
          "output_type": "stream",
          "name": "stdout",
          "text": [
            "datastores that exist for project_id idc-sandbox-003, location us-central1, dataset nnunet_seg_test01: ['ID                           LOCATION     TOPIC', 'nnunet_seg_test01_datastore  us-central1', 'qin-prost-rep_task024        us-central1']\n"
          ]
        }
      ],
      "source": [
        "# # First list the datastores that exist in the dataset\n",
        "datastores = !gcloud healthcare dicom-stores list --project $project_name --dataset $my_dataset #--format=\"value(ID)\"\n",
        "print ('datastores that exist for project_id ' + str(project_name) + ', location ' + str(location_id) + ', dataset ' + str(my_dataset) + ': ' + str(datastores))"
      ]
    },
    {
      "cell_type": "markdown",
      "metadata": {
        "id": "n2PzSptkIFPu"
      },
      "source": [
        "Create a bucket to store the MR data and the SEG. "
      ]
    },
    {
      "cell_type": "code",
      "execution_count": 150,
      "metadata": {
        "colab": {
          "base_uri": "https://localhost:8080/"
        },
        "id": "bjRFZGJySEGz",
        "outputId": "ffe8e43d-44b0-4f0e-cff4-11979438ae86"
      },
      "outputs": [
        {
          "output_type": "stream",
          "name": "stdout",
          "text": [
            "Removing gs://nnunet_mr_test01_bucket/qin-prost-rep/task024/1.3.6.1.4.1.14519.5.2.1.3671.4754.194890890650697728529329442454/1.2.276.0.7230010.3.1.3.1426846371.11304.1513205200.994/1.2.276.0.7230010.3.1.4.1426846371.11304.1513205200.995.dcm#1661905240642525...\n",
            "Removing gs://nnunet_mr_test01_bucket/qin-prost-rep/task024/1.3.6.1.4.1.14519.5.2.1.3671.4754.194890890650697728529329442454/1.3.6.1.4.1.14519.5.2.1.3671.4754.155463265953508142920250222172/1.3.6.1.4.1.14519.5.2.1.3671.4754.112668361349339872835752848034.dcm#1661905239832042...\n",
            "Removing gs://nnunet_mr_test01_bucket/qin-prost-rep/task024/1.3.6.1.4.1.14519.5.2.1.3671.4754.194890890650697728529329442454/1.3.6.1.4.1.14519.5.2.1.3671.4754.155463265953508142920250222172/1.3.6.1.4.1.14519.5.2.1.3671.4754.158196449783939526819144847899.dcm#1661905239719454...\n",
            "Removing gs://nnunet_mr_test01_bucket/qin-prost-rep/task024/1.3.6.1.4.1.14519.5.2.1.3671.4754.194890890650697728529329442454/1.3.6.1.4.1.14519.5.2.1.3671.4754.155463265953508142920250222172/1.3.6.1.4.1.14519.5.2.1.3671.4754.151097969497448380215431646985.dcm#1661905240114943...\n",
            "Removing gs://nnunet_mr_test01_bucket/qin-prost-rep/task024/1.3.6.1.4.1.14519.5.2.1.3671.4754.194890890650697728529329442454/1.3.6.1.4.1.14519.5.2.1.3671.4754.155463265953508142920250222172/1.3.6.1.4.1.14519.5.2.1.3671.4754.202614284921370325061189349241.dcm#1661905239918730...\n",
            "Removing gs://nnunet_mr_test01_bucket/qin-prost-rep/task024/1.3.6.1.4.1.14519.5.2.1.3671.4754.194890890650697728529329442454/1.3.6.1.4.1.14519.5.2.1.3671.4754.155463265953508142920250222172/1.3.6.1.4.1.14519.5.2.1.3671.4754.152016564108833023391539768426.dcm#1661905240327221...\n",
            "Removing gs://nnunet_mr_test01_bucket/qin-prost-rep/task024/1.3.6.1.4.1.14519.5.2.1.3671.4754.194890890650697728529329442454/1.3.6.1.4.1.14519.5.2.1.3671.4754.155463265953508142920250222172/1.3.6.1.4.1.14519.5.2.1.3671.4754.193576943027024210366917498868.dcm#1661905239391141...\n",
            "Removing gs://nnunet_mr_test01_bucket/qin-prost-rep/task024/1.3.6.1.4.1.14519.5.2.1.3671.4754.194890890650697728529329442454/1.3.6.1.4.1.14519.5.2.1.3671.4754.155463265953508142920250222172/1.3.6.1.4.1.14519.5.2.1.3671.4754.217152957704232148543090642810.dcm#1661905239649386...\n",
            "Removing gs://nnunet_mr_test01_bucket/qin-prost-rep/task024/1.3.6.1.4.1.14519.5.2.1.3671.4754.194890890650697728529329442454/1.3.6.1.4.1.14519.5.2.1.3671.4754.155463265953508142920250222172/1.3.6.1.4.1.14519.5.2.1.3671.4754.171270441948869649614302861426.dcm#1661905239383812...\n",
            "Removing gs://nnunet_mr_test01_bucket/qin-prost-rep/task024/1.3.6.1.4.1.14519.5.2.1.3671.4754.194890890650697728529329442454/1.3.6.1.4.1.14519.5.2.1.3671.4754.155463265953508142920250222172/1.3.6.1.4.1.14519.5.2.1.3671.4754.156510770709362038424994834116.dcm#1661905239644188...\n",
            "Removing gs://nnunet_mr_test01_bucket/qin-prost-rep/task024/1.3.6.1.4.1.14519.5.2.1.3671.4754.194890890650697728529329442454/1.3.6.1.4.1.14519.5.2.1.3671.4754.155463265953508142920250222172/1.3.6.1.4.1.14519.5.2.1.3671.4754.218532589586586589139440459899.dcm#1661905240034514...\n",
            "Removing gs://nnunet_mr_test01_bucket/qin-prost-rep/task024/1.3.6.1.4.1.14519.5.2.1.3671.4754.194890890650697728529329442454/1.3.6.1.4.1.14519.5.2.1.3671.4754.155463265953508142920250222172/1.3.6.1.4.1.14519.5.2.1.3671.4754.223175372153832499879573804239.dcm#1661905240047691...\n",
            "Removing gs://nnunet_mr_test01_bucket/qin-prost-rep/task024/1.3.6.1.4.1.14519.5.2.1.3671.4754.194890890650697728529329442454/1.3.6.1.4.1.14519.5.2.1.3671.4754.155463265953508142920250222172/1.3.6.1.4.1.14519.5.2.1.3671.4754.224756733361199424966131992139.dcm#1661905239033921...\n",
            "Removing gs://nnunet_mr_test01_bucket/qin-prost-rep/task024/1.3.6.1.4.1.14519.5.2.1.3671.4754.194890890650697728529329442454/1.3.6.1.4.1.14519.5.2.1.3671.4754.155463265953508142920250222172/1.3.6.1.4.1.14519.5.2.1.3671.4754.233979804959993502096422271624.dcm#1661905239987488...\n",
            "Removing gs://nnunet_mr_test01_bucket/qin-prost-rep/task024/1.3.6.1.4.1.14519.5.2.1.3671.4754.194890890650697728529329442454/1.3.6.1.4.1.14519.5.2.1.3671.4754.155463265953508142920250222172/1.3.6.1.4.1.14519.5.2.1.3671.4754.241356036073545676114342459583.dcm#1661905240056469...\n",
            "Removing gs://nnunet_mr_test01_bucket/qin-prost-rep/task024/1.3.6.1.4.1.14519.5.2.1.3671.4754.194890890650697728529329442454/1.3.6.1.4.1.14519.5.2.1.3671.4754.155463265953508142920250222172/1.3.6.1.4.1.14519.5.2.1.3671.4754.301684520766967835266894850675.dcm#1661905239484680...\n",
            "Removing gs://nnunet_mr_test01_bucket/qin-prost-rep/task024/1.3.6.1.4.1.14519.5.2.1.3671.4754.194890890650697728529329442454/1.3.6.1.4.1.14519.5.2.1.3671.4754.155463265953508142920250222172/1.3.6.1.4.1.14519.5.2.1.3671.4754.302017090949044371512642132714.dcm#1661905239381547...\n",
            "Removing gs://nnunet_mr_test01_bucket/qin-prost-rep/task024/1.3.6.1.4.1.14519.5.2.1.3671.4754.194890890650697728529329442454/1.3.6.1.4.1.14519.5.2.1.3671.4754.155463265953508142920250222172/1.3.6.1.4.1.14519.5.2.1.3671.4754.314978609746969492241191405376.dcm#1661905239644242...\n",
            "Removing gs://nnunet_mr_test01_bucket/qin-prost-rep/task024/1.3.6.1.4.1.14519.5.2.1.3671.4754.194890890650697728529329442454/1.3.6.1.4.1.14519.5.2.1.3671.4754.155463265953508142920250222172/1.3.6.1.4.1.14519.5.2.1.3671.4754.318681048444635771963139267536.dcm#1661905240282177...\n",
            "Removing gs://nnunet_mr_test01_bucket/qin-prost-rep/task024/1.3.6.1.4.1.14519.5.2.1.3671.4754.194890890650697728529329442454/1.3.6.1.4.1.14519.5.2.1.3671.4754.155463265953508142920250222172/1.3.6.1.4.1.14519.5.2.1.3671.4754.323231352004868376015199393648.dcm#1661905239249479...\n",
            "Removing gs://nnunet_mr_test01_bucket/qin-prost-rep/task024/1.3.6.1.4.1.14519.5.2.1.3671.4754.194890890650697728529329442454/1.3.6.1.4.1.14519.5.2.1.3671.4754.155463265953508142920250222172/1.3.6.1.4.1.14519.5.2.1.3671.4754.323329798332189219800146418510.dcm#1661905239139260...\n",
            "Removing gs://nnunet_mr_test01_bucket/qin-prost-rep/task024/1.3.6.1.4.1.14519.5.2.1.3671.4754.194890890650697728529329442454/1.3.6.1.4.1.14519.5.2.1.3671.4754.155463265953508142920250222172/1.3.6.1.4.1.14519.5.2.1.3671.4754.326687408088314640699699749256.dcm#1661905240012758...\n",
            "Removing gs://nnunet_mr_test01_bucket/qin-prost-rep/task024/1.3.6.1.4.1.14519.5.2.1.3671.4754.194890890650697728529329442454/1.3.6.1.4.1.14519.5.2.1.3671.4754.155463265953508142920250222172/1.3.6.1.4.1.14519.5.2.1.3671.4754.538088655452981251704316296909.dcm#1661905239668959...\n",
            "Removing gs://nnunet_mr_test01_bucket/qin-prost-rep/task024/1.3.6.1.4.1.14519.5.2.1.3671.4754.194890890650697728529329442454/1.3.6.1.4.1.14519.5.2.1.3671.4754.155463265953508142920250222172/1.3.6.1.4.1.14519.5.2.1.3671.4754.592562319222843894020944868999.dcm#1661905239136499...\n",
            "Removing gs://nnunet_mr_test01_bucket/qin-prost-rep/task024/1.3.6.1.4.1.14519.5.2.1.3671.4754.194890890650697728529329442454/1.3.6.1.4.1.14519.5.2.1.3671.4754.155463265953508142920250222172/1.3.6.1.4.1.14519.5.2.1.3671.4754.610623542675997896261765416383.dcm#1661905240240779...\n",
            "Removing gs://nnunet_mr_test01_bucket/qin-prost-rep/task024/1.3.6.1.4.1.14519.5.2.1.3671.4754.194890890650697728529329442454/1.3.6.1.4.1.14519.5.2.1.3671.4754.155463265953508142920250222172/1.3.6.1.4.1.14519.5.2.1.3671.4754.640076059720101854078942414925.dcm#1661905238898678...\n",
            "Removing gs://nnunet_mr_test01_bucket/qin-prost-rep/task024/1.3.6.1.4.1.14519.5.2.1.3671.4754.194890890650697728529329442454/1.3.6.1.4.1.14519.5.2.1.3671.4754.155463265953508142920250222172/1.3.6.1.4.1.14519.5.2.1.3671.4754.822654367745677881478936076062.dcm#1661905240533957...\n",
            "Removing gs://nnunet_mr_test01_bucket/qin-prost-rep/task024/1.3.6.1.4.1.14519.5.2.1.3671.4754.194890890650697728529329442454/1.3.6.1.4.1.14519.5.2.1.3671.4754.155463265953508142920250222172/1.3.6.1.4.1.14519.5.2.1.3671.4754.849243818779450227987497761974.dcm#1661905240034500...\n",
            "Removing gs://nnunet_mr_test01_bucket/qin-prost-rep/task024/1.3.6.1.4.1.14519.5.2.1.3671.4754.194890890650697728529329442454/1.3.6.1.4.1.14519.5.2.1.3671.4754.155463265953508142920250222172/1.3.6.1.4.1.14519.5.2.1.3671.4754.977905434327527785014505363607.dcm#1661905240386618...\n",
            "Removing gs://nnunet_mr_test01_bucket/qin-prost-rep/task024/1.3.6.1.4.1.14519.5.2.1.3671.4754.288453744990673175783381845880/1.2.276.0.7230010.3.1.3.1426846371.9324.1513205197.742/1.2.276.0.7230010.3.1.4.1426846371.9324.1513205197.743.dcm#1661905241400139...\n",
            "Removing gs://nnunet_mr_test01_bucket/qin-prost-rep/task024/1.3.6.1.4.1.14519.5.2.1.3671.4754.288453744990673175783381845880/1.3.6.1.4.1.14519.5.2.1.3671.4754.654327272206188613770270554127/1.3.6.1.4.1.14519.5.2.1.3671.4754.129201554222293904282983918357.dcm#1661905240575187...\n",
            "Removing gs://nnunet_mr_test01_bucket/qin-prost-rep/task024/1.3.6.1.4.1.14519.5.2.1.3671.4754.288453744990673175783381845880/1.3.6.1.4.1.14519.5.2.1.3671.4754.654327272206188613770270554127/1.3.6.1.4.1.14519.5.2.1.3671.4754.136372695349190163255813816936.dcm#1661905241050804...\n",
            "Removing gs://nnunet_mr_test01_bucket/qin-prost-rep/task024/1.3.6.1.4.1.14519.5.2.1.3671.4754.288453744990673175783381845880/1.3.6.1.4.1.14519.5.2.1.3671.4754.654327272206188613770270554127/1.3.6.1.4.1.14519.5.2.1.3671.4754.147701723854914641979982233154.dcm#1661905240638093...\n",
            "Removing gs://nnunet_mr_test01_bucket/qin-prost-rep/task024/1.3.6.1.4.1.14519.5.2.1.3671.4754.288453744990673175783381845880/1.3.6.1.4.1.14519.5.2.1.3671.4754.654327272206188613770270554127/1.3.6.1.4.1.14519.5.2.1.3671.4754.148939431254952407049536958755.dcm#1661905241372995...\n",
            "Removing gs://nnunet_mr_test01_bucket/qin-prost-rep/task024/1.3.6.1.4.1.14519.5.2.1.3671.4754.288453744990673175783381845880/1.3.6.1.4.1.14519.5.2.1.3671.4754.654327272206188613770270554127/1.3.6.1.4.1.14519.5.2.1.3671.4754.163573781376879503804909177242.dcm#1661905240570531...\n",
            "Removing gs://nnunet_mr_test01_bucket/qin-prost-rep/task024/1.3.6.1.4.1.14519.5.2.1.3671.4754.288453744990673175783381845880/1.3.6.1.4.1.14519.5.2.1.3671.4754.654327272206188613770270554127/1.3.6.1.4.1.14519.5.2.1.3671.4754.164943374997507404793226012620.dcm#1661905240974842...\n",
            "Removing gs://nnunet_mr_test01_bucket/qin-prost-rep/task024/1.3.6.1.4.1.14519.5.2.1.3671.4754.288453744990673175783381845880/1.3.6.1.4.1.14519.5.2.1.3671.4754.654327272206188613770270554127/1.3.6.1.4.1.14519.5.2.1.3671.4754.170849280209477404868843800305.dcm#1661905240844283...\n",
            "Removing gs://nnunet_mr_test01_bucket/qin-prost-rep/task024/1.3.6.1.4.1.14519.5.2.1.3671.4754.288453744990673175783381845880/1.3.6.1.4.1.14519.5.2.1.3671.4754.654327272206188613770270554127/1.3.6.1.4.1.14519.5.2.1.3671.4754.197438651995186386436034774345.dcm#1661905241319283...\n",
            "Removing gs://nnunet_mr_test01_bucket/qin-prost-rep/task024/1.3.6.1.4.1.14519.5.2.1.3671.4754.288453744990673175783381845880/1.3.6.1.4.1.14519.5.2.1.3671.4754.654327272206188613770270554127/1.3.6.1.4.1.14519.5.2.1.3671.4754.211064425239774081858566670880.dcm#1661905241185829...\n",
            "Removing gs://nnunet_mr_test01_bucket/qin-prost-rep/task024/1.3.6.1.4.1.14519.5.2.1.3671.4754.288453744990673175783381845880/1.3.6.1.4.1.14519.5.2.1.3671.4754.654327272206188613770270554127/1.3.6.1.4.1.14519.5.2.1.3671.4754.213595032407371108308005724867.dcm#1661905241312525...\n",
            "Removing gs://nnunet_mr_test01_bucket/qin-prost-rep/task024/1.3.6.1.4.1.14519.5.2.1.3671.4754.288453744990673175783381845880/1.3.6.1.4.1.14519.5.2.1.3671.4754.654327272206188613770270554127/1.3.6.1.4.1.14519.5.2.1.3671.4754.230435735169410579809515877218.dcm#1661905240855513...\n",
            "Removing gs://nnunet_mr_test01_bucket/qin-prost-rep/task024/1.3.6.1.4.1.14519.5.2.1.3671.4754.288453744990673175783381845880/1.3.6.1.4.1.14519.5.2.1.3671.4754.654327272206188613770270554127/1.3.6.1.4.1.14519.5.2.1.3671.4754.233046255637880982200266591897.dcm#1661905240635048...\n",
            "Removing gs://nnunet_mr_test01_bucket/qin-prost-rep/task024/1.3.6.1.4.1.14519.5.2.1.3671.4754.288453744990673175783381845880/1.3.6.1.4.1.14519.5.2.1.3671.4754.654327272206188613770270554127/1.3.6.1.4.1.14519.5.2.1.3671.4754.267375094938973089602534776597.dcm#1661905240551894...\n",
            "Removing gs://nnunet_mr_test01_bucket/qin-prost-rep/task024/1.3.6.1.4.1.14519.5.2.1.3671.4754.288453744990673175783381845880/1.3.6.1.4.1.14519.5.2.1.3671.4754.654327272206188613770270554127/1.3.6.1.4.1.14519.5.2.1.3671.4754.285060556653097073359641874921.dcm#1661905240956054...\n",
            "Removing gs://nnunet_mr_test01_bucket/qin-prost-rep/task024/1.3.6.1.4.1.14519.5.2.1.3671.4754.288453744990673175783381845880/1.3.6.1.4.1.14519.5.2.1.3671.4754.654327272206188613770270554127/1.3.6.1.4.1.14519.5.2.1.3671.4754.287599438362701656348868453395.dcm#1661905240559330...\n",
            "Removing gs://nnunet_mr_test01_bucket/qin-prost-rep/task024/1.3.6.1.4.1.14519.5.2.1.3671.4754.288453744990673175783381845880/1.3.6.1.4.1.14519.5.2.1.3671.4754.654327272206188613770270554127/1.3.6.1.4.1.14519.5.2.1.3671.4754.304849838394673757007632483938.dcm#1661905240525150...\n",
            "Removing gs://nnunet_mr_test01_bucket/qin-prost-rep/task024/1.3.6.1.4.1.14519.5.2.1.3671.4754.288453744990673175783381845880/1.3.6.1.4.1.14519.5.2.1.3671.4754.654327272206188613770270554127/1.3.6.1.4.1.14519.5.2.1.3671.4754.305475255252007653424186659373.dcm#1661905241347726...\n",
            "Removing gs://nnunet_mr_test01_bucket/qin-prost-rep/task024/1.3.6.1.4.1.14519.5.2.1.3671.4754.288453744990673175783381845880/1.3.6.1.4.1.14519.5.2.1.3671.4754.654327272206188613770270554127/1.3.6.1.4.1.14519.5.2.1.3671.4754.321895225184137767381819085539.dcm#1661905241338410...\n",
            "Removing gs://nnunet_mr_test01_bucket/qin-prost-rep/task024/1.3.6.1.4.1.14519.5.2.1.3671.4754.288453744990673175783381845880/1.3.6.1.4.1.14519.5.2.1.3671.4754.654327272206188613770270554127/1.3.6.1.4.1.14519.5.2.1.3671.4754.322609591010549743110049821429.dcm#1661905241361315...\n",
            "Removing gs://nnunet_mr_test01_bucket/qin-prost-rep/task024/1.3.6.1.4.1.14519.5.2.1.3671.4754.288453744990673175783381845880/1.3.6.1.4.1.14519.5.2.1.3671.4754.654327272206188613770270554127/1.3.6.1.4.1.14519.5.2.1.3671.4754.324319484489043285380184522391.dcm#1661905240960459...\n",
            "Removing gs://nnunet_mr_test01_bucket/qin-prost-rep/task024/1.3.6.1.4.1.14519.5.2.1.3671.4754.288453744990673175783381845880/1.3.6.1.4.1.14519.5.2.1.3671.4754.654327272206188613770270554127/1.3.6.1.4.1.14519.5.2.1.3671.4754.327154121320917373426958936603.dcm#1661905240950959...\n",
            "Removing gs://nnunet_mr_test01_bucket/qin-prost-rep/task024/1.3.6.1.4.1.14519.5.2.1.3671.4754.288453744990673175783381845880/1.3.6.1.4.1.14519.5.2.1.3671.4754.654327272206188613770270554127/1.3.6.1.4.1.14519.5.2.1.3671.4754.329988373550600574339220930171.dcm#1661905240900070...\n",
            "Removing gs://nnunet_mr_test01_bucket/qin-prost-rep/task024/1.3.6.1.4.1.14519.5.2.1.3671.4754.288453744990673175783381845880/1.3.6.1.4.1.14519.5.2.1.3671.4754.654327272206188613770270554127/1.3.6.1.4.1.14519.5.2.1.3671.4754.336435471068889938508681277234.dcm#1661905240895895...\n",
            "Removing gs://nnunet_mr_test01_bucket/qin-prost-rep/task024/1.3.6.1.4.1.14519.5.2.1.3671.4754.288453744990673175783381845880/1.3.6.1.4.1.14519.5.2.1.3671.4754.654327272206188613770270554127/1.3.6.1.4.1.14519.5.2.1.3671.4754.454406008400806425946863555617.dcm#1661905240954409...\n",
            "Removing gs://nnunet_mr_test01_bucket/qin-prost-rep/task024/1.3.6.1.4.1.14519.5.2.1.3671.4754.288453744990673175783381845880/1.3.6.1.4.1.14519.5.2.1.3671.4754.654327272206188613770270554127/1.3.6.1.4.1.14519.5.2.1.3671.4754.469968099266483058547995726629.dcm#1661905241183781...\n",
            "Removing gs://nnunet_mr_test01_bucket/qin-prost-rep/task024/1.3.6.1.4.1.14519.5.2.1.3671.4754.288453744990673175783381845880/1.3.6.1.4.1.14519.5.2.1.3671.4754.654327272206188613770270554127/1.3.6.1.4.1.14519.5.2.1.3671.4754.629412340157228598854814037030.dcm#1661905241115667...\n",
            "Removing gs://nnunet_mr_test01_bucket/qin-prost-rep/task024/1.3.6.1.4.1.14519.5.2.1.3671.4754.288453744990673175783381845880/1.3.6.1.4.1.14519.5.2.1.3671.4754.654327272206188613770270554127/1.3.6.1.4.1.14519.5.2.1.3671.4754.913516045750791447396162672354.dcm#1661905240577948...\n",
            "Removing gs://nnunet_mr_test01_bucket/qin-prost-rep/task024/1.3.6.1.4.1.14519.5.2.1.3671.4754.288453744990673175783381845880/1.3.6.1.4.1.14519.5.2.1.3671.4754.654327272206188613770270554127/1.3.6.1.4.1.14519.5.2.1.3671.4754.977716437434098663143847175828.dcm#1661905240975358...\n",
            "/ [58/58 objects] 100% Done                                                     \n",
            "Operation completed over 58 objects.                                             \n",
            "Removing gs://nnunet_mr_test01_bucket/...\n",
            "Creating gs://nnunet_mr_test01_bucket/...\n"
          ]
        }
      ],
      "source": [
        "#delete temp bucket\n",
        "!gsutil -m rm -r gs://nnunet_mr_test01_bucket\n",
        "#/qin-prost-rep/task024\n",
        "# Create bucket to store SEG PRED -- TEST \n",
        "!gsutil -m mb -p $project_name gs://nnunet_mr_test01_bucket\n",
        "#/qin-prost-rep/task024"
      ]
    },
    {
      "cell_type": "code",
      "execution_count": 151,
      "metadata": {
        "colab": {
          "base_uri": "https://localhost:8080/"
        },
        "id": "ZZOC0sLIUZtS",
        "outputId": "6ce3d6aa-8fc4-4060-fa44-131a80c5a34d"
      },
      "outputs": [
        {
          "output_type": "stream",
          "name": "stdout",
          "text": [
            "Copying file:///content/qin_prostate_root_data/dicom/PCAMPMRI-00014/1.3.6.1.4.1.14519.5.2.1.3671.4754.194890890650697728529329442454/1.3.6.1.4.1.14519.5.2.1.3671.4754.155463265953508142920250222172/1.3.6.1.4.1.14519.5.2.1.3671.4754.193576943027024210366917498868.dcm [Content-Type=application/dicom]...\n",
            "/ [0/58 files][    0.0 B/ 33.5 MiB]   0% Done                                   \rCopying file:///content/qin_prostate_root_data/dicom/PCAMPMRI-00014/1.3.6.1.4.1.14519.5.2.1.3671.4754.194890890650697728529329442454/1.3.6.1.4.1.14519.5.2.1.3671.4754.155463265953508142920250222172/1.3.6.1.4.1.14519.5.2.1.3671.4754.202614284921370325061189349241.dcm [Content-Type=application/dicom]...\n",
            "/ [0/58 files][    0.0 B/ 33.5 MiB]   0% Done                                   \rCopying file:///content/qin_prostate_root_data/dicom/PCAMPMRI-00014/1.3.6.1.4.1.14519.5.2.1.3671.4754.194890890650697728529329442454/1.3.6.1.4.1.14519.5.2.1.3671.4754.155463265953508142920250222172/1.3.6.1.4.1.14519.5.2.1.3671.4754.224756733361199424966131992139.dcm [Content-Type=application/dicom]...\n",
            "/ [0/58 files][    0.0 B/ 33.5 MiB]   0% Done                                   \rCopying file:///content/qin_prostate_root_data/dicom/PCAMPMRI-00014/1.3.6.1.4.1.14519.5.2.1.3671.4754.194890890650697728529329442454/1.3.6.1.4.1.14519.5.2.1.3671.4754.155463265953508142920250222172/1.3.6.1.4.1.14519.5.2.1.3671.4754.158196449783939526819144847899.dcm [Content-Type=application/dicom]...\n",
            "/ [0/58 files][    0.0 B/ 33.5 MiB]   0% Done                                   \rCopying file:///content/qin_prostate_root_data/dicom/PCAMPMRI-00014/1.3.6.1.4.1.14519.5.2.1.3671.4754.194890890650697728529329442454/1.3.6.1.4.1.14519.5.2.1.3671.4754.155463265953508142920250222172/1.3.6.1.4.1.14519.5.2.1.3671.4754.152016564108833023391539768426.dcm [Content-Type=application/dicom]...\n",
            "/ [0/58 files][    0.0 B/ 33.5 MiB]   0% Done                                   \rCopying file:///content/qin_prostate_root_data/dicom/PCAMPMRI-00014/1.3.6.1.4.1.14519.5.2.1.3671.4754.194890890650697728529329442454/1.3.6.1.4.1.14519.5.2.1.3671.4754.155463265953508142920250222172/1.3.6.1.4.1.14519.5.2.1.3671.4754.640076059720101854078942414925.dcm [Content-Type=application/dicom]...\n",
            "Copying file:///content/qin_prostate_root_data/dicom/PCAMPMRI-00014/1.3.6.1.4.1.14519.5.2.1.3671.4754.194890890650697728529329442454/1.3.6.1.4.1.14519.5.2.1.3671.4754.155463265953508142920250222172/1.3.6.1.4.1.14519.5.2.1.3671.4754.822654367745677881478936076062.dcm [Content-Type=application/dicom]...\n",
            "/ [0/58 files][    0.0 B/ 33.5 MiB]   0% Done                                   \r/ [0/58 files][    0.0 B/ 33.5 MiB]   0% Done                                   \rCopying file:///content/qin_prostate_root_data/dicom/PCAMPMRI-00014/1.3.6.1.4.1.14519.5.2.1.3671.4754.194890890650697728529329442454/1.3.6.1.4.1.14519.5.2.1.3671.4754.155463265953508142920250222172/1.3.6.1.4.1.14519.5.2.1.3671.4754.151097969497448380215431646985.dcm [Content-Type=application/dicom]...\n",
            "Copying file:///content/qin_prostate_root_data/dicom/PCAMPMRI-00014/1.3.6.1.4.1.14519.5.2.1.3671.4754.194890890650697728529329442454/1.3.6.1.4.1.14519.5.2.1.3671.4754.155463265953508142920250222172/1.3.6.1.4.1.14519.5.2.1.3671.4754.314978609746969492241191405376.dcm [Content-Type=application/dicom]...\n",
            "Copying file:///content/qin_prostate_root_data/dicom/PCAMPMRI-00014/1.3.6.1.4.1.14519.5.2.1.3671.4754.194890890650697728529329442454/1.3.6.1.4.1.14519.5.2.1.3671.4754.155463265953508142920250222172/1.3.6.1.4.1.14519.5.2.1.3671.4754.323329798332189219800146418510.dcm [Content-Type=application/dicom]...\n",
            "Copying file:///content/qin_prostate_root_data/dicom/PCAMPMRI-00014/1.3.6.1.4.1.14519.5.2.1.3671.4754.194890890650697728529329442454/1.3.6.1.4.1.14519.5.2.1.3671.4754.155463265953508142920250222172/1.3.6.1.4.1.14519.5.2.1.3671.4754.592562319222843894020944868999.dcm [Content-Type=application/dicom]...\n",
            "Copying file:///content/qin_prostate_root_data/dicom/PCAMPMRI-00014/1.3.6.1.4.1.14519.5.2.1.3671.4754.194890890650697728529329442454/1.3.6.1.4.1.14519.5.2.1.3671.4754.155463265953508142920250222172/1.3.6.1.4.1.14519.5.2.1.3671.4754.323231352004868376015199393648.dcm [Content-Type=application/dicom]...\n",
            "Copying file:///content/qin_prostate_root_data/dicom/PCAMPMRI-00014/1.3.6.1.4.1.14519.5.2.1.3671.4754.194890890650697728529329442454/1.3.6.1.4.1.14519.5.2.1.3671.4754.155463265953508142920250222172/1.3.6.1.4.1.14519.5.2.1.3671.4754.171270441948869649614302861426.dcm [Content-Type=application/dicom]...\n",
            "Copying file:///content/qin_prostate_root_data/dicom/PCAMPMRI-00014/1.3.6.1.4.1.14519.5.2.1.3671.4754.194890890650697728529329442454/1.3.6.1.4.1.14519.5.2.1.3671.4754.155463265953508142920250222172/1.3.6.1.4.1.14519.5.2.1.3671.4754.302017090949044371512642132714.dcm [Content-Type=application/dicom]...\n",
            "Copying file:///content/qin_prostate_root_data/dicom/PCAMPMRI-00014/1.3.6.1.4.1.14519.5.2.1.3671.4754.194890890650697728529329442454/1.3.6.1.4.1.14519.5.2.1.3671.4754.155463265953508142920250222172/1.3.6.1.4.1.14519.5.2.1.3671.4754.301684520766967835266894850675.dcm [Content-Type=application/dicom]...\n",
            "Copying file:///content/qin_prostate_root_data/dicom/PCAMPMRI-00014/1.3.6.1.4.1.14519.5.2.1.3671.4754.194890890650697728529329442454/1.3.6.1.4.1.14519.5.2.1.3671.4754.155463265953508142920250222172/1.3.6.1.4.1.14519.5.2.1.3671.4754.217152957704232148543090642810.dcm [Content-Type=application/dicom]...\n",
            "Copying file:///content/qin_prostate_root_data/dicom/PCAMPMRI-00014/1.3.6.1.4.1.14519.5.2.1.3671.4754.194890890650697728529329442454/1.3.6.1.4.1.14519.5.2.1.3671.4754.155463265953508142920250222172/1.3.6.1.4.1.14519.5.2.1.3671.4754.156510770709362038424994834116.dcm [Content-Type=application/dicom]...\n",
            "Copying file:///content/qin_prostate_root_data/dicom/PCAMPMRI-00014/1.3.6.1.4.1.14519.5.2.1.3671.4754.194890890650697728529329442454/1.3.6.1.4.1.14519.5.2.1.3671.4754.155463265953508142920250222172/1.3.6.1.4.1.14519.5.2.1.3671.4754.538088655452981251704316296909.dcm [Content-Type=application/dicom]...\n",
            "Copying file:///content/qin_prostate_root_data/dicom/PCAMPMRI-00014/1.3.6.1.4.1.14519.5.2.1.3671.4754.194890890650697728529329442454/1.3.6.1.4.1.14519.5.2.1.3671.4754.155463265953508142920250222172/1.3.6.1.4.1.14519.5.2.1.3671.4754.112668361349339872835752848034.dcm [Content-Type=application/dicom]...\n",
            "Copying file:///content/qin_prostate_root_data/dicom/PCAMPMRI-00014/1.3.6.1.4.1.14519.5.2.1.3671.4754.194890890650697728529329442454/1.3.6.1.4.1.14519.5.2.1.3671.4754.155463265953508142920250222172/1.3.6.1.4.1.14519.5.2.1.3671.4754.326687408088314640699699749256.dcm [Content-Type=application/dicom]...\n",
            "Copying file:///content/qin_prostate_root_data/dicom/PCAMPMRI-00014/1.3.6.1.4.1.14519.5.2.1.3671.4754.194890890650697728529329442454/1.3.6.1.4.1.14519.5.2.1.3671.4754.155463265953508142920250222172/1.3.6.1.4.1.14519.5.2.1.3671.4754.849243818779450227987497761974.dcm [Content-Type=application/dicom]...\n",
            "Copying file:///content/qin_prostate_root_data/dicom/PCAMPMRI-00014/1.3.6.1.4.1.14519.5.2.1.3671.4754.194890890650697728529329442454/1.3.6.1.4.1.14519.5.2.1.3671.4754.155463265953508142920250222172/1.3.6.1.4.1.14519.5.2.1.3671.4754.218532589586586589139440459899.dcm [Content-Type=application/dicom]...\n",
            "Copying file:///content/qin_prostate_root_data/dicom/PCAMPMRI-00014/1.3.6.1.4.1.14519.5.2.1.3671.4754.194890890650697728529329442454/1.3.6.1.4.1.14519.5.2.1.3671.4754.155463265953508142920250222172/1.3.6.1.4.1.14519.5.2.1.3671.4754.223175372153832499879573804239.dcm [Content-Type=application/dicom]...\n",
            "Copying file:///content/qin_prostate_root_data/dicom/PCAMPMRI-00014/1.3.6.1.4.1.14519.5.2.1.3671.4754.194890890650697728529329442454/1.3.6.1.4.1.14519.5.2.1.3671.4754.155463265953508142920250222172/1.3.6.1.4.1.14519.5.2.1.3671.4754.233979804959993502096422271624.dcm [Content-Type=application/dicom]...\n",
            "Copying file:///content/qin_prostate_root_data/dicom/PCAMPMRI-00014/1.3.6.1.4.1.14519.5.2.1.3671.4754.194890890650697728529329442454/1.3.6.1.4.1.14519.5.2.1.3671.4754.155463265953508142920250222172/1.3.6.1.4.1.14519.5.2.1.3671.4754.241356036073545676114342459583.dcm [Content-Type=application/dicom]...\n",
            "Copying file:///content/qin_prostate_root_data/dicom/PCAMPMRI-00014/1.3.6.1.4.1.14519.5.2.1.3671.4754.194890890650697728529329442454/1.3.6.1.4.1.14519.5.2.1.3671.4754.155463265953508142920250222172/1.3.6.1.4.1.14519.5.2.1.3671.4754.610623542675997896261765416383.dcm [Content-Type=application/dicom]...\n",
            "Copying file:///content/qin_prostate_root_data/dicom/PCAMPMRI-00014/1.3.6.1.4.1.14519.5.2.1.3671.4754.194890890650697728529329442454/1.3.6.1.4.1.14519.5.2.1.3671.4754.155463265953508142920250222172/1.3.6.1.4.1.14519.5.2.1.3671.4754.318681048444635771963139267536.dcm [Content-Type=application/dicom]...\n",
            "Copying file:///content/qin_prostate_root_data/dicom/PCAMPMRI-00014/1.3.6.1.4.1.14519.5.2.1.3671.4754.194890890650697728529329442454/1.3.6.1.4.1.14519.5.2.1.3671.4754.155463265953508142920250222172/1.3.6.1.4.1.14519.5.2.1.3671.4754.977905434327527785014505363607.dcm [Content-Type=application/dicom]...\n",
            "Copying file:///content/qin_prostate_root_data/dicom/PCAMPMRI-00014/1.3.6.1.4.1.14519.5.2.1.3671.4754.288453744990673175783381845880/1.3.6.1.4.1.14519.5.2.1.3671.4754.654327272206188613770270554127/1.3.6.1.4.1.14519.5.2.1.3671.4754.163573781376879503804909177242.dcm [Content-Type=application/dicom]...\n",
            "Copying file:///content/qin_prostate_root_data/dicom/PCAMPMRI-00014/1.3.6.1.4.1.14519.5.2.1.3671.4754.288453744990673175783381845880/1.3.6.1.4.1.14519.5.2.1.3671.4754.654327272206188613770270554127/1.3.6.1.4.1.14519.5.2.1.3671.4754.287599438362701656348868453395.dcm [Content-Type=application/dicom]...\n",
            "Copying file:///content/qin_prostate_root_data/dicom/PCAMPMRI-00014/1.3.6.1.4.1.14519.5.2.1.3671.4754.194890890650697728529329442454/1.2.276.0.7230010.3.1.3.1426846371.11304.1513205200.994/1.2.276.0.7230010.3.1.4.1426846371.11304.1513205200.995.dcm [Content-Type=application/dicom]...\n",
            "Copying file:///content/qin_prostate_root_data/dicom/PCAMPMRI-00014/1.3.6.1.4.1.14519.5.2.1.3671.4754.288453744990673175783381845880/1.3.6.1.4.1.14519.5.2.1.3671.4754.654327272206188613770270554127/1.3.6.1.4.1.14519.5.2.1.3671.4754.913516045750791447396162672354.dcm [Content-Type=application/dicom]...\n",
            "Copying file:///content/qin_prostate_root_data/dicom/PCAMPMRI-00014/1.3.6.1.4.1.14519.5.2.1.3671.4754.288453744990673175783381845880/1.3.6.1.4.1.14519.5.2.1.3671.4754.654327272206188613770270554127/1.3.6.1.4.1.14519.5.2.1.3671.4754.129201554222293904282983918357.dcm [Content-Type=application/dicom]...\n",
            "Copying file:///content/qin_prostate_root_data/dicom/PCAMPMRI-00014/1.3.6.1.4.1.14519.5.2.1.3671.4754.288453744990673175783381845880/1.3.6.1.4.1.14519.5.2.1.3671.4754.654327272206188613770270554127/1.3.6.1.4.1.14519.5.2.1.3671.4754.304849838394673757007632483938.dcm [Content-Type=application/dicom]...\n",
            "Copying file:///content/qin_prostate_root_data/dicom/PCAMPMRI-00014/1.3.6.1.4.1.14519.5.2.1.3671.4754.288453744990673175783381845880/1.3.6.1.4.1.14519.5.2.1.3671.4754.654327272206188613770270554127/1.3.6.1.4.1.14519.5.2.1.3671.4754.267375094938973089602534776597.dcm [Content-Type=application/dicom]...\n",
            "Copying file:///content/qin_prostate_root_data/dicom/PCAMPMRI-00014/1.3.6.1.4.1.14519.5.2.1.3671.4754.288453744990673175783381845880/1.3.6.1.4.1.14519.5.2.1.3671.4754.654327272206188613770270554127/1.3.6.1.4.1.14519.5.2.1.3671.4754.233046255637880982200266591897.dcm [Content-Type=application/dicom]...\n",
            "Copying file:///content/qin_prostate_root_data/dicom/PCAMPMRI-00014/1.3.6.1.4.1.14519.5.2.1.3671.4754.288453744990673175783381845880/1.3.6.1.4.1.14519.5.2.1.3671.4754.654327272206188613770270554127/1.3.6.1.4.1.14519.5.2.1.3671.4754.147701723854914641979982233154.dcm [Content-Type=application/dicom]...\n",
            "Copying file:///content/qin_prostate_root_data/dicom/PCAMPMRI-00014/1.3.6.1.4.1.14519.5.2.1.3671.4754.288453744990673175783381845880/1.3.6.1.4.1.14519.5.2.1.3671.4754.654327272206188613770270554127/1.3.6.1.4.1.14519.5.2.1.3671.4754.336435471068889938508681277234.dcm [Content-Type=application/dicom]...\n",
            "Copying file:///content/qin_prostate_root_data/dicom/PCAMPMRI-00014/1.3.6.1.4.1.14519.5.2.1.3671.4754.288453744990673175783381845880/1.3.6.1.4.1.14519.5.2.1.3671.4754.654327272206188613770270554127/1.3.6.1.4.1.14519.5.2.1.3671.4754.170849280209477404868843800305.dcm [Content-Type=application/dicom]...\n",
            "Copying file:///content/qin_prostate_root_data/dicom/PCAMPMRI-00014/1.3.6.1.4.1.14519.5.2.1.3671.4754.288453744990673175783381845880/1.3.6.1.4.1.14519.5.2.1.3671.4754.654327272206188613770270554127/1.3.6.1.4.1.14519.5.2.1.3671.4754.329988373550600574339220930171.dcm [Content-Type=application/dicom]...\n",
            "Copying file:///content/qin_prostate_root_data/dicom/PCAMPMRI-00014/1.3.6.1.4.1.14519.5.2.1.3671.4754.288453744990673175783381845880/1.3.6.1.4.1.14519.5.2.1.3671.4754.654327272206188613770270554127/1.3.6.1.4.1.14519.5.2.1.3671.4754.230435735169410579809515877218.dcm [Content-Type=application/dicom]...\n",
            "Copying file:///content/qin_prostate_root_data/dicom/PCAMPMRI-00014/1.3.6.1.4.1.14519.5.2.1.3671.4754.288453744990673175783381845880/1.3.6.1.4.1.14519.5.2.1.3671.4754.654327272206188613770270554127/1.3.6.1.4.1.14519.5.2.1.3671.4754.327154121320917373426958936603.dcm [Content-Type=application/dicom]...\n",
            "Copying file:///content/qin_prostate_root_data/dicom/PCAMPMRI-00014/1.3.6.1.4.1.14519.5.2.1.3671.4754.288453744990673175783381845880/1.3.6.1.4.1.14519.5.2.1.3671.4754.654327272206188613770270554127/1.3.6.1.4.1.14519.5.2.1.3671.4754.454406008400806425946863555617.dcm [Content-Type=application/dicom]...\n",
            "Copying file:///content/qin_prostate_root_data/dicom/PCAMPMRI-00014/1.3.6.1.4.1.14519.5.2.1.3671.4754.288453744990673175783381845880/1.3.6.1.4.1.14519.5.2.1.3671.4754.654327272206188613770270554127/1.3.6.1.4.1.14519.5.2.1.3671.4754.164943374997507404793226012620.dcm [Content-Type=application/dicom]...\n",
            "Copying file:///content/qin_prostate_root_data/dicom/PCAMPMRI-00014/1.3.6.1.4.1.14519.5.2.1.3671.4754.288453744990673175783381845880/1.3.6.1.4.1.14519.5.2.1.3671.4754.654327272206188613770270554127/1.3.6.1.4.1.14519.5.2.1.3671.4754.285060556653097073359641874921.dcm [Content-Type=application/dicom]...\n",
            "Copying file:///content/qin_prostate_root_data/dicom/PCAMPMRI-00014/1.3.6.1.4.1.14519.5.2.1.3671.4754.288453744990673175783381845880/1.3.6.1.4.1.14519.5.2.1.3671.4754.654327272206188613770270554127/1.3.6.1.4.1.14519.5.2.1.3671.4754.324319484489043285380184522391.dcm [Content-Type=application/dicom]...\n",
            "Copying file:///content/qin_prostate_root_data/dicom/PCAMPMRI-00014/1.3.6.1.4.1.14519.5.2.1.3671.4754.288453744990673175783381845880/1.3.6.1.4.1.14519.5.2.1.3671.4754.654327272206188613770270554127/1.3.6.1.4.1.14519.5.2.1.3671.4754.136372695349190163255813816936.dcm [Content-Type=application/dicom]...\n",
            "Copying file:///content/qin_prostate_root_data/dicom/PCAMPMRI-00014/1.3.6.1.4.1.14519.5.2.1.3671.4754.288453744990673175783381845880/1.3.6.1.4.1.14519.5.2.1.3671.4754.654327272206188613770270554127/1.3.6.1.4.1.14519.5.2.1.3671.4754.977716437434098663143847175828.dcm [Content-Type=application/dicom]...\n",
            "Copying file:///content/qin_prostate_root_data/dicom/PCAMPMRI-00014/1.3.6.1.4.1.14519.5.2.1.3671.4754.288453744990673175783381845880/1.3.6.1.4.1.14519.5.2.1.3671.4754.654327272206188613770270554127/1.3.6.1.4.1.14519.5.2.1.3671.4754.629412340157228598854814037030.dcm [Content-Type=application/dicom]...\n",
            "Copying file:///content/qin_prostate_root_data/dicom/PCAMPMRI-00014/1.3.6.1.4.1.14519.5.2.1.3671.4754.288453744990673175783381845880/1.3.6.1.4.1.14519.5.2.1.3671.4754.654327272206188613770270554127/1.3.6.1.4.1.14519.5.2.1.3671.4754.211064425239774081858566670880.dcm [Content-Type=application/dicom]...\n",
            "Copying file:///content/qin_prostate_root_data/dicom/PCAMPMRI-00014/1.3.6.1.4.1.14519.5.2.1.3671.4754.288453744990673175783381845880/1.3.6.1.4.1.14519.5.2.1.3671.4754.654327272206188613770270554127/1.3.6.1.4.1.14519.5.2.1.3671.4754.469968099266483058547995726629.dcm [Content-Type=application/dicom]...\n",
            "Copying file:///content/qin_prostate_root_data/dicom/PCAMPMRI-00014/1.3.6.1.4.1.14519.5.2.1.3671.4754.288453744990673175783381845880/1.3.6.1.4.1.14519.5.2.1.3671.4754.654327272206188613770270554127/1.3.6.1.4.1.14519.5.2.1.3671.4754.213595032407371108308005724867.dcm [Content-Type=application/dicom]...\n",
            "Copying file:///content/qin_prostate_root_data/dicom/PCAMPMRI-00014/1.3.6.1.4.1.14519.5.2.1.3671.4754.288453744990673175783381845880/1.3.6.1.4.1.14519.5.2.1.3671.4754.654327272206188613770270554127/1.3.6.1.4.1.14519.5.2.1.3671.4754.322609591010549743110049821429.dcm [Content-Type=application/dicom]...\n",
            "Copying file:///content/qin_prostate_root_data/dicom/PCAMPMRI-00014/1.3.6.1.4.1.14519.5.2.1.3671.4754.288453744990673175783381845880/1.3.6.1.4.1.14519.5.2.1.3671.4754.654327272206188613770270554127/1.3.6.1.4.1.14519.5.2.1.3671.4754.148939431254952407049536958755.dcm [Content-Type=application/dicom]...\n",
            "Copying file:///content/qin_prostate_root_data/dicom/PCAMPMRI-00014/1.3.6.1.4.1.14519.5.2.1.3671.4754.288453744990673175783381845880/1.3.6.1.4.1.14519.5.2.1.3671.4754.654327272206188613770270554127/1.3.6.1.4.1.14519.5.2.1.3671.4754.321895225184137767381819085539.dcm [Content-Type=application/dicom]...\n",
            "Copying file:///content/qin_prostate_root_data/dicom/PCAMPMRI-00014/1.3.6.1.4.1.14519.5.2.1.3671.4754.288453744990673175783381845880/1.3.6.1.4.1.14519.5.2.1.3671.4754.654327272206188613770270554127/1.3.6.1.4.1.14519.5.2.1.3671.4754.305475255252007653424186659373.dcm [Content-Type=application/dicom]...\n",
            "Copying file:///content/qin_prostate_root_data/dicom/PCAMPMRI-00014/1.3.6.1.4.1.14519.5.2.1.3671.4754.288453744990673175783381845880/1.3.6.1.4.1.14519.5.2.1.3671.4754.654327272206188613770270554127/1.3.6.1.4.1.14519.5.2.1.3671.4754.197438651995186386436034774345.dcm [Content-Type=application/dicom]...\n",
            "Copying file:///content/qin_prostate_root_data/dicom/PCAMPMRI-00014/1.3.6.1.4.1.14519.5.2.1.3671.4754.288453744990673175783381845880/1.2.276.0.7230010.3.1.3.1426846371.9324.1513205197.742/1.2.276.0.7230010.3.1.4.1426846371.9324.1513205197.743.dcm [Content-Type=application/dicom]...\n",
            "\\ [58/58 files][ 33.5 MiB/ 33.5 MiB] 100% Done                                  \n",
            "Operation completed over 58 objects/33.5 MiB.                                    \n",
            "Copying file:///content/nnUNet/output/preds_resampled_dcm/PCAMPMRI-00014_1.3.6.1.4.1.14519.5.2.1.3671.4754.194890890650697728529329442454_1.2.276.0.7230010.3.1.3.1426846371.11304.1513205200.994 [Content-Type=application/octet-stream]...\n",
            "Copying file:///content/nnUNet/output/preds_resampled_dcm/PCAMPMRI-00014_1.3.6.1.4.1.14519.5.2.1.3671.4754.194890890650697728529329442454_1.2.276.0.7230010.3.1.3.1426846371.11304.1513205200.994.dcm [Content-Type=application/dicom]...\n",
            "Copying file:///content/nnUNet/output/preds_resampled_dcm/PCAMPMRI-00014_1.3.6.1.4.1.14519.5.2.1.3671.4754.288453744990673175783381845880_1.2.276.0.7230010.3.1.3.1426846371.9324.1513205197.742 [Content-Type=application/octet-stream]...\n",
            "Copying file:///content/nnUNet/output/preds_resampled_dcm/PCAMPMRI-00014_1.3.6.1.4.1.14519.5.2.1.3671.4754.288453744990673175783381845880_1.2.276.0.7230010.3.1.3.1426846371.9324.1513205197.742.dcm [Content-Type=application/dicom]...\n",
            "\\\n",
            "Operation completed over 4 objects/1.7 MiB.                                      \n"
          ]
        }
      ],
      "source": [
        "# Add MRI T2 and SEG to bucket \n",
        "\n",
        "# MRI T2 \n",
        "\n",
        "!gsutil -m cp -r {os.environ[\"qin_prostate_rep_dicom\"]+'/*'} gs://nnunet_mr_test01_bucket/qin-prost-rep/task024\n",
        "# !gsutil -m cp -r {adc_dcm_folder+'/*'} gs://nnunet_mr_test01_bucket\n",
        "\n",
        "# SEG - DCMQI TEST\n",
        "!gsutil -m cp -r {os.environ[\"nnUNet_preds_resampled_dcm\"]+'/*'} gs://nnunet_mr_test01_bucket/qin-prost-rep/task024\n",
        "# !gsutil -m cp /content/test_gt_nrrd.dcm gs://nnunet_mr_test01_bucket\n",
        "\n",
        "# SEG - PREDS - IDC DCM\n",
        "# !gsutil -m cp $gt_seg_dcm_file gs://nnunet_mr_test01_bucket/qin-prost-rep/task024\n"
      ]
    },
    {
      "cell_type": "markdown",
      "metadata": {
        "id": "RjjTnehnINSz"
      },
      "source": [
        "Copy the MR data and SEG from bucket to the dicom datastore we created above. "
      ]
    },
    {
      "cell_type": "code",
      "execution_count": 152,
      "metadata": {
        "colab": {
          "base_uri": "https://localhost:8080/"
        },
        "id": "5PMos8NSU5v5",
        "outputId": "15b47cf9-2051-473b-9110-b8dabe518ec8"
      },
      "outputs": [
        {
          "output_type": "stream",
          "name": "stdout",
          "text": [
            "Request issued for: [qin-prost-rep_task024]\n",
            "name: projects/idc-sandbox-003/locations/us-central1/datasets/nnunet_seg_test01/dicomStores/qin-prost-rep_task024\n"
          ]
        }
      ],
      "source": [
        "# Add MRI and SR from bucket to dicomstore \n",
        "\n",
        "!gcloud healthcare dicom-stores import gcs $my_datastore \\\n",
        "                                            --dataset=$my_dataset \\\n",
        "                                            --location=$location_id \\\n",
        "                                            --project=$project_name \\\n",
        "                                            --gcs-uri=gs://nnunet_mr_test01_bucket/qin-prost-rep/task024/**.dcm"
      ]
    },
    {
      "cell_type": "markdown",
      "metadata": {
        "id": "F6RtjwBcRNbm"
      },
      "source": [
        "Navigate to the OHIF app you created and open the DICOM datastore. "
      ]
    },
    {
      "cell_type": "markdown",
      "source": [
        "# Export results to google drive "
      ],
      "metadata": {
        "id": "LTLUZjwl7pGx"
      }
    },
    {
      "cell_type": "markdown",
      "source": [
        "## define input and output paths for idc_data and nnunet in google drive through colab"
      ],
      "metadata": {
        "id": "0bY8pfbduW7-"
      }
    },
    {
      "cell_type": "code",
      "source": [
        "# #path to IDC data\n",
        "# input_idc_data = os.environ[\"qin_prostate_rep_root\"]\n",
        "# output_drive_idc_data = os.path.join(path_experiment, \"idc_data\")\n",
        "# if not os.path.exists(output_drive_idc_data):\n",
        "#   !mkdir -p $output_drive_idc_data\n",
        "  \n",
        "# #path to nnunet preds\n",
        "# input_nnunet = os.environ[\"nnUNet\"]\n",
        "# output_nnunet = os.path.join(path_experiment, \"nnUNet\")\n",
        "# if not os.path.exists(output_nnunet):\n",
        "#   !mkdir -p $output_nnunet"
      ],
      "metadata": {
        "id": "fWHQh8oVwBu0"
      },
      "execution_count": null,
      "outputs": []
    },
    {
      "cell_type": "code",
      "source": [
        "# #sanity checks regarding storage size\n",
        "# ##data\n",
        "# !du -sh $input_idc_data\n",
        "# ##preds\n",
        "# !du -sh $input_nnunet"
      ],
      "metadata": {
        "id": "-V1HAuUVwJm-"
      },
      "execution_count": null,
      "outputs": []
    },
    {
      "cell_type": "markdown",
      "source": [
        "## Copy data to drive"
      ],
      "metadata": {
        "id": "bi3JRLw40kXv"
      }
    },
    {
      "cell_type": "code",
      "source": [
        "# #copy idc data\n",
        "# %cp -av $input_idc_data $output_drive_idc_data\n",
        "# #verbose True, keep same struct as input\n",
        "# #copy nnunet data\n",
        "# %cp -av $input_nnunet $output_nnunet"
      ],
      "metadata": {
        "id": "OT9uV19h8CVC"
      },
      "execution_count": null,
      "outputs": []
    }
  ],
  "metadata": {
    "accelerator": "GPU",
    "colab": {
      "collapsed_sections": [
        "PCVDdLjxkSI6",
        "iKaiwUIZ8iLX",
        "LTLUZjwl7pGx"
      ],
      "name": "idc-prostate_segmentation_promised24_QIN-PROSTATE-Repeatability.ipynb",
      "provenance": [],
      "include_colab_link": true
    },
    "gpuClass": "standard",
    "kernelspec": {
      "display_name": "Python 3",
      "name": "python3"
    },
    "language_info": {
      "name": "python"
    }
  },
  "nbformat": 4,
  "nbformat_minor": 0
}